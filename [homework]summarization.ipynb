{
  "nbformat": 4,
  "nbformat_minor": 0,
  "metadata": {
    "accelerator": "GPU",
    "colab": {
      "name": "[homework]summarization.ipynb",
      "provenance": [],
      "collapsed_sections": [
        "QxpL3AtOrctD"
      ]
    },
    "kernelspec": {
      "display_name": "Python 3",
      "name": "python3"
    },
    "widgets": {
      "application/vnd.jupyter.widget-state+json": {
        "33980f5d94e345419430f897218a647e": {
          "model_module": "@jupyter-widgets/controls",
          "model_name": "HBoxModel",
          "state": {
            "_view_name": "HBoxView",
            "_dom_classes": [],
            "_model_name": "HBoxModel",
            "_view_module": "@jupyter-widgets/controls",
            "_model_module_version": "1.5.0",
            "_view_count": null,
            "_view_module_version": "1.5.0",
            "box_style": "",
            "layout": "IPY_MODEL_1a3831f2aa394808b46f07e98a864622",
            "_model_module": "@jupyter-widgets/controls",
            "children": [
              "IPY_MODEL_4cf4fd3581ce434a89bd9c22b9284f92",
              "IPY_MODEL_74e17b2f042c4b70b48c3b7024a493b1"
            ]
          }
        },
        "1a3831f2aa394808b46f07e98a864622": {
          "model_module": "@jupyter-widgets/base",
          "model_name": "LayoutModel",
          "state": {
            "_view_name": "LayoutView",
            "grid_template_rows": null,
            "right": null,
            "justify_content": null,
            "_view_module": "@jupyter-widgets/base",
            "overflow": null,
            "_model_module_version": "1.2.0",
            "_view_count": null,
            "flex_flow": null,
            "width": null,
            "min_width": null,
            "border": null,
            "align_items": null,
            "bottom": null,
            "_model_module": "@jupyter-widgets/base",
            "top": null,
            "grid_column": null,
            "overflow_y": null,
            "overflow_x": null,
            "grid_auto_flow": null,
            "grid_area": null,
            "grid_template_columns": null,
            "flex": null,
            "_model_name": "LayoutModel",
            "justify_items": null,
            "grid_row": null,
            "max_height": null,
            "align_content": null,
            "visibility": null,
            "align_self": null,
            "height": null,
            "min_height": null,
            "padding": null,
            "grid_auto_rows": null,
            "grid_gap": null,
            "max_width": null,
            "order": null,
            "_view_module_version": "1.2.0",
            "grid_template_areas": null,
            "object_position": null,
            "object_fit": null,
            "grid_auto_columns": null,
            "margin": null,
            "display": null,
            "left": null
          }
        },
        "4cf4fd3581ce434a89bd9c22b9284f92": {
          "model_module": "@jupyter-widgets/controls",
          "model_name": "FloatProgressModel",
          "state": {
            "_view_name": "ProgressView",
            "style": "IPY_MODEL_a604c8f618ac4cafbf3dcc2093163f82",
            "_dom_classes": [],
            "description": "",
            "_model_name": "FloatProgressModel",
            "bar_style": "danger",
            "max": 1,
            "_view_module": "@jupyter-widgets/controls",
            "_model_module_version": "1.5.0",
            "value": 1,
            "_view_count": null,
            "_view_module_version": "1.5.0",
            "orientation": "horizontal",
            "min": 0,
            "description_tooltip": null,
            "_model_module": "@jupyter-widgets/controls",
            "layout": "IPY_MODEL_2ef474e75ab540a482c26007016905af"
          }
        },
        "74e17b2f042c4b70b48c3b7024a493b1": {
          "model_module": "@jupyter-widgets/controls",
          "model_name": "HTMLModel",
          "state": {
            "_view_name": "HTMLView",
            "style": "IPY_MODEL_5d502c82840e45e99c7ff29054afb57e",
            "_dom_classes": [],
            "description": "",
            "_model_name": "HTMLModel",
            "placeholder": "​",
            "_view_module": "@jupyter-widgets/controls",
            "_model_module_version": "1.5.0",
            "value": " 2048/? [05:10&lt;00:00, 10.25it/s]",
            "_view_count": null,
            "_view_module_version": "1.5.0",
            "description_tooltip": null,
            "_model_module": "@jupyter-widgets/controls",
            "layout": "IPY_MODEL_0efaaa5ce05d49e5a43bedd195ac5c40"
          }
        },
        "a604c8f618ac4cafbf3dcc2093163f82": {
          "model_module": "@jupyter-widgets/controls",
          "model_name": "ProgressStyleModel",
          "state": {
            "_view_name": "StyleView",
            "_model_name": "ProgressStyleModel",
            "description_width": "initial",
            "_view_module": "@jupyter-widgets/base",
            "_model_module_version": "1.5.0",
            "_view_count": null,
            "_view_module_version": "1.2.0",
            "bar_color": null,
            "_model_module": "@jupyter-widgets/controls"
          }
        },
        "2ef474e75ab540a482c26007016905af": {
          "model_module": "@jupyter-widgets/base",
          "model_name": "LayoutModel",
          "state": {
            "_view_name": "LayoutView",
            "grid_template_rows": null,
            "right": null,
            "justify_content": null,
            "_view_module": "@jupyter-widgets/base",
            "overflow": null,
            "_model_module_version": "1.2.0",
            "_view_count": null,
            "flex_flow": null,
            "width": null,
            "min_width": null,
            "border": null,
            "align_items": null,
            "bottom": null,
            "_model_module": "@jupyter-widgets/base",
            "top": null,
            "grid_column": null,
            "overflow_y": null,
            "overflow_x": null,
            "grid_auto_flow": null,
            "grid_area": null,
            "grid_template_columns": null,
            "flex": null,
            "_model_name": "LayoutModel",
            "justify_items": null,
            "grid_row": null,
            "max_height": null,
            "align_content": null,
            "visibility": null,
            "align_self": null,
            "height": null,
            "min_height": null,
            "padding": null,
            "grid_auto_rows": null,
            "grid_gap": null,
            "max_width": null,
            "order": null,
            "_view_module_version": "1.2.0",
            "grid_template_areas": null,
            "object_position": null,
            "object_fit": null,
            "grid_auto_columns": null,
            "margin": null,
            "display": null,
            "left": null
          }
        },
        "5d502c82840e45e99c7ff29054afb57e": {
          "model_module": "@jupyter-widgets/controls",
          "model_name": "DescriptionStyleModel",
          "state": {
            "_view_name": "StyleView",
            "_model_name": "DescriptionStyleModel",
            "description_width": "",
            "_view_module": "@jupyter-widgets/base",
            "_model_module_version": "1.5.0",
            "_view_count": null,
            "_view_module_version": "1.2.0",
            "_model_module": "@jupyter-widgets/controls"
          }
        },
        "0efaaa5ce05d49e5a43bedd195ac5c40": {
          "model_module": "@jupyter-widgets/base",
          "model_name": "LayoutModel",
          "state": {
            "_view_name": "LayoutView",
            "grid_template_rows": null,
            "right": null,
            "justify_content": null,
            "_view_module": "@jupyter-widgets/base",
            "overflow": null,
            "_model_module_version": "1.2.0",
            "_view_count": null,
            "flex_flow": null,
            "width": null,
            "min_width": null,
            "border": null,
            "align_items": null,
            "bottom": null,
            "_model_module": "@jupyter-widgets/base",
            "top": null,
            "grid_column": null,
            "overflow_y": null,
            "overflow_x": null,
            "grid_auto_flow": null,
            "grid_area": null,
            "grid_template_columns": null,
            "flex": null,
            "_model_name": "LayoutModel",
            "justify_items": null,
            "grid_row": null,
            "max_height": null,
            "align_content": null,
            "visibility": null,
            "align_self": null,
            "height": null,
            "min_height": null,
            "padding": null,
            "grid_auto_rows": null,
            "grid_gap": null,
            "max_width": null,
            "order": null,
            "_view_module_version": "1.2.0",
            "grid_template_areas": null,
            "object_position": null,
            "object_fit": null,
            "grid_auto_columns": null,
            "margin": null,
            "display": null,
            "left": null
          }
        },
        "bfa8f8e669224e81b909932372568185": {
          "model_module": "@jupyter-widgets/controls",
          "model_name": "HBoxModel",
          "state": {
            "_view_name": "HBoxView",
            "_dom_classes": [],
            "_model_name": "HBoxModel",
            "_view_module": "@jupyter-widgets/controls",
            "_model_module_version": "1.5.0",
            "_view_count": null,
            "_view_module_version": "1.5.0",
            "box_style": "",
            "layout": "IPY_MODEL_19d17e363426481bb59da920a2cb5885",
            "_model_module": "@jupyter-widgets/controls",
            "children": [
              "IPY_MODEL_f439746b85744c309c7a677421041e77",
              "IPY_MODEL_8d56769b342e4b44b9e0dd46cf648fd6"
            ]
          }
        },
        "19d17e363426481bb59da920a2cb5885": {
          "model_module": "@jupyter-widgets/base",
          "model_name": "LayoutModel",
          "state": {
            "_view_name": "LayoutView",
            "grid_template_rows": null,
            "right": null,
            "justify_content": null,
            "_view_module": "@jupyter-widgets/base",
            "overflow": null,
            "_model_module_version": "1.2.0",
            "_view_count": null,
            "flex_flow": null,
            "width": null,
            "min_width": null,
            "border": null,
            "align_items": null,
            "bottom": null,
            "_model_module": "@jupyter-widgets/base",
            "top": null,
            "grid_column": null,
            "overflow_y": null,
            "overflow_x": null,
            "grid_auto_flow": null,
            "grid_area": null,
            "grid_template_columns": null,
            "flex": null,
            "_model_name": "LayoutModel",
            "justify_items": null,
            "grid_row": null,
            "max_height": null,
            "align_content": null,
            "visibility": null,
            "align_self": null,
            "height": null,
            "min_height": null,
            "padding": null,
            "grid_auto_rows": null,
            "grid_gap": null,
            "max_width": null,
            "order": null,
            "_view_module_version": "1.2.0",
            "grid_template_areas": null,
            "object_position": null,
            "object_fit": null,
            "grid_auto_columns": null,
            "margin": null,
            "display": null,
            "left": null
          }
        },
        "f439746b85744c309c7a677421041e77": {
          "model_module": "@jupyter-widgets/controls",
          "model_name": "FloatProgressModel",
          "state": {
            "_view_name": "ProgressView",
            "style": "IPY_MODEL_6132d567b9384479b814c497eb919345",
            "_dom_classes": [],
            "description": "",
            "_model_name": "FloatProgressModel",
            "bar_style": "danger",
            "max": 1,
            "_view_module": "@jupyter-widgets/controls",
            "_model_module_version": "1.5.0",
            "value": 1,
            "_view_count": null,
            "_view_module_version": "1.5.0",
            "orientation": "horizontal",
            "min": 0,
            "description_tooltip": null,
            "_model_module": "@jupyter-widgets/controls",
            "layout": "IPY_MODEL_0dd21e68c79f4b34aaa03a2db19205e4"
          }
        },
        "8d56769b342e4b44b9e0dd46cf648fd6": {
          "model_module": "@jupyter-widgets/controls",
          "model_name": "HTMLModel",
          "state": {
            "_view_name": "HTMLView",
            "style": "IPY_MODEL_0aee7f543d1c4a7cb5967358597d2d25",
            "_dom_classes": [],
            "description": "",
            "_model_name": "HTMLModel",
            "placeholder": "​",
            "_view_module": "@jupyter-widgets/controls",
            "_model_module_version": "1.5.0",
            "value": " 256/? [00:53&lt;00:00,  4.12it/s]",
            "_view_count": null,
            "_view_module_version": "1.5.0",
            "description_tooltip": null,
            "_model_module": "@jupyter-widgets/controls",
            "layout": "IPY_MODEL_99b15410ec924f67a29879727bd1fdab"
          }
        },
        "6132d567b9384479b814c497eb919345": {
          "model_module": "@jupyter-widgets/controls",
          "model_name": "ProgressStyleModel",
          "state": {
            "_view_name": "StyleView",
            "_model_name": "ProgressStyleModel",
            "description_width": "initial",
            "_view_module": "@jupyter-widgets/base",
            "_model_module_version": "1.5.0",
            "_view_count": null,
            "_view_module_version": "1.2.0",
            "bar_color": null,
            "_model_module": "@jupyter-widgets/controls"
          }
        },
        "0dd21e68c79f4b34aaa03a2db19205e4": {
          "model_module": "@jupyter-widgets/base",
          "model_name": "LayoutModel",
          "state": {
            "_view_name": "LayoutView",
            "grid_template_rows": null,
            "right": null,
            "justify_content": null,
            "_view_module": "@jupyter-widgets/base",
            "overflow": null,
            "_model_module_version": "1.2.0",
            "_view_count": null,
            "flex_flow": null,
            "width": null,
            "min_width": null,
            "border": null,
            "align_items": null,
            "bottom": null,
            "_model_module": "@jupyter-widgets/base",
            "top": null,
            "grid_column": null,
            "overflow_y": null,
            "overflow_x": null,
            "grid_auto_flow": null,
            "grid_area": null,
            "grid_template_columns": null,
            "flex": null,
            "_model_name": "LayoutModel",
            "justify_items": null,
            "grid_row": null,
            "max_height": null,
            "align_content": null,
            "visibility": null,
            "align_self": null,
            "height": null,
            "min_height": null,
            "padding": null,
            "grid_auto_rows": null,
            "grid_gap": null,
            "max_width": null,
            "order": null,
            "_view_module_version": "1.2.0",
            "grid_template_areas": null,
            "object_position": null,
            "object_fit": null,
            "grid_auto_columns": null,
            "margin": null,
            "display": null,
            "left": null
          }
        },
        "0aee7f543d1c4a7cb5967358597d2d25": {
          "model_module": "@jupyter-widgets/controls",
          "model_name": "DescriptionStyleModel",
          "state": {
            "_view_name": "StyleView",
            "_model_name": "DescriptionStyleModel",
            "description_width": "",
            "_view_module": "@jupyter-widgets/base",
            "_model_module_version": "1.5.0",
            "_view_count": null,
            "_view_module_version": "1.2.0",
            "_model_module": "@jupyter-widgets/controls"
          }
        },
        "99b15410ec924f67a29879727bd1fdab": {
          "model_module": "@jupyter-widgets/base",
          "model_name": "LayoutModel",
          "state": {
            "_view_name": "LayoutView",
            "grid_template_rows": null,
            "right": null,
            "justify_content": null,
            "_view_module": "@jupyter-widgets/base",
            "overflow": null,
            "_model_module_version": "1.2.0",
            "_view_count": null,
            "flex_flow": null,
            "width": null,
            "min_width": null,
            "border": null,
            "align_items": null,
            "bottom": null,
            "_model_module": "@jupyter-widgets/base",
            "top": null,
            "grid_column": null,
            "overflow_y": null,
            "overflow_x": null,
            "grid_auto_flow": null,
            "grid_area": null,
            "grid_template_columns": null,
            "flex": null,
            "_model_name": "LayoutModel",
            "justify_items": null,
            "grid_row": null,
            "max_height": null,
            "align_content": null,
            "visibility": null,
            "align_self": null,
            "height": null,
            "min_height": null,
            "padding": null,
            "grid_auto_rows": null,
            "grid_gap": null,
            "max_width": null,
            "order": null,
            "_view_module_version": "1.2.0",
            "grid_template_areas": null,
            "object_position": null,
            "object_fit": null,
            "grid_auto_columns": null,
            "margin": null,
            "display": null,
            "left": null
          }
        },
        "fe4a655274f047cbbbd87b54e6ea6bf5": {
          "model_module": "@jupyter-widgets/controls",
          "model_name": "HBoxModel",
          "state": {
            "_view_name": "HBoxView",
            "_dom_classes": [],
            "_model_name": "HBoxModel",
            "_view_module": "@jupyter-widgets/controls",
            "_model_module_version": "1.5.0",
            "_view_count": null,
            "_view_module_version": "1.5.0",
            "box_style": "",
            "layout": "IPY_MODEL_130577bff4d346ca9bc174dda3dc1417",
            "_model_module": "@jupyter-widgets/controls",
            "children": [
              "IPY_MODEL_fed65654c64b45d28c16be399686b01c",
              "IPY_MODEL_327ceee6d4134d7d9f5fab9b76f5e367"
            ]
          }
        },
        "130577bff4d346ca9bc174dda3dc1417": {
          "model_module": "@jupyter-widgets/base",
          "model_name": "LayoutModel",
          "state": {
            "_view_name": "LayoutView",
            "grid_template_rows": null,
            "right": null,
            "justify_content": null,
            "_view_module": "@jupyter-widgets/base",
            "overflow": null,
            "_model_module_version": "1.2.0",
            "_view_count": null,
            "flex_flow": null,
            "width": null,
            "min_width": null,
            "border": null,
            "align_items": null,
            "bottom": null,
            "_model_module": "@jupyter-widgets/base",
            "top": null,
            "grid_column": null,
            "overflow_y": null,
            "overflow_x": null,
            "grid_auto_flow": null,
            "grid_area": null,
            "grid_template_columns": null,
            "flex": null,
            "_model_name": "LayoutModel",
            "justify_items": null,
            "grid_row": null,
            "max_height": null,
            "align_content": null,
            "visibility": null,
            "align_self": null,
            "height": null,
            "min_height": null,
            "padding": null,
            "grid_auto_rows": null,
            "grid_gap": null,
            "max_width": null,
            "order": null,
            "_view_module_version": "1.2.0",
            "grid_template_areas": null,
            "object_position": null,
            "object_fit": null,
            "grid_auto_columns": null,
            "margin": null,
            "display": null,
            "left": null
          }
        },
        "fed65654c64b45d28c16be399686b01c": {
          "model_module": "@jupyter-widgets/controls",
          "model_name": "FloatProgressModel",
          "state": {
            "_view_name": "ProgressView",
            "style": "IPY_MODEL_cce60b6c262a4429bb697e257edbe90c",
            "_dom_classes": [],
            "description": "",
            "_model_name": "FloatProgressModel",
            "bar_style": "danger",
            "max": 1,
            "_view_module": "@jupyter-widgets/controls",
            "_model_module_version": "1.5.0",
            "value": 1,
            "_view_count": null,
            "_view_module_version": "1.5.0",
            "orientation": "horizontal",
            "min": 0,
            "description_tooltip": null,
            "_model_module": "@jupyter-widgets/controls",
            "layout": "IPY_MODEL_6544f31a12934b078f2930a512e7beb6"
          }
        },
        "327ceee6d4134d7d9f5fab9b76f5e367": {
          "model_module": "@jupyter-widgets/controls",
          "model_name": "HTMLModel",
          "state": {
            "_view_name": "HTMLView",
            "style": "IPY_MODEL_02717c5048b74fca857cc5cc210460d7",
            "_dom_classes": [],
            "description": "",
            "_model_name": "HTMLModel",
            "placeholder": "​",
            "_view_module": "@jupyter-widgets/controls",
            "_model_module_version": "1.5.0",
            "value": " 256/? [00:43&lt;00:00,  4.34it/s]",
            "_view_count": null,
            "_view_module_version": "1.5.0",
            "description_tooltip": null,
            "_model_module": "@jupyter-widgets/controls",
            "layout": "IPY_MODEL_5827f0a075914b4e953786b77728f5e4"
          }
        },
        "cce60b6c262a4429bb697e257edbe90c": {
          "model_module": "@jupyter-widgets/controls",
          "model_name": "ProgressStyleModel",
          "state": {
            "_view_name": "StyleView",
            "_model_name": "ProgressStyleModel",
            "description_width": "initial",
            "_view_module": "@jupyter-widgets/base",
            "_model_module_version": "1.5.0",
            "_view_count": null,
            "_view_module_version": "1.2.0",
            "bar_color": null,
            "_model_module": "@jupyter-widgets/controls"
          }
        },
        "6544f31a12934b078f2930a512e7beb6": {
          "model_module": "@jupyter-widgets/base",
          "model_name": "LayoutModel",
          "state": {
            "_view_name": "LayoutView",
            "grid_template_rows": null,
            "right": null,
            "justify_content": null,
            "_view_module": "@jupyter-widgets/base",
            "overflow": null,
            "_model_module_version": "1.2.0",
            "_view_count": null,
            "flex_flow": null,
            "width": null,
            "min_width": null,
            "border": null,
            "align_items": null,
            "bottom": null,
            "_model_module": "@jupyter-widgets/base",
            "top": null,
            "grid_column": null,
            "overflow_y": null,
            "overflow_x": null,
            "grid_auto_flow": null,
            "grid_area": null,
            "grid_template_columns": null,
            "flex": null,
            "_model_name": "LayoutModel",
            "justify_items": null,
            "grid_row": null,
            "max_height": null,
            "align_content": null,
            "visibility": null,
            "align_self": null,
            "height": null,
            "min_height": null,
            "padding": null,
            "grid_auto_rows": null,
            "grid_gap": null,
            "max_width": null,
            "order": null,
            "_view_module_version": "1.2.0",
            "grid_template_areas": null,
            "object_position": null,
            "object_fit": null,
            "grid_auto_columns": null,
            "margin": null,
            "display": null,
            "left": null
          }
        },
        "02717c5048b74fca857cc5cc210460d7": {
          "model_module": "@jupyter-widgets/controls",
          "model_name": "DescriptionStyleModel",
          "state": {
            "_view_name": "StyleView",
            "_model_name": "DescriptionStyleModel",
            "description_width": "",
            "_view_module": "@jupyter-widgets/base",
            "_model_module_version": "1.5.0",
            "_view_count": null,
            "_view_module_version": "1.2.0",
            "_model_module": "@jupyter-widgets/controls"
          }
        },
        "5827f0a075914b4e953786b77728f5e4": {
          "model_module": "@jupyter-widgets/base",
          "model_name": "LayoutModel",
          "state": {
            "_view_name": "LayoutView",
            "grid_template_rows": null,
            "right": null,
            "justify_content": null,
            "_view_module": "@jupyter-widgets/base",
            "overflow": null,
            "_model_module_version": "1.2.0",
            "_view_count": null,
            "flex_flow": null,
            "width": null,
            "min_width": null,
            "border": null,
            "align_items": null,
            "bottom": null,
            "_model_module": "@jupyter-widgets/base",
            "top": null,
            "grid_column": null,
            "overflow_y": null,
            "overflow_x": null,
            "grid_auto_flow": null,
            "grid_area": null,
            "grid_template_columns": null,
            "flex": null,
            "_model_name": "LayoutModel",
            "justify_items": null,
            "grid_row": null,
            "max_height": null,
            "align_content": null,
            "visibility": null,
            "align_self": null,
            "height": null,
            "min_height": null,
            "padding": null,
            "grid_auto_rows": null,
            "grid_gap": null,
            "max_width": null,
            "order": null,
            "_view_module_version": "1.2.0",
            "grid_template_areas": null,
            "object_position": null,
            "object_fit": null,
            "grid_auto_columns": null,
            "margin": null,
            "display": null,
            "left": null
          }
        }
      }
    }
  },
  "cells": [
    {
      "cell_type": "markdown",
      "metadata": {
        "id": "tWJTCBu4Tveb"
      },
      "source": [
        "<img src=\"https://static.wixstatic.com/media/66c28f_db7a1ba3e35b4b17a6688472c889b7bf~mv2_d_2777_1254_s_2.png/v1/fill/w_710,h_320,al_c,q_85,usm_0.66_1.00_0.01/logo_yellow_white.webp\" width=1000, height=450>\n",
        "<h3 style=\"text-align: center;\"><b>Физтех-Школа Прикладной математики и информатики (ФПМИ) МФТИ</b></h3>"
      ]
    },
    {
      "cell_type": "markdown",
      "metadata": {
        "id": "Kmb8UhIzOnfK"
      },
      "source": [
        "# Text Summarization\n",
        "\n",
        "Всем привет! Сегодня мы познакомимся с задачей суммаризации текста на примере генерации \"сжатых\" новостей. Рассмотрим некоторые базовые решения и познакомимся с архитектурами нейросетей для решения задачи.\n",
        "Датасет: gazeta.ru\n",
        "\n",
        "\n",
        "`Ноутбук создан на основе семинара Гусева Ильи на кафедре компьютерной лингвистики ABBYY МФТИ.`\n",
        "\n",
        "Загрузим датасет и необходимые библиотеки"
      ]
    },
    {
      "cell_type": "code",
      "metadata": {
        "id": "OqkLTkFRfXvA"
      },
      "source": [
        "!wget -q https://www.dropbox.com/s/43l702z5a5i2w8j/gazeta_train.txt\n",
        "!wget -q https://www.dropbox.com/s/k2egt3sug0hb185/gazeta_val.txt\n",
        "!wget -q https://www.dropbox.com/s/3gki5n5djs9w0v6/gazeta_test.txt"
      ],
      "execution_count": null,
      "outputs": []
    },
    {
      "cell_type": "code",
      "metadata": {
        "id": "SXS1sdYZCluU"
      },
      "source": [
        "!pip -q install razdel networkx pymorphy2 nltk rouge==0.3.1 summa "
      ],
      "execution_count": null,
      "outputs": []
    },
    {
      "cell_type": "markdown",
      "metadata": {
        "id": "Wa0NfryxbPUP"
      },
      "source": [
        "## Dataset"
      ]
    },
    {
      "cell_type": "markdown",
      "metadata": {
        "id": "eesnclfDDV3F"
      },
      "source": [
        "Посмотрим на то, как устроен датасет"
      ]
    },
    {
      "cell_type": "code",
      "metadata": {
        "colab": {
          "base_uri": "https://localhost:8080/"
        },
        "id": "Mz6CZYKQhnd-",
        "outputId": "707b0862-9cbe-41fd-c0b4-a7ecfc28b6df"
      },
      "source": [
        "!head -n 1 gazeta_train.txt\n",
        "!cat gazeta_train.txt | wc -l\n",
        "!cat gazeta_val.txt | wc -l\n",
        "!cat gazeta_test.txt | wc -l"
      ],
      "execution_count": null,
      "outputs": [
        {
          "output_type": "stream",
          "text": [
            "{\"url\": \"https://www.gazeta.ru/financial/2011/11/30/3852658.shtml\", \"text\": \"«По итогам 2011 года чистый отток может составить примерно $80 млрд, в следующем году — около $20 млрд. При этом мы ожидаем, что со второго полугодия 2012 года начнется приток капитала», — заявил «Интерфаксу» замминистра экономического развития Андрей Клепач. Официальные прогнозы по выводу капитала из России становятся все пессимистичными: еще летом власти полагали, что из страны уйдет не более $35 млрд, в сентябре Минэкономразвития назвал цифру $50 млрд, в начале ноября Центробанк пересмотрел оценку до $70 млрд. Очередное изменение прогноза было ожидаемо: по расчетам Центробанка , за январь — октябрь чистый отток капитала достиг $64 млрд, причем в последние месяцы он ускорился: в сентябре он составил $14 млрд, в октябре — $13 млрд против среднего ежемесячного оттока в $6—8 млрд в первом полугодии. «После октябрьских данных Минэкономразвития вынуждено было изменить оценку, настаивать на $70 млрд означало ожидать серьезного замедления оттока капитала на непонятно каких причинах», — говорит главный экономист BNP Paribas Юлия Цепляева. «В последние два месяца отток капитала ускорится, на декабрь приходится значительная часть выплат по внешним долгам, что приводит к усилению оттока, особенно если они не рефинансируются новыми кредитами», — соглашается главный экономист ФК «Открытие» Владимир Тихомиров. Прогнозируемый Минэкономразвития отток капитала — один из самых высоких за последние 20 лет. Больше ушло лишь в 2008 году на фоне разрастания финансового кризиса и российско-грузинской войны — $133,7 млрд. В кризисный 2009 год из России утекло $56,1 млрд. Главный фактор ускорения оттока капитала в 2011 году — нестабильность на внешних финансовых рынках и рост опасений относительно второй волны рецессии. «Это реакция на неуверенность, которую генерирует Европа с долговыми проблемами. В случае новой волны глобальной турбулентности Россия — одна из самых уязвимых стран», — говорит Цепляева. Еще одна причина — ослабление рубля. «Привлекательность вложений снижается на фоне того, что рубль перестал укрепляться, а ставки по депозитам достаточно низкие. В результате экспортеры не полностью возвращают экспортную выручку», — говорит Тихомиров. Внутри страны эксперты не видят особых причин для бегства капитала. «Ситуация выглядит достаточно позитивно, очень хорошие макроэкономические результаты за год, особенно на фоне других стран. С политической точки зрения все достаточно понятно и предсказуемо, итог выборов очевиден», — говорит экономист ИК «Тройка Диалог» Антон Струченевский. Тем не менее политический фактор играет роль. «Бизнесу важно не только, кто будет президентом, он ждет ясности с перестановками в правительстве. В наших условиях административный ресурс важнее всего для успешности бизнеса», — говорит Цепляева, добавляя, что отток капитала продолжится до завершения президентских выборов.\", \"title\": \"Прогноз не успевает за оттоком\", \"summary\": \"В 2011 году из России уйдет $80 млрд, считают в Минэкономразвития. Менее месяца назад Центробанк давал оценку $70 млрд, повысив первоначальный прогноз вдвое. Отток капитала из страны усиливается из-за кризиса в Европе, а в декабре российским компаниям выплачивать внешние долги. На движение капитала повлияли и выборы: несмотря на их предсказуемость, бизнес хочет ясности с перестановками в правительстве.\", \"date\": \"2011-11-30 18:33:39\"}\n",
            "52400\n",
            "5265\n",
            "5770\n"
          ],
          "name": "stdout"
        }
      ]
    },
    {
      "cell_type": "code",
      "metadata": {
        "id": "5pZ2UGS2DGjH"
      },
      "source": [
        "import json\n",
        "import random\n",
        "\n",
        "def read_gazeta_records(file_name, shuffle=True, sort_by_date=False):\n",
        "    assert shuffle != sort_by_date\n",
        "    records = []\n",
        "    with open(file_name, \"r\") as r:\n",
        "        for line in r:\n",
        "            records.append(json.loads(line))\n",
        "    if sort_by_date:\n",
        "        records.sort(key=lambda x: x[\"date\"])\n",
        "    if shuffle:\n",
        "        random.shuffle\n",
        "    return records"
      ],
      "execution_count": null,
      "outputs": []
    },
    {
      "cell_type": "code",
      "metadata": {
        "id": "GNDp-BunEA91"
      },
      "source": [
        "train_records = read_gazeta_records(\"gazeta_train.txt\")\n",
        "val_records = read_gazeta_records(\"gazeta_val.txt\")\n",
        "test_records = read_gazeta_records(\"gazeta_test.txt\")"
      ],
      "execution_count": null,
      "outputs": []
    },
    {
      "cell_type": "code",
      "metadata": {
        "id": "397gjsNfFBZ_"
      },
      "source": [
        "from nltk.translate.bleu_score import corpus_bleu\n",
        "from rouge import Rouge\n",
        "\n",
        "def calc_scores(references, predictions, metric=\"all\"):\n",
        "    print(\"Count:\", len(predictions))\n",
        "    print(\"Ref:\", references[-1])\n",
        "    print(\"Hyp:\", predictions[-1])\n",
        "\n",
        "    if metric in (\"bleu\", \"all\"):\n",
        "        print(\"BLEU: \", corpus_bleu([[r] for r in references], predictions))\n",
        "    if metric in (\"rouge\", \"all\"):\n",
        "        rouge = Rouge()\n",
        "        scores = rouge.get_scores(predictions, references, avg=True)\n",
        "        print(\"ROUGE: \", scores)"
      ],
      "execution_count": null,
      "outputs": []
    },
    {
      "cell_type": "markdown",
      "metadata": {
        "id": "aaJKNsUGFBaA"
      },
      "source": [
        "## Extractive RNN"
      ]
    },
    {
      "cell_type": "markdown",
      "metadata": {
        "id": "l3izlm8HFBaC"
      },
      "source": [
        "### BPE\n",
        "Для начала сделаем BPE токенизацию"
      ]
    },
    {
      "cell_type": "code",
      "metadata": {
        "colab": {
          "base_uri": "https://localhost:8080/"
        },
        "id": "2DMVtloWFBaC",
        "outputId": "651ade5e-07de-4a13-90be-0b9d6f91d7e5"
      },
      "source": [
        "!pip install youtokentome"
      ],
      "execution_count": null,
      "outputs": [
        {
          "output_type": "stream",
          "text": [
            "Requirement already satisfied: youtokentome in /usr/local/lib/python3.7/dist-packages (1.0.6)\n",
            "Requirement already satisfied: Click>=7.0 in /usr/local/lib/python3.7/dist-packages (from youtokentome) (7.1.2)\n"
          ],
          "name": "stdout"
        }
      ]
    },
    {
      "cell_type": "code",
      "metadata": {
        "id": "Yg9T6q0wFBaF"
      },
      "source": [
        "import youtokentome as yttm\n",
        "\n",
        "def train_bpe(records, model_path, model_type=\"bpe\", vocab_size=10000, lower=True):\n",
        "    temp_file_name = \"temp.txt\"\n",
        "    with open(temp_file_name, \"w\") as temp:\n",
        "        for record in records:\n",
        "            text, summary = record['text'], record['summary']\n",
        "            if lower:\n",
        "                summary = summary.lower()\n",
        "                text = text.lower()\n",
        "            if not text or not summary:\n",
        "                continue\n",
        "            temp.write(text + \"\\n\")\n",
        "            temp.write(summary + \"\\n\")\n",
        "    yttm.BPE.train(data=temp_file_name, vocab_size=vocab_size, model=model_path)\n",
        "\n",
        "train_bpe(train_records, \"BPE_model.bin\")"
      ],
      "execution_count": null,
      "outputs": []
    },
    {
      "cell_type": "markdown",
      "metadata": {
        "id": "jJFAJHTtFBaF"
      },
      "source": [
        "### Словарь\n",
        "Составим словарь для индексации токенов"
      ]
    },
    {
      "cell_type": "code",
      "metadata": {
        "id": "MueXtatmFBaG"
      },
      "source": [
        "bpe_processor = yttm.BPE('BPE_model.bin')\n",
        "vocabulary = bpe_processor.vocab()"
      ],
      "execution_count": null,
      "outputs": []
    },
    {
      "cell_type": "markdown",
      "metadata": {
        "id": "Z_C_p7tHFBaH"
      },
      "source": [
        "### Кэш oracle summary\n",
        "Закэшируем oracle summary, чтобы не пересчитывать их каждый раз"
      ]
    },
    {
      "cell_type": "code",
      "metadata": {
        "colab": {
          "base_uri": "https://localhost:8080/",
          "height": 113,
          "referenced_widgets": [
            "33980f5d94e345419430f897218a647e",
            "1a3831f2aa394808b46f07e98a864622",
            "4cf4fd3581ce434a89bd9c22b9284f92",
            "74e17b2f042c4b70b48c3b7024a493b1",
            "a604c8f618ac4cafbf3dcc2093163f82",
            "2ef474e75ab540a482c26007016905af",
            "5d502c82840e45e99c7ff29054afb57e",
            "0efaaa5ce05d49e5a43bedd195ac5c40",
            "bfa8f8e669224e81b909932372568185",
            "19d17e363426481bb59da920a2cb5885",
            "f439746b85744c309c7a677421041e77",
            "8d56769b342e4b44b9e0dd46cf648fd6",
            "6132d567b9384479b814c497eb919345",
            "0dd21e68c79f4b34aaa03a2db19205e4",
            "0aee7f543d1c4a7cb5967358597d2d25",
            "99b15410ec924f67a29879727bd1fdab",
            "fe4a655274f047cbbbd87b54e6ea6bf5",
            "130577bff4d346ca9bc174dda3dc1417",
            "fed65654c64b45d28c16be399686b01c",
            "327ceee6d4134d7d9f5fab9b76f5e367",
            "cce60b6c262a4429bb697e257edbe90c",
            "6544f31a12934b078f2930a512e7beb6",
            "02717c5048b74fca857cc5cc210460d7",
            "5827f0a075914b4e953786b77728f5e4"
          ]
        },
        "id": "Fp23tuPbFBaH",
        "outputId": "f5b5a398-6955-48b1-c955-5398472b55e7"
      },
      "source": [
        "from rouge import Rouge\n",
        "import razdel\n",
        "from tqdm.notebook import tqdm\n",
        "\n",
        "import copy\n",
        "\n",
        "def build_oracle_summary_greedy(text, gold_summary, calc_score, lower=True, max_sentences=30):\n",
        "    '''\n",
        "    Жадное построение oracle summary\n",
        "    '''\n",
        "    gold_summary = gold_summary.lower() if lower else gold_summary\n",
        "    # Делим текст на предложения\n",
        "    sentences = [sentence.text.lower() if lower else sentence.text for sentence in razdel.sentenize(text)][:max_sentences]\n",
        "    n_sentences = len(sentences)\n",
        "    oracle_summary_sentences = set()\n",
        "    \n",
        "    score = -1.0\n",
        "    summaries = []\n",
        "    for _ in range(n_sentences):\n",
        "        for i in range(n_sentences):\n",
        "            if i in oracle_summary_sentences:\n",
        "                continue\n",
        "            current_summary_sentences = copy.copy(oracle_summary_sentences)\n",
        "            # Добавляем какое-то предложения к уже существующему summary\n",
        "            current_summary_sentences.add(i)\n",
        "            current_summary = \" \".join([sentences[index] for index in sorted(list(current_summary_sentences))])\n",
        "            # Считаем метрики\n",
        "            current_score = calc_score(current_summary, gold_summary)\n",
        "            summaries.append((current_score, current_summary_sentences))\n",
        "        # Если получилось улучшить метрики с добавлением какого-либо предложения, то пробуем добавить ещё\n",
        "        # Иначе на этом заканчиваем\n",
        "        best_summary_score, best_summary_sentences = max(summaries)\n",
        "        if best_summary_score <= score:\n",
        "            break\n",
        "        oracle_summary_sentences = best_summary_sentences\n",
        "        score = best_summary_score\n",
        "    oracle_summary = \" \".join([sentences[index] for index in sorted(list(oracle_summary_sentences))])\n",
        "    return oracle_summary, oracle_summary_sentences\n",
        "\n",
        "def calc_single_score(pred_summary, gold_summary, rouge):\n",
        "    return rouge.get_scores([pred_summary], [gold_summary], avg=True)['rouge-2']['f']\n",
        "\n",
        "def add_oracle_summary_to_records(records, max_sentences=30, lower=True, nrows=1000):\n",
        "    rouge = Rouge()\n",
        "    for i, record in tqdm(enumerate(records)):\n",
        "        if i >= nrows:\n",
        "            break\n",
        "        text = record[\"text\"]\n",
        "        summary = record[\"summary\"]\n",
        "\n",
        "        summary = summary.lower() if lower else summary\n",
        "        sentences = [sentence.text.lower() if lower else sentence.text for sentence in razdel.sentenize(text)][:max_sentences]\n",
        "        oracle_summary, sentences_indicies = build_oracle_summary_greedy(text, summary, calc_score=lambda x, y: calc_single_score(x, y, rouge),\n",
        "                                                                         lower=lower, max_sentences=max_sentences)\n",
        "        record[\"sentences\"] = sentences\n",
        "        record[\"oracle_sentences\"] = list(sentences_indicies)\n",
        "        record[\"oracle_summary\"] = oracle_summary\n",
        "\n",
        "    return records[:nrows]\n",
        "\n",
        "ext_train_records = add_oracle_summary_to_records(train_records, nrows=2048)\n",
        "ext_val_records = add_oracle_summary_to_records(val_records, nrows=256)\n",
        "ext_test_records = add_oracle_summary_to_records(test_records, nrows=256)"
      ],
      "execution_count": null,
      "outputs": [
        {
          "output_type": "display_data",
          "data": {
            "application/vnd.jupyter.widget-view+json": {
              "model_id": "33980f5d94e345419430f897218a647e",
              "version_minor": 0,
              "version_major": 2
            },
            "text/plain": [
              "HBox(children=(FloatProgress(value=1.0, bar_style='info', max=1.0), HTML(value='')))"
            ]
          },
          "metadata": {
            "tags": []
          }
        },
        {
          "output_type": "display_data",
          "data": {
            "application/vnd.jupyter.widget-view+json": {
              "model_id": "bfa8f8e669224e81b909932372568185",
              "version_minor": 0,
              "version_major": 2
            },
            "text/plain": [
              "HBox(children=(FloatProgress(value=1.0, bar_style='info', max=1.0), HTML(value='')))"
            ]
          },
          "metadata": {
            "tags": []
          }
        },
        {
          "output_type": "display_data",
          "data": {
            "application/vnd.jupyter.widget-view+json": {
              "model_id": "fe4a655274f047cbbbd87b54e6ea6bf5",
              "version_minor": 0,
              "version_major": 2
            },
            "text/plain": [
              "HBox(children=(FloatProgress(value=1.0, bar_style='info', max=1.0), HTML(value='')))"
            ]
          },
          "metadata": {
            "tags": []
          }
        }
      ]
    },
    {
      "cell_type": "markdown",
      "metadata": {
        "id": "UlXXc8qUHC5m"
      },
      "source": [
        "### Составление батчей"
      ]
    },
    {
      "cell_type": "code",
      "metadata": {
        "id": "YATQKCuqHPo3",
        "colab": {
          "base_uri": "https://localhost:8080/"
        },
        "outputId": "aa5c22df-61f2-4e2a-a40f-487e2816eed9"
      },
      "source": [
        "import torch\n",
        "device = torch.device('cuda' if torch.cuda.is_available() else 'cpu')\n",
        "device"
      ],
      "execution_count": null,
      "outputs": [
        {
          "output_type": "execute_result",
          "data": {
            "text/plain": [
              "device(type='cuda')"
            ]
          },
          "metadata": {
            "tags": []
          },
          "execution_count": 11
        }
      ]
    },
    {
      "cell_type": "code",
      "metadata": {
        "id": "MNyxstTChK3C"
      },
      "source": [
        "import random\n",
        "import math\n",
        "import razdel\n",
        "import torch\n",
        "import numpy as np\n",
        "from rouge import Rouge\n",
        "\n",
        "\n",
        "class BatchIterator():\n",
        "    def __init__(self, records, vocabulary, batch_size, bpe_processor, shuffle=True, lower=True, max_sentences=30, max_sentence_length=50, device=torch.device('cpu')):\n",
        "        self.records = records\n",
        "        self.num_samples = len(records)\n",
        "        self.batch_size = batch_size\n",
        "        self.bpe_processor = bpe_processor\n",
        "        self.shuffle = shuffle\n",
        "        self.batches_count = int(math.ceil(self.num_samples / batch_size))\n",
        "        self.lower = lower\n",
        "        self.rouge = Rouge()\n",
        "        self.vocabulary = vocabulary\n",
        "        self.max_sentences = max_sentences\n",
        "        self.max_sentence_length = max_sentence_length\n",
        "        self.device = device\n",
        "        \n",
        "    def __len__(self):\n",
        "        return self.batches_count\n",
        "    \n",
        "    def __iter__(self):\n",
        "        indices = np.arange(self.num_samples)\n",
        "        if self.shuffle:\n",
        "            np.random.shuffle(indices)\n",
        "\n",
        "        for start in range(0, self.num_samples, self.batch_size):\n",
        "            end = min(start + self.batch_size, self.num_samples)\n",
        "            batch_indices = indices[start:end]\n",
        "\n",
        "            batch_inputs = []\n",
        "            batch_outputs = []\n",
        "            max_sentence_length = 0\n",
        "            max_sentences = 0\n",
        "            batch_records = []\n",
        "\n",
        "            for data_ind in batch_indices:\n",
        "                \n",
        "                record = self.records[data_ind]\n",
        "                batch_records.append(record)\n",
        "                text = record[\"text\"]\n",
        "                summary = record[\"summary\"]\n",
        "                summary = summary.lower() if self.lower else summary\n",
        "\n",
        "                if \"sentences\" not in record:\n",
        "                    sentences = [sentence.text.lower() if self.lower else sentence.text for sentence in razdel.sentenize(text)][:self.max_sentences]\n",
        "                else:\n",
        "                    sentences = record[\"sentences\"]\n",
        "                max_sentences = max(len(sentences), max_sentences)\n",
        "                \n",
        "                # номера предложений, которые в нашем саммари\n",
        "                if \"oracle_sentences\" not in record:\n",
        "                    calc_score = lambda x, y: calc_single_score(x, y, self.rouge)\n",
        "                    sentences_indicies = build_oracle_summary_greedy(text, summary, calc_score=calc_score, lower=self.lower, max_sentences=self.max_sentences)[1]\n",
        "                else:   \n",
        "                    sentences_indicies = record[\"oracle_sentences\"]\n",
        "                \n",
        "                # inputs - индексы слов в предложении\n",
        "                inputs = [bpe_processor.encode(sentence)[:self.max_sentence_length] for sentence in sentences]\n",
        "                max_sentence_length = max(max_sentence_length, max([len(tokens) for tokens in inputs]))\n",
        "                \n",
        "                # получение метки класса предложения\n",
        "                outputs = [int(i in sentences_indicies) for i in range(len(sentences))]\n",
        "                batch_inputs.append(inputs)\n",
        "                batch_outputs.append(outputs)\n",
        "\n",
        "            tensor_inputs = torch.zeros((self.batch_size, max_sentences, max_sentence_length), dtype=torch.long, device=self.device)\n",
        "            # we add index 2 for padding\n",
        "            # \n",
        "            tensor_outputs = torch.ones((self.batch_size, max_sentences), dtype=torch.float32, device=self.device) * 2 \n",
        "\n",
        "            for i, inputs in enumerate(batch_inputs):\n",
        "                for j, sentence_tokens in enumerate(inputs):\n",
        "                    tensor_inputs[i][j][:len(sentence_tokens)] = torch.tensor(sentence_tokens, dtype=torch.int64)\n",
        "\n",
        "            for i, outputs in enumerate(batch_outputs):\n",
        "                tensor_outputs[i][:len(outputs)] = torch.LongTensor(outputs)\n",
        "\n",
        "            tensor_outputs = tensor_outputs.long()\n",
        "            yield {\n",
        "                'inputs': tensor_inputs,\n",
        "                'outputs': tensor_outputs,\n",
        "                'records': batch_records\n",
        "            }"
      ],
      "execution_count": null,
      "outputs": []
    },
    {
      "cell_type": "code",
      "metadata": {
        "id": "5ug9MIObdi03"
      },
      "source": [
        "train_iterator = BatchIterator(ext_train_records, vocabulary, 32, bpe_processor, device=device)\n",
        "val_iterator = BatchIterator(ext_val_records, vocabulary, 32, bpe_processor, device=device)\n",
        "test_iterator = BatchIterator(ext_test_records, vocabulary, 32, bpe_processor, device=device)"
      ],
      "execution_count": null,
      "outputs": []
    },
    {
      "cell_type": "code",
      "metadata": {
        "id": "vbHN977ZJ9mE"
      },
      "source": [
        "train_sum_1 = sum([np.count_nonzero(batch['outputs'].cpu().numpy() == 1) for batch in train_iterator])\n",
        "test_sum_1 = sum([np.count_nonzero(batch['outputs'].cpu().numpy() == 1) for batch in test_iterator])\n",
        "val_sum_1 = sum([np.count_nonzero(batch['outputs'].cpu().numpy() == 1) for batch in val_iterator])\n",
        "train_sum = sum([np.count_nonzero(batch['outputs'].cpu().numpy() != 2) for batch in train_iterator])\n",
        "test_sum = sum([np.count_nonzero(batch['outputs'].cpu().numpy() != 2) for batch in test_iterator])\n",
        "val_sum = sum([np.count_nonzero(batch['outputs'].cpu().numpy() != 2) for batch in val_iterator])"
      ],
      "execution_count": null,
      "outputs": []
    },
    {
      "cell_type": "code",
      "metadata": {
        "id": "ylNOHF-fE_b8"
      },
      "source": [
        "weight = (train_sum_1 + test_sum_1 + val_sum_1)/(train_sum + test_sum + val_sum)"
      ],
      "execution_count": null,
      "outputs": []
    },
    {
      "cell_type": "markdown",
      "metadata": {
        "id": "yPlJMg0_dQM-"
      },
      "source": [
        "## Extractor -  SummaRuNNer\n",
        " https://arxiv.org/pdf/1611.04230.pdf\n"
      ]
    },
    {
      "cell_type": "markdown",
      "metadata": {
        "id": "4BSsnfe4t1uK"
      },
      "source": [
        "### Homework\n",
        "\n",
        "* В данной реализации в `outputs` в качестве padding используется индекс 0. Измените в функции \\_\\_iter__ индекс padding, чтобы он не совпадал с классом 0 или 1, например, 2.\n",
        "* В качестве criterion используйте `CrossEntropyLoss`вместо `BCEWithLogitsLoss`\n",
        "* Из-за смены criterion, вы уже должны подавать на вход criterion ни одно число, а logits для каждого класса. Перед подачей logits вы можете отфильтровать предсказания для класса padding. В этом пункте вам придется изменять файл `train_model.py`, а именно функциии `train` и `evaluate`.\n",
        "* Используйте два варианта обучения: c весами в `CrossEntropyLoss` и без\n",
        "* Также сравните `inference`, когда вы ранжируете logits, и когды вы выбирате предложения, у котрых logits > 0, в двух вариантах обучения. \n",
        "* Реализуйте дополнительно характеристику предложения `novelty`. Как влияет добавление `novelty` на качество summary?\n",
        "* Постарайтесь улучшить качество модели, полученной на семинаре: $BLEU \\approx 0.45$"
      ]
    },
    {
      "cell_type": "code",
      "metadata": {
        "id": "iW7iS76KeEdO"
      },
      "source": [
        "import numpy as np\n",
        "\n",
        "import torch\n",
        "import torch.nn as nn\n",
        "import torch.nn.functional as F\n",
        "import torch.optim as optim\n",
        "from torch.autograd import Variable\n",
        "\n",
        "from torch.nn.utils.rnn import pack_padded_sequence as pack\n",
        "from torch.nn.utils.rnn import pad_packed_sequence as unpack\n",
        "\n",
        "class SentenceEncoderRNN(nn.Module):\n",
        "    def __init__(self, input_size, embedding_dim, hidden_size, n_layers=3, dropout=0.3, bidirectional=True):\n",
        "        super().__init__()\n",
        "\n",
        "        num_directions = 2 if bidirectional else 1\n",
        "        assert hidden_size % num_directions == 0\n",
        "        hidden_size = hidden_size // num_directions\n",
        "\n",
        "        self.embedding_dim = embedding_dim\n",
        "        self.input_size = input_size\n",
        "        self.hidden_size = hidden_size\n",
        "        self.n_layers = n_layers\n",
        "        self.dropout = dropout\n",
        "        self.bidirectional = bidirectional\n",
        "\n",
        "        self.embedding_layer = nn.Embedding(input_size, embedding_dim)\n",
        "        self.rnn_layer = nn.LSTM(embedding_dim, hidden_size, n_layers, dropout=dropout, bidirectional=bidirectional, batch_first=True)\n",
        "        self.dropout_layer = nn.Dropout(dropout)\n",
        "\n",
        "    def forward(self, inputs, hidden=None):\n",
        "        embedded = self.dropout_layer(self.embedding_layer(inputs))\n",
        "        outputs, _ = self.rnn_layer(embedded, hidden)\n",
        "        sentences_embeddings = torch.mean(outputs, 1)\n",
        "        # [batch_size, hidden_size]\n",
        "        return sentences_embeddings\n",
        "\n",
        "class SentenceTaggerRNN(nn.Module):\n",
        "    def __init__(self,\n",
        "                 vocabulary_size,\n",
        "                 use_content=True,\n",
        "                 use_salience=True,\n",
        "                 use_novelty=True,\n",
        "                 token_embedding_dim=128,\n",
        "                 sentence_encoder_hidden_size=256,\n",
        "                 hidden_size=256,\n",
        "                 bidirectional=True,\n",
        "                 sentence_encoder_n_layers=2,\n",
        "                 sentence_encoder_dropout=0.3,\n",
        "                 sentence_encoder_bidirectional=True,\n",
        "                 n_layers=2,\n",
        "                 dropout=0.3):\n",
        "        \n",
        "        super().__init__()\n",
        "\n",
        "        num_directions = 2 if bidirectional else 1\n",
        "        assert hidden_size % num_directions == 0\n",
        "        hidden_size = hidden_size // num_directions\n",
        "\n",
        "        self.hidden_size = hidden_size\n",
        "        self.n_layers = n_layers\n",
        "        self.dropout = dropout\n",
        "        self.bidirectional = bidirectional\n",
        "\n",
        "        self.sentence_encoder = SentenceEncoderRNN(vocabulary_size, token_embedding_dim,\n",
        "                                                   sentence_encoder_hidden_size, sentence_encoder_n_layers, \n",
        "                                                   sentence_encoder_dropout, sentence_encoder_bidirectional)\n",
        "        \n",
        "        self.rnn_layer = nn.LSTM(sentence_encoder_hidden_size, hidden_size, n_layers, dropout=dropout,\n",
        "                           bidirectional=bidirectional, batch_first=True)\n",
        "        \n",
        "        self.dropout_layer = nn.Dropout(dropout)\n",
        "        self.content_linear_layer = nn.Linear(hidden_size * 2, 1)\n",
        "        self.document_linear_layer = nn.Linear(hidden_size * 2, hidden_size * 2)\n",
        "        self.salience_linear_layer = nn.Linear(hidden_size * 2, hidden_size * 2)\n",
        "        self.novelty_linear_layer =  nn.Linear(hidden_size * 2, hidden_size * 2)\n",
        "        self.tanh_layer = nn.Tanh()\n",
        "\n",
        "        self.use_content = use_content\n",
        "        self.use_salience = use_salience\n",
        "        self.use_novelty = use_novelty\n",
        "\n",
        "    def forward(self, inputs, hidden=None):\n",
        "        # parameters of the probability\n",
        "        content = 0\n",
        "        salience = 0\n",
        "        novelty = 0\n",
        "\n",
        "        # [batch_size, seq num, seq_len]\n",
        "        batch_size = inputs.size(0)\n",
        "        sentences_count = inputs.size(1)\n",
        "        tokens_count = inputs.size(2)\n",
        "        inputs = inputs.reshape(-1, tokens_count)\n",
        "        # [batch_size * seq num, seq_len]\n",
        "\n",
        "        embedded_sentences = self.sentence_encoder(inputs)\n",
        "        embedded_sentences = self.dropout_layer(embedded_sentences.reshape(batch_size, sentences_count, -1))\n",
        "        # [batch_size *  seq num, seq_len, hidden_size] -> [batch_size, seq num, hidden_size]\n",
        "\n",
        "        outputs, _ = self.rnn_layer(embedded_sentences, hidden)\n",
        "        # [batch_size, seq num, hidden_size]\n",
        "\n",
        "        document_embedding = self.tanh_layer(self.document_linear_layer(torch.mean(outputs, 1)))\n",
        "        # [batch_size, hidden_size]\n",
        "\n",
        "        # W * h^T\n",
        "        if self.use_content:\n",
        "            content = self.content_linear_layer(outputs).squeeze(2) # 1-representation\n",
        "        # [batch_size, seq num]\n",
        "\n",
        "        # h^T * W * d\n",
        "        if self.use_salience:\n",
        "            salience = torch.bmm(outputs, self.salience_linear_layer(document_embedding).unsqueeze(2)).squeeze(2) # 2-representation\n",
        "        # [batch_size, seq num, hidden_size] * [batch_size, hidden_size, 1] = [batch_size, seq num, ]\n",
        "\n",
        "        if self.use_novelty:\n",
        "            # at every step add novelty to prediction of the sentence\n",
        "            predictions = content + salience\n",
        "            \n",
        "            # 0) initialize summary_representation and novelty by zeros\n",
        "            novelty = torch.zeros(batch_size,sentences_count).cuda()\n",
        "            summary_representation = torch.zeros(batch_size, self.hidden_size * 2).cuda()\n",
        "\n",
        "            for sentence_num in range(sentences_count):\n",
        "              el_sum = self.novelty_linear_layer(self.tanh_layer(summary_representation.cuda())).unsqueeze(2)\n",
        "              novelty[:,sentence_num] = -torch.bmm(outputs[:,sentence_num].unsqueeze(1), el_sum).squeeze(2).squeeze(1)\n",
        "              predictions[:,sentence_num] += novelty[:,sentence_num].cuda()\n",
        "              prob = torch.sigmoid(predictions[:, sentence_num])\n",
        "              summary_representation += prob.unsqueeze(-1).cuda() * outputs[:,sentence_num]\n",
        "                # 1) take sentence_num_state from outputs(representation of the sentence with number sentence_num)\n",
        "                # 2) calculate novelty for current sentence\n",
        "                # 3) add novelty to predictions\n",
        "                # 4) calculcate probability for current sentence\n",
        "                # 5) add sentence_num_state with the weight which is equal to probability to summary_representation\n",
        "\n",
        "\n",
        "        return content + salience + novelty"
      ],
      "execution_count": null,
      "outputs": []
    },
    {
      "cell_type": "markdown",
      "metadata": {
        "id": "QxpL3AtOrctD"
      },
      "source": [
        "## Model\n",
        "$P\\left(y_{j} = 1 \\mid \\mathbf{h}_{j}, \\mathbf{s}_{j}, \\mathbf{d}\\right)=\\sigma\\left(W_{c} \\mathbf{h}_{j} + \\mathbf{h}_{j}^{T} W_{s} \\mathbf{d}\\right)$\n",
        "--------------------"
      ]
    },
    {
      "cell_type": "code",
      "metadata": {
        "id": "-QC1ZmuQfB7f",
        "colab": {
          "base_uri": "https://localhost:8080/"
        },
        "outputId": "dd359d1d-6260-4a4a-a951-900736eed82c"
      },
      "source": [
        "vocab_size = len(vocabulary)\n",
        "model = SentenceTaggerRNN(vocab_size).to(device)\n",
        "\n",
        "params_count = np.sum([p.numel() for p in model.parameters() if p.requires_grad])\n",
        "print(\"Trainable params: {}\".format(params_count))"
      ],
      "execution_count": null,
      "outputs": [
        {
          "output_type": "stream",
          "text": [
            "Trainable params: 2927617\n"
          ],
          "name": "stdout"
        }
      ]
    },
    {
      "cell_type": "code",
      "metadata": {
        "id": "f9Q3aFHhgsB4",
        "colab": {
          "base_uri": "https://localhost:8080/"
        },
        "outputId": "3fff1b6c-6e69-4664-9e4c-2d17b29921c8"
      },
      "source": [
        "for name, param in model.named_parameters():\n",
        "    print(f\"{name}: {param.numel()}\")"
      ],
      "execution_count": null,
      "outputs": [
        {
          "output_type": "stream",
          "text": [
            "sentence_encoder.embedding_layer.weight: 1280000\n",
            "sentence_encoder.rnn_layer.weight_ih_l0: 65536\n",
            "sentence_encoder.rnn_layer.weight_hh_l0: 65536\n",
            "sentence_encoder.rnn_layer.bias_ih_l0: 512\n",
            "sentence_encoder.rnn_layer.bias_hh_l0: 512\n",
            "sentence_encoder.rnn_layer.weight_ih_l0_reverse: 65536\n",
            "sentence_encoder.rnn_layer.weight_hh_l0_reverse: 65536\n",
            "sentence_encoder.rnn_layer.bias_ih_l0_reverse: 512\n",
            "sentence_encoder.rnn_layer.bias_hh_l0_reverse: 512\n",
            "sentence_encoder.rnn_layer.weight_ih_l1: 131072\n",
            "sentence_encoder.rnn_layer.weight_hh_l1: 65536\n",
            "sentence_encoder.rnn_layer.bias_ih_l1: 512\n",
            "sentence_encoder.rnn_layer.bias_hh_l1: 512\n",
            "sentence_encoder.rnn_layer.weight_ih_l1_reverse: 131072\n",
            "sentence_encoder.rnn_layer.weight_hh_l1_reverse: 65536\n",
            "sentence_encoder.rnn_layer.bias_ih_l1_reverse: 512\n",
            "sentence_encoder.rnn_layer.bias_hh_l1_reverse: 512\n",
            "rnn_layer.weight_ih_l0: 131072\n",
            "rnn_layer.weight_hh_l0: 65536\n",
            "rnn_layer.bias_ih_l0: 512\n",
            "rnn_layer.bias_hh_l0: 512\n",
            "rnn_layer.weight_ih_l0_reverse: 131072\n",
            "rnn_layer.weight_hh_l0_reverse: 65536\n",
            "rnn_layer.bias_ih_l0_reverse: 512\n",
            "rnn_layer.bias_hh_l0_reverse: 512\n",
            "rnn_layer.weight_ih_l1: 131072\n",
            "rnn_layer.weight_hh_l1: 65536\n",
            "rnn_layer.bias_ih_l1: 512\n",
            "rnn_layer.bias_hh_l1: 512\n",
            "rnn_layer.weight_ih_l1_reverse: 131072\n",
            "rnn_layer.weight_hh_l1_reverse: 65536\n",
            "rnn_layer.bias_ih_l1_reverse: 512\n",
            "rnn_layer.bias_hh_l1_reverse: 512\n",
            "content_linear_layer.weight: 256\n",
            "content_linear_layer.bias: 1\n",
            "document_linear_layer.weight: 65536\n",
            "document_linear_layer.bias: 256\n",
            "salience_linear_layer.weight: 65536\n",
            "salience_linear_layer.bias: 256\n",
            "novelty_linear_layer.weight: 65536\n",
            "novelty_linear_layer.bias: 256\n"
          ],
          "name": "stdout"
        }
      ]
    },
    {
      "cell_type": "code",
      "metadata": {
        "id": "05s8UWh81cjG",
        "colab": {
          "base_uri": "https://localhost:8080/"
        },
        "outputId": "11aeb7fb-c2b7-4cb4-f62b-52f2e4fff01c"
      },
      "source": [
        "!gdown https://drive.google.com/uc?id=1MiS_iczALcyF7zGDPY6niyeD82P0_PBH -O train_model.py\n",
        "import train_model\n",
        "import imp \n",
        "imp.reload(train_model)\n",
        "from train_model import train_with_logs"
      ],
      "execution_count": null,
      "outputs": [
        {
          "output_type": "stream",
          "text": [
            "Downloading...\n",
            "From: https://drive.google.com/uc?id=1MiS_iczALcyF7zGDPY6niyeD82P0_PBH\n",
            "To: /content/train_model.py\n",
            "\r  0% 0.00/4.31k [00:00<?, ?B/s]\r100% 4.31k/4.31k [00:00<00:00, 16.2MB/s]\n"
          ],
          "name": "stdout"
        }
      ]
    },
    {
      "cell_type": "code",
      "metadata": {
        "id": "K4Y_0GGwqjDk"
      },
      "source": [
        "import matplotlib\n",
        "import time\n",
        "import math\n",
        "import torch\n",
        "import re\n",
        "import razdel\n",
        "matplotlib.rcParams.update({'figure.figsize': (16, 12), 'font.size': 14})\n",
        "import matplotlib.pyplot as plt\n",
        "from IPython.display import clear_output\n",
        "\n",
        "def train(model, iterator, optimizer, loss_function, clip, train_history=None, valid_history=None):\n",
        "    model.train()\n",
        "    \n",
        "    epoch_loss = 0\n",
        "    history = []\n",
        "    for i, batch in enumerate(iterator):\n",
        "         \n",
        "        logits = model(batch[\"inputs\"]) # Прямой проход\n",
        "        logits = torch.stack((-logits,logits),dim=2)\n",
        "        loss = loss_function(logits.permute(1,2,0), batch[\"outputs\"].permute(1,0))\n",
        "        \n",
        "        optimizer.zero_grad()\n",
        "        loss.backward()\n",
        "        torch.nn.utils.clip_grad_norm_(model.parameters(), clip)\n",
        "        optimizer.step()\n",
        "        \n",
        "        epoch_loss += loss.item()\n",
        "        history.append(loss.item())\n",
        "        if (i+1)%10==0:\n",
        "            fig, ax = plt.subplots(nrows=1, ncols=2, figsize=(12, 8))\n",
        "\n",
        "            clear_output(True)\n",
        "            ax[0].plot(history, label='train loss')\n",
        "            ax[0].set_xlabel('Batch')\n",
        "            ax[0].set_title('Train loss')\n",
        "            if train_history is not None:\n",
        "                ax[1].plot(train_history, label='general train history')\n",
        "                ax[1].set_xlabel('Epoch')\n",
        "            if valid_history is not None:\n",
        "                ax[1].plot(valid_history, label='general valid history')\n",
        "            plt.legend()\n",
        "            \n",
        "            plt.show()\n",
        "\n",
        "        \n",
        "    return epoch_loss / len(iterator)\n",
        "\n",
        "def evaluate(model, iterator, loss_function):\n",
        "    model.eval()\n",
        "    \n",
        "    epoch_loss = 0\n",
        "    history = []\n",
        "    \n",
        "    with torch.no_grad():\n",
        "    \n",
        "        for i, batch in enumerate(iterator):\n",
        "\n",
        "            logits = model(batch[\"inputs\"])\n",
        "            logits = torch.stack((-logits,logits),dim=2)\n",
        "            loss = loss_function(logits.permute(1,2,0), batch[\"outputs\"].permute(1,0))\n",
        "\n",
        "            epoch_loss += loss.item()\n",
        "    return epoch_loss / len(iterator)\n",
        "\n",
        "def epoch_time(start_time, end_time):\n",
        "    elapsed_time = end_time - start_time\n",
        "    elapsed_mins = int(elapsed_time / 60)\n",
        "    elapsed_secs = int(elapsed_time - (elapsed_mins * 60))\n",
        "    return elapsed_mins, elapsed_secs\n",
        "\n",
        "\n",
        "def train_with_logs(model, train_iterator, valid_iterator, optimizer, criterion, N_EPOCHS, CLIP):\n",
        "    train_history = []\n",
        "    valid_history = []\n",
        "    \n",
        "    \n",
        "    best_valid_loss = float('inf')\n",
        "    \n",
        "    for epoch in range(N_EPOCHS):\n",
        "        \n",
        "        start_time = time.time()\n",
        "        \n",
        "        train_loss = train(model, train_iterator, optimizer, criterion, CLIP, train_history, valid_history)\n",
        "        valid_loss = evaluate(model, valid_iterator, criterion)\n",
        "        \n",
        "        end_time = time.time()\n",
        "        \n",
        "        epoch_mins, epoch_secs = epoch_time(start_time, end_time)\n",
        "        \n",
        "        if valid_loss < best_valid_loss:\n",
        "            best_valid_loss = valid_loss\n",
        "            torch.save(model.state_dict(), 'best-val-model.pt')\n",
        "        \n",
        "        train_history.append(train_loss)\n",
        "        valid_history.append(valid_loss)\n",
        "        print(f'Epoch: {epoch+1:02} | Time: {epoch_mins}m {epoch_secs}s')\n",
        "        print(f'\\tTrain Loss: {train_loss:.3f} | Train PPL: {math.exp(train_loss):7.3f}')\n",
        "        print(f'\\t Val. Loss: {valid_loss:.3f} |  Val. PPL: {math.exp(valid_loss):7.3f}')\n",
        "        \n",
        "def punct_detokenize(text):\n",
        "    text = text.strip()\n",
        "    punctuation = \",.!?:;%\"\n",
        "    closing_punctuation = \")]}\"\n",
        "    opening_punctuation = \"([}\"\n",
        "    for ch in punctuation + closing_punctuation:\n",
        "        text = text.replace(\" \" + ch, ch)\n",
        "    for ch in opening_punctuation:\n",
        "        text = text.replace(ch + \" \", ch)\n",
        "    res = [r'\"\\s[^\"]+\\s\"', r\"'\\s[^']+\\s'\"]\n",
        "    for r in res:\n",
        "        for f in re.findall(r, text, re.U):\n",
        "            text = text.replace(f, f[0] + f[2:-2] + f[-1])\n",
        "    text = text.replace(\"' s\", \"'s\").replace(\" 's\", \"'s\")\n",
        "    text = text.strip()\n",
        "    return text\n",
        "\n",
        "\n",
        "def postprocess(ref, hyp, is_multiple_ref=False, detokenize_after=False, tokenize_after=True):\n",
        "    if is_multiple_ref:\n",
        "        reference_sents = ref.split(\" s_s \")\n",
        "        decoded_sents = hyp.split(\"s_s\")\n",
        "        hyp = [w.replace(\"<\", \"&lt;\").replace(\">\", \"&gt;\").strip() for w in decoded_sents]\n",
        "        ref = [w.replace(\"<\", \"&lt;\").replace(\">\", \"&gt;\").strip() for w in reference_sents]\n",
        "        hyp = \" \".join(hyp)\n",
        "        ref = \" \".join(ref)\n",
        "    ref = ref.strip()\n",
        "    hyp = hyp.strip()\n",
        "    if detokenize_after:\n",
        "        hyp = punct_detokenize(hyp)\n",
        "        ref = punct_detokenize(ref)\n",
        "    if tokenize_after:\n",
        "        hyp = hyp.replace(\"@@UNKNOWN@@\", \"<unk>\")\n",
        "        hyp = \" \".join([token.text for token in razdel.tokenize(hyp)])\n",
        "        ref = \" \".join([token.text for token in razdel.tokenize(ref)])\n",
        "    return ref, hyp\n"
      ],
      "execution_count": null,
      "outputs": []
    },
    {
      "cell_type": "code",
      "metadata": {
        "id": "rwrhG4v71yts",
        "colab": {
          "base_uri": "https://localhost:8080/",
          "height": 106
        },
        "outputId": "b6fd6080-069f-4187-be45-2038bdac23d5"
      },
      "source": [
        "N_EPOCHS = 3\n",
        "CLIP = 1\n",
        "\n",
        "def train_new(use_class_weights, N_EPOCHS, CLIP, model, train_iterator, val_iterator, lr=1e-3):\n",
        "    optimizer = optim.Adam(model.parameters(), lr)\n",
        "    if use_class_weights:\n",
        "        # weights depend on the number of objects of class 0 and 1\n",
        "        weights = torch.Tensor([weight, 1-weight]).cuda()\n",
        "        criterion = nn.CrossEntropyLoss(weight=weights, ignore_index = 2)\n",
        "    else:\n",
        "        criterion = nn.CrossEntropyLoss(ignore_index = 2)\n",
        "    train_with_logs(model, train_iterator, val_iterator, optimizer, criterion, N_EPOCHS, CLIP)\n",
        "\n",
        "train_new(True, N_EPOCHS, CLIP,model, train_iterator, val_iterator)"
      ],
      "execution_count": null,
      "outputs": [
        {
          "output_type": "display_data",
          "data": {
            "image/png": "[encoded data removed]",
            "text/plain": [
              "<Figure size 864x576 with 2 Axes>"
            ]
          },
          "metadata": {
            "tags": [],
            "needs_background": "light"
          }
        },
        {
          "output_type": "stream",
          "text": [
            "Epoch: 03 | Time: 0m 10s\n",
            "\tTrain Loss: 0.601 | Train PPL:   1.823\n",
            "\t Val. Loss: 0.584 |  Val. PPL:   1.793\n"
          ],
          "name": "stdout"
        }
      ]
    },
    {
      "cell_type": "markdown",
      "metadata": {
        "id": "vuv4Sh2Vj5Yr"
      },
      "source": [
        "## Inference"
      ]
    },
    {
      "cell_type": "code",
      "metadata": {
        "id": "wZ96X37bb_PV",
        "colab": {
          "base_uri": "https://localhost:8080/"
        },
        "outputId": "bcd6aeab-36c7-4956-9b53-fb8aa2850561"
      },
      "source": [
        "from train_model import punct_detokenize, postprocess\n",
        "\n",
        "def inference_summarunner(model, iterator, top_or_log, number):\n",
        "\n",
        "    references = []\n",
        "    predictions = []\n",
        "\n",
        "    model.eval()\n",
        "    for batch in test_iterator:\n",
        "\n",
        "        logits = model(batch['inputs'])\n",
        "        if (top_or_log == 'top'):\n",
        "          sum_in = torch.argsort(logits, dim=1)[:, -number:]\n",
        "        else:\n",
        "          sum_in = [np.where(logit.cpu() > number) for logit in logits]\n",
        "        for i in range(len(batch['outputs'])):\n",
        "            summary = batch['records'][i]['summary'].lower()\n",
        "            if (top_or_log == 'top'):\n",
        "              pred_summary = ' '.join([batch['records'][i]['sentences'][ind] for ind in sum_in.sort(dim=1)[0][i] if ind < len(batch['records'][i]['sentences'])])\n",
        "            else:\n",
        "              pred_summary = ' '.join([batch['records'][i]['sentences'][ind] for ind in sum_in[i][0] if ind < len(batch['records'][i]['sentences'])])\n",
        "            summary, pred_summary = postprocess(summary, pred_summary)\n",
        "\n",
        "            references.append(summary)\n",
        "            predictions.append(pred_summary)\n",
        "\n",
        "    calc_scores(references, predictions)\n",
        "\n",
        "model.load_state_dict(torch.load('best-val-model.pt'))\n",
        "inference_summarunner(model, test_iterator, \"log\", 0)\n",
        "print(\"\\n\")\n",
        "inference_summarunner(model, test_iterator, \"top\", 3)\n",
        "print(\"\\n\")\n",
        "inference_summarunner(model, test_iterator, \"log\", 0.33)"
      ],
      "execution_count": null,
      "outputs": [
        {
          "output_type": "stream",
          "text": [
            "Count: 256\n",
            "Ref: в nasa назвали четыре миссии в дальний космос , которые в этом десятилетии могут быть запущены американцами . среди них — две миссии по изучению венеры , полет к спутнику юпитера и экспедиция к тритону , спутнику нептуна .\n",
            "Hyp: американское аэрокосмическое агентство nasa огласило названия четырех космических миссий , которые в скором времени могут быть выбраны для реализации и запуск которых может состояться уже в конце этого десятилетия . эти четыре проекта стали полуфиналистами конкурса , объявленного среди американских научных команд , в котором участвовало более десяти миссий . все они были отобраны по критериям потенциальной пользы для науки и технической осуществимости проекта . в рамках программы discovery nasa занимается планированием миссий , которые призваны дать ответы на фундаментальные вопросы о происхождении тел солнечной системы и возможному наличию жизни на них . из четырех выбранных проектов nasa планирует отобрать две в 2021 году , чтобы профинансировать работу по их реализации в рамках программы discovery . в ходе миссии планируется узнать , продолжаются ли в наши дни на венере тектонические и вулканические процессы .\n",
            "BLEU:  0.23822216879634892\n",
            "ROUGE:  {'rouge-1': {'f': 0.26658639728949457, 'p': 0.18944019593735814, 'r': 0.4867934861876703}, 'rouge-2': {'f': 0.10969257842659612, 'p': 0.0751801957990355, 'r': 0.22446617959296258}, 'rouge-l': {'f': 0.18803359420676458, 'p': 0.17310255587224338, 'r': 0.44481496365118317}}\n",
            "\n",
            "\n",
            "Count: 256\n",
            "Ref: в нижегородской области на трассе , ведущей из иваново в дзержинск , произошла произошла авария : автобус с 49 пассажирами вылетел в кювет и перевернулся . пострадали 25 человек — 12 из них оказали медицинскую помощь на месте , еще 13 отправили в местную больницу .\n",
            "Hyp: 25 человек пострадали в результате дтп с автобусом в нижегородской области . об этом сообщает тасс со ссылкой на пресс-службу регионального минздрава . авария произошла 15 декабря на трассе в балахнинском районе около 16.00 по московскому времени .\n",
            "BLEU:  0.44310618502350524\n",
            "ROUGE:  {'rouge-1': {'f': 0.31549977605530555, 'p': 0.30066931706909744, 'r': 0.3526605384838435}, 'rouge-2': {'f': 0.14078299435110442, 'p': 0.1323724392620158, 'r': 0.1623419307221277}, 'rouge-l': {'f': 0.26967421978148676, 'p': 0.27183275370218474, 'r': 0.3183616380169818}}\n",
            "\n",
            "\n",
            "Count: 256\n",
            "Ref: в солнечной системе новости — астрономы нашли новую карликовую планету . астероид гигея в прошлом претерпел мощнейший удар , после которого возродился заново и стал почти сферическим , что позволяет ему претендовать на новое звание .\n",
            "Hyp: похоже , в солнечной системе вскоре могут снова произойти изменения , связанные с переклассификацией известных науке тел . по мнению ученых , в ближайшем будущем возможно увеличение числа так называемых карликовых планет — тел , из-за которых возникает наибольшее число споров в астрономической среде . чтобы относиться к карликовым планетам , по правилам международного астрономического союза телу солнечной системы необходимо удовлетворять сразу четырем критериям .\n",
            "BLEU:  0.4849828131120552\n",
            "ROUGE:  {'rouge-1': {'f': 0.3186418129766519, 'p': 0.33360841971389427, 'r': 0.3268845803712301}, 'rouge-2': {'f': 0.14600451656903665, 'p': 0.15298241591941755, 'r': 0.1527277158485215}, 'rouge-l': {'f': 0.2717652975866648, 'p': 0.30137771861860163, 'r': 0.29483183624936027}}\n"
          ],
          "name": "stdout"
        }
      ]
    },
    {
      "cell_type": "code",
      "metadata": {
        "colab": {
          "base_uri": "https://localhost:8080/",
          "height": 577
        },
        "id": "_HmCQN5bFqx4",
        "outputId": "7a08fa6b-4a3a-43e4-ff4d-aa3bc362a0a3"
      },
      "source": [
        "model = SentenceTaggerRNN(vocab_size).to(device)\n",
        "\n",
        "def train_new(use_class_weights, N_EPOCHS, CLIP, model, train_iterator, val_iterator, lr=1e-3):\n",
        "    optimizer = optim.Adam(model.parameters(), lr)\n",
        "    if use_class_weights:\n",
        "        weights = torch.Tensor([weight, 1-weight]).cuda()\n",
        "        criterion = nn.CrossEntropyLoss(weight=weights, ignore_index = 2)\n",
        "    else:\n",
        "        criterion = nn.CrossEntropyLoss(ignore_index = 2)\n",
        "    train_with_logs(model, train_iterator, val_iterator, optimizer, criterion, N_EPOCHS, CLIP)\n",
        "\n",
        "train_new(False, N_EPOCHS, CLIP,model, train_iterator, val_iterator)"
      ],
      "execution_count": null,
      "outputs": [
        {
          "output_type": "display_data",
          "data": {
            "image/png": "[encoded data removed]",
            "text/plain": [
              "<Figure size 864x576 with 2 Axes>"
            ]
          },
          "metadata": {
            "tags": [],
            "needs_background": "light"
          }
        },
        {
          "output_type": "stream",
          "text": [
            "Epoch: 03 | Time: 0m 10s\n",
            "\tTrain Loss: 0.239 | Train PPL:   1.270\n",
            "\t Val. Loss: 0.259 |  Val. PPL:   1.296\n"
          ],
          "name": "stdout"
        }
      ]
    },
    {
      "cell_type": "code",
      "metadata": {
        "colab": {
          "base_uri": "https://localhost:8080/",
          "height": 557
        },
        "id": "bIIy2WMEF5zw",
        "outputId": "e4671bfb-27d9-4046-c6eb-78a432fc340f"
      },
      "source": [
        "model.load_state_dict(torch.load('best-val-model.pt'))\n",
        "inference_summarunner(model, test_iterator, \"top\", 3)\n",
        "print(\"\\n\")\n",
        "inference_summarunner(model, test_iterator, \"log\", 0)"
      ],
      "execution_count": null,
      "outputs": [
        {
          "output_type": "stream",
          "text": [
            "Count: 256\n",
            "Ref: первый президент украины леонид кравчук поинтересовался в телеэфире , не сошла ли с ума глава фракции « европейская солидарность » в верховной раде ирина геращенко . в ходе обсуждения конфликта в донбассе геращенко возмутилась возможностью прямого диалога между киевом и самопровозглашенными республиками . в ответ кравчук заявил , что днр и лнр являются сторонами минских соглашений , подписанных киевом .\n",
            "Hyp: первый президент украины леонид кравчук отчитал председателя фракции « европейской солидарности » в верховной раде ирину геращенко . как сообщает риа « новости » , ситуация произошла в эфире телеканала « украина » . « мы что , с ума сошли ?\n",
            "BLEU:  0.45027117285179274\n",
            "ROUGE:  {'rouge-1': {'f': 0.3170231169274005, 'p': 0.30419545673157816, 'r': 0.35106064017454763}, 'rouge-2': {'f': 0.14172492616295873, 'p': 0.13439931675269814, 'r': 0.16126819808656748}, 'rouge-l': {'f': 0.2718668557738059, 'p': 0.27517666969854127, 'r': 0.31701584025377494}}\n",
            "\n",
            "\n",
            "Count: 256\n",
            "Ref: в счетной палате рассказали об отсутствии водопровода , канализации и отопления в трети детских больниц рф . по словам жителей многих регионов , некоторые поликлиники просто разваливаются на глазах — в стенах зияют дыры , расползается краска и растет плесень . при этом минздрав обратил внимание , что эксперты сп могли дать не совсем верные цифры : в их отчете были также посчитаны гаражи и хозпомещения , в которых помощь детям не оказывается .\n",
            "Hyp: \n",
            "BLEU:  0.04358970723095857\n"
          ],
          "name": "stdout"
        },
        {
          "output_type": "error",
          "ename": "ValueError",
          "evalue": "ignored",
          "traceback": [
            "\u001b[0;31m---------------------------------------------------------------------------\u001b[0m",
            "\u001b[0;31mValueError\u001b[0m                                Traceback (most recent call last)",
            "\u001b[0;32m<ipython-input-48-b1e1526450ad>\u001b[0m in \u001b[0;36m<module>\u001b[0;34m()\u001b[0m\n\u001b[1;32m      2\u001b[0m \u001b[0minference_summarunner\u001b[0m\u001b[0;34m(\u001b[0m\u001b[0mmodel\u001b[0m\u001b[0;34m,\u001b[0m \u001b[0mtest_iterator\u001b[0m\u001b[0;34m,\u001b[0m \u001b[0;34m\"top\"\u001b[0m\u001b[0;34m,\u001b[0m \u001b[0;36m3\u001b[0m\u001b[0;34m)\u001b[0m\u001b[0;34m\u001b[0m\u001b[0;34m\u001b[0m\u001b[0m\n\u001b[1;32m      3\u001b[0m \u001b[0mprint\u001b[0m\u001b[0;34m(\u001b[0m\u001b[0;34m\"\\n\"\u001b[0m\u001b[0;34m)\u001b[0m\u001b[0;34m\u001b[0m\u001b[0;34m\u001b[0m\u001b[0m\n\u001b[0;32m----> 4\u001b[0;31m \u001b[0minference_summarunner\u001b[0m\u001b[0;34m(\u001b[0m\u001b[0mmodel\u001b[0m\u001b[0;34m,\u001b[0m \u001b[0mtest_iterator\u001b[0m\u001b[0;34m,\u001b[0m \u001b[0;34m\"log\"\u001b[0m\u001b[0;34m,\u001b[0m \u001b[0;36m0\u001b[0m\u001b[0;34m)\u001b[0m\u001b[0;34m\u001b[0m\u001b[0;34m\u001b[0m\u001b[0m\n\u001b[0m",
            "\u001b[0;32m<ipython-input-44-c019ec94b630>\u001b[0m in \u001b[0;36minference_summarunner\u001b[0;34m(model, iterator, top_or_log, number)\u001b[0m\n\u001b[1;32m     25\u001b[0m             \u001b[0mpredictions\u001b[0m\u001b[0;34m.\u001b[0m\u001b[0mappend\u001b[0m\u001b[0;34m(\u001b[0m\u001b[0mpred_summary\u001b[0m\u001b[0;34m)\u001b[0m\u001b[0;34m\u001b[0m\u001b[0;34m\u001b[0m\u001b[0m\n\u001b[1;32m     26\u001b[0m \u001b[0;34m\u001b[0m\u001b[0m\n\u001b[0;32m---> 27\u001b[0;31m     \u001b[0mcalc_scores\u001b[0m\u001b[0;34m(\u001b[0m\u001b[0mreferences\u001b[0m\u001b[0;34m,\u001b[0m \u001b[0mpredictions\u001b[0m\u001b[0;34m)\u001b[0m\u001b[0;34m\u001b[0m\u001b[0;34m\u001b[0m\u001b[0m\n\u001b[0m\u001b[1;32m     28\u001b[0m \u001b[0;34m\u001b[0m\u001b[0m\n\u001b[1;32m     29\u001b[0m \u001b[0mmodel\u001b[0m\u001b[0;34m.\u001b[0m\u001b[0mload_state_dict\u001b[0m\u001b[0;34m(\u001b[0m\u001b[0mtorch\u001b[0m\u001b[0;34m.\u001b[0m\u001b[0mload\u001b[0m\u001b[0;34m(\u001b[0m\u001b[0;34m'best-val-model.pt'\u001b[0m\u001b[0;34m)\u001b[0m\u001b[0;34m)\u001b[0m\u001b[0;34m\u001b[0m\u001b[0;34m\u001b[0m\u001b[0m\n",
            "\u001b[0;32m<ipython-input-6-8f58e3f6534c>\u001b[0m in \u001b[0;36mcalc_scores\u001b[0;34m(references, predictions, metric)\u001b[0m\n\u001b[1;32m     11\u001b[0m     \u001b[0;32mif\u001b[0m \u001b[0mmetric\u001b[0m \u001b[0;32min\u001b[0m \u001b[0;34m(\u001b[0m\u001b[0;34m\"rouge\"\u001b[0m\u001b[0;34m,\u001b[0m \u001b[0;34m\"all\"\u001b[0m\u001b[0;34m)\u001b[0m\u001b[0;34m:\u001b[0m\u001b[0;34m\u001b[0m\u001b[0;34m\u001b[0m\u001b[0m\n\u001b[1;32m     12\u001b[0m         \u001b[0mrouge\u001b[0m \u001b[0;34m=\u001b[0m \u001b[0mRouge\u001b[0m\u001b[0;34m(\u001b[0m\u001b[0;34m)\u001b[0m\u001b[0;34m\u001b[0m\u001b[0;34m\u001b[0m\u001b[0m\n\u001b[0;32m---> 13\u001b[0;31m         \u001b[0mscores\u001b[0m \u001b[0;34m=\u001b[0m \u001b[0mrouge\u001b[0m\u001b[0;34m.\u001b[0m\u001b[0mget_scores\u001b[0m\u001b[0;34m(\u001b[0m\u001b[0mpredictions\u001b[0m\u001b[0;34m,\u001b[0m \u001b[0mreferences\u001b[0m\u001b[0;34m,\u001b[0m \u001b[0mavg\u001b[0m\u001b[0;34m=\u001b[0m\u001b[0;32mTrue\u001b[0m\u001b[0;34m)\u001b[0m\u001b[0;34m\u001b[0m\u001b[0;34m\u001b[0m\u001b[0m\n\u001b[0m\u001b[1;32m     14\u001b[0m         \u001b[0mprint\u001b[0m\u001b[0;34m(\u001b[0m\u001b[0;34m\"ROUGE: \"\u001b[0m\u001b[0;34m,\u001b[0m \u001b[0mscores\u001b[0m\u001b[0;34m)\u001b[0m\u001b[0;34m\u001b[0m\u001b[0;34m\u001b[0m\u001b[0m\n",
            "\u001b[0;32m/usr/local/lib/python3.7/dist-packages/rouge/rouge.py\u001b[0m in \u001b[0;36mget_scores\u001b[0;34m(self, hyps, refs, avg)\u001b[0m\n\u001b[1;32m     84\u001b[0m         \u001b[0;32mif\u001b[0m \u001b[0;32mnot\u001b[0m \u001b[0mavg\u001b[0m\u001b[0;34m:\u001b[0m\u001b[0;34m\u001b[0m\u001b[0;34m\u001b[0m\u001b[0m\n\u001b[1;32m     85\u001b[0m             \u001b[0;32mreturn\u001b[0m \u001b[0mself\u001b[0m\u001b[0;34m.\u001b[0m\u001b[0m_get_scores\u001b[0m\u001b[0;34m(\u001b[0m\u001b[0mhyps\u001b[0m\u001b[0;34m,\u001b[0m \u001b[0mrefs\u001b[0m\u001b[0;34m)\u001b[0m\u001b[0;34m\u001b[0m\u001b[0;34m\u001b[0m\u001b[0m\n\u001b[0;32m---> 86\u001b[0;31m         \u001b[0;32mreturn\u001b[0m \u001b[0mself\u001b[0m\u001b[0;34m.\u001b[0m\u001b[0m_get_avg_scores\u001b[0m\u001b[0;34m(\u001b[0m\u001b[0mhyps\u001b[0m\u001b[0;34m,\u001b[0m \u001b[0mrefs\u001b[0m\u001b[0;34m)\u001b[0m\u001b[0;34m\u001b[0m\u001b[0;34m\u001b[0m\u001b[0m\n\u001b[0m\u001b[1;32m     87\u001b[0m \u001b[0;34m\u001b[0m\u001b[0m\n\u001b[1;32m     88\u001b[0m     \u001b[0;32mdef\u001b[0m \u001b[0m_get_scores\u001b[0m\u001b[0;34m(\u001b[0m\u001b[0mself\u001b[0m\u001b[0;34m,\u001b[0m \u001b[0mhyps\u001b[0m\u001b[0;34m,\u001b[0m \u001b[0mrefs\u001b[0m\u001b[0;34m)\u001b[0m\u001b[0;34m:\u001b[0m\u001b[0;34m\u001b[0m\u001b[0;34m\u001b[0m\u001b[0m\n",
            "\u001b[0;32m/usr/local/lib/python3.7/dist-packages/rouge/rouge.py\u001b[0m in \u001b[0;36m_get_avg_scores\u001b[0;34m(self, hyps, refs)\u001b[0m\n\u001b[1;32m    110\u001b[0m             \u001b[0;32mfor\u001b[0m \u001b[0mm\u001b[0m \u001b[0;32min\u001b[0m \u001b[0mself\u001b[0m\u001b[0;34m.\u001b[0m\u001b[0mmetrics\u001b[0m\u001b[0;34m:\u001b[0m\u001b[0;34m\u001b[0m\u001b[0;34m\u001b[0m\u001b[0m\n\u001b[1;32m    111\u001b[0m                 \u001b[0mfn\u001b[0m \u001b[0;34m=\u001b[0m \u001b[0mRouge\u001b[0m\u001b[0;34m.\u001b[0m\u001b[0mAVAILABLE_METRICS\u001b[0m\u001b[0;34m[\u001b[0m\u001b[0mm\u001b[0m\u001b[0;34m]\u001b[0m\u001b[0;34m\u001b[0m\u001b[0;34m\u001b[0m\u001b[0m\n\u001b[0;32m--> 112\u001b[0;31m                 \u001b[0msc\u001b[0m \u001b[0;34m=\u001b[0m \u001b[0mfn\u001b[0m\u001b[0;34m(\u001b[0m\u001b[0mhyp\u001b[0m\u001b[0;34m,\u001b[0m \u001b[0mref\u001b[0m\u001b[0;34m)\u001b[0m\u001b[0;34m\u001b[0m\u001b[0;34m\u001b[0m\u001b[0m\n\u001b[0m\u001b[1;32m    113\u001b[0m                 \u001b[0mscores\u001b[0m\u001b[0;34m[\u001b[0m\u001b[0mm\u001b[0m\u001b[0;34m]\u001b[0m \u001b[0;34m=\u001b[0m \u001b[0;34m{\u001b[0m\u001b[0ms\u001b[0m\u001b[0;34m:\u001b[0m \u001b[0mscores\u001b[0m\u001b[0;34m[\u001b[0m\u001b[0mm\u001b[0m\u001b[0;34m]\u001b[0m\u001b[0;34m[\u001b[0m\u001b[0ms\u001b[0m\u001b[0;34m]\u001b[0m \u001b[0;34m+\u001b[0m \u001b[0msc\u001b[0m\u001b[0;34m[\u001b[0m\u001b[0ms\u001b[0m\u001b[0;34m]\u001b[0m \u001b[0;32mfor\u001b[0m \u001b[0ms\u001b[0m \u001b[0;32min\u001b[0m \u001b[0msc\u001b[0m\u001b[0;34m}\u001b[0m\u001b[0;34m\u001b[0m\u001b[0;34m\u001b[0m\u001b[0m\n\u001b[1;32m    114\u001b[0m             \u001b[0mcount\u001b[0m \u001b[0;34m+=\u001b[0m \u001b[0;36m1\u001b[0m\u001b[0;34m\u001b[0m\u001b[0;34m\u001b[0m\u001b[0m\n",
            "\u001b[0;32m/usr/local/lib/python3.7/dist-packages/rouge/rouge.py\u001b[0m in \u001b[0;36m<lambda>\u001b[0;34m(hyp, ref)\u001b[0m\n\u001b[1;32m     53\u001b[0m     \u001b[0mDEFAULT_METRICS\u001b[0m \u001b[0;34m=\u001b[0m \u001b[0;34m[\u001b[0m\u001b[0;34m\"rouge-1\"\u001b[0m\u001b[0;34m,\u001b[0m \u001b[0;34m\"rouge-2\"\u001b[0m\u001b[0;34m,\u001b[0m \u001b[0;34m\"rouge-l\"\u001b[0m\u001b[0;34m]\u001b[0m\u001b[0;34m\u001b[0m\u001b[0;34m\u001b[0m\u001b[0m\n\u001b[1;32m     54\u001b[0m     AVAILABLE_METRICS = {\n\u001b[0;32m---> 55\u001b[0;31m         \u001b[0;34m\"rouge-1\"\u001b[0m\u001b[0;34m:\u001b[0m \u001b[0;32mlambda\u001b[0m \u001b[0mhyp\u001b[0m\u001b[0;34m,\u001b[0m \u001b[0mref\u001b[0m\u001b[0;34m:\u001b[0m \u001b[0mrouge_score\u001b[0m\u001b[0;34m.\u001b[0m\u001b[0mrouge_n\u001b[0m\u001b[0;34m(\u001b[0m\u001b[0mhyp\u001b[0m\u001b[0;34m,\u001b[0m \u001b[0mref\u001b[0m\u001b[0;34m,\u001b[0m \u001b[0;36m1\u001b[0m\u001b[0;34m)\u001b[0m\u001b[0;34m,\u001b[0m\u001b[0;34m\u001b[0m\u001b[0;34m\u001b[0m\u001b[0m\n\u001b[0m\u001b[1;32m     56\u001b[0m         \u001b[0;34m\"rouge-2\"\u001b[0m\u001b[0;34m:\u001b[0m \u001b[0;32mlambda\u001b[0m \u001b[0mhyp\u001b[0m\u001b[0;34m,\u001b[0m \u001b[0mref\u001b[0m\u001b[0;34m:\u001b[0m \u001b[0mrouge_score\u001b[0m\u001b[0;34m.\u001b[0m\u001b[0mrouge_n\u001b[0m\u001b[0;34m(\u001b[0m\u001b[0mhyp\u001b[0m\u001b[0;34m,\u001b[0m \u001b[0mref\u001b[0m\u001b[0;34m,\u001b[0m \u001b[0;36m2\u001b[0m\u001b[0;34m)\u001b[0m\u001b[0;34m,\u001b[0m\u001b[0;34m\u001b[0m\u001b[0;34m\u001b[0m\u001b[0m\n\u001b[1;32m     57\u001b[0m         \u001b[0;34m\"rouge-l\"\u001b[0m\u001b[0;34m:\u001b[0m \u001b[0;32mlambda\u001b[0m \u001b[0mhyp\u001b[0m\u001b[0;34m,\u001b[0m \u001b[0mref\u001b[0m\u001b[0;34m:\u001b[0m\u001b[0;34m\u001b[0m\u001b[0;34m\u001b[0m\u001b[0m\n",
            "\u001b[0;32m/usr/local/lib/python3.7/dist-packages/rouge/rouge_score.py\u001b[0m in \u001b[0;36mrouge_n\u001b[0;34m(evaluated_sentences, reference_sentences, n)\u001b[0m\n\u001b[1;32m    157\u001b[0m     \"\"\"\n\u001b[1;32m    158\u001b[0m     \u001b[0;32mif\u001b[0m \u001b[0mlen\u001b[0m\u001b[0;34m(\u001b[0m\u001b[0mevaluated_sentences\u001b[0m\u001b[0;34m)\u001b[0m \u001b[0;34m<=\u001b[0m \u001b[0;36m0\u001b[0m \u001b[0;32mor\u001b[0m \u001b[0mlen\u001b[0m\u001b[0;34m(\u001b[0m\u001b[0mreference_sentences\u001b[0m\u001b[0;34m)\u001b[0m \u001b[0;34m<=\u001b[0m \u001b[0;36m0\u001b[0m\u001b[0;34m:\u001b[0m\u001b[0;34m\u001b[0m\u001b[0;34m\u001b[0m\u001b[0m\n\u001b[0;32m--> 159\u001b[0;31m         \u001b[0;32mraise\u001b[0m \u001b[0mValueError\u001b[0m\u001b[0;34m(\u001b[0m\u001b[0;34m\"Collections must contain at least 1 sentence.\"\u001b[0m\u001b[0;34m)\u001b[0m\u001b[0;34m\u001b[0m\u001b[0;34m\u001b[0m\u001b[0m\n\u001b[0m\u001b[1;32m    160\u001b[0m \u001b[0;34m\u001b[0m\u001b[0m\n\u001b[1;32m    161\u001b[0m     \u001b[0mevaluated_ngrams\u001b[0m \u001b[0;34m=\u001b[0m \u001b[0m_get_word_ngrams\u001b[0m\u001b[0;34m(\u001b[0m\u001b[0mn\u001b[0m\u001b[0;34m,\u001b[0m \u001b[0mevaluated_sentences\u001b[0m\u001b[0;34m)\u001b[0m\u001b[0;34m\u001b[0m\u001b[0;34m\u001b[0m\u001b[0m\n",
            "\u001b[0;31mValueError\u001b[0m: Collections must contain at least 1 sentence."
          ]
        }
      ]
    },
    {
      "cell_type": "markdown",
      "metadata": {
        "id": "HGc4IV8dzyBP"
      },
      "source": [
        "## Вывод:"
      ]
    },
    {
      "cell_type": "markdown",
      "metadata": {
        "id": "B0Lde3YB5i2f"
      },
      "source": [
        "Мы рассмотрели два варианта обучения: c весами в CrossEntropyLoss и без. Получили следующие показатели BLEU:\n",
        "\n",
        "top-3 (с весами) - **0.44310618502350524**,\n",
        "logit>0 (с весами) - **0.23822216879634892**\n",
        "\n",
        "top-3 (без) - **0.45027117285179274**,\n",
        "logit>0 (без) - не смогли вычислить\n",
        "\n",
        "В результате двух вариантов обучения могу сделать вывод, что применение весов, сбалансирование классов, при вычислении loss помогает нам получать корректные логиты. Порог логита необходимо подбирать для получения наилучшего результата, к примеру при logit>0.33 в моей модели я получил *0.4849828131120552*. А применение novelty значительно не влияло на качество.\n"
      ]
    }
  ]
}