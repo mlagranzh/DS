{
  "nbformat": 4,
  "nbformat_minor": 0,
  "metadata": {
    "accelerator": "GPU",
    "colab": {
      "name": "Копия блокнота \"HW_Embeddings\"",
      "provenance": [],
      "collapsed_sections": [],
      "toc_visible": true
    },
    "kernelspec": {
      "display_name": "Python 3",
      "name": "python3"
    },
    "widgets": {
      "application/vnd.jupyter.widget-state+json": {
        "c61b5f03b50a4f0aa1578cb0552a9b77": {
          "model_module": "@jupyter-widgets/controls",
          "model_name": "HBoxModel",
          "state": {
            "_view_name": "HBoxView",
            "_dom_classes": [],
            "_model_name": "HBoxModel",
            "_view_module": "@jupyter-widgets/controls",
            "_model_module_version": "1.5.0",
            "_view_count": null,
            "_view_module_version": "1.5.0",
            "box_style": "",
            "layout": "IPY_MODEL_9e070c23558d405695b6483d46d27d08",
            "_model_module": "@jupyter-widgets/controls",
            "children": [
              "IPY_MODEL_5a2fe4d5b52f4e7ba5987342d64a2a7d",
              "IPY_MODEL_a67819feffc4485eb1f24240d84f54cf"
            ]
          }
        },
        "9e070c23558d405695b6483d46d27d08": {
          "model_module": "@jupyter-widgets/base",
          "model_name": "LayoutModel",
          "state": {
            "_view_name": "LayoutView",
            "grid_template_rows": null,
            "right": null,
            "justify_content": null,
            "_view_module": "@jupyter-widgets/base",
            "overflow": null,
            "_model_module_version": "1.2.0",
            "_view_count": null,
            "flex_flow": null,
            "width": null,
            "min_width": null,
            "border": null,
            "align_items": null,
            "bottom": null,
            "_model_module": "@jupyter-widgets/base",
            "top": null,
            "grid_column": null,
            "overflow_y": null,
            "overflow_x": null,
            "grid_auto_flow": null,
            "grid_area": null,
            "grid_template_columns": null,
            "flex": null,
            "_model_name": "LayoutModel",
            "justify_items": null,
            "grid_row": null,
            "max_height": null,
            "align_content": null,
            "visibility": null,
            "align_self": null,
            "height": null,
            "min_height": null,
            "padding": null,
            "grid_auto_rows": null,
            "grid_gap": null,
            "max_width": null,
            "order": null,
            "_view_module_version": "1.2.0",
            "grid_template_areas": null,
            "object_position": null,
            "object_fit": null,
            "grid_auto_columns": null,
            "margin": null,
            "display": null,
            "left": null
          }
        },
        "5a2fe4d5b52f4e7ba5987342d64a2a7d": {
          "model_module": "@jupyter-widgets/controls",
          "model_name": "FloatProgressModel",
          "state": {
            "_view_name": "ProgressView",
            "style": "IPY_MODEL_7a8e3230a6b247f69ebcf6fb4b2c71c9",
            "_dom_classes": [],
            "description": "Epoch 1. Train Loss: 0.4955: 100%",
            "_model_name": "FloatProgressModel",
            "bar_style": "success",
            "max": 1000,
            "_view_module": "@jupyter-widgets/controls",
            "_model_module_version": "1.5.0",
            "value": 1000,
            "_view_count": null,
            "_view_module_version": "1.5.0",
            "orientation": "horizontal",
            "min": 0,
            "description_tooltip": null,
            "_model_module": "@jupyter-widgets/controls",
            "layout": "IPY_MODEL_b96fa023beba4cb1aa2b780b741fad12"
          }
        },
        "a67819feffc4485eb1f24240d84f54cf": {
          "model_module": "@jupyter-widgets/controls",
          "model_name": "HTMLModel",
          "state": {
            "_view_name": "HTMLView",
            "style": "IPY_MODEL_cc5b11e97dc347ac88f55856aefcd60e",
            "_dom_classes": [],
            "description": "",
            "_model_name": "HTMLModel",
            "placeholder": "​",
            "_view_module": "@jupyter-widgets/controls",
            "_model_module_version": "1.5.0",
            "value": " 1000/1000 [19:32&lt;00:00,  1.17s/it]",
            "_view_count": null,
            "_view_module_version": "1.5.0",
            "description_tooltip": null,
            "_model_module": "@jupyter-widgets/controls",
            "layout": "IPY_MODEL_9efdd2ba9fe640e8a556cadc6d6e4595"
          }
        },
        "7a8e3230a6b247f69ebcf6fb4b2c71c9": {
          "model_module": "@jupyter-widgets/controls",
          "model_name": "ProgressStyleModel",
          "state": {
            "_view_name": "StyleView",
            "_model_name": "ProgressStyleModel",
            "description_width": "initial",
            "_view_module": "@jupyter-widgets/base",
            "_model_module_version": "1.5.0",
            "_view_count": null,
            "_view_module_version": "1.2.0",
            "bar_color": null,
            "_model_module": "@jupyter-widgets/controls"
          }
        },
        "b96fa023beba4cb1aa2b780b741fad12": {
          "model_module": "@jupyter-widgets/base",
          "model_name": "LayoutModel",
          "state": {
            "_view_name": "LayoutView",
            "grid_template_rows": null,
            "right": null,
            "justify_content": null,
            "_view_module": "@jupyter-widgets/base",
            "overflow": null,
            "_model_module_version": "1.2.0",
            "_view_count": null,
            "flex_flow": null,
            "width": null,
            "min_width": null,
            "border": null,
            "align_items": null,
            "bottom": null,
            "_model_module": "@jupyter-widgets/base",
            "top": null,
            "grid_column": null,
            "overflow_y": null,
            "overflow_x": null,
            "grid_auto_flow": null,
            "grid_area": null,
            "grid_template_columns": null,
            "flex": null,
            "_model_name": "LayoutModel",
            "justify_items": null,
            "grid_row": null,
            "max_height": null,
            "align_content": null,
            "visibility": null,
            "align_self": null,
            "height": null,
            "min_height": null,
            "padding": null,
            "grid_auto_rows": null,
            "grid_gap": null,
            "max_width": null,
            "order": null,
            "_view_module_version": "1.2.0",
            "grid_template_areas": null,
            "object_position": null,
            "object_fit": null,
            "grid_auto_columns": null,
            "margin": null,
            "display": null,
            "left": null
          }
        },
        "cc5b11e97dc347ac88f55856aefcd60e": {
          "model_module": "@jupyter-widgets/controls",
          "model_name": "DescriptionStyleModel",
          "state": {
            "_view_name": "StyleView",
            "_model_name": "DescriptionStyleModel",
            "description_width": "",
            "_view_module": "@jupyter-widgets/base",
            "_model_module_version": "1.5.0",
            "_view_count": null,
            "_view_module_version": "1.2.0",
            "_model_module": "@jupyter-widgets/controls"
          }
        },
        "9efdd2ba9fe640e8a556cadc6d6e4595": {
          "model_module": "@jupyter-widgets/base",
          "model_name": "LayoutModel",
          "state": {
            "_view_name": "LayoutView",
            "grid_template_rows": null,
            "right": null,
            "justify_content": null,
            "_view_module": "@jupyter-widgets/base",
            "overflow": null,
            "_model_module_version": "1.2.0",
            "_view_count": null,
            "flex_flow": null,
            "width": null,
            "min_width": null,
            "border": null,
            "align_items": null,
            "bottom": null,
            "_model_module": "@jupyter-widgets/base",
            "top": null,
            "grid_column": null,
            "overflow_y": null,
            "overflow_x": null,
            "grid_auto_flow": null,
            "grid_area": null,
            "grid_template_columns": null,
            "flex": null,
            "_model_name": "LayoutModel",
            "justify_items": null,
            "grid_row": null,
            "max_height": null,
            "align_content": null,
            "visibility": null,
            "align_self": null,
            "height": null,
            "min_height": null,
            "padding": null,
            "grid_auto_rows": null,
            "grid_gap": null,
            "max_width": null,
            "order": null,
            "_view_module_version": "1.2.0",
            "grid_template_areas": null,
            "object_position": null,
            "object_fit": null,
            "grid_auto_columns": null,
            "margin": null,
            "display": null,
            "left": null
          }
        },
        "8bfed25b7ad3410fab9caf52df851fee": {
          "model_module": "@jupyter-widgets/controls",
          "model_name": "HBoxModel",
          "state": {
            "_view_name": "HBoxView",
            "_dom_classes": [],
            "_model_name": "HBoxModel",
            "_view_module": "@jupyter-widgets/controls",
            "_model_module_version": "1.5.0",
            "_view_count": null,
            "_view_module_version": "1.5.0",
            "box_style": "",
            "layout": "IPY_MODEL_cfcfbb9cb2fa4683802557f805297e7e",
            "_model_module": "@jupyter-widgets/controls",
            "children": [
              "IPY_MODEL_5bf10ad507d942d78bf9954384267220",
              "IPY_MODEL_9559852b9fb4485db472ccdae03dfe19"
            ]
          }
        },
        "cfcfbb9cb2fa4683802557f805297e7e": {
          "model_module": "@jupyter-widgets/base",
          "model_name": "LayoutModel",
          "state": {
            "_view_name": "LayoutView",
            "grid_template_rows": null,
            "right": null,
            "justify_content": null,
            "_view_module": "@jupyter-widgets/base",
            "overflow": null,
            "_model_module_version": "1.2.0",
            "_view_count": null,
            "flex_flow": null,
            "width": null,
            "min_width": null,
            "border": null,
            "align_items": null,
            "bottom": null,
            "_model_module": "@jupyter-widgets/base",
            "top": null,
            "grid_column": null,
            "overflow_y": null,
            "overflow_x": null,
            "grid_auto_flow": null,
            "grid_area": null,
            "grid_template_columns": null,
            "flex": null,
            "_model_name": "LayoutModel",
            "justify_items": null,
            "grid_row": null,
            "max_height": null,
            "align_content": null,
            "visibility": null,
            "align_self": null,
            "height": null,
            "min_height": null,
            "padding": null,
            "grid_auto_rows": null,
            "grid_gap": null,
            "max_width": null,
            "order": null,
            "_view_module_version": "1.2.0",
            "grid_template_areas": null,
            "object_position": null,
            "object_fit": null,
            "grid_auto_columns": null,
            "margin": null,
            "display": null,
            "left": null
          }
        },
        "5bf10ad507d942d78bf9954384267220": {
          "model_module": "@jupyter-widgets/controls",
          "model_name": "FloatProgressModel",
          "state": {
            "_view_name": "ProgressView",
            "style": "IPY_MODEL_f9ba8bdca6d5421e806ed2060f127801",
            "_dom_classes": [],
            "description": "Test Loss: 0.5149, Test Acc: 0.7434: 100%",
            "_model_name": "FloatProgressModel",
            "bar_style": "success",
            "max": 250,
            "_view_module": "@jupyter-widgets/controls",
            "_model_module_version": "1.5.0",
            "value": 250,
            "_view_count": null,
            "_view_module_version": "1.5.0",
            "orientation": "horizontal",
            "min": 0,
            "description_tooltip": null,
            "_model_module": "@jupyter-widgets/controls",
            "layout": "IPY_MODEL_5337a1f6059b4453af68a94ebc23c71c"
          }
        },
        "9559852b9fb4485db472ccdae03dfe19": {
          "model_module": "@jupyter-widgets/controls",
          "model_name": "HTMLModel",
          "state": {
            "_view_name": "HTMLView",
            "style": "IPY_MODEL_de4e59df2cc14851aee9ddbf7063e02c",
            "_dom_classes": [],
            "description": "",
            "_model_name": "HTMLModel",
            "placeholder": "​",
            "_view_module": "@jupyter-widgets/controls",
            "_model_module_version": "1.5.0",
            "value": " 250/250 [00:51&lt;00:00,  4.84it/s]",
            "_view_count": null,
            "_view_module_version": "1.5.0",
            "description_tooltip": null,
            "_model_module": "@jupyter-widgets/controls",
            "layout": "IPY_MODEL_1559deb42b8c49b19fba81e127c7898f"
          }
        },
        "f9ba8bdca6d5421e806ed2060f127801": {
          "model_module": "@jupyter-widgets/controls",
          "model_name": "ProgressStyleModel",
          "state": {
            "_view_name": "StyleView",
            "_model_name": "ProgressStyleModel",
            "description_width": "initial",
            "_view_module": "@jupyter-widgets/base",
            "_model_module_version": "1.5.0",
            "_view_count": null,
            "_view_module_version": "1.2.0",
            "bar_color": null,
            "_model_module": "@jupyter-widgets/controls"
          }
        },
        "5337a1f6059b4453af68a94ebc23c71c": {
          "model_module": "@jupyter-widgets/base",
          "model_name": "LayoutModel",
          "state": {
            "_view_name": "LayoutView",
            "grid_template_rows": null,
            "right": null,
            "justify_content": null,
            "_view_module": "@jupyter-widgets/base",
            "overflow": null,
            "_model_module_version": "1.2.0",
            "_view_count": null,
            "flex_flow": null,
            "width": null,
            "min_width": null,
            "border": null,
            "align_items": null,
            "bottom": null,
            "_model_module": "@jupyter-widgets/base",
            "top": null,
            "grid_column": null,
            "overflow_y": null,
            "overflow_x": null,
            "grid_auto_flow": null,
            "grid_area": null,
            "grid_template_columns": null,
            "flex": null,
            "_model_name": "LayoutModel",
            "justify_items": null,
            "grid_row": null,
            "max_height": null,
            "align_content": null,
            "visibility": null,
            "align_self": null,
            "height": null,
            "min_height": null,
            "padding": null,
            "grid_auto_rows": null,
            "grid_gap": null,
            "max_width": null,
            "order": null,
            "_view_module_version": "1.2.0",
            "grid_template_areas": null,
            "object_position": null,
            "object_fit": null,
            "grid_auto_columns": null,
            "margin": null,
            "display": null,
            "left": null
          }
        },
        "de4e59df2cc14851aee9ddbf7063e02c": {
          "model_module": "@jupyter-widgets/controls",
          "model_name": "DescriptionStyleModel",
          "state": {
            "_view_name": "StyleView",
            "_model_name": "DescriptionStyleModel",
            "description_width": "",
            "_view_module": "@jupyter-widgets/base",
            "_model_module_version": "1.5.0",
            "_view_count": null,
            "_view_module_version": "1.2.0",
            "_model_module": "@jupyter-widgets/controls"
          }
        },
        "1559deb42b8c49b19fba81e127c7898f": {
          "model_module": "@jupyter-widgets/base",
          "model_name": "LayoutModel",
          "state": {
            "_view_name": "LayoutView",
            "grid_template_rows": null,
            "right": null,
            "justify_content": null,
            "_view_module": "@jupyter-widgets/base",
            "overflow": null,
            "_model_module_version": "1.2.0",
            "_view_count": null,
            "flex_flow": null,
            "width": null,
            "min_width": null,
            "border": null,
            "align_items": null,
            "bottom": null,
            "_model_module": "@jupyter-widgets/base",
            "top": null,
            "grid_column": null,
            "overflow_y": null,
            "overflow_x": null,
            "grid_auto_flow": null,
            "grid_area": null,
            "grid_template_columns": null,
            "flex": null,
            "_model_name": "LayoutModel",
            "justify_items": null,
            "grid_row": null,
            "max_height": null,
            "align_content": null,
            "visibility": null,
            "align_self": null,
            "height": null,
            "min_height": null,
            "padding": null,
            "grid_auto_rows": null,
            "grid_gap": null,
            "max_width": null,
            "order": null,
            "_view_module_version": "1.2.0",
            "grid_template_areas": null,
            "object_position": null,
            "object_fit": null,
            "grid_auto_columns": null,
            "margin": null,
            "display": null,
            "left": null
          }
        },
        "594e3cb06b7d4a1bb69cbfd5e9a53ff2": {
          "model_module": "@jupyter-widgets/controls",
          "model_name": "HBoxModel",
          "state": {
            "_view_name": "HBoxView",
            "_dom_classes": [],
            "_model_name": "HBoxModel",
            "_view_module": "@jupyter-widgets/controls",
            "_model_module_version": "1.5.0",
            "_view_count": null,
            "_view_module_version": "1.5.0",
            "box_style": "",
            "layout": "IPY_MODEL_a537854117a34581bc90dbbec34d04b7",
            "_model_module": "@jupyter-widgets/controls",
            "children": [
              "IPY_MODEL_ed250b26c6f94b54a9a24f1259490642",
              "IPY_MODEL_41ddc5ec6abf4d899b277ab33ca53854"
            ]
          }
        },
        "a537854117a34581bc90dbbec34d04b7": {
          "model_module": "@jupyter-widgets/base",
          "model_name": "LayoutModel",
          "state": {
            "_view_name": "LayoutView",
            "grid_template_rows": null,
            "right": null,
            "justify_content": null,
            "_view_module": "@jupyter-widgets/base",
            "overflow": null,
            "_model_module_version": "1.2.0",
            "_view_count": null,
            "flex_flow": null,
            "width": null,
            "min_width": null,
            "border": null,
            "align_items": null,
            "bottom": null,
            "_model_module": "@jupyter-widgets/base",
            "top": null,
            "grid_column": null,
            "overflow_y": null,
            "overflow_x": null,
            "grid_auto_flow": null,
            "grid_area": null,
            "grid_template_columns": null,
            "flex": null,
            "_model_name": "LayoutModel",
            "justify_items": null,
            "grid_row": null,
            "max_height": null,
            "align_content": null,
            "visibility": null,
            "align_self": null,
            "height": null,
            "min_height": null,
            "padding": null,
            "grid_auto_rows": null,
            "grid_gap": null,
            "max_width": null,
            "order": null,
            "_view_module_version": "1.2.0",
            "grid_template_areas": null,
            "object_position": null,
            "object_fit": null,
            "grid_auto_columns": null,
            "margin": null,
            "display": null,
            "left": null
          }
        },
        "ed250b26c6f94b54a9a24f1259490642": {
          "model_module": "@jupyter-widgets/controls",
          "model_name": "FloatProgressModel",
          "state": {
            "_view_name": "ProgressView",
            "style": "IPY_MODEL_f3c8938b180244f7b0abb33544845677",
            "_dom_classes": [],
            "description": "Epoch 2. Train Loss: 0.5127: 100%",
            "_model_name": "FloatProgressModel",
            "bar_style": "success",
            "max": 1000,
            "_view_module": "@jupyter-widgets/controls",
            "_model_module_version": "1.5.0",
            "value": 1000,
            "_view_count": null,
            "_view_module_version": "1.5.0",
            "orientation": "horizontal",
            "min": 0,
            "description_tooltip": null,
            "_model_module": "@jupyter-widgets/controls",
            "layout": "IPY_MODEL_90d066ce846241f8aef7ade4930b78ef"
          }
        },
        "41ddc5ec6abf4d899b277ab33ca53854": {
          "model_module": "@jupyter-widgets/controls",
          "model_name": "HTMLModel",
          "state": {
            "_view_name": "HTMLView",
            "style": "IPY_MODEL_10cabc667f874d71bab37d6d7068e14b",
            "_dom_classes": [],
            "description": "",
            "_model_name": "HTMLModel",
            "placeholder": "​",
            "_view_module": "@jupyter-widgets/controls",
            "_model_module_version": "1.5.0",
            "value": " 1000/1000 [15:39&lt;00:00,  1.06it/s]",
            "_view_count": null,
            "_view_module_version": "1.5.0",
            "description_tooltip": null,
            "_model_module": "@jupyter-widgets/controls",
            "layout": "IPY_MODEL_d42dec5a41204b88ac318dbe9a32c1a2"
          }
        },
        "f3c8938b180244f7b0abb33544845677": {
          "model_module": "@jupyter-widgets/controls",
          "model_name": "ProgressStyleModel",
          "state": {
            "_view_name": "StyleView",
            "_model_name": "ProgressStyleModel",
            "description_width": "initial",
            "_view_module": "@jupyter-widgets/base",
            "_model_module_version": "1.5.0",
            "_view_count": null,
            "_view_module_version": "1.2.0",
            "bar_color": null,
            "_model_module": "@jupyter-widgets/controls"
          }
        },
        "90d066ce846241f8aef7ade4930b78ef": {
          "model_module": "@jupyter-widgets/base",
          "model_name": "LayoutModel",
          "state": {
            "_view_name": "LayoutView",
            "grid_template_rows": null,
            "right": null,
            "justify_content": null,
            "_view_module": "@jupyter-widgets/base",
            "overflow": null,
            "_model_module_version": "1.2.0",
            "_view_count": null,
            "flex_flow": null,
            "width": null,
            "min_width": null,
            "border": null,
            "align_items": null,
            "bottom": null,
            "_model_module": "@jupyter-widgets/base",
            "top": null,
            "grid_column": null,
            "overflow_y": null,
            "overflow_x": null,
            "grid_auto_flow": null,
            "grid_area": null,
            "grid_template_columns": null,
            "flex": null,
            "_model_name": "LayoutModel",
            "justify_items": null,
            "grid_row": null,
            "max_height": null,
            "align_content": null,
            "visibility": null,
            "align_self": null,
            "height": null,
            "min_height": null,
            "padding": null,
            "grid_auto_rows": null,
            "grid_gap": null,
            "max_width": null,
            "order": null,
            "_view_module_version": "1.2.0",
            "grid_template_areas": null,
            "object_position": null,
            "object_fit": null,
            "grid_auto_columns": null,
            "margin": null,
            "display": null,
            "left": null
          }
        },
        "10cabc667f874d71bab37d6d7068e14b": {
          "model_module": "@jupyter-widgets/controls",
          "model_name": "DescriptionStyleModel",
          "state": {
            "_view_name": "StyleView",
            "_model_name": "DescriptionStyleModel",
            "description_width": "",
            "_view_module": "@jupyter-widgets/base",
            "_model_module_version": "1.5.0",
            "_view_count": null,
            "_view_module_version": "1.2.0",
            "_model_module": "@jupyter-widgets/controls"
          }
        },
        "d42dec5a41204b88ac318dbe9a32c1a2": {
          "model_module": "@jupyter-widgets/base",
          "model_name": "LayoutModel",
          "state": {
            "_view_name": "LayoutView",
            "grid_template_rows": null,
            "right": null,
            "justify_content": null,
            "_view_module": "@jupyter-widgets/base",
            "overflow": null,
            "_model_module_version": "1.2.0",
            "_view_count": null,
            "flex_flow": null,
            "width": null,
            "min_width": null,
            "border": null,
            "align_items": null,
            "bottom": null,
            "_model_module": "@jupyter-widgets/base",
            "top": null,
            "grid_column": null,
            "overflow_y": null,
            "overflow_x": null,
            "grid_auto_flow": null,
            "grid_area": null,
            "grid_template_columns": null,
            "flex": null,
            "_model_name": "LayoutModel",
            "justify_items": null,
            "grid_row": null,
            "max_height": null,
            "align_content": null,
            "visibility": null,
            "align_self": null,
            "height": null,
            "min_height": null,
            "padding": null,
            "grid_auto_rows": null,
            "grid_gap": null,
            "max_width": null,
            "order": null,
            "_view_module_version": "1.2.0",
            "grid_template_areas": null,
            "object_position": null,
            "object_fit": null,
            "grid_auto_columns": null,
            "margin": null,
            "display": null,
            "left": null
          }
        },
        "81c7ca14a19344c28ca8ce2ecca23763": {
          "model_module": "@jupyter-widgets/controls",
          "model_name": "HBoxModel",
          "state": {
            "_view_name": "HBoxView",
            "_dom_classes": [],
            "_model_name": "HBoxModel",
            "_view_module": "@jupyter-widgets/controls",
            "_model_module_version": "1.5.0",
            "_view_count": null,
            "_view_module_version": "1.5.0",
            "box_style": "",
            "layout": "IPY_MODEL_e90c3d2feec5455093706aaa8049b5ba",
            "_model_module": "@jupyter-widgets/controls",
            "children": [
              "IPY_MODEL_22b5f921e3094669b789dc71ddc9f711",
              "IPY_MODEL_2cff75070e2048d59d910aae5260a422"
            ]
          }
        },
        "e90c3d2feec5455093706aaa8049b5ba": {
          "model_module": "@jupyter-widgets/base",
          "model_name": "LayoutModel",
          "state": {
            "_view_name": "LayoutView",
            "grid_template_rows": null,
            "right": null,
            "justify_content": null,
            "_view_module": "@jupyter-widgets/base",
            "overflow": null,
            "_model_module_version": "1.2.0",
            "_view_count": null,
            "flex_flow": null,
            "width": null,
            "min_width": null,
            "border": null,
            "align_items": null,
            "bottom": null,
            "_model_module": "@jupyter-widgets/base",
            "top": null,
            "grid_column": null,
            "overflow_y": null,
            "overflow_x": null,
            "grid_auto_flow": null,
            "grid_area": null,
            "grid_template_columns": null,
            "flex": null,
            "_model_name": "LayoutModel",
            "justify_items": null,
            "grid_row": null,
            "max_height": null,
            "align_content": null,
            "visibility": null,
            "align_self": null,
            "height": null,
            "min_height": null,
            "padding": null,
            "grid_auto_rows": null,
            "grid_gap": null,
            "max_width": null,
            "order": null,
            "_view_module_version": "1.2.0",
            "grid_template_areas": null,
            "object_position": null,
            "object_fit": null,
            "grid_auto_columns": null,
            "margin": null,
            "display": null,
            "left": null
          }
        },
        "22b5f921e3094669b789dc71ddc9f711": {
          "model_module": "@jupyter-widgets/controls",
          "model_name": "FloatProgressModel",
          "state": {
            "_view_name": "ProgressView",
            "style": "IPY_MODEL_658e2923a8774ddf80e3051ac7843a63",
            "_dom_classes": [],
            "description": "Test Loss: 0.5106, Test Acc: 0.7462: 100%",
            "_model_name": "FloatProgressModel",
            "bar_style": "success",
            "max": 250,
            "_view_module": "@jupyter-widgets/controls",
            "_model_module_version": "1.5.0",
            "value": 250,
            "_view_count": null,
            "_view_module_version": "1.5.0",
            "orientation": "horizontal",
            "min": 0,
            "description_tooltip": null,
            "_model_module": "@jupyter-widgets/controls",
            "layout": "IPY_MODEL_5a3f75a3e8c64b398154849b0f640621"
          }
        },
        "2cff75070e2048d59d910aae5260a422": {
          "model_module": "@jupyter-widgets/controls",
          "model_name": "HTMLModel",
          "state": {
            "_view_name": "HTMLView",
            "style": "IPY_MODEL_6f4b20edbb1d4f8daecf35b24b48bc61",
            "_dom_classes": [],
            "description": "",
            "_model_name": "HTMLModel",
            "placeholder": "​",
            "_view_module": "@jupyter-widgets/controls",
            "_model_module_version": "1.5.0",
            "value": " 250/250 [12:34&lt;00:00,  3.02s/it]",
            "_view_count": null,
            "_view_module_version": "1.5.0",
            "description_tooltip": null,
            "_model_module": "@jupyter-widgets/controls",
            "layout": "IPY_MODEL_c0fdf2b4e9bb4a2ba6d12cb7e95c9787"
          }
        },
        "658e2923a8774ddf80e3051ac7843a63": {
          "model_module": "@jupyter-widgets/controls",
          "model_name": "ProgressStyleModel",
          "state": {
            "_view_name": "StyleView",
            "_model_name": "ProgressStyleModel",
            "description_width": "initial",
            "_view_module": "@jupyter-widgets/base",
            "_model_module_version": "1.5.0",
            "_view_count": null,
            "_view_module_version": "1.2.0",
            "bar_color": null,
            "_model_module": "@jupyter-widgets/controls"
          }
        },
        "5a3f75a3e8c64b398154849b0f640621": {
          "model_module": "@jupyter-widgets/base",
          "model_name": "LayoutModel",
          "state": {
            "_view_name": "LayoutView",
            "grid_template_rows": null,
            "right": null,
            "justify_content": null,
            "_view_module": "@jupyter-widgets/base",
            "overflow": null,
            "_model_module_version": "1.2.0",
            "_view_count": null,
            "flex_flow": null,
            "width": null,
            "min_width": null,
            "border": null,
            "align_items": null,
            "bottom": null,
            "_model_module": "@jupyter-widgets/base",
            "top": null,
            "grid_column": null,
            "overflow_y": null,
            "overflow_x": null,
            "grid_auto_flow": null,
            "grid_area": null,
            "grid_template_columns": null,
            "flex": null,
            "_model_name": "LayoutModel",
            "justify_items": null,
            "grid_row": null,
            "max_height": null,
            "align_content": null,
            "visibility": null,
            "align_self": null,
            "height": null,
            "min_height": null,
            "padding": null,
            "grid_auto_rows": null,
            "grid_gap": null,
            "max_width": null,
            "order": null,
            "_view_module_version": "1.2.0",
            "grid_template_areas": null,
            "object_position": null,
            "object_fit": null,
            "grid_auto_columns": null,
            "margin": null,
            "display": null,
            "left": null
          }
        },
        "6f4b20edbb1d4f8daecf35b24b48bc61": {
          "model_module": "@jupyter-widgets/controls",
          "model_name": "DescriptionStyleModel",
          "state": {
            "_view_name": "StyleView",
            "_model_name": "DescriptionStyleModel",
            "description_width": "",
            "_view_module": "@jupyter-widgets/base",
            "_model_module_version": "1.5.0",
            "_view_count": null,
            "_view_module_version": "1.2.0",
            "_model_module": "@jupyter-widgets/controls"
          }
        },
        "c0fdf2b4e9bb4a2ba6d12cb7e95c9787": {
          "model_module": "@jupyter-widgets/base",
          "model_name": "LayoutModel",
          "state": {
            "_view_name": "LayoutView",
            "grid_template_rows": null,
            "right": null,
            "justify_content": null,
            "_view_module": "@jupyter-widgets/base",
            "overflow": null,
            "_model_module_version": "1.2.0",
            "_view_count": null,
            "flex_flow": null,
            "width": null,
            "min_width": null,
            "border": null,
            "align_items": null,
            "bottom": null,
            "_model_module": "@jupyter-widgets/base",
            "top": null,
            "grid_column": null,
            "overflow_y": null,
            "overflow_x": null,
            "grid_auto_flow": null,
            "grid_area": null,
            "grid_template_columns": null,
            "flex": null,
            "_model_name": "LayoutModel",
            "justify_items": null,
            "grid_row": null,
            "max_height": null,
            "align_content": null,
            "visibility": null,
            "align_self": null,
            "height": null,
            "min_height": null,
            "padding": null,
            "grid_auto_rows": null,
            "grid_gap": null,
            "max_width": null,
            "order": null,
            "_view_module_version": "1.2.0",
            "grid_template_areas": null,
            "object_position": null,
            "object_fit": null,
            "grid_auto_columns": null,
            "margin": null,
            "display": null,
            "left": null
          }
        },
        "ae92005b6bab4653b0b6c7bcd533be9b": {
          "model_module": "@jupyter-widgets/controls",
          "model_name": "HBoxModel",
          "state": {
            "_view_name": "HBoxView",
            "_dom_classes": [],
            "_model_name": "HBoxModel",
            "_view_module": "@jupyter-widgets/controls",
            "_model_module_version": "1.5.0",
            "_view_count": null,
            "_view_module_version": "1.5.0",
            "box_style": "",
            "layout": "IPY_MODEL_6e5e74b36ebb4875a50afbddeb8ba9f1",
            "_model_module": "@jupyter-widgets/controls",
            "children": [
              "IPY_MODEL_e082d12af42c459aa7b5b875c3eb879a",
              "IPY_MODEL_cff497bed3344f6eb8c1001459dea5fb"
            ]
          }
        },
        "6e5e74b36ebb4875a50afbddeb8ba9f1": {
          "model_module": "@jupyter-widgets/base",
          "model_name": "LayoutModel",
          "state": {
            "_view_name": "LayoutView",
            "grid_template_rows": null,
            "right": null,
            "justify_content": null,
            "_view_module": "@jupyter-widgets/base",
            "overflow": null,
            "_model_module_version": "1.2.0",
            "_view_count": null,
            "flex_flow": null,
            "width": null,
            "min_width": null,
            "border": null,
            "align_items": null,
            "bottom": null,
            "_model_module": "@jupyter-widgets/base",
            "top": null,
            "grid_column": null,
            "overflow_y": null,
            "overflow_x": null,
            "grid_auto_flow": null,
            "grid_area": null,
            "grid_template_columns": null,
            "flex": null,
            "_model_name": "LayoutModel",
            "justify_items": null,
            "grid_row": null,
            "max_height": null,
            "align_content": null,
            "visibility": null,
            "align_self": null,
            "height": null,
            "min_height": null,
            "padding": null,
            "grid_auto_rows": null,
            "grid_gap": null,
            "max_width": null,
            "order": null,
            "_view_module_version": "1.2.0",
            "grid_template_areas": null,
            "object_position": null,
            "object_fit": null,
            "grid_auto_columns": null,
            "margin": null,
            "display": null,
            "left": null
          }
        },
        "e082d12af42c459aa7b5b875c3eb879a": {
          "model_module": "@jupyter-widgets/controls",
          "model_name": "FloatProgressModel",
          "state": {
            "_view_name": "ProgressView",
            "style": "IPY_MODEL_fdd2b076100e48b3bc84f3c3bed4fa35",
            "_dom_classes": [],
            "description": "Epoch 3. Train Loss: 0.4804: 100%",
            "_model_name": "FloatProgressModel",
            "bar_style": "success",
            "max": 1000,
            "_view_module": "@jupyter-widgets/controls",
            "_model_module_version": "1.5.0",
            "value": 1000,
            "_view_count": null,
            "_view_module_version": "1.5.0",
            "orientation": "horizontal",
            "min": 0,
            "description_tooltip": null,
            "_model_module": "@jupyter-widgets/controls",
            "layout": "IPY_MODEL_e85cb637abca4464977cc22efdfa87c4"
          }
        },
        "cff497bed3344f6eb8c1001459dea5fb": {
          "model_module": "@jupyter-widgets/controls",
          "model_name": "HTMLModel",
          "state": {
            "_view_name": "HTMLView",
            "style": "IPY_MODEL_5ad66b807c4949d5a36056c43dfe586d",
            "_dom_classes": [],
            "description": "",
            "_model_name": "HTMLModel",
            "placeholder": "​",
            "_view_module": "@jupyter-widgets/controls",
            "_model_module_version": "1.5.0",
            "value": " 1000/1000 [11:45&lt;00:00,  1.42it/s]",
            "_view_count": null,
            "_view_module_version": "1.5.0",
            "description_tooltip": null,
            "_model_module": "@jupyter-widgets/controls",
            "layout": "IPY_MODEL_1f58994765104e76bcf65e1aaf07e766"
          }
        },
        "fdd2b076100e48b3bc84f3c3bed4fa35": {
          "model_module": "@jupyter-widgets/controls",
          "model_name": "ProgressStyleModel",
          "state": {
            "_view_name": "StyleView",
            "_model_name": "ProgressStyleModel",
            "description_width": "initial",
            "_view_module": "@jupyter-widgets/base",
            "_model_module_version": "1.5.0",
            "_view_count": null,
            "_view_module_version": "1.2.0",
            "bar_color": null,
            "_model_module": "@jupyter-widgets/controls"
          }
        },
        "e85cb637abca4464977cc22efdfa87c4": {
          "model_module": "@jupyter-widgets/base",
          "model_name": "LayoutModel",
          "state": {
            "_view_name": "LayoutView",
            "grid_template_rows": null,
            "right": null,
            "justify_content": null,
            "_view_module": "@jupyter-widgets/base",
            "overflow": null,
            "_model_module_version": "1.2.0",
            "_view_count": null,
            "flex_flow": null,
            "width": null,
            "min_width": null,
            "border": null,
            "align_items": null,
            "bottom": null,
            "_model_module": "@jupyter-widgets/base",
            "top": null,
            "grid_column": null,
            "overflow_y": null,
            "overflow_x": null,
            "grid_auto_flow": null,
            "grid_area": null,
            "grid_template_columns": null,
            "flex": null,
            "_model_name": "LayoutModel",
            "justify_items": null,
            "grid_row": null,
            "max_height": null,
            "align_content": null,
            "visibility": null,
            "align_self": null,
            "height": null,
            "min_height": null,
            "padding": null,
            "grid_auto_rows": null,
            "grid_gap": null,
            "max_width": null,
            "order": null,
            "_view_module_version": "1.2.0",
            "grid_template_areas": null,
            "object_position": null,
            "object_fit": null,
            "grid_auto_columns": null,
            "margin": null,
            "display": null,
            "left": null
          }
        },
        "5ad66b807c4949d5a36056c43dfe586d": {
          "model_module": "@jupyter-widgets/controls",
          "model_name": "DescriptionStyleModel",
          "state": {
            "_view_name": "StyleView",
            "_model_name": "DescriptionStyleModel",
            "description_width": "",
            "_view_module": "@jupyter-widgets/base",
            "_model_module_version": "1.5.0",
            "_view_count": null,
            "_view_module_version": "1.2.0",
            "_model_module": "@jupyter-widgets/controls"
          }
        },
        "1f58994765104e76bcf65e1aaf07e766": {
          "model_module": "@jupyter-widgets/base",
          "model_name": "LayoutModel",
          "state": {
            "_view_name": "LayoutView",
            "grid_template_rows": null,
            "right": null,
            "justify_content": null,
            "_view_module": "@jupyter-widgets/base",
            "overflow": null,
            "_model_module_version": "1.2.0",
            "_view_count": null,
            "flex_flow": null,
            "width": null,
            "min_width": null,
            "border": null,
            "align_items": null,
            "bottom": null,
            "_model_module": "@jupyter-widgets/base",
            "top": null,
            "grid_column": null,
            "overflow_y": null,
            "overflow_x": null,
            "grid_auto_flow": null,
            "grid_area": null,
            "grid_template_columns": null,
            "flex": null,
            "_model_name": "LayoutModel",
            "justify_items": null,
            "grid_row": null,
            "max_height": null,
            "align_content": null,
            "visibility": null,
            "align_self": null,
            "height": null,
            "min_height": null,
            "padding": null,
            "grid_auto_rows": null,
            "grid_gap": null,
            "max_width": null,
            "order": null,
            "_view_module_version": "1.2.0",
            "grid_template_areas": null,
            "object_position": null,
            "object_fit": null,
            "grid_auto_columns": null,
            "margin": null,
            "display": null,
            "left": null
          }
        },
        "1b4efe34d7f14bae9659587806d849bd": {
          "model_module": "@jupyter-widgets/controls",
          "model_name": "HBoxModel",
          "state": {
            "_view_name": "HBoxView",
            "_dom_classes": [],
            "_model_name": "HBoxModel",
            "_view_module": "@jupyter-widgets/controls",
            "_model_module_version": "1.5.0",
            "_view_count": null,
            "_view_module_version": "1.5.0",
            "box_style": "",
            "layout": "IPY_MODEL_e903180db70b456a8544a1b97739e7d8",
            "_model_module": "@jupyter-widgets/controls",
            "children": [
              "IPY_MODEL_874dc19d362445fbb35bf6f6c2652613",
              "IPY_MODEL_a553a42951af4cdb908c22b373715e20"
            ]
          }
        },
        "e903180db70b456a8544a1b97739e7d8": {
          "model_module": "@jupyter-widgets/base",
          "model_name": "LayoutModel",
          "state": {
            "_view_name": "LayoutView",
            "grid_template_rows": null,
            "right": null,
            "justify_content": null,
            "_view_module": "@jupyter-widgets/base",
            "overflow": null,
            "_model_module_version": "1.2.0",
            "_view_count": null,
            "flex_flow": null,
            "width": null,
            "min_width": null,
            "border": null,
            "align_items": null,
            "bottom": null,
            "_model_module": "@jupyter-widgets/base",
            "top": null,
            "grid_column": null,
            "overflow_y": null,
            "overflow_x": null,
            "grid_auto_flow": null,
            "grid_area": null,
            "grid_template_columns": null,
            "flex": null,
            "_model_name": "LayoutModel",
            "justify_items": null,
            "grid_row": null,
            "max_height": null,
            "align_content": null,
            "visibility": null,
            "align_self": null,
            "height": null,
            "min_height": null,
            "padding": null,
            "grid_auto_rows": null,
            "grid_gap": null,
            "max_width": null,
            "order": null,
            "_view_module_version": "1.2.0",
            "grid_template_areas": null,
            "object_position": null,
            "object_fit": null,
            "grid_auto_columns": null,
            "margin": null,
            "display": null,
            "left": null
          }
        },
        "874dc19d362445fbb35bf6f6c2652613": {
          "model_module": "@jupyter-widgets/controls",
          "model_name": "FloatProgressModel",
          "state": {
            "_view_name": "ProgressView",
            "style": "IPY_MODEL_d7d7f90665e84d309ed95063df9ac5aa",
            "_dom_classes": [],
            "description": "Test Loss: 0.5062, Test Acc: 0.7495: 100%",
            "_model_name": "FloatProgressModel",
            "bar_style": "success",
            "max": 250,
            "_view_module": "@jupyter-widgets/controls",
            "_model_module_version": "1.5.0",
            "value": 250,
            "_view_count": null,
            "_view_module_version": "1.5.0",
            "orientation": "horizontal",
            "min": 0,
            "description_tooltip": null,
            "_model_module": "@jupyter-widgets/controls",
            "layout": "IPY_MODEL_3af4cf4a7f4f461c92eef54ca6c9b554"
          }
        },
        "a553a42951af4cdb908c22b373715e20": {
          "model_module": "@jupyter-widgets/controls",
          "model_name": "HTMLModel",
          "state": {
            "_view_name": "HTMLView",
            "style": "IPY_MODEL_ae68ebbd6b4c4910ac0e1bf4c47c31c0",
            "_dom_classes": [],
            "description": "",
            "_model_name": "HTMLModel",
            "placeholder": "​",
            "_view_module": "@jupyter-widgets/controls",
            "_model_module_version": "1.5.0",
            "value": " 250/250 [08:40&lt;00:00,  2.08s/it]",
            "_view_count": null,
            "_view_module_version": "1.5.0",
            "description_tooltip": null,
            "_model_module": "@jupyter-widgets/controls",
            "layout": "IPY_MODEL_9ac1550b140245bd9b5ca96ed44c494c"
          }
        },
        "d7d7f90665e84d309ed95063df9ac5aa": {
          "model_module": "@jupyter-widgets/controls",
          "model_name": "ProgressStyleModel",
          "state": {
            "_view_name": "StyleView",
            "_model_name": "ProgressStyleModel",
            "description_width": "initial",
            "_view_module": "@jupyter-widgets/base",
            "_model_module_version": "1.5.0",
            "_view_count": null,
            "_view_module_version": "1.2.0",
            "bar_color": null,
            "_model_module": "@jupyter-widgets/controls"
          }
        },
        "3af4cf4a7f4f461c92eef54ca6c9b554": {
          "model_module": "@jupyter-widgets/base",
          "model_name": "LayoutModel",
          "state": {
            "_view_name": "LayoutView",
            "grid_template_rows": null,
            "right": null,
            "justify_content": null,
            "_view_module": "@jupyter-widgets/base",
            "overflow": null,
            "_model_module_version": "1.2.0",
            "_view_count": null,
            "flex_flow": null,
            "width": null,
            "min_width": null,
            "border": null,
            "align_items": null,
            "bottom": null,
            "_model_module": "@jupyter-widgets/base",
            "top": null,
            "grid_column": null,
            "overflow_y": null,
            "overflow_x": null,
            "grid_auto_flow": null,
            "grid_area": null,
            "grid_template_columns": null,
            "flex": null,
            "_model_name": "LayoutModel",
            "justify_items": null,
            "grid_row": null,
            "max_height": null,
            "align_content": null,
            "visibility": null,
            "align_self": null,
            "height": null,
            "min_height": null,
            "padding": null,
            "grid_auto_rows": null,
            "grid_gap": null,
            "max_width": null,
            "order": null,
            "_view_module_version": "1.2.0",
            "grid_template_areas": null,
            "object_position": null,
            "object_fit": null,
            "grid_auto_columns": null,
            "margin": null,
            "display": null,
            "left": null
          }
        },
        "ae68ebbd6b4c4910ac0e1bf4c47c31c0": {
          "model_module": "@jupyter-widgets/controls",
          "model_name": "DescriptionStyleModel",
          "state": {
            "_view_name": "StyleView",
            "_model_name": "DescriptionStyleModel",
            "description_width": "",
            "_view_module": "@jupyter-widgets/base",
            "_model_module_version": "1.5.0",
            "_view_count": null,
            "_view_module_version": "1.2.0",
            "_model_module": "@jupyter-widgets/controls"
          }
        },
        "9ac1550b140245bd9b5ca96ed44c494c": {
          "model_module": "@jupyter-widgets/base",
          "model_name": "LayoutModel",
          "state": {
            "_view_name": "LayoutView",
            "grid_template_rows": null,
            "right": null,
            "justify_content": null,
            "_view_module": "@jupyter-widgets/base",
            "overflow": null,
            "_model_module_version": "1.2.0",
            "_view_count": null,
            "flex_flow": null,
            "width": null,
            "min_width": null,
            "border": null,
            "align_items": null,
            "bottom": null,
            "_model_module": "@jupyter-widgets/base",
            "top": null,
            "grid_column": null,
            "overflow_y": null,
            "overflow_x": null,
            "grid_auto_flow": null,
            "grid_area": null,
            "grid_template_columns": null,
            "flex": null,
            "_model_name": "LayoutModel",
            "justify_items": null,
            "grid_row": null,
            "max_height": null,
            "align_content": null,
            "visibility": null,
            "align_self": null,
            "height": null,
            "min_height": null,
            "padding": null,
            "grid_auto_rows": null,
            "grid_gap": null,
            "max_width": null,
            "order": null,
            "_view_module_version": "1.2.0",
            "grid_template_areas": null,
            "object_position": null,
            "object_fit": null,
            "grid_auto_columns": null,
            "margin": null,
            "display": null,
            "left": null
          }
        },
        "6db7b0d2e54345f0b91674faba5e7618": {
          "model_module": "@jupyter-widgets/controls",
          "model_name": "HBoxModel",
          "state": {
            "_view_name": "HBoxView",
            "_dom_classes": [],
            "_model_name": "HBoxModel",
            "_view_module": "@jupyter-widgets/controls",
            "_model_module_version": "1.5.0",
            "_view_count": null,
            "_view_module_version": "1.5.0",
            "box_style": "",
            "layout": "IPY_MODEL_ce778698c8f54d48a2b9ba0a3f038748",
            "_model_module": "@jupyter-widgets/controls",
            "children": [
              "IPY_MODEL_2ab3a70f9b234c36a7a0e1f35d61fad9",
              "IPY_MODEL_6b2b69cf12ab4d548b4a78517b1c8021"
            ]
          }
        },
        "ce778698c8f54d48a2b9ba0a3f038748": {
          "model_module": "@jupyter-widgets/base",
          "model_name": "LayoutModel",
          "state": {
            "_view_name": "LayoutView",
            "grid_template_rows": null,
            "right": null,
            "justify_content": null,
            "_view_module": "@jupyter-widgets/base",
            "overflow": null,
            "_model_module_version": "1.2.0",
            "_view_count": null,
            "flex_flow": null,
            "width": null,
            "min_width": null,
            "border": null,
            "align_items": null,
            "bottom": null,
            "_model_module": "@jupyter-widgets/base",
            "top": null,
            "grid_column": null,
            "overflow_y": null,
            "overflow_x": null,
            "grid_auto_flow": null,
            "grid_area": null,
            "grid_template_columns": null,
            "flex": null,
            "_model_name": "LayoutModel",
            "justify_items": null,
            "grid_row": null,
            "max_height": null,
            "align_content": null,
            "visibility": null,
            "align_self": null,
            "height": null,
            "min_height": null,
            "padding": null,
            "grid_auto_rows": null,
            "grid_gap": null,
            "max_width": null,
            "order": null,
            "_view_module_version": "1.2.0",
            "grid_template_areas": null,
            "object_position": null,
            "object_fit": null,
            "grid_auto_columns": null,
            "margin": null,
            "display": null,
            "left": null
          }
        },
        "2ab3a70f9b234c36a7a0e1f35d61fad9": {
          "model_module": "@jupyter-widgets/controls",
          "model_name": "FloatProgressModel",
          "state": {
            "_view_name": "ProgressView",
            "style": "IPY_MODEL_1b6d9c4009404b348f3e75a8eab273c1",
            "_dom_classes": [],
            "description": "Epoch 4. Train Loss: 0.5033: 100%",
            "_model_name": "FloatProgressModel",
            "bar_style": "success",
            "max": 1000,
            "_view_module": "@jupyter-widgets/controls",
            "_model_module_version": "1.5.0",
            "value": 1000,
            "_view_count": null,
            "_view_module_version": "1.5.0",
            "orientation": "horizontal",
            "min": 0,
            "description_tooltip": null,
            "_model_module": "@jupyter-widgets/controls",
            "layout": "IPY_MODEL_e66a199fbeaf4950a0a5ab99f388bc1f"
          }
        },
        "6b2b69cf12ab4d548b4a78517b1c8021": {
          "model_module": "@jupyter-widgets/controls",
          "model_name": "HTMLModel",
          "state": {
            "_view_name": "HTMLView",
            "style": "IPY_MODEL_e140962d754545c7a881fbb05c33c804",
            "_dom_classes": [],
            "description": "",
            "_model_name": "HTMLModel",
            "placeholder": "​",
            "_view_module": "@jupyter-widgets/controls",
            "_model_module_version": "1.5.0",
            "value": " 1000/1000 [07:51&lt;00:00,  2.12it/s]",
            "_view_count": null,
            "_view_module_version": "1.5.0",
            "description_tooltip": null,
            "_model_module": "@jupyter-widgets/controls",
            "layout": "IPY_MODEL_61734c65a007424ab753db1ef9c75b07"
          }
        },
        "1b6d9c4009404b348f3e75a8eab273c1": {
          "model_module": "@jupyter-widgets/controls",
          "model_name": "ProgressStyleModel",
          "state": {
            "_view_name": "StyleView",
            "_model_name": "ProgressStyleModel",
            "description_width": "initial",
            "_view_module": "@jupyter-widgets/base",
            "_model_module_version": "1.5.0",
            "_view_count": null,
            "_view_module_version": "1.2.0",
            "bar_color": null,
            "_model_module": "@jupyter-widgets/controls"
          }
        },
        "e66a199fbeaf4950a0a5ab99f388bc1f": {
          "model_module": "@jupyter-widgets/base",
          "model_name": "LayoutModel",
          "state": {
            "_view_name": "LayoutView",
            "grid_template_rows": null,
            "right": null,
            "justify_content": null,
            "_view_module": "@jupyter-widgets/base",
            "overflow": null,
            "_model_module_version": "1.2.0",
            "_view_count": null,
            "flex_flow": null,
            "width": null,
            "min_width": null,
            "border": null,
            "align_items": null,
            "bottom": null,
            "_model_module": "@jupyter-widgets/base",
            "top": null,
            "grid_column": null,
            "overflow_y": null,
            "overflow_x": null,
            "grid_auto_flow": null,
            "grid_area": null,
            "grid_template_columns": null,
            "flex": null,
            "_model_name": "LayoutModel",
            "justify_items": null,
            "grid_row": null,
            "max_height": null,
            "align_content": null,
            "visibility": null,
            "align_self": null,
            "height": null,
            "min_height": null,
            "padding": null,
            "grid_auto_rows": null,
            "grid_gap": null,
            "max_width": null,
            "order": null,
            "_view_module_version": "1.2.0",
            "grid_template_areas": null,
            "object_position": null,
            "object_fit": null,
            "grid_auto_columns": null,
            "margin": null,
            "display": null,
            "left": null
          }
        },
        "e140962d754545c7a881fbb05c33c804": {
          "model_module": "@jupyter-widgets/controls",
          "model_name": "DescriptionStyleModel",
          "state": {
            "_view_name": "StyleView",
            "_model_name": "DescriptionStyleModel",
            "description_width": "",
            "_view_module": "@jupyter-widgets/base",
            "_model_module_version": "1.5.0",
            "_view_count": null,
            "_view_module_version": "1.2.0",
            "_model_module": "@jupyter-widgets/controls"
          }
        },
        "61734c65a007424ab753db1ef9c75b07": {
          "model_module": "@jupyter-widgets/base",
          "model_name": "LayoutModel",
          "state": {
            "_view_name": "LayoutView",
            "grid_template_rows": null,
            "right": null,
            "justify_content": null,
            "_view_module": "@jupyter-widgets/base",
            "overflow": null,
            "_model_module_version": "1.2.0",
            "_view_count": null,
            "flex_flow": null,
            "width": null,
            "min_width": null,
            "border": null,
            "align_items": null,
            "bottom": null,
            "_model_module": "@jupyter-widgets/base",
            "top": null,
            "grid_column": null,
            "overflow_y": null,
            "overflow_x": null,
            "grid_auto_flow": null,
            "grid_area": null,
            "grid_template_columns": null,
            "flex": null,
            "_model_name": "LayoutModel",
            "justify_items": null,
            "grid_row": null,
            "max_height": null,
            "align_content": null,
            "visibility": null,
            "align_self": null,
            "height": null,
            "min_height": null,
            "padding": null,
            "grid_auto_rows": null,
            "grid_gap": null,
            "max_width": null,
            "order": null,
            "_view_module_version": "1.2.0",
            "grid_template_areas": null,
            "object_position": null,
            "object_fit": null,
            "grid_auto_columns": null,
            "margin": null,
            "display": null,
            "left": null
          }
        },
        "537c95fb1d1c493dabf6bf56871a8cd0": {
          "model_module": "@jupyter-widgets/controls",
          "model_name": "HBoxModel",
          "state": {
            "_view_name": "HBoxView",
            "_dom_classes": [],
            "_model_name": "HBoxModel",
            "_view_module": "@jupyter-widgets/controls",
            "_model_module_version": "1.5.0",
            "_view_count": null,
            "_view_module_version": "1.5.0",
            "box_style": "",
            "layout": "IPY_MODEL_f3ee6a3fb4bc4171819a13c7ce50bd48",
            "_model_module": "@jupyter-widgets/controls",
            "children": [
              "IPY_MODEL_1af5df85701c4ce28b57211e8ae5c8ad",
              "IPY_MODEL_474ca1e1ffbf43fa8aca5bebb710a2fb"
            ]
          }
        },
        "f3ee6a3fb4bc4171819a13c7ce50bd48": {
          "model_module": "@jupyter-widgets/base",
          "model_name": "LayoutModel",
          "state": {
            "_view_name": "LayoutView",
            "grid_template_rows": null,
            "right": null,
            "justify_content": null,
            "_view_module": "@jupyter-widgets/base",
            "overflow": null,
            "_model_module_version": "1.2.0",
            "_view_count": null,
            "flex_flow": null,
            "width": null,
            "min_width": null,
            "border": null,
            "align_items": null,
            "bottom": null,
            "_model_module": "@jupyter-widgets/base",
            "top": null,
            "grid_column": null,
            "overflow_y": null,
            "overflow_x": null,
            "grid_auto_flow": null,
            "grid_area": null,
            "grid_template_columns": null,
            "flex": null,
            "_model_name": "LayoutModel",
            "justify_items": null,
            "grid_row": null,
            "max_height": null,
            "align_content": null,
            "visibility": null,
            "align_self": null,
            "height": null,
            "min_height": null,
            "padding": null,
            "grid_auto_rows": null,
            "grid_gap": null,
            "max_width": null,
            "order": null,
            "_view_module_version": "1.2.0",
            "grid_template_areas": null,
            "object_position": null,
            "object_fit": null,
            "grid_auto_columns": null,
            "margin": null,
            "display": null,
            "left": null
          }
        },
        "1af5df85701c4ce28b57211e8ae5c8ad": {
          "model_module": "@jupyter-widgets/controls",
          "model_name": "FloatProgressModel",
          "state": {
            "_view_name": "ProgressView",
            "style": "IPY_MODEL_29e840f751334b258f47e86877981f95",
            "_dom_classes": [],
            "description": "Test Loss: 0.5039, Test Acc: 0.7511: 100%",
            "_model_name": "FloatProgressModel",
            "bar_style": "success",
            "max": 250,
            "_view_module": "@jupyter-widgets/controls",
            "_model_module_version": "1.5.0",
            "value": 250,
            "_view_count": null,
            "_view_module_version": "1.5.0",
            "orientation": "horizontal",
            "min": 0,
            "description_tooltip": null,
            "_model_module": "@jupyter-widgets/controls",
            "layout": "IPY_MODEL_5eac17437641472ea5990e743725d2ee"
          }
        },
        "474ca1e1ffbf43fa8aca5bebb710a2fb": {
          "model_module": "@jupyter-widgets/controls",
          "model_name": "HTMLModel",
          "state": {
            "_view_name": "HTMLView",
            "style": "IPY_MODEL_5f7e8a8adb6c4a08aa9b90581e123846",
            "_dom_classes": [],
            "description": "",
            "_model_name": "HTMLModel",
            "placeholder": "​",
            "_view_module": "@jupyter-widgets/controls",
            "_model_module_version": "1.5.0",
            "value": " 250/250 [04:46&lt;00:00,  1.15s/it]",
            "_view_count": null,
            "_view_module_version": "1.5.0",
            "description_tooltip": null,
            "_model_module": "@jupyter-widgets/controls",
            "layout": "IPY_MODEL_5c1e9e1efd844961ad314e128449dac2"
          }
        },
        "29e840f751334b258f47e86877981f95": {
          "model_module": "@jupyter-widgets/controls",
          "model_name": "ProgressStyleModel",
          "state": {
            "_view_name": "StyleView",
            "_model_name": "ProgressStyleModel",
            "description_width": "initial",
            "_view_module": "@jupyter-widgets/base",
            "_model_module_version": "1.5.0",
            "_view_count": null,
            "_view_module_version": "1.2.0",
            "bar_color": null,
            "_model_module": "@jupyter-widgets/controls"
          }
        },
        "5eac17437641472ea5990e743725d2ee": {
          "model_module": "@jupyter-widgets/base",
          "model_name": "LayoutModel",
          "state": {
            "_view_name": "LayoutView",
            "grid_template_rows": null,
            "right": null,
            "justify_content": null,
            "_view_module": "@jupyter-widgets/base",
            "overflow": null,
            "_model_module_version": "1.2.0",
            "_view_count": null,
            "flex_flow": null,
            "width": null,
            "min_width": null,
            "border": null,
            "align_items": null,
            "bottom": null,
            "_model_module": "@jupyter-widgets/base",
            "top": null,
            "grid_column": null,
            "overflow_y": null,
            "overflow_x": null,
            "grid_auto_flow": null,
            "grid_area": null,
            "grid_template_columns": null,
            "flex": null,
            "_model_name": "LayoutModel",
            "justify_items": null,
            "grid_row": null,
            "max_height": null,
            "align_content": null,
            "visibility": null,
            "align_self": null,
            "height": null,
            "min_height": null,
            "padding": null,
            "grid_auto_rows": null,
            "grid_gap": null,
            "max_width": null,
            "order": null,
            "_view_module_version": "1.2.0",
            "grid_template_areas": null,
            "object_position": null,
            "object_fit": null,
            "grid_auto_columns": null,
            "margin": null,
            "display": null,
            "left": null
          }
        },
        "5f7e8a8adb6c4a08aa9b90581e123846": {
          "model_module": "@jupyter-widgets/controls",
          "model_name": "DescriptionStyleModel",
          "state": {
            "_view_name": "StyleView",
            "_model_name": "DescriptionStyleModel",
            "description_width": "",
            "_view_module": "@jupyter-widgets/base",
            "_model_module_version": "1.5.0",
            "_view_count": null,
            "_view_module_version": "1.2.0",
            "_model_module": "@jupyter-widgets/controls"
          }
        },
        "5c1e9e1efd844961ad314e128449dac2": {
          "model_module": "@jupyter-widgets/base",
          "model_name": "LayoutModel",
          "state": {
            "_view_name": "LayoutView",
            "grid_template_rows": null,
            "right": null,
            "justify_content": null,
            "_view_module": "@jupyter-widgets/base",
            "overflow": null,
            "_model_module_version": "1.2.0",
            "_view_count": null,
            "flex_flow": null,
            "width": null,
            "min_width": null,
            "border": null,
            "align_items": null,
            "bottom": null,
            "_model_module": "@jupyter-widgets/base",
            "top": null,
            "grid_column": null,
            "overflow_y": null,
            "overflow_x": null,
            "grid_auto_flow": null,
            "grid_area": null,
            "grid_template_columns": null,
            "flex": null,
            "_model_name": "LayoutModel",
            "justify_items": null,
            "grid_row": null,
            "max_height": null,
            "align_content": null,
            "visibility": null,
            "align_self": null,
            "height": null,
            "min_height": null,
            "padding": null,
            "grid_auto_rows": null,
            "grid_gap": null,
            "max_width": null,
            "order": null,
            "_view_module_version": "1.2.0",
            "grid_template_areas": null,
            "object_position": null,
            "object_fit": null,
            "grid_auto_columns": null,
            "margin": null,
            "display": null,
            "left": null
          }
        },
        "e18b4bef11ec48249563da4fde4ad583": {
          "model_module": "@jupyter-widgets/controls",
          "model_name": "HBoxModel",
          "state": {
            "_view_name": "HBoxView",
            "_dom_classes": [],
            "_model_name": "HBoxModel",
            "_view_module": "@jupyter-widgets/controls",
            "_model_module_version": "1.5.0",
            "_view_count": null,
            "_view_module_version": "1.5.0",
            "box_style": "",
            "layout": "IPY_MODEL_39fc6c00e9b34bf0bab7e0f9065afab3",
            "_model_module": "@jupyter-widgets/controls",
            "children": [
              "IPY_MODEL_09bce254432d4be2b3bccd06042f04d2",
              "IPY_MODEL_9591bfafa3ca440e91a792f6522be7ea"
            ]
          }
        },
        "39fc6c00e9b34bf0bab7e0f9065afab3": {
          "model_module": "@jupyter-widgets/base",
          "model_name": "LayoutModel",
          "state": {
            "_view_name": "LayoutView",
            "grid_template_rows": null,
            "right": null,
            "justify_content": null,
            "_view_module": "@jupyter-widgets/base",
            "overflow": null,
            "_model_module_version": "1.2.0",
            "_view_count": null,
            "flex_flow": null,
            "width": null,
            "min_width": null,
            "border": null,
            "align_items": null,
            "bottom": null,
            "_model_module": "@jupyter-widgets/base",
            "top": null,
            "grid_column": null,
            "overflow_y": null,
            "overflow_x": null,
            "grid_auto_flow": null,
            "grid_area": null,
            "grid_template_columns": null,
            "flex": null,
            "_model_name": "LayoutModel",
            "justify_items": null,
            "grid_row": null,
            "max_height": null,
            "align_content": null,
            "visibility": null,
            "align_self": null,
            "height": null,
            "min_height": null,
            "padding": null,
            "grid_auto_rows": null,
            "grid_gap": null,
            "max_width": null,
            "order": null,
            "_view_module_version": "1.2.0",
            "grid_template_areas": null,
            "object_position": null,
            "object_fit": null,
            "grid_auto_columns": null,
            "margin": null,
            "display": null,
            "left": null
          }
        },
        "09bce254432d4be2b3bccd06042f04d2": {
          "model_module": "@jupyter-widgets/controls",
          "model_name": "FloatProgressModel",
          "state": {
            "_view_name": "ProgressView",
            "style": "IPY_MODEL_305c38efb8d4478b9b150f04b116ba2c",
            "_dom_classes": [],
            "description": "Epoch 5. Train Loss: 0.484: 100%",
            "_model_name": "FloatProgressModel",
            "bar_style": "success",
            "max": 1000,
            "_view_module": "@jupyter-widgets/controls",
            "_model_module_version": "1.5.0",
            "value": 1000,
            "_view_count": null,
            "_view_module_version": "1.5.0",
            "orientation": "horizontal",
            "min": 0,
            "description_tooltip": null,
            "_model_module": "@jupyter-widgets/controls",
            "layout": "IPY_MODEL_1f0408ac61334c70986d44aa4f74939a"
          }
        },
        "9591bfafa3ca440e91a792f6522be7ea": {
          "model_module": "@jupyter-widgets/controls",
          "model_name": "HTMLModel",
          "state": {
            "_view_name": "HTMLView",
            "style": "IPY_MODEL_6826792ea0ff4bb383965f1163036a7f",
            "_dom_classes": [],
            "description": "",
            "_model_name": "HTMLModel",
            "placeholder": "​",
            "_view_module": "@jupyter-widgets/controls",
            "_model_module_version": "1.5.0",
            "value": " 1000/1000 [03:57&lt;00:00,  4.21it/s]",
            "_view_count": null,
            "_view_module_version": "1.5.0",
            "description_tooltip": null,
            "_model_module": "@jupyter-widgets/controls",
            "layout": "IPY_MODEL_416bc5863ad446748bc766b9645abbd1"
          }
        },
        "305c38efb8d4478b9b150f04b116ba2c": {
          "model_module": "@jupyter-widgets/controls",
          "model_name": "ProgressStyleModel",
          "state": {
            "_view_name": "StyleView",
            "_model_name": "ProgressStyleModel",
            "description_width": "initial",
            "_view_module": "@jupyter-widgets/base",
            "_model_module_version": "1.5.0",
            "_view_count": null,
            "_view_module_version": "1.2.0",
            "bar_color": null,
            "_model_module": "@jupyter-widgets/controls"
          }
        },
        "1f0408ac61334c70986d44aa4f74939a": {
          "model_module": "@jupyter-widgets/base",
          "model_name": "LayoutModel",
          "state": {
            "_view_name": "LayoutView",
            "grid_template_rows": null,
            "right": null,
            "justify_content": null,
            "_view_module": "@jupyter-widgets/base",
            "overflow": null,
            "_model_module_version": "1.2.0",
            "_view_count": null,
            "flex_flow": null,
            "width": null,
            "min_width": null,
            "border": null,
            "align_items": null,
            "bottom": null,
            "_model_module": "@jupyter-widgets/base",
            "top": null,
            "grid_column": null,
            "overflow_y": null,
            "overflow_x": null,
            "grid_auto_flow": null,
            "grid_area": null,
            "grid_template_columns": null,
            "flex": null,
            "_model_name": "LayoutModel",
            "justify_items": null,
            "grid_row": null,
            "max_height": null,
            "align_content": null,
            "visibility": null,
            "align_self": null,
            "height": null,
            "min_height": null,
            "padding": null,
            "grid_auto_rows": null,
            "grid_gap": null,
            "max_width": null,
            "order": null,
            "_view_module_version": "1.2.0",
            "grid_template_areas": null,
            "object_position": null,
            "object_fit": null,
            "grid_auto_columns": null,
            "margin": null,
            "display": null,
            "left": null
          }
        },
        "6826792ea0ff4bb383965f1163036a7f": {
          "model_module": "@jupyter-widgets/controls",
          "model_name": "DescriptionStyleModel",
          "state": {
            "_view_name": "StyleView",
            "_model_name": "DescriptionStyleModel",
            "description_width": "",
            "_view_module": "@jupyter-widgets/base",
            "_model_module_version": "1.5.0",
            "_view_count": null,
            "_view_module_version": "1.2.0",
            "_model_module": "@jupyter-widgets/controls"
          }
        },
        "416bc5863ad446748bc766b9645abbd1": {
          "model_module": "@jupyter-widgets/base",
          "model_name": "LayoutModel",
          "state": {
            "_view_name": "LayoutView",
            "grid_template_rows": null,
            "right": null,
            "justify_content": null,
            "_view_module": "@jupyter-widgets/base",
            "overflow": null,
            "_model_module_version": "1.2.0",
            "_view_count": null,
            "flex_flow": null,
            "width": null,
            "min_width": null,
            "border": null,
            "align_items": null,
            "bottom": null,
            "_model_module": "@jupyter-widgets/base",
            "top": null,
            "grid_column": null,
            "overflow_y": null,
            "overflow_x": null,
            "grid_auto_flow": null,
            "grid_area": null,
            "grid_template_columns": null,
            "flex": null,
            "_model_name": "LayoutModel",
            "justify_items": null,
            "grid_row": null,
            "max_height": null,
            "align_content": null,
            "visibility": null,
            "align_self": null,
            "height": null,
            "min_height": null,
            "padding": null,
            "grid_auto_rows": null,
            "grid_gap": null,
            "max_width": null,
            "order": null,
            "_view_module_version": "1.2.0",
            "grid_template_areas": null,
            "object_position": null,
            "object_fit": null,
            "grid_auto_columns": null,
            "margin": null,
            "display": null,
            "left": null
          }
        },
        "678aad97aff247149a35c63ff909f6cf": {
          "model_module": "@jupyter-widgets/controls",
          "model_name": "HBoxModel",
          "state": {
            "_view_name": "HBoxView",
            "_dom_classes": [],
            "_model_name": "HBoxModel",
            "_view_module": "@jupyter-widgets/controls",
            "_model_module_version": "1.5.0",
            "_view_count": null,
            "_view_module_version": "1.5.0",
            "box_style": "",
            "layout": "IPY_MODEL_f2a2a608acfc4c4b8bdb39c54c0ec3c7",
            "_model_module": "@jupyter-widgets/controls",
            "children": [
              "IPY_MODEL_c31544fff98c4154b35803a8c731f1ce",
              "IPY_MODEL_bfcc63a31e52416e88b77779ef2b0107"
            ]
          }
        },
        "f2a2a608acfc4c4b8bdb39c54c0ec3c7": {
          "model_module": "@jupyter-widgets/base",
          "model_name": "LayoutModel",
          "state": {
            "_view_name": "LayoutView",
            "grid_template_rows": null,
            "right": null,
            "justify_content": null,
            "_view_module": "@jupyter-widgets/base",
            "overflow": null,
            "_model_module_version": "1.2.0",
            "_view_count": null,
            "flex_flow": null,
            "width": null,
            "min_width": null,
            "border": null,
            "align_items": null,
            "bottom": null,
            "_model_module": "@jupyter-widgets/base",
            "top": null,
            "grid_column": null,
            "overflow_y": null,
            "overflow_x": null,
            "grid_auto_flow": null,
            "grid_area": null,
            "grid_template_columns": null,
            "flex": null,
            "_model_name": "LayoutModel",
            "justify_items": null,
            "grid_row": null,
            "max_height": null,
            "align_content": null,
            "visibility": null,
            "align_self": null,
            "height": null,
            "min_height": null,
            "padding": null,
            "grid_auto_rows": null,
            "grid_gap": null,
            "max_width": null,
            "order": null,
            "_view_module_version": "1.2.0",
            "grid_template_areas": null,
            "object_position": null,
            "object_fit": null,
            "grid_auto_columns": null,
            "margin": null,
            "display": null,
            "left": null
          }
        },
        "c31544fff98c4154b35803a8c731f1ce": {
          "model_module": "@jupyter-widgets/controls",
          "model_name": "FloatProgressModel",
          "state": {
            "_view_name": "ProgressView",
            "style": "IPY_MODEL_701b4693261d486986ec3f191c63cc96",
            "_dom_classes": [],
            "description": "Test Loss: 0.4813, Test Acc: 0.7686: 100%",
            "_model_name": "FloatProgressModel",
            "bar_style": "success",
            "max": 250,
            "_view_module": "@jupyter-widgets/controls",
            "_model_module_version": "1.5.0",
            "value": 250,
            "_view_count": null,
            "_view_module_version": "1.5.0",
            "orientation": "horizontal",
            "min": 0,
            "description_tooltip": null,
            "_model_module": "@jupyter-widgets/controls",
            "layout": "IPY_MODEL_41246d1fc5f34062b5d9224c87fcda8b"
          }
        },
        "bfcc63a31e52416e88b77779ef2b0107": {
          "model_module": "@jupyter-widgets/controls",
          "model_name": "HTMLModel",
          "state": {
            "_view_name": "HTMLView",
            "style": "IPY_MODEL_2f370c745b21406cbb50e7d01ff00be5",
            "_dom_classes": [],
            "description": "",
            "_model_name": "HTMLModel",
            "placeholder": "​",
            "_view_module": "@jupyter-widgets/controls",
            "_model_module_version": "1.5.0",
            "value": " 250/250 [00:48&lt;00:00,  5.10it/s]",
            "_view_count": null,
            "_view_module_version": "1.5.0",
            "description_tooltip": null,
            "_model_module": "@jupyter-widgets/controls",
            "layout": "IPY_MODEL_b986c2fca5d2411cb208f497bf6a30d4"
          }
        },
        "701b4693261d486986ec3f191c63cc96": {
          "model_module": "@jupyter-widgets/controls",
          "model_name": "ProgressStyleModel",
          "state": {
            "_view_name": "StyleView",
            "_model_name": "ProgressStyleModel",
            "description_width": "initial",
            "_view_module": "@jupyter-widgets/base",
            "_model_module_version": "1.5.0",
            "_view_count": null,
            "_view_module_version": "1.2.0",
            "bar_color": null,
            "_model_module": "@jupyter-widgets/controls"
          }
        },
        "41246d1fc5f34062b5d9224c87fcda8b": {
          "model_module": "@jupyter-widgets/base",
          "model_name": "LayoutModel",
          "state": {
            "_view_name": "LayoutView",
            "grid_template_rows": null,
            "right": null,
            "justify_content": null,
            "_view_module": "@jupyter-widgets/base",
            "overflow": null,
            "_model_module_version": "1.2.0",
            "_view_count": null,
            "flex_flow": null,
            "width": null,
            "min_width": null,
            "border": null,
            "align_items": null,
            "bottom": null,
            "_model_module": "@jupyter-widgets/base",
            "top": null,
            "grid_column": null,
            "overflow_y": null,
            "overflow_x": null,
            "grid_auto_flow": null,
            "grid_area": null,
            "grid_template_columns": null,
            "flex": null,
            "_model_name": "LayoutModel",
            "justify_items": null,
            "grid_row": null,
            "max_height": null,
            "align_content": null,
            "visibility": null,
            "align_self": null,
            "height": null,
            "min_height": null,
            "padding": null,
            "grid_auto_rows": null,
            "grid_gap": null,
            "max_width": null,
            "order": null,
            "_view_module_version": "1.2.0",
            "grid_template_areas": null,
            "object_position": null,
            "object_fit": null,
            "grid_auto_columns": null,
            "margin": null,
            "display": null,
            "left": null
          }
        },
        "2f370c745b21406cbb50e7d01ff00be5": {
          "model_module": "@jupyter-widgets/controls",
          "model_name": "DescriptionStyleModel",
          "state": {
            "_view_name": "StyleView",
            "_model_name": "DescriptionStyleModel",
            "description_width": "",
            "_view_module": "@jupyter-widgets/base",
            "_model_module_version": "1.5.0",
            "_view_count": null,
            "_view_module_version": "1.2.0",
            "_model_module": "@jupyter-widgets/controls"
          }
        },
        "b986c2fca5d2411cb208f497bf6a30d4": {
          "model_module": "@jupyter-widgets/base",
          "model_name": "LayoutModel",
          "state": {
            "_view_name": "LayoutView",
            "grid_template_rows": null,
            "right": null,
            "justify_content": null,
            "_view_module": "@jupyter-widgets/base",
            "overflow": null,
            "_model_module_version": "1.2.0",
            "_view_count": null,
            "flex_flow": null,
            "width": null,
            "min_width": null,
            "border": null,
            "align_items": null,
            "bottom": null,
            "_model_module": "@jupyter-widgets/base",
            "top": null,
            "grid_column": null,
            "overflow_y": null,
            "overflow_x": null,
            "grid_auto_flow": null,
            "grid_area": null,
            "grid_template_columns": null,
            "flex": null,
            "_model_name": "LayoutModel",
            "justify_items": null,
            "grid_row": null,
            "max_height": null,
            "align_content": null,
            "visibility": null,
            "align_self": null,
            "height": null,
            "min_height": null,
            "padding": null,
            "grid_auto_rows": null,
            "grid_gap": null,
            "max_width": null,
            "order": null,
            "_view_module_version": "1.2.0",
            "grid_template_areas": null,
            "object_position": null,
            "object_fit": null,
            "grid_auto_columns": null,
            "margin": null,
            "display": null,
            "left": null
          }
        },
        "92273020d853432e84a7c30f4fbb1ed7": {
          "model_module": "@jupyter-widgets/controls",
          "model_name": "HBoxModel",
          "state": {
            "_view_name": "HBoxView",
            "_dom_classes": [],
            "_model_name": "HBoxModel",
            "_view_module": "@jupyter-widgets/controls",
            "_model_module_version": "1.5.0",
            "_view_count": null,
            "_view_module_version": "1.5.0",
            "box_style": "",
            "layout": "IPY_MODEL_d66ce8ccbaaf4268b18f2f83c59890e6",
            "_model_module": "@jupyter-widgets/controls",
            "children": [
              "IPY_MODEL_75059883b68441b0918421176ffda2ad",
              "IPY_MODEL_80b146462915458baa7361bbb3e6e863"
            ]
          }
        },
        "d66ce8ccbaaf4268b18f2f83c59890e6": {
          "model_module": "@jupyter-widgets/base",
          "model_name": "LayoutModel",
          "state": {
            "_view_name": "LayoutView",
            "grid_template_rows": null,
            "right": null,
            "justify_content": null,
            "_view_module": "@jupyter-widgets/base",
            "overflow": null,
            "_model_module_version": "1.2.0",
            "_view_count": null,
            "flex_flow": null,
            "width": null,
            "min_width": null,
            "border": null,
            "align_items": null,
            "bottom": null,
            "_model_module": "@jupyter-widgets/base",
            "top": null,
            "grid_column": null,
            "overflow_y": null,
            "overflow_x": null,
            "grid_auto_flow": null,
            "grid_area": null,
            "grid_template_columns": null,
            "flex": null,
            "_model_name": "LayoutModel",
            "justify_items": null,
            "grid_row": null,
            "max_height": null,
            "align_content": null,
            "visibility": null,
            "align_self": null,
            "height": null,
            "min_height": null,
            "padding": null,
            "grid_auto_rows": null,
            "grid_gap": null,
            "max_width": null,
            "order": null,
            "_view_module_version": "1.2.0",
            "grid_template_areas": null,
            "object_position": null,
            "object_fit": null,
            "grid_auto_columns": null,
            "margin": null,
            "display": null,
            "left": null
          }
        },
        "75059883b68441b0918421176ffda2ad": {
          "model_module": "@jupyter-widgets/controls",
          "model_name": "FloatProgressModel",
          "state": {
            "_view_name": "ProgressView",
            "style": "IPY_MODEL_81d0f8d1b65340b78df61fd5f91742a7",
            "_dom_classes": [],
            "description": "Test Loss: 0.5332, Test Acc: 0.7266: 100%",
            "_model_name": "FloatProgressModel",
            "bar_style": "success",
            "max": 313,
            "_view_module": "@jupyter-widgets/controls",
            "_model_module_version": "1.5.0",
            "value": 313,
            "_view_count": null,
            "_view_module_version": "1.5.0",
            "orientation": "horizontal",
            "min": 0,
            "description_tooltip": null,
            "_model_module": "@jupyter-widgets/controls",
            "layout": "IPY_MODEL_7f29489f1fd544f989375eb0ce5624d4"
          }
        },
        "80b146462915458baa7361bbb3e6e863": {
          "model_module": "@jupyter-widgets/controls",
          "model_name": "HTMLModel",
          "state": {
            "_view_name": "HTMLView",
            "style": "IPY_MODEL_30de8b4239cd49fe84e3de6c24bbef65",
            "_dom_classes": [],
            "description": "",
            "_model_name": "HTMLModel",
            "placeholder": "​",
            "_view_module": "@jupyter-widgets/controls",
            "_model_module_version": "1.5.0",
            "value": " 313/313 [00:58&lt;00:00,  5.31it/s]",
            "_view_count": null,
            "_view_module_version": "1.5.0",
            "description_tooltip": null,
            "_model_module": "@jupyter-widgets/controls",
            "layout": "IPY_MODEL_ba550e9ed4174dc395b7a7c164353d52"
          }
        },
        "81d0f8d1b65340b78df61fd5f91742a7": {
          "model_module": "@jupyter-widgets/controls",
          "model_name": "ProgressStyleModel",
          "state": {
            "_view_name": "StyleView",
            "_model_name": "ProgressStyleModel",
            "description_width": "initial",
            "_view_module": "@jupyter-widgets/base",
            "_model_module_version": "1.5.0",
            "_view_count": null,
            "_view_module_version": "1.2.0",
            "bar_color": null,
            "_model_module": "@jupyter-widgets/controls"
          }
        },
        "7f29489f1fd544f989375eb0ce5624d4": {
          "model_module": "@jupyter-widgets/base",
          "model_name": "LayoutModel",
          "state": {
            "_view_name": "LayoutView",
            "grid_template_rows": null,
            "right": null,
            "justify_content": null,
            "_view_module": "@jupyter-widgets/base",
            "overflow": null,
            "_model_module_version": "1.2.0",
            "_view_count": null,
            "flex_flow": null,
            "width": null,
            "min_width": null,
            "border": null,
            "align_items": null,
            "bottom": null,
            "_model_module": "@jupyter-widgets/base",
            "top": null,
            "grid_column": null,
            "overflow_y": null,
            "overflow_x": null,
            "grid_auto_flow": null,
            "grid_area": null,
            "grid_template_columns": null,
            "flex": null,
            "_model_name": "LayoutModel",
            "justify_items": null,
            "grid_row": null,
            "max_height": null,
            "align_content": null,
            "visibility": null,
            "align_self": null,
            "height": null,
            "min_height": null,
            "padding": null,
            "grid_auto_rows": null,
            "grid_gap": null,
            "max_width": null,
            "order": null,
            "_view_module_version": "1.2.0",
            "grid_template_areas": null,
            "object_position": null,
            "object_fit": null,
            "grid_auto_columns": null,
            "margin": null,
            "display": null,
            "left": null
          }
        },
        "30de8b4239cd49fe84e3de6c24bbef65": {
          "model_module": "@jupyter-widgets/controls",
          "model_name": "DescriptionStyleModel",
          "state": {
            "_view_name": "StyleView",
            "_model_name": "DescriptionStyleModel",
            "description_width": "",
            "_view_module": "@jupyter-widgets/base",
            "_model_module_version": "1.5.0",
            "_view_count": null,
            "_view_module_version": "1.2.0",
            "_model_module": "@jupyter-widgets/controls"
          }
        },
        "ba550e9ed4174dc395b7a7c164353d52": {
          "model_module": "@jupyter-widgets/base",
          "model_name": "LayoutModel",
          "state": {
            "_view_name": "LayoutView",
            "grid_template_rows": null,
            "right": null,
            "justify_content": null,
            "_view_module": "@jupyter-widgets/base",
            "overflow": null,
            "_model_module_version": "1.2.0",
            "_view_count": null,
            "flex_flow": null,
            "width": null,
            "min_width": null,
            "border": null,
            "align_items": null,
            "bottom": null,
            "_model_module": "@jupyter-widgets/base",
            "top": null,
            "grid_column": null,
            "overflow_y": null,
            "overflow_x": null,
            "grid_auto_flow": null,
            "grid_area": null,
            "grid_template_columns": null,
            "flex": null,
            "_model_name": "LayoutModel",
            "justify_items": null,
            "grid_row": null,
            "max_height": null,
            "align_content": null,
            "visibility": null,
            "align_self": null,
            "height": null,
            "min_height": null,
            "padding": null,
            "grid_auto_rows": null,
            "grid_gap": null,
            "max_width": null,
            "order": null,
            "_view_module_version": "1.2.0",
            "grid_template_areas": null,
            "object_position": null,
            "object_fit": null,
            "grid_auto_columns": null,
            "margin": null,
            "display": null,
            "left": null
          }
        },
        "bf394703ea6e4d01995679e62b60679b": {
          "model_module": "@jupyter-widgets/controls",
          "model_name": "HBoxModel",
          "state": {
            "_view_name": "HBoxView",
            "_dom_classes": [],
            "_model_name": "HBoxModel",
            "_view_module": "@jupyter-widgets/controls",
            "_model_module_version": "1.5.0",
            "_view_count": null,
            "_view_module_version": "1.5.0",
            "box_style": "",
            "layout": "IPY_MODEL_bcd7cc63ae19420dadd0b7c83a82e340",
            "_model_module": "@jupyter-widgets/controls",
            "children": [
              "IPY_MODEL_361238d1f583410b8123b4719ba7cc0e",
              "IPY_MODEL_9205995752704e1eb3035bf75250d2b3"
            ]
          }
        },
        "bcd7cc63ae19420dadd0b7c83a82e340": {
          "model_module": "@jupyter-widgets/base",
          "model_name": "LayoutModel",
          "state": {
            "_view_name": "LayoutView",
            "grid_template_rows": null,
            "right": null,
            "justify_content": null,
            "_view_module": "@jupyter-widgets/base",
            "overflow": null,
            "_model_module_version": "1.2.0",
            "_view_count": null,
            "flex_flow": null,
            "width": null,
            "min_width": null,
            "border": null,
            "align_items": null,
            "bottom": null,
            "_model_module": "@jupyter-widgets/base",
            "top": null,
            "grid_column": null,
            "overflow_y": null,
            "overflow_x": null,
            "grid_auto_flow": null,
            "grid_area": null,
            "grid_template_columns": null,
            "flex": null,
            "_model_name": "LayoutModel",
            "justify_items": null,
            "grid_row": null,
            "max_height": null,
            "align_content": null,
            "visibility": null,
            "align_self": null,
            "height": null,
            "min_height": null,
            "padding": null,
            "grid_auto_rows": null,
            "grid_gap": null,
            "max_width": null,
            "order": null,
            "_view_module_version": "1.2.0",
            "grid_template_areas": null,
            "object_position": null,
            "object_fit": null,
            "grid_auto_columns": null,
            "margin": null,
            "display": null,
            "left": null
          }
        },
        "361238d1f583410b8123b4719ba7cc0e": {
          "model_module": "@jupyter-widgets/controls",
          "model_name": "FloatProgressModel",
          "state": {
            "_view_name": "ProgressView",
            "style": "IPY_MODEL_1261bb660d224530b95805c4e7606b70",
            "_dom_classes": [],
            "description": "Test Loss: 0.5069, Test Acc: 0.7494: 100%",
            "_model_name": "FloatProgressModel",
            "bar_style": "success",
            "max": 313,
            "_view_module": "@jupyter-widgets/controls",
            "_model_module_version": "1.5.0",
            "value": 313,
            "_view_count": null,
            "_view_module_version": "1.5.0",
            "orientation": "horizontal",
            "min": 0,
            "description_tooltip": null,
            "_model_module": "@jupyter-widgets/controls",
            "layout": "IPY_MODEL_e8c89198fccb4681936270380a397403"
          }
        },
        "9205995752704e1eb3035bf75250d2b3": {
          "model_module": "@jupyter-widgets/controls",
          "model_name": "HTMLModel",
          "state": {
            "_view_name": "HTMLView",
            "style": "IPY_MODEL_5ac954daf0c648f7900a9a09b719fecc",
            "_dom_classes": [],
            "description": "",
            "_model_name": "HTMLModel",
            "placeholder": "​",
            "_view_module": "@jupyter-widgets/controls",
            "_model_module_version": "1.5.0",
            "value": " 313/313 [02:37&lt;00:00,  1.98it/s]",
            "_view_count": null,
            "_view_module_version": "1.5.0",
            "description_tooltip": null,
            "_model_module": "@jupyter-widgets/controls",
            "layout": "IPY_MODEL_e2657b91e9144474a14317d5cc799ddf"
          }
        },
        "1261bb660d224530b95805c4e7606b70": {
          "model_module": "@jupyter-widgets/controls",
          "model_name": "ProgressStyleModel",
          "state": {
            "_view_name": "StyleView",
            "_model_name": "ProgressStyleModel",
            "description_width": "initial",
            "_view_module": "@jupyter-widgets/base",
            "_model_module_version": "1.5.0",
            "_view_count": null,
            "_view_module_version": "1.2.0",
            "bar_color": null,
            "_model_module": "@jupyter-widgets/controls"
          }
        },
        "e8c89198fccb4681936270380a397403": {
          "model_module": "@jupyter-widgets/base",
          "model_name": "LayoutModel",
          "state": {
            "_view_name": "LayoutView",
            "grid_template_rows": null,
            "right": null,
            "justify_content": null,
            "_view_module": "@jupyter-widgets/base",
            "overflow": null,
            "_model_module_version": "1.2.0",
            "_view_count": null,
            "flex_flow": null,
            "width": null,
            "min_width": null,
            "border": null,
            "align_items": null,
            "bottom": null,
            "_model_module": "@jupyter-widgets/base",
            "top": null,
            "grid_column": null,
            "overflow_y": null,
            "overflow_x": null,
            "grid_auto_flow": null,
            "grid_area": null,
            "grid_template_columns": null,
            "flex": null,
            "_model_name": "LayoutModel",
            "justify_items": null,
            "grid_row": null,
            "max_height": null,
            "align_content": null,
            "visibility": null,
            "align_self": null,
            "height": null,
            "min_height": null,
            "padding": null,
            "grid_auto_rows": null,
            "grid_gap": null,
            "max_width": null,
            "order": null,
            "_view_module_version": "1.2.0",
            "grid_template_areas": null,
            "object_position": null,
            "object_fit": null,
            "grid_auto_columns": null,
            "margin": null,
            "display": null,
            "left": null
          }
        },
        "5ac954daf0c648f7900a9a09b719fecc": {
          "model_module": "@jupyter-widgets/controls",
          "model_name": "DescriptionStyleModel",
          "state": {
            "_view_name": "StyleView",
            "_model_name": "DescriptionStyleModel",
            "description_width": "",
            "_view_module": "@jupyter-widgets/base",
            "_model_module_version": "1.5.0",
            "_view_count": null,
            "_view_module_version": "1.2.0",
            "_model_module": "@jupyter-widgets/controls"
          }
        },
        "e2657b91e9144474a14317d5cc799ddf": {
          "model_module": "@jupyter-widgets/base",
          "model_name": "LayoutModel",
          "state": {
            "_view_name": "LayoutView",
            "grid_template_rows": null,
            "right": null,
            "justify_content": null,
            "_view_module": "@jupyter-widgets/base",
            "overflow": null,
            "_model_module_version": "1.2.0",
            "_view_count": null,
            "flex_flow": null,
            "width": null,
            "min_width": null,
            "border": null,
            "align_items": null,
            "bottom": null,
            "_model_module": "@jupyter-widgets/base",
            "top": null,
            "grid_column": null,
            "overflow_y": null,
            "overflow_x": null,
            "grid_auto_flow": null,
            "grid_area": null,
            "grid_template_columns": null,
            "flex": null,
            "_model_name": "LayoutModel",
            "justify_items": null,
            "grid_row": null,
            "max_height": null,
            "align_content": null,
            "visibility": null,
            "align_self": null,
            "height": null,
            "min_height": null,
            "padding": null,
            "grid_auto_rows": null,
            "grid_gap": null,
            "max_width": null,
            "order": null,
            "_view_module_version": "1.2.0",
            "grid_template_areas": null,
            "object_position": null,
            "object_fit": null,
            "grid_auto_columns": null,
            "margin": null,
            "display": null,
            "left": null
          }
        },
        "504b30e6a41c44be80e715ed96b84c69": {
          "model_module": "@jupyter-widgets/controls",
          "model_name": "HBoxModel",
          "state": {
            "_view_name": "HBoxView",
            "_dom_classes": [],
            "_model_name": "HBoxModel",
            "_view_module": "@jupyter-widgets/controls",
            "_model_module_version": "1.5.0",
            "_view_count": null,
            "_view_module_version": "1.5.0",
            "box_style": "",
            "layout": "IPY_MODEL_2d4db0d6e96b41908f821da0a62fe2d9",
            "_model_module": "@jupyter-widgets/controls",
            "children": [
              "IPY_MODEL_6260f89705d8414b8e64d6cf893cf33e",
              "IPY_MODEL_f5bb546c80dd4ed38ef0159e1f805f91"
            ]
          }
        },
        "2d4db0d6e96b41908f821da0a62fe2d9": {
          "model_module": "@jupyter-widgets/base",
          "model_name": "LayoutModel",
          "state": {
            "_view_name": "LayoutView",
            "grid_template_rows": null,
            "right": null,
            "justify_content": null,
            "_view_module": "@jupyter-widgets/base",
            "overflow": null,
            "_model_module_version": "1.2.0",
            "_view_count": null,
            "flex_flow": null,
            "width": null,
            "min_width": null,
            "border": null,
            "align_items": null,
            "bottom": null,
            "_model_module": "@jupyter-widgets/base",
            "top": null,
            "grid_column": null,
            "overflow_y": null,
            "overflow_x": null,
            "grid_auto_flow": null,
            "grid_area": null,
            "grid_template_columns": null,
            "flex": null,
            "_model_name": "LayoutModel",
            "justify_items": null,
            "grid_row": null,
            "max_height": null,
            "align_content": null,
            "visibility": null,
            "align_self": null,
            "height": null,
            "min_height": null,
            "padding": null,
            "grid_auto_rows": null,
            "grid_gap": null,
            "max_width": null,
            "order": null,
            "_view_module_version": "1.2.0",
            "grid_template_areas": null,
            "object_position": null,
            "object_fit": null,
            "grid_auto_columns": null,
            "margin": null,
            "display": null,
            "left": null
          }
        },
        "6260f89705d8414b8e64d6cf893cf33e": {
          "model_module": "@jupyter-widgets/controls",
          "model_name": "FloatProgressModel",
          "state": {
            "_view_name": "ProgressView",
            "style": "IPY_MODEL_b00f51963d684a7d9b46725619082011",
            "_dom_classes": [],
            "description": "Test Loss: 0.7537, Test Acc: 0.5547: 100%",
            "_model_name": "FloatProgressModel",
            "bar_style": "success",
            "max": 313,
            "_view_module": "@jupyter-widgets/controls",
            "_model_module_version": "1.5.0",
            "value": 313,
            "_view_count": null,
            "_view_module_version": "1.5.0",
            "orientation": "horizontal",
            "min": 0,
            "description_tooltip": null,
            "_model_module": "@jupyter-widgets/controls",
            "layout": "IPY_MODEL_f4eff2cab0864874a9b8882774f65d69"
          }
        },
        "f5bb546c80dd4ed38ef0159e1f805f91": {
          "model_module": "@jupyter-widgets/controls",
          "model_name": "HTMLModel",
          "state": {
            "_view_name": "HTMLView",
            "style": "IPY_MODEL_a7cb96968c7a4101b3449974a56edc4a",
            "_dom_classes": [],
            "description": "",
            "_model_name": "HTMLModel",
            "placeholder": "​",
            "_view_module": "@jupyter-widgets/controls",
            "_model_module_version": "1.5.0",
            "value": " 313/313 [01:28&lt;00:00,  3.55it/s]",
            "_view_count": null,
            "_view_module_version": "1.5.0",
            "description_tooltip": null,
            "_model_module": "@jupyter-widgets/controls",
            "layout": "IPY_MODEL_123ce08fa3b2412eabe7f242034198c7"
          }
        },
        "b00f51963d684a7d9b46725619082011": {
          "model_module": "@jupyter-widgets/controls",
          "model_name": "ProgressStyleModel",
          "state": {
            "_view_name": "StyleView",
            "_model_name": "ProgressStyleModel",
            "description_width": "initial",
            "_view_module": "@jupyter-widgets/base",
            "_model_module_version": "1.5.0",
            "_view_count": null,
            "_view_module_version": "1.2.0",
            "bar_color": null,
            "_model_module": "@jupyter-widgets/controls"
          }
        },
        "f4eff2cab0864874a9b8882774f65d69": {
          "model_module": "@jupyter-widgets/base",
          "model_name": "LayoutModel",
          "state": {
            "_view_name": "LayoutView",
            "grid_template_rows": null,
            "right": null,
            "justify_content": null,
            "_view_module": "@jupyter-widgets/base",
            "overflow": null,
            "_model_module_version": "1.2.0",
            "_view_count": null,
            "flex_flow": null,
            "width": null,
            "min_width": null,
            "border": null,
            "align_items": null,
            "bottom": null,
            "_model_module": "@jupyter-widgets/base",
            "top": null,
            "grid_column": null,
            "overflow_y": null,
            "overflow_x": null,
            "grid_auto_flow": null,
            "grid_area": null,
            "grid_template_columns": null,
            "flex": null,
            "_model_name": "LayoutModel",
            "justify_items": null,
            "grid_row": null,
            "max_height": null,
            "align_content": null,
            "visibility": null,
            "align_self": null,
            "height": null,
            "min_height": null,
            "padding": null,
            "grid_auto_rows": null,
            "grid_gap": null,
            "max_width": null,
            "order": null,
            "_view_module_version": "1.2.0",
            "grid_template_areas": null,
            "object_position": null,
            "object_fit": null,
            "grid_auto_columns": null,
            "margin": null,
            "display": null,
            "left": null
          }
        },
        "a7cb96968c7a4101b3449974a56edc4a": {
          "model_module": "@jupyter-widgets/controls",
          "model_name": "DescriptionStyleModel",
          "state": {
            "_view_name": "StyleView",
            "_model_name": "DescriptionStyleModel",
            "description_width": "",
            "_view_module": "@jupyter-widgets/base",
            "_model_module_version": "1.5.0",
            "_view_count": null,
            "_view_module_version": "1.2.0",
            "_model_module": "@jupyter-widgets/controls"
          }
        },
        "123ce08fa3b2412eabe7f242034198c7": {
          "model_module": "@jupyter-widgets/base",
          "model_name": "LayoutModel",
          "state": {
            "_view_name": "LayoutView",
            "grid_template_rows": null,
            "right": null,
            "justify_content": null,
            "_view_module": "@jupyter-widgets/base",
            "overflow": null,
            "_model_module_version": "1.2.0",
            "_view_count": null,
            "flex_flow": null,
            "width": null,
            "min_width": null,
            "border": null,
            "align_items": null,
            "bottom": null,
            "_model_module": "@jupyter-widgets/base",
            "top": null,
            "grid_column": null,
            "overflow_y": null,
            "overflow_x": null,
            "grid_auto_flow": null,
            "grid_area": null,
            "grid_template_columns": null,
            "flex": null,
            "_model_name": "LayoutModel",
            "justify_items": null,
            "grid_row": null,
            "max_height": null,
            "align_content": null,
            "visibility": null,
            "align_self": null,
            "height": null,
            "min_height": null,
            "padding": null,
            "grid_auto_rows": null,
            "grid_gap": null,
            "max_width": null,
            "order": null,
            "_view_module_version": "1.2.0",
            "grid_template_areas": null,
            "object_position": null,
            "object_fit": null,
            "grid_auto_columns": null,
            "margin": null,
            "display": null,
            "left": null
          }
        }
      }
    }
  },
  "cells": [
    {
      "cell_type": "markdown",
      "metadata": {
        "id": "Ot3c4fjZwC4T"
      },
      "source": [
        "<img src=\"https://s8.hostingkartinok.com/uploads/images/2018/08/308b49fcfbc619d629fe4604bceb67ac.jpg\" width=500, height=450>\n",
        "<h3 style=\"text-align: center;\"><b>Физтех-Школа Прикладной математики и информатики (ФПМИ) МФТИ</b></h3>"
      ]
    },
    {
      "cell_type": "markdown",
      "metadata": {
        "id": "P2JdzEXmwRU5"
      },
      "source": [
        "---"
      ]
    },
    {
      "cell_type": "markdown",
      "metadata": {
        "id": "eYtJxkhKpYK2"
      },
      "source": [
        "# Embeddings\n",
        "\n",
        "Привет! В этом домашнем задании мы с помощью эмбеддингов решим задачу семантической классификации твитов.\n",
        "\n",
        "Для этого мы воспользуемся предобученными эмбеддингами word2vec."
      ]
    },
    {
      "cell_type": "markdown",
      "metadata": {
        "id": "jBOdoFS8AdpP"
      },
      "source": [
        "Для начала скачаем датасет для семантической классификации твитов:"
      ]
    },
    {
      "cell_type": "code",
      "metadata": {
        "colab": {
          "base_uri": "https://localhost:8080/"
        },
        "id": "wXjhtsfF_gBK",
        "outputId": "34cfa3e2-69a6-4b54-f266-922b41b5b5e4"
      },
      "source": [
        "!gdown https://drive.google.com/uc?id=1eE1FiUkXkcbw0McId4i7qY-L8hH-_Qph&export=download\n",
        "!unzip archive.zip"
      ],
      "execution_count": 1,
      "outputs": [
        {
          "output_type": "stream",
          "text": [
            "Downloading...\n",
            "From: https://drive.google.com/uc?id=1eE1FiUkXkcbw0McId4i7qY-L8hH-_Qph\n",
            "To: /content/archive.zip\n",
            "84.9MB [00:00, 119MB/s] \n",
            "Archive:  archive.zip\n",
            "replace training.1600000.processed.noemoticon.csv? [y]es, [n]o, [A]ll, [N]one, [r]ename: n\n"
          ],
          "name": "stdout"
        }
      ]
    },
    {
      "cell_type": "markdown",
      "metadata": {
        "id": "Sh6wW-K53Mle"
      },
      "source": [
        "Импортируем нужные библиотеки:"
      ]
    },
    {
      "cell_type": "code",
      "metadata": {
        "id": "A2Y5CHRm6NFe"
      },
      "source": [
        "import math\n",
        "import random\n",
        "import string\n",
        "\n",
        "import numpy as np\n",
        "import pandas as pd\n",
        "import seaborn as sns\n",
        "\n",
        "import torch\n",
        "import nltk\n",
        "import gensim\n",
        "import gensim.downloader as api"
      ],
      "execution_count": 2,
      "outputs": []
    },
    {
      "cell_type": "code",
      "metadata": {
        "id": "73Lb0wbESrgQ"
      },
      "source": [
        "random.seed(42)\n",
        "np.random.seed(42)\n",
        "torch.random.manual_seed(42)\n",
        "torch.cuda.random.manual_seed(42)\n",
        "torch.cuda.random.manual_seed_all(42)\n",
        "\n",
        "device = \"cpu\" if torch.cuda.is_available() else \"cpu\""
      ],
      "execution_count": 3,
      "outputs": []
    },
    {
      "cell_type": "code",
      "metadata": {
        "id": "L_Wv-4bu83Fl"
      },
      "source": [
        "data = pd.read_csv(\"training.1600000.processed.noemoticon.csv\", encoding=\"latin\", header=None, names=[\"emotion\", \"id\", \"date\", \"flag\", \"user\", \"text\"])"
      ],
      "execution_count": 4,
      "outputs": []
    },
    {
      "cell_type": "markdown",
      "metadata": {
        "id": "RY1pvYDS3Yuj"
      },
      "source": [
        "Посмотрим на данные:"
      ]
    },
    {
      "cell_type": "code",
      "metadata": {
        "colab": {
          "base_uri": "https://localhost:8080/",
          "height": 204
        },
        "id": "jST2tjgjCTWD",
        "outputId": "f8ce9f88-ed9a-4813-903d-1b2317e5f7ea"
      },
      "source": [
        "data.head()"
      ],
      "execution_count": 5,
      "outputs": [
        {
          "output_type": "execute_result",
          "data": {
            "text/html": [
              "<div>\n",
              "<style scoped>\n",
              "    .dataframe tbody tr th:only-of-type {\n",
              "        vertical-align: middle;\n",
              "    }\n",
              "\n",
              "    .dataframe tbody tr th {\n",
              "        vertical-align: top;\n",
              "    }\n",
              "\n",
              "    .dataframe thead th {\n",
              "        text-align: right;\n",
              "    }\n",
              "</style>\n",
              "<table border=\"1\" class=\"dataframe\">\n",
              "  <thead>\n",
              "    <tr style=\"text-align: right;\">\n",
              "      <th></th>\n",
              "      <th>emotion</th>\n",
              "      <th>id</th>\n",
              "      <th>date</th>\n",
              "      <th>flag</th>\n",
              "      <th>user</th>\n",
              "      <th>text</th>\n",
              "    </tr>\n",
              "  </thead>\n",
              "  <tbody>\n",
              "    <tr>\n",
              "      <th>0</th>\n",
              "      <td>0</td>\n",
              "      <td>1467810369</td>\n",
              "      <td>Mon Apr 06 22:19:45 PDT 2009</td>\n",
              "      <td>NO_QUERY</td>\n",
              "      <td>_TheSpecialOne_</td>\n",
              "      <td>@switchfoot http://twitpic.com/2y1zl - Awww, t...</td>\n",
              "    </tr>\n",
              "    <tr>\n",
              "      <th>1</th>\n",
              "      <td>0</td>\n",
              "      <td>1467810672</td>\n",
              "      <td>Mon Apr 06 22:19:49 PDT 2009</td>\n",
              "      <td>NO_QUERY</td>\n",
              "      <td>scotthamilton</td>\n",
              "      <td>is upset that he can't update his Facebook by ...</td>\n",
              "    </tr>\n",
              "    <tr>\n",
              "      <th>2</th>\n",
              "      <td>0</td>\n",
              "      <td>1467810917</td>\n",
              "      <td>Mon Apr 06 22:19:53 PDT 2009</td>\n",
              "      <td>NO_QUERY</td>\n",
              "      <td>mattycus</td>\n",
              "      <td>@Kenichan I dived many times for the ball. Man...</td>\n",
              "    </tr>\n",
              "    <tr>\n",
              "      <th>3</th>\n",
              "      <td>0</td>\n",
              "      <td>1467811184</td>\n",
              "      <td>Mon Apr 06 22:19:57 PDT 2009</td>\n",
              "      <td>NO_QUERY</td>\n",
              "      <td>ElleCTF</td>\n",
              "      <td>my whole body feels itchy and like its on fire</td>\n",
              "    </tr>\n",
              "    <tr>\n",
              "      <th>4</th>\n",
              "      <td>0</td>\n",
              "      <td>1467811193</td>\n",
              "      <td>Mon Apr 06 22:19:57 PDT 2009</td>\n",
              "      <td>NO_QUERY</td>\n",
              "      <td>Karoli</td>\n",
              "      <td>@nationwideclass no, it's not behaving at all....</td>\n",
              "    </tr>\n",
              "  </tbody>\n",
              "</table>\n",
              "</div>"
            ],
            "text/plain": [
              "   emotion  ...                                               text\n",
              "0        0  ...  @switchfoot http://twitpic.com/2y1zl - Awww, t...\n",
              "1        0  ...  is upset that he can't update his Facebook by ...\n",
              "2        0  ...  @Kenichan I dived many times for the ball. Man...\n",
              "3        0  ...    my whole body feels itchy and like its on fire \n",
              "4        0  ...  @nationwideclass no, it's not behaving at all....\n",
              "\n",
              "[5 rows x 6 columns]"
            ]
          },
          "metadata": {
            "tags": []
          },
          "execution_count": 5
        }
      ]
    },
    {
      "cell_type": "code",
      "metadata": {
        "colab": {
          "base_uri": "https://localhost:8080/"
        },
        "id": "lzIR_USk6DFc",
        "outputId": "5d401a9d-96ea-4ceb-fa56-e4958d6ac406"
      },
      "source": [
        "len(data)"
      ],
      "execution_count": 6,
      "outputs": [
        {
          "output_type": "execute_result",
          "data": {
            "text/plain": [
              "1600000"
            ]
          },
          "metadata": {
            "tags": []
          },
          "execution_count": 6
        }
      ]
    },
    {
      "cell_type": "markdown",
      "metadata": {
        "id": "OhbR5JJyA2VW"
      },
      "source": [
        "Выведем несколько примеров твитов, чтобы понимать, с чем мы имеем дело:"
      ]
    },
    {
      "cell_type": "code",
      "metadata": {
        "colab": {
          "base_uri": "https://localhost:8080/"
        },
        "id": "kCBwe0wR83C2",
        "outputId": "5e5b50c5-3c4d-4d34-d8b7-0a34d8a5beec"
      },
      "source": [
        "examples = data[\"text\"].sample(10)\n",
        "print(\"\\n\".join(examples))"
      ],
      "execution_count": 7,
      "outputs": [
        {
          "output_type": "stream",
          "text": [
            "@chrishasboobs AHHH I HOPE YOUR OK!!! \n",
            "@misstoriblack cool , i have no tweet apps  for my razr 2\n",
            "@TiannaChaos i know  just family drama. its lame.hey next time u hang out with kim n u guys like have a sleepover or whatever, ill call u\n",
            "School email won't open  and I have geography stuff on there to revise! *Stupid School* :'(\n",
            "upper airways problem \n",
            "Going to miss Pastor's sermon on Faith... \n",
            "on lunch....dj should come eat with me \n",
            "@piginthepoke oh why are you feeling like that? \n",
            "gahh noo!peyton needs to live!this is horrible \n",
            "@mrstessyman thank you glad you like it! There is a product review bit on the site  Enjoy knitting it!\n"
          ],
          "name": "stdout"
        }
      ]
    },
    {
      "cell_type": "markdown",
      "metadata": {
        "id": "GvcYW8aX3mKt"
      },
      "source": [
        "Как вилим, тексты твитов очень \"грязные\". Нужно предобработать датасет, прежде чем строить для него модель классификации.\n",
        "\n",
        "Чтобы сравнивать различные методы обработки текста/модели/прочее, разделим датасет на dev(для обучения модели) и test(для получения качества модели)."
      ]
    },
    {
      "cell_type": "code",
      "metadata": {
        "colab": {
          "base_uri": "https://localhost:8080/"
        },
        "id": "f8hUK-jnQg6O",
        "outputId": "c7b87c59-e544-4606-bd13-0ffc321cd0e9"
      },
      "source": [
        "indexes = np.arange(data.shape[0])\n",
        "np.random.shuffle(indexes)\n",
        "dev_size = math.ceil(data.shape[0] * 0.8)\n",
        "\n",
        "dev_indexes = indexes[:dev_size]\n",
        "test_indexes = indexes[dev_size:]\n",
        "\n",
        "dev_data = data.iloc[dev_indexes]\n",
        "test_data = data.iloc[test_indexes]\n",
        "print(dev_data)\n",
        "dev_data.reset_index(drop=True, inplace=True)\n",
        "test_data.reset_index(drop=True, inplace=True)"
      ],
      "execution_count": 8,
      "outputs": [
        {
          "output_type": "stream",
          "text": [
            "         emotion  ...                                               text\n",
            "33408          0  ...  @Claire_Nelson i'm on the north devon coast th...\n",
            "1041124        4  ...  @jhicks  i will think of you on Sunday!   Who ...\n",
            "832491         4  ...  Out in the garden with the kids debating wheth...\n",
            "948959         4  ...  @FrVerona thank u my love...u've shown me the ...\n",
            "1562417        4  ...  is with @jonasbrosfan1  going to buy LVATT tog...\n",
            "...          ...  ...                                                ...\n",
            "1141780        4  ...  @yajtyler thats so sweet =] they like you  and...\n",
            "478676         0  ...     Really sad the NBA playoffs are over for good \n",
            "1424044        4  ...  @JuJuBeanz15 LOL Im glad that u have that pers...\n",
            "131963         0  ...         I have to go to the GYM  it's toooooo hot.\n",
            "1393018        4  ...  @Natalie_McLife okay will do hen it has finish...\n",
            "\n",
            "[1280000 rows x 6 columns]\n"
          ],
          "name": "stdout"
        }
      ]
    },
    {
      "cell_type": "markdown",
      "metadata": {
        "id": "6ivcpeFoCnZA"
      },
      "source": [
        "## Обработка текста"
      ]
    },
    {
      "cell_type": "markdown",
      "metadata": {
        "id": "Df4nca285Dar"
      },
      "source": [
        "Токенизируем текст, избавимся от знаков пунктуации и выкинем все слова, состоящие менее чем из 4 букв:"
      ]
    },
    {
      "cell_type": "code",
      "metadata": {
        "colab": {
          "base_uri": "https://localhost:8080/"
        },
        "id": "nsNHNDES9ZVF",
        "outputId": "e4857c2b-17d2-47cd-bc51-b4e5ef84ca29"
      },
      "source": [
        "tokenizer = nltk.WordPunctTokenizer()\n",
        "line = tokenizer.tokenize(dev_data[\"text\"][0].lower())\n",
        "print(\" \".join(line))"
      ],
      "execution_count": 9,
      "outputs": [
        {
          "output_type": "stream",
          "text": [
            "@ claire_nelson i ' m on the north devon coast the next few weeks will be down in devon again in may sometime i hope though !\n"
          ],
          "name": "stdout"
        }
      ]
    },
    {
      "cell_type": "code",
      "metadata": {
        "colab": {
          "base_uri": "https://localhost:8080/"
        },
        "id": "GcBS_u_hTuxp",
        "outputId": "741009fd-dd6c-4024-b3de-8f3faffaaa10"
      },
      "source": [
        "filtered_line = [w for w in line if all(c not in string.punctuation for c in w) and len(w) > 3]\n",
        "print(\" \".join(filtered_line))"
      ],
      "execution_count": 10,
      "outputs": [
        {
          "output_type": "stream",
          "text": [
            "north devon coast next weeks will down devon again sometime hope though\n"
          ],
          "name": "stdout"
        }
      ]
    },
    {
      "cell_type": "markdown",
      "metadata": {
        "id": "cuFmlXkC6E7X"
      },
      "source": [
        "Загрузим предобученную модель эмбеддингов. \n",
        "\n",
        "Если хотите, можно попробовать другую. Полный список можно найти здесь: https://github.com/RaRe-Technologies/gensim-data.\n",
        "\n",
        "Данная модель выдает эмбеддинги для **слов**. Строить по эмбеддингам слов эмбеддинги предложений мы будем ниже."
      ]
    },
    {
      "cell_type": "code",
      "metadata": {
        "id": "cACJpje2T5bc"
      },
      "source": [
        "word2vec = api.load(\"word2vec-google-news-300\")"
      ],
      "execution_count": 11,
      "outputs": []
    },
    {
      "cell_type": "code",
      "metadata": {
        "colab": {
          "base_uri": "https://localhost:8080/"
        },
        "id": "NafmYHrkT5YD",
        "outputId": "3ed4cefe-f04b-4a47-b049-49f04def3744"
      },
      "source": [
        "emb_line = [word2vec.get_vector(w) for w in filtered_line if w in word2vec]\n",
        "print(sum(emb_line).shape)"
      ],
      "execution_count": 12,
      "outputs": [
        {
          "output_type": "stream",
          "text": [
            "(300,)\n"
          ],
          "name": "stdout"
        }
      ]
    },
    {
      "cell_type": "markdown",
      "metadata": {
        "id": "LTS6LCkd6_E7"
      },
      "source": [
        "Нормализуем эмбеддинги, прежде чем обучать на них сеть. \n",
        "(наверное, вы помните, что нейронные сети гораздо лучше обучаются на нормализованных данных)"
      ]
    },
    {
      "cell_type": "code",
      "metadata": {
        "colab": {
          "base_uri": "https://localhost:8080/"
        },
        "id": "3PyLTZ6xf3Oq",
        "outputId": "1fd71c37-0d31-4b3f-f106-bed1bfc28f4f"
      },
      "source": [
        "mean = np.mean(word2vec.vectors, 0)\n",
        "std = np.std(word2vec.vectors, 0)\n",
        "norm_emb_line = [(word2vec.get_vector(w) - mean) / std for w in filtered_line if w in word2vec and len(w) > 3]\n",
        "print(sum(norm_emb_line).shape)\n",
        "print([all(norm_emb_line[i] == emb_line[i]) for i in range(len(emb_line))])"
      ],
      "execution_count": 13,
      "outputs": [
        {
          "output_type": "stream",
          "text": [
            "(300,)\n",
            "[False, False, False, False, False, False, False, False, False, False, False, False]\n"
          ],
          "name": "stdout"
        }
      ]
    },
    {
      "cell_type": "markdown",
      "metadata": {
        "id": "q7vm6Ppd7Ubw"
      },
      "source": [
        "Сделаем датасет, который будет по запросу возвращать подготовленные данные."
      ]
    },
    {
      "cell_type": "code",
      "metadata": {
        "id": "b4eZajF7pZ1X"
      },
      "source": [
        "from torch.utils.data import Dataset, random_split\n",
        "\n",
        "\n",
        "class TwitterDataset(Dataset):\n",
        "    def __init__(self, data: pd.DataFrame, feature_column: str, target_column: str, word2vec: gensim.models.Word2Vec):\n",
        "        self.tokenizer = nltk.WordPunctTokenizer()\n",
        "        \n",
        "        self.data = data\n",
        "\n",
        "        self.feature_column = feature_column\n",
        "        self.target_column = target_column\n",
        "\n",
        "        self.word2vec = word2vec\n",
        "\n",
        "        self.label2num = lambda label: 0 if label == 0 else 1\n",
        "        self.mean = np.mean(word2vec.vectors, axis=0)\n",
        "        self.std = np.std(word2vec.vectors, axis=0)\n",
        "\n",
        "    def __getitem__(self, item):\n",
        "        text = self.data[self.feature_column][item]\n",
        "        label = self.label2num(self.data[self.target_column][item])\n",
        "\n",
        "        tokens = self.get_tokens_(text)\n",
        "        embeddings = self.get_embeddings_(tokens)\n",
        "\n",
        "        return {\"feature\": embeddings, \"target\": label}\n",
        "\n",
        "    def get_tokens_(self, text):\n",
        "        #Получи все токены из текста и профильтруй их\n",
        "        line = self.tokenizer.tokenize(text.lower())\n",
        "        filtered_line = [w for w in line if all(c not in string.punctuation for c in w) and len(w) > 3]\n",
        "        return filtered_line\n",
        "\n",
        "    def get_embeddings_(self, tokens):\n",
        "        # Получи эмбеддинги слов и усредни их\n",
        "        embeddings = np.mean([(self.word2vec.get_vector(w) - self.mean)/self.std for w in tokens if w in self.word2vec],axis=0)\n",
        "        if len(embeddings.shape) == 0:\n",
        "            embeddings = np.zeros((1, self.word2vec.vector_size))\n",
        "        else:\n",
        "            embeddings = np.array(embeddings)\n",
        "            if len(embeddings.shape) == 1:\n",
        "                embeddings = embeddings.reshape(1, -1)\n",
        "\n",
        "        return embeddings\n",
        "\n",
        "    def __len__(self):\n",
        "        return self.data.shape[0]"
      ],
      "execution_count": 14,
      "outputs": []
    },
    {
      "cell_type": "code",
      "metadata": {
        "id": "IZJpttbXpZyz"
      },
      "source": [
        "dev = TwitterDataset(dev_data, \"text\", \"emotion\", word2vec)"
      ],
      "execution_count": 15,
      "outputs": []
    },
    {
      "cell_type": "code",
      "metadata": {
        "colab": {
          "base_uri": "https://localhost:8080/",
          "height": 419
        },
        "id": "kVyRqS2Boy5e",
        "outputId": "f3c481fb-514f-4de6-9161-a75dff42f56d"
      },
      "source": [
        "dev_data"
      ],
      "execution_count": 16,
      "outputs": [
        {
          "output_type": "execute_result",
          "data": {
            "text/html": [
              "<div>\n",
              "<style scoped>\n",
              "    .dataframe tbody tr th:only-of-type {\n",
              "        vertical-align: middle;\n",
              "    }\n",
              "\n",
              "    .dataframe tbody tr th {\n",
              "        vertical-align: top;\n",
              "    }\n",
              "\n",
              "    .dataframe thead th {\n",
              "        text-align: right;\n",
              "    }\n",
              "</style>\n",
              "<table border=\"1\" class=\"dataframe\">\n",
              "  <thead>\n",
              "    <tr style=\"text-align: right;\">\n",
              "      <th></th>\n",
              "      <th>emotion</th>\n",
              "      <th>id</th>\n",
              "      <th>date</th>\n",
              "      <th>flag</th>\n",
              "      <th>user</th>\n",
              "      <th>text</th>\n",
              "    </tr>\n",
              "  </thead>\n",
              "  <tbody>\n",
              "    <tr>\n",
              "      <th>0</th>\n",
              "      <td>0</td>\n",
              "      <td>1564500154</td>\n",
              "      <td>Mon Apr 20 03:47:08 PDT 2009</td>\n",
              "      <td>NO_QUERY</td>\n",
              "      <td>zourzouvillys</td>\n",
              "      <td>@Claire_Nelson i'm on the north devon coast th...</td>\n",
              "    </tr>\n",
              "    <tr>\n",
              "      <th>1</th>\n",
              "      <td>4</td>\n",
              "      <td>1957039896</td>\n",
              "      <td>Thu May 28 23:21:01 PDT 2009</td>\n",
              "      <td>NO_QUERY</td>\n",
              "      <td>twinkleval</td>\n",
              "      <td>@jhicks  i will think of you on Sunday!   Who ...</td>\n",
              "    </tr>\n",
              "    <tr>\n",
              "      <th>2</th>\n",
              "      <td>4</td>\n",
              "      <td>1557601862</td>\n",
              "      <td>Sun Apr 19 05:03:53 PDT 2009</td>\n",
              "      <td>NO_QUERY</td>\n",
              "      <td>andrewbulloch</td>\n",
              "      <td>Out in the garden with the kids debating wheth...</td>\n",
              "    </tr>\n",
              "    <tr>\n",
              "      <th>3</th>\n",
              "      <td>4</td>\n",
              "      <td>1823599026</td>\n",
              "      <td>Sat May 16 22:25:01 PDT 2009</td>\n",
              "      <td>NO_QUERY</td>\n",
              "      <td>vikchopra</td>\n",
              "      <td>@FrVerona thank u my love...u've shown me the ...</td>\n",
              "    </tr>\n",
              "    <tr>\n",
              "      <th>4</th>\n",
              "      <td>4</td>\n",
              "      <td>2186814798</td>\n",
              "      <td>Mon Jun 15 19:22:35 PDT 2009</td>\n",
              "      <td>NO_QUERY</td>\n",
              "      <td>jobrofan16</td>\n",
              "      <td>is with @jonasbrosfan1  going to buy LVATT tog...</td>\n",
              "    </tr>\n",
              "    <tr>\n",
              "      <th>...</th>\n",
              "      <td>...</td>\n",
              "      <td>...</td>\n",
              "      <td>...</td>\n",
              "      <td>...</td>\n",
              "      <td>...</td>\n",
              "      <td>...</td>\n",
              "    </tr>\n",
              "    <tr>\n",
              "      <th>1279995</th>\n",
              "      <td>4</td>\n",
              "      <td>1977221349</td>\n",
              "      <td>Sat May 30 20:25:09 PDT 2009</td>\n",
              "      <td>NO_QUERY</td>\n",
              "      <td>omgxregina</td>\n",
              "      <td>@yajtyler thats so sweet =] they like you  and...</td>\n",
              "    </tr>\n",
              "    <tr>\n",
              "      <th>1279996</th>\n",
              "      <td>0</td>\n",
              "      <td>2178617823</td>\n",
              "      <td>Mon Jun 15 07:57:56 PDT 2009</td>\n",
              "      <td>NO_QUERY</td>\n",
              "      <td>ilykthx</td>\n",
              "      <td>Really sad the NBA playoffs are over for good</td>\n",
              "    </tr>\n",
              "    <tr>\n",
              "      <th>1279997</th>\n",
              "      <td>4</td>\n",
              "      <td>2058796673</td>\n",
              "      <td>Sat Jun 06 15:38:43 PDT 2009</td>\n",
              "      <td>NO_QUERY</td>\n",
              "      <td>Socallmelovely</td>\n",
              "      <td>@JuJuBeanz15 LOL Im glad that u have that pers...</td>\n",
              "    </tr>\n",
              "    <tr>\n",
              "      <th>1279998</th>\n",
              "      <td>0</td>\n",
              "      <td>1835648576</td>\n",
              "      <td>Mon May 18 06:27:33 PDT 2009</td>\n",
              "      <td>NO_QUERY</td>\n",
              "      <td>tercowas</td>\n",
              "      <td>I have to go to the GYM  it's toooooo hot.</td>\n",
              "    </tr>\n",
              "    <tr>\n",
              "      <th>1279999</th>\n",
              "      <td>4</td>\n",
              "      <td>2053470577</td>\n",
              "      <td>Sat Jun 06 04:40:14 PDT 2009</td>\n",
              "      <td>NO_QUERY</td>\n",
              "      <td>WLxboxRox56</td>\n",
              "      <td>@Natalie_McLife okay will do hen it has finish...</td>\n",
              "    </tr>\n",
              "  </tbody>\n",
              "</table>\n",
              "<p>1280000 rows × 6 columns</p>\n",
              "</div>"
            ],
            "text/plain": [
              "         emotion  ...                                               text\n",
              "0              0  ...  @Claire_Nelson i'm on the north devon coast th...\n",
              "1              4  ...  @jhicks  i will think of you on Sunday!   Who ...\n",
              "2              4  ...  Out in the garden with the kids debating wheth...\n",
              "3              4  ...  @FrVerona thank u my love...u've shown me the ...\n",
              "4              4  ...  is with @jonasbrosfan1  going to buy LVATT tog...\n",
              "...          ...  ...                                                ...\n",
              "1279995        4  ...  @yajtyler thats so sweet =] they like you  and...\n",
              "1279996        0  ...     Really sad the NBA playoffs are over for good \n",
              "1279997        4  ...  @JuJuBeanz15 LOL Im glad that u have that pers...\n",
              "1279998        0  ...         I have to go to the GYM  it's toooooo hot.\n",
              "1279999        4  ...  @Natalie_McLife okay will do hen it has finish...\n",
              "\n",
              "[1280000 rows x 6 columns]"
            ]
          },
          "metadata": {
            "tags": []
          },
          "execution_count": 16
        }
      ]
    },
    {
      "cell_type": "markdown",
      "metadata": {
        "id": "Sr-aetH0_LH1"
      },
      "source": [
        "Отлично, мы готовы с помощью эмбеддингов слов превращать твиты в векторы и обучать нейронную сеть.\n",
        "\n",
        "Превращать твиты в векторы, используя эмбеддинги слов, можно несколькими способами. А именно такими:"
      ]
    },
    {
      "cell_type": "markdown",
      "metadata": {
        "id": "4AhHrWa196Yc"
      },
      "source": [
        "## Average embedding (2 балла)\n",
        "---\n",
        "Это самый простой вариант, как получить вектор предложения, используя векторные представления слов в предложении. А именно: вектор предложения есть средний вектор всех слов в предлоежнии (которые остались после токенизации и удаления коротких слов, конечно). "
      ]
    },
    {
      "cell_type": "code",
      "metadata": {
        "colab": {
          "base_uri": "https://localhost:8080/"
        },
        "id": "ScdokSW-994t",
        "outputId": "5c9ba36a-b247-4d96-de5e-c37e065941f7"
      },
      "source": [
        "indexes = np.arange(len(dev))\n",
        "np.random.shuffle(indexes)\n",
        "example_indexes = indexes[::1000]\n",
        "\n",
        "examples = {\"features\": [np.sum(dev[i][\"feature\"], axis=0) for i in example_indexes], \n",
        "            \"targets\": [dev[i][\"target\"] for i in example_indexes]}\n",
        "print(len(examples[\"features\"]))"
      ],
      "execution_count": 17,
      "outputs": [
        {
          "output_type": "stream",
          "text": [
            "/usr/local/lib/python3.7/dist-packages/numpy/core/fromnumeric.py:3373: RuntimeWarning: Mean of empty slice.\n",
            "  out=out, **kwargs)\n",
            "/usr/local/lib/python3.7/dist-packages/numpy/core/_methods.py:170: RuntimeWarning: invalid value encountered in double_scalars\n",
            "  ret = ret.dtype.type(ret / rcount)\n"
          ],
          "name": "stderr"
        },
        {
          "output_type": "stream",
          "text": [
            "1280\n"
          ],
          "name": "stdout"
        }
      ]
    },
    {
      "cell_type": "code",
      "metadata": {
        "colab": {
          "base_uri": "https://localhost:8080/"
        },
        "id": "Xj7AjJrMF_wj",
        "outputId": "9d24098e-9766-4418-ef23-9ea2146ef181"
      },
      "source": [
        "example_indexes"
      ],
      "execution_count": 18,
      "outputs": [
        {
          "output_type": "execute_result",
          "data": {
            "text/plain": [
              "array([1028720,  475889,  524133, ...,  593530,  724709,  845532])"
            ]
          },
          "metadata": {
            "tags": []
          },
          "execution_count": 18
        }
      ]
    },
    {
      "cell_type": "code",
      "metadata": {
        "colab": {
          "base_uri": "https://localhost:8080/"
        },
        "id": "aZJo7mBUcLsR",
        "outputId": "afdeca0d-563d-4210-c50b-14b8de019670"
      },
      "source": [
        "examples[\"features\"][0]"
      ],
      "execution_count": 19,
      "outputs": [
        {
          "output_type": "execute_result",
          "data": {
            "text/plain": [
              "array([ 7.9884803e-01,  2.9639465e-01, -2.2475016e-01,  8.2761788e-01,\n",
              "       -3.1564566e-01, -1.6312727e-01,  1.7091973e-01, -2.3886690e-01,\n",
              "        1.3271519e+00,  7.9067945e-02, -3.7298936e-01, -6.2446344e-01,\n",
              "       -4.5519450e-01, -6.0943842e-01, -8.8517392e-01,  3.5065675e-01,\n",
              "        3.0780718e-01,  6.7162788e-01,  4.2289284e-01,  2.1005470e-01,\n",
              "       -7.7801168e-01,  3.7947506e-01,  6.3729638e-01, -6.4212009e-02,\n",
              "       -2.1386537e-01,  6.5230477e-01,  5.6758843e-02, -1.4959922e-01,\n",
              "       -1.0668172e-01,  7.2228706e-01,  3.5502084e-02,  3.3637053e-01,\n",
              "       -3.5735342e-01,  1.4720384e-02,  5.6321281e-01,  1.0573757e+00,\n",
              "       -1.0641952e-01, -7.5060594e-01,  1.1950602e-01,  5.7973540e-01,\n",
              "        7.0914221e-01, -5.5394304e-01,  1.0270479e+00, -8.7821597e-01,\n",
              "        2.4422202e-01,  6.0519435e-02,  6.4671451e-01,  7.5697160e-01,\n",
              "       -8.9677095e-01,  1.1938182e-01,  1.0028274e+00,  2.0390332e-01,\n",
              "        6.8945684e-02, -6.1266530e-01,  2.9391396e-01, -3.9199635e-01,\n",
              "        2.6530415e-01, -2.4728131e-02,  1.1166631e+00,  1.5031126e-01,\n",
              "        8.9530446e-02, -1.5743551e-01, -3.8229561e-01, -8.8514000e-01,\n",
              "        9.1398600e-04, -4.0748113e-01, -2.5790924e-01, -1.2004953e-01,\n",
              "       -6.4634651e-01,  3.6486000e-02,  4.3239158e-01,  2.7034649e-01,\n",
              "        1.8990873e-01,  1.1539176e-02,  3.6923146e-01,  2.0414203e-01,\n",
              "        6.5201277e-01,  1.2293394e+00,  1.6557020e-01, -6.7087388e-01,\n",
              "        3.5630524e-01,  1.2866460e-01,  3.0959654e-01,  1.8795593e-01,\n",
              "       -9.9852806e-01, -1.6869114e-01, -2.8444505e-01,  8.4852129e-01,\n",
              "       -1.9497351e-01,  3.2395500e-01,  8.6606628e-01,  9.5698464e-01,\n",
              "        8.1324840e-01, -1.2951770e+00, -4.4475859e-01, -6.8922269e-01,\n",
              "       -5.9648907e-01,  1.2602067e-01,  2.9267946e-01,  5.4685616e-01,\n",
              "       -1.4842993e-01, -4.2440183e-02,  4.5046088e-01,  4.6453416e-01,\n",
              "       -6.4742941e-01, -3.6611453e-01, -3.2342875e-01, -3.0353677e-01,\n",
              "        3.1811464e-01, -9.9456012e-01, -9.1858707e-02, -1.9013677e-02,\n",
              "       -7.7859753e-01,  5.2730364e-01, -5.2146800e-02,  3.6187701e-02,\n",
              "        3.3385864e-01, -1.7134695e-01, -2.2494353e-01,  4.5342457e-01,\n",
              "       -2.9525690e-02,  2.9464537e-02,  6.7867488e-01,  3.9340010e-01,\n",
              "       -5.6723422e-01, -2.8645679e-01,  5.1626396e-01, -1.1997807e+00,\n",
              "       -5.7937104e-01, -9.0618533e-01, -3.8439956e-01, -3.8538319e-01,\n",
              "       -2.5370520e-01,  2.6081902e-01,  5.4961526e-01, -9.3035561e-01,\n",
              "       -6.1073877e-02,  5.6741673e-01,  3.0133346e-01,  3.8573962e-02,\n",
              "        2.2656364e-02, -7.9435110e-01,  4.5492244e-01, -2.0452160e-01,\n",
              "        3.7451667e-01,  5.0119007e-01, -3.2384625e-01, -4.1671798e-01,\n",
              "        5.3644663e-01, -1.6257130e-01, -8.0588043e-01,  5.7113701e-01,\n",
              "       -5.3272331e-01,  4.9115935e-01, -5.1877224e-01,  7.2114599e-01,\n",
              "       -6.7661130e-01, -5.7643837e-01, -9.9461091e-01, -2.2027747e-01,\n",
              "        3.7604101e-02, -2.1922469e-02,  1.1243998e-01, -4.3353909e-01,\n",
              "        1.4500503e-01,  6.6859289e-03, -9.0164220e-01, -3.3341759e-01,\n",
              "        2.1511978e-01, -7.2997677e-01, -7.5655019e-01, -5.5833042e-02,\n",
              "        1.3633148e-01, -7.7846134e-01,  1.3513650e-01, -3.4412330e-01,\n",
              "        3.6896554e-01, -3.5577673e-01,  2.4607405e-01,  3.1070599e-01,\n",
              "        2.2796759e-02, -4.5618075e-01,  2.7373698e-01,  3.2289574e-01,\n",
              "       -2.0345783e-01, -5.0823301e-01, -4.8075110e-01,  7.5829130e-01,\n",
              "        4.8250294e-01, -8.8868640e-02,  6.0687089e-01, -3.9109387e-02,\n",
              "        3.5262036e-01,  1.2557191e-01,  7.6976500e-02,  1.6961110e-01,\n",
              "        6.2182760e-01,  4.7873595e-01, -3.2651791e-01, -5.5655837e-01,\n",
              "       -6.8316448e-01,  7.5986546e-01,  2.6736873e-01, -1.5351702e-01,\n",
              "        6.9842130e-02, -1.6256180e-01, -1.1235073e+00,  5.2509403e-01,\n",
              "        1.5834782e-01,  5.1399130e-01,  2.7941486e-01,  1.2986468e+00,\n",
              "       -5.0161779e-01,  2.0447466e-01, -6.0172416e-02, -1.1743480e-01,\n",
              "        7.9979181e-01, -2.5800526e-02, -1.2441653e-01,  7.0906371e-01,\n",
              "       -4.3886051e-02, -3.7981176e-01, -2.7757078e-02,  1.9425710e-01,\n",
              "        1.6194253e-01, -2.0829470e-01,  5.0358236e-01, -2.0517056e-01,\n",
              "       -2.7601379e-01, -5.1146090e-01,  5.4255128e-02, -4.6121258e-01,\n",
              "        6.4728510e-01,  1.6293863e-02,  2.5465378e-01,  2.3581579e-01,\n",
              "        3.9009801e-01, -3.9274728e-01, -1.0105843e-01, -2.3705889e-01,\n",
              "       -1.1647777e-01,  4.7990525e-01, -3.3084026e-01,  1.1589920e-02,\n",
              "        3.0853078e-01, -2.4463683e-01,  6.9103914e-01, -2.6546529e-01,\n",
              "        1.5228857e+00,  9.4053254e-02,  1.5555365e-01, -1.9884418e-01,\n",
              "        9.0168849e-02,  7.1009457e-01, -5.7233274e-01,  1.6016565e-01,\n",
              "        4.5757821e-01,  6.2606287e-01, -1.6246919e-01, -3.2462999e-03,\n",
              "       -6.7829001e-01, -1.0388204e+00, -4.7292411e-03,  8.6004221e-01,\n",
              "       -5.3856200e-01, -1.5142804e-01,  2.1046947e-01, -1.3409723e-01,\n",
              "       -3.0081251e-01,  5.0914492e-02,  2.8817758e-01,  1.0188939e-01,\n",
              "        1.6027343e+00, -2.0448303e-01, -3.8171703e-01, -7.1548355e-01,\n",
              "       -2.5301066e-01, -6.9351059e-01, -2.0069674e-02,  6.3181035e-02,\n",
              "        3.3311489e-01, -1.9342774e-01,  1.0367320e+00, -2.8107890e-01,\n",
              "       -1.7346799e-01, -3.9737058e-01, -3.2240999e-01,  2.9525450e-01,\n",
              "        7.0284808e-01, -8.3022624e-02, -6.9759178e-01,  5.7596946e-01,\n",
              "        4.8580110e-02, -6.0554600e-01,  4.2111240e-02,  3.4606346e-01,\n",
              "       -1.6900261e-01, -5.1634765e-01, -3.9363796e-01, -1.0428983e+00],\n",
              "      dtype=float32)"
            ]
          },
          "metadata": {
            "tags": []
          },
          "execution_count": 19
        }
      ]
    },
    {
      "cell_type": "markdown",
      "metadata": {
        "id": "1yGQ_lOx_1NL"
      },
      "source": [
        "Давайте сделаем визуализацию полученных векторов твитов тренировочного (dev) датасета. Так мы увидим, насколько хорошо твиты с разными target значениями отделяются друг от друга, т.е. насколько хорошо усреднение эмбеддингов слов предложения передает информацию о предложении."
      ]
    },
    {
      "cell_type": "markdown",
      "metadata": {
        "id": "LZwFksd_8uYO"
      },
      "source": [
        "Для визуализации векторов надо получить их проекцию на плоскость. Сделаем это с помощью `PCA`. Если хотите, можете вместо PCA использовать TSNE: так у вас получится более точная проекция на плоскость (а значит, более информативная, т.е. отражающая реальное положение векторов твитов в пространстве). Но TSNE будет работать намного дольше."
      ]
    },
    {
      "cell_type": "code",
      "metadata": {
        "id": "aKFZRSHdtIac"
      },
      "source": [
        "from sklearn.decomposition import PCA\n",
        "\n",
        "\n",
        "pca = PCA(n_components=2)\n",
        "examples[\"transformed_features\"] = pca.fit_transform(examples[\"features\"])"
      ],
      "execution_count": 20,
      "outputs": []
    },
    {
      "cell_type": "code",
      "metadata": {
        "colab": {
          "base_uri": "https://localhost:8080/"
        },
        "id": "TqQBxVqtEFN1",
        "outputId": "f6806508-a6cf-4ed0-894a-c33b1be1c7f5"
      },
      "source": [
        "print(examples[\"targets\"])"
      ],
      "execution_count": 21,
      "outputs": [
        {
          "output_type": "stream",
          "text": [
            "[0, 0, 0, 1, 0, 1, 1, 1, 1, 1, 1, 1, 1, 0, 0, 1, 1, 1, 0, 1, 1, 1, 1, 0, 1, 1, 0, 0, 1, 0, 1, 0, 0, 1, 0, 0, 1, 0, 1, 1, 0, 1, 1, 1, 0, 0, 0, 0, 1, 0, 1, 1, 1, 0, 1, 0, 1, 1, 0, 0, 0, 1, 1, 0, 0, 1, 1, 0, 1, 1, 1, 1, 0, 0, 0, 0, 0, 1, 0, 0, 1, 1, 0, 0, 1, 0, 0, 0, 1, 0, 0, 0, 0, 1, 1, 0, 0, 1, 0, 0, 1, 0, 1, 0, 0, 0, 0, 1, 0, 1, 1, 1, 1, 0, 0, 1, 1, 1, 0, 1, 0, 0, 0, 0, 1, 1, 0, 1, 0, 1, 1, 1, 0, 1, 0, 1, 0, 0, 1, 0, 0, 1, 0, 0, 1, 0, 0, 1, 1, 1, 1, 0, 0, 0, 1, 0, 0, 0, 1, 0, 0, 0, 0, 0, 0, 1, 1, 0, 1, 1, 0, 0, 0, 1, 0, 0, 1, 0, 1, 1, 0, 1, 0, 0, 1, 1, 1, 1, 1, 0, 0, 0, 1, 1, 1, 0, 0, 1, 1, 1, 1, 1, 1, 0, 0, 0, 0, 0, 0, 0, 0, 0, 1, 1, 1, 0, 1, 0, 1, 1, 0, 1, 0, 1, 1, 0, 1, 1, 1, 1, 0, 1, 0, 0, 0, 1, 0, 1, 0, 0, 0, 1, 0, 1, 0, 1, 0, 1, 0, 1, 1, 1, 1, 1, 1, 1, 0, 0, 0, 0, 1, 0, 0, 1, 1, 1, 0, 0, 0, 0, 1, 1, 1, 1, 1, 1, 1, 0, 1, 0, 0, 0, 1, 0, 0, 1, 1, 0, 1, 1, 0, 0, 1, 0, 0, 1, 1, 0, 1, 0, 0, 1, 0, 0, 1, 0, 1, 1, 0, 0, 1, 1, 1, 0, 1, 1, 0, 0, 0, 1, 1, 0, 1, 0, 0, 0, 0, 0, 1, 1, 0, 0, 0, 0, 0, 1, 0, 0, 0, 1, 1, 1, 1, 1, 0, 1, 1, 0, 0, 1, 1, 1, 1, 0, 1, 1, 1, 1, 0, 1, 0, 1, 0, 0, 1, 1, 1, 0, 0, 1, 0, 0, 0, 1, 0, 1, 1, 1, 0, 0, 0, 1, 1, 0, 1, 1, 0, 1, 1, 0, 1, 1, 0, 1, 0, 0, 1, 1, 1, 0, 1, 1, 1, 0, 0, 1, 1, 1, 0, 1, 1, 1, 0, 1, 1, 1, 1, 0, 1, 1, 0, 0, 0, 1, 1, 1, 0, 0, 1, 1, 1, 0, 1, 1, 1, 1, 1, 0, 0, 1, 1, 1, 0, 0, 1, 0, 0, 0, 1, 0, 0, 1, 0, 1, 1, 0, 1, 1, 0, 0, 1, 1, 1, 1, 0, 0, 0, 0, 1, 1, 1, 0, 1, 1, 0, 1, 0, 0, 1, 0, 1, 0, 0, 1, 0, 1, 1, 1, 0, 1, 0, 1, 1, 1, 1, 1, 0, 1, 1, 0, 1, 0, 1, 0, 1, 0, 0, 0, 0, 0, 0, 1, 1, 1, 0, 1, 0, 0, 1, 0, 0, 0, 0, 0, 0, 1, 1, 1, 0, 1, 0, 1, 1, 0, 0, 0, 1, 0, 1, 1, 1, 0, 1, 1, 0, 1, 1, 1, 1, 1, 1, 0, 0, 0, 1, 1, 0, 1, 1, 1, 0, 1, 0, 1, 1, 0, 0, 1, 0, 0, 0, 1, 0, 0, 1, 0, 0, 1, 1, 1, 0, 0, 0, 1, 1, 1, 0, 0, 0, 0, 1, 1, 0, 0, 0, 0, 0, 0, 1, 1, 0, 0, 0, 1, 0, 0, 0, 1, 0, 0, 1, 0, 0, 1, 1, 1, 0, 1, 1, 1, 0, 0, 0, 1, 1, 0, 0, 1, 0, 1, 1, 1, 0, 0, 1, 0, 0, 1, 0, 1, 1, 0, 0, 0, 0, 0, 0, 0, 0, 0, 1, 1, 1, 0, 0, 1, 1, 1, 0, 1, 1, 1, 1, 0, 1, 0, 1, 0, 0, 0, 1, 0, 0, 0, 1, 0, 1, 1, 1, 0, 0, 0, 1, 1, 1, 0, 0, 0, 1, 0, 0, 0, 1, 0, 1, 0, 0, 1, 0, 1, 1, 0, 0, 1, 1, 1, 1, 0, 1, 1, 0, 0, 0, 0, 1, 1, 0, 0, 0, 0, 0, 1, 1, 0, 0, 0, 1, 1, 1, 1, 1, 0, 0, 0, 1, 1, 0, 0, 0, 0, 0, 1, 1, 1, 0, 0, 0, 0, 0, 1, 0, 0, 0, 1, 0, 0, 0, 0, 0, 0, 0, 0, 0, 1, 1, 1, 1, 1, 0, 1, 1, 0, 1, 0, 0, 1, 0, 0, 1, 0, 1, 0, 0, 0, 1, 0, 1, 1, 1, 0, 1, 1, 0, 1, 1, 1, 1, 0, 1, 0, 0, 0, 0, 1, 1, 0, 0, 1, 0, 0, 1, 0, 1, 0, 1, 1, 0, 1, 1, 1, 0, 1, 0, 1, 1, 0, 0, 0, 1, 1, 1, 0, 1, 0, 1, 1, 0, 1, 1, 1, 0, 0, 0, 1, 0, 0, 0, 1, 0, 0, 1, 0, 1, 1, 1, 0, 1, 1, 0, 0, 0, 1, 1, 1, 0, 1, 0, 1, 0, 0, 1, 0, 0, 0, 1, 1, 1, 0, 0, 0, 0, 0, 0, 1, 0, 0, 1, 0, 0, 1, 0, 1, 1, 1, 1, 0, 1, 1, 1, 1, 0, 0, 1, 1, 0, 0, 0, 1, 0, 0, 1, 1, 0, 0, 1, 0, 0, 1, 0, 0, 0, 1, 1, 0, 0, 0, 1, 0, 1, 0, 1, 0, 1, 0, 1, 0, 0, 1, 1, 1, 0, 0, 0, 0, 0, 0, 1, 0, 1, 0, 1, 0, 1, 1, 1, 0, 1, 1, 0, 1, 1, 1, 0, 0, 0, 1, 1, 1, 0, 0, 1, 0, 0, 0, 0, 1, 0, 0, 0, 0, 1, 1, 1, 0, 1, 0, 0, 1, 0, 1, 1, 0, 0, 0, 1, 1, 1, 1, 0, 0, 1, 1, 0, 1, 1, 1, 1, 0, 1, 0, 0, 1, 1, 1, 1, 1, 0, 0, 0, 0, 1, 0, 1, 0, 1, 0, 1, 0, 1, 0, 1, 1, 0, 1, 0, 1, 0, 1, 1, 1, 0, 0, 1, 0, 0, 1, 1, 1, 0, 1, 1, 0, 0, 0, 1, 0, 1, 1, 0, 0, 0, 1, 0, 1, 1, 1, 0, 1, 0, 0, 0, 0, 0, 0, 1, 0, 1, 1, 1, 0, 1, 0, 0, 1, 1, 0, 0, 1, 0, 1, 0, 0, 1, 0, 0, 1, 0, 0, 0, 1, 1, 1, 0, 1, 1, 1, 0, 1, 0, 0, 1, 0, 1, 1, 0, 1, 0, 1, 1, 0, 1, 1, 0, 1, 1, 1, 0, 0, 1, 1, 0, 1, 0, 0, 0, 1, 1, 1, 0, 1, 1, 1, 0, 1, 1, 1, 1, 1, 0, 1, 1, 0, 0, 1, 0, 0, 0, 1, 1, 1, 0, 1, 1, 1, 0, 0, 0, 0, 0, 1, 1, 0, 1, 0, 1, 1, 1, 0, 0, 0, 1, 1, 0, 0, 1, 0, 1, 1, 0, 1, 1, 0, 0, 0, 0, 0, 0, 1, 0, 0, 1, 1, 0, 1, 1, 1, 0, 1, 1, 1, 1, 1, 0, 0, 0, 0, 0, 0, 1, 1, 0, 0, 0, 1, 0, 1, 1, 0, 1, 1, 0, 1, 0, 0, 1, 0, 0, 1, 1, 1, 0, 0, 0, 1, 1, 0, 1, 1, 1, 0, 0, 0, 1, 0, 0, 0, 1, 1, 0, 1, 1, 1, 1, 1, 1, 1, 1, 1, 0, 1, 0, 0, 1, 1, 0, 0, 1, 1, 1, 0]\n"
          ],
          "name": "stdout"
        }
      ]
    },
    {
      "cell_type": "code",
      "metadata": {
        "id": "szEOWdiNtIX8"
      },
      "source": [
        "import bokeh.models as bm, bokeh.plotting as pl\n",
        "from bokeh.io import output_notebook\n",
        "output_notebook()\n",
        "\n",
        "def draw_vectors(x, y, radius=10, alpha=0.25, color='blue',\n",
        "                 width=600, height=400, show=True, **kwargs):\n",
        "    \"\"\" draws an interactive plot for data points with auxilirary info on hover \"\"\"\n",
        "    data_source = bm.ColumnDataSource({ 'x' : x, 'y' : y, 'color': color, **kwargs })\n",
        "\n",
        "    fig = pl.figure(active_scroll='wheel_zoom', width=width, height=height)\n",
        "    fig.scatter('x', 'y', size=radius, color='color', alpha=alpha, source=data_source)\n",
        "\n",
        "    fig.add_tools(bm.HoverTool(tooltips=[(key, \"@\" + key) for key in kwargs.keys()]))\n",
        "    if show: pl.show(fig)\n",
        "    return fig"
      ],
      "execution_count": 22,
      "outputs": []
    },
    {
      "cell_type": "code",
      "metadata": {
        "colab": {
          "base_uri": "https://localhost:8080/",
          "height": 434
        },
        "id": "7OONK8ldtIWe",
        "outputId": "af7a5e47-ba6c-466a-ca9a-d4e4d2b29c2d"
      },
      "source": [
        "draw_vectors(\n",
        "    examples[\"transformed_features\"][:, 0], \n",
        "    examples[\"transformed_features\"][:, 1], \n",
        "    color=[[\"red\", \"blue\"][t] for t in examples[\"targets\"]]\n",
        "    )"
      ],
      "execution_count": 23,
      "outputs": [
        {
          "output_type": "display_data",
          "data": {
            "application/javascript": [
              "\n",
              "(function(root) {\n",
              "  function now() {\n",
              "    return new Date();\n",
              "  }\n",
              "\n",
              "  var force = true;\n",
              "\n",
              "  if (typeof root._bokeh_onload_callbacks === \"undefined\" || force === true) {\n",
              "    root._bokeh_onload_callbacks = [];\n",
              "    root._bokeh_is_loading = undefined;\n",
              "  }\n",
              "\n",
              "  var JS_MIME_TYPE = 'application/javascript';\n",
              "  var HTML_MIME_TYPE = 'text/html';\n",
              "  var EXEC_MIME_TYPE = 'application/vnd.bokehjs_exec.v0+json';\n",
              "  var CLASS_NAME = 'output_bokeh rendered_html';\n",
              "\n",
              "  /**\n",
              "   * Render data to the DOM node\n",
              "   */\n",
              "  function render(props, node) {\n",
              "    var script = document.createElement(\"script\");\n",
              "    node.appendChild(script);\n",
              "  }\n",
              "\n",
              "  /**\n",
              "   * Handle when an output is cleared or removed\n",
              "   */\n",
              "  function handleClearOutput(event, handle) {\n",
              "    var cell = handle.cell;\n",
              "\n",
              "    var id = cell.output_area._bokeh_element_id;\n",
              "    var server_id = cell.output_area._bokeh_server_id;\n",
              "    // Clean up Bokeh references\n",
              "    if (id != null && id in Bokeh.index) {\n",
              "      Bokeh.index[id].model.document.clear();\n",
              "      delete Bokeh.index[id];\n",
              "    }\n",
              "\n",
              "    if (server_id !== undefined) {\n",
              "      // Clean up Bokeh references\n",
              "      var cmd = \"from bokeh.io.state import curstate; print(curstate().uuid_to_server['\" + server_id + \"'].get_sessions()[0].document.roots[0]._id)\";\n",
              "      cell.notebook.kernel.execute(cmd, {\n",
              "        iopub: {\n",
              "          output: function(msg) {\n",
              "            var id = msg.content.text.trim();\n",
              "            if (id in Bokeh.index) {\n",
              "              Bokeh.index[id].model.document.clear();\n",
              "              delete Bokeh.index[id];\n",
              "            }\n",
              "          }\n",
              "        }\n",
              "      });\n",
              "      // Destroy server and session\n",
              "      var cmd = \"import bokeh.io.notebook as ion; ion.destroy_server('\" + server_id + \"')\";\n",
              "      cell.notebook.kernel.execute(cmd);\n",
              "    }\n",
              "  }\n",
              "\n",
              "  /**\n",
              "   * Handle when a new output is added\n",
              "   */\n",
              "  function handleAddOutput(event, handle) {\n",
              "    var output_area = handle.output_area;\n",
              "    var output = handle.output;\n",
              "\n",
              "    // limit handleAddOutput to display_data with EXEC_MIME_TYPE content only\n",
              "    if ((output.output_type != \"display_data\") || (!output.data.hasOwnProperty(EXEC_MIME_TYPE))) {\n",
              "      return\n",
              "    }\n",
              "\n",
              "    var toinsert = output_area.element.find(\".\" + CLASS_NAME.split(' ')[0]);\n",
              "\n",
              "    if (output.metadata[EXEC_MIME_TYPE][\"id\"] !== undefined) {\n",
              "      toinsert[toinsert.length - 1].firstChild.textContent = output.data[JS_MIME_TYPE];\n",
              "      // store reference to embed id on output_area\n",
              "      output_area._bokeh_element_id = output.metadata[EXEC_MIME_TYPE][\"id\"];\n",
              "    }\n",
              "    if (output.metadata[EXEC_MIME_TYPE][\"server_id\"] !== undefined) {\n",
              "      var bk_div = document.createElement(\"div\");\n",
              "      bk_div.innerHTML = output.data[HTML_MIME_TYPE];\n",
              "      var script_attrs = bk_div.children[0].attributes;\n",
              "      for (var i = 0; i < script_attrs.length; i++) {\n",
              "        toinsert[toinsert.length - 1].firstChild.setAttribute(script_attrs[i].name, script_attrs[i].value);\n",
              "        toinsert[toinsert.length - 1].firstChild.textContent = bk_div.children[0].textContent\n",
              "      }\n",
              "      // store reference to server id on output_area\n",
              "      output_area._bokeh_server_id = output.metadata[EXEC_MIME_TYPE][\"server_id\"];\n",
              "    }\n",
              "  }\n",
              "\n",
              "  function register_renderer(events, OutputArea) {\n",
              "\n",
              "    function append_mime(data, metadata, element) {\n",
              "      // create a DOM node to render to\n",
              "      var toinsert = this.create_output_subarea(\n",
              "        metadata,\n",
              "        CLASS_NAME,\n",
              "        EXEC_MIME_TYPE\n",
              "      );\n",
              "      this.keyboard_manager.register_events(toinsert);\n",
              "      // Render to node\n",
              "      var props = {data: data, metadata: metadata[EXEC_MIME_TYPE]};\n",
              "      render(props, toinsert[toinsert.length - 1]);\n",
              "      element.append(toinsert);\n",
              "      return toinsert\n",
              "    }\n",
              "\n",
              "    /* Handle when an output is cleared or removed */\n",
              "    events.on('clear_output.CodeCell', handleClearOutput);\n",
              "    events.on('delete.Cell', handleClearOutput);\n",
              "\n",
              "    /* Handle when a new output is added */\n",
              "    events.on('output_added.OutputArea', handleAddOutput);\n",
              "\n",
              "    /**\n",
              "     * Register the mime type and append_mime function with output_area\n",
              "     */\n",
              "    OutputArea.prototype.register_mime_type(EXEC_MIME_TYPE, append_mime, {\n",
              "      /* Is output safe? */\n",
              "      safe: true,\n",
              "      /* Index of renderer in `output_area.display_order` */\n",
              "      index: 0\n",
              "    });\n",
              "  }\n",
              "\n",
              "  // register the mime type if in Jupyter Notebook environment and previously unregistered\n",
              "  if (root.Jupyter !== undefined) {\n",
              "    var events = require('base/js/events');\n",
              "    var OutputArea = require('notebook/js/outputarea').OutputArea;\n",
              "\n",
              "    if (OutputArea.prototype.mime_types().indexOf(EXEC_MIME_TYPE) == -1) {\n",
              "      register_renderer(events, OutputArea);\n",
              "    }\n",
              "  }\n",
              "\n",
              "  \n",
              "  if (typeof (root._bokeh_timeout) === \"undefined\" || force === true) {\n",
              "    root._bokeh_timeout = Date.now() + 5000;\n",
              "    root._bokeh_failed_load = false;\n",
              "  }\n",
              "\n",
              "  var NB_LOAD_WARNING = {'data': {'text/html':\n",
              "     \"<div style='background-color: #fdd'>\\n\"+\n",
              "     \"<p>\\n\"+\n",
              "     \"BokehJS does not appear to have successfully loaded. If loading BokehJS from CDN, this \\n\"+\n",
              "     \"may be due to a slow or bad network connection. Possible fixes:\\n\"+\n",
              "     \"</p>\\n\"+\n",
              "     \"<ul>\\n\"+\n",
              "     \"<li>re-rerun `output_notebook()` to attempt to load from CDN again, or</li>\\n\"+\n",
              "     \"<li>use INLINE resources instead, as so:</li>\\n\"+\n",
              "     \"</ul>\\n\"+\n",
              "     \"<code>\\n\"+\n",
              "     \"from bokeh.resources import INLINE\\n\"+\n",
              "     \"output_notebook(resources=INLINE)\\n\"+\n",
              "     \"</code>\\n\"+\n",
              "     \"</div>\"}};\n",
              "\n",
              "  function display_loaded() {\n",
              "    var el = document.getElementById(null);\n",
              "    if (el != null) {\n",
              "      el.textContent = \"BokehJS is loading...\";\n",
              "    }\n",
              "    if (root.Bokeh !== undefined) {\n",
              "      if (el != null) {\n",
              "        el.textContent = \"BokehJS \" + root.Bokeh.version + \" successfully loaded.\";\n",
              "      }\n",
              "    } else if (Date.now() < root._bokeh_timeout) {\n",
              "      setTimeout(display_loaded, 100)\n",
              "    }\n",
              "  }\n",
              "\n",
              "\n",
              "  function run_callbacks() {\n",
              "    try {\n",
              "      root._bokeh_onload_callbacks.forEach(function(callback) {\n",
              "        if (callback != null)\n",
              "          callback();\n",
              "      });\n",
              "    } finally {\n",
              "      delete root._bokeh_onload_callbacks\n",
              "    }\n",
              "    console.debug(\"Bokeh: all callbacks have finished\");\n",
              "  }\n",
              "\n",
              "  function load_libs(css_urls, js_urls, callback) {\n",
              "    if (css_urls == null) css_urls = [];\n",
              "    if (js_urls == null) js_urls = [];\n",
              "\n",
              "    root._bokeh_onload_callbacks.push(callback);\n",
              "    if (root._bokeh_is_loading > 0) {\n",
              "      console.debug(\"Bokeh: BokehJS is being loaded, scheduling callback at\", now());\n",
              "      return null;\n",
              "    }\n",
              "    if (js_urls == null || js_urls.length === 0) {\n",
              "      run_callbacks();\n",
              "      return null;\n",
              "    }\n",
              "    console.debug(\"Bokeh: BokehJS not loaded, scheduling load and callback at\", now());\n",
              "    root._bokeh_is_loading = css_urls.length + js_urls.length;\n",
              "\n",
              "    function on_load() {\n",
              "      root._bokeh_is_loading--;\n",
              "      if (root._bokeh_is_loading === 0) {\n",
              "        console.debug(\"Bokeh: all BokehJS libraries/stylesheets loaded\");\n",
              "        run_callbacks()\n",
              "      }\n",
              "    }\n",
              "\n",
              "    function on_error() {\n",
              "      console.error(\"failed to load \" + url);\n",
              "    }\n",
              "\n",
              "    for (var i = 0; i < css_urls.length; i++) {\n",
              "      var url = css_urls[i];\n",
              "      const element = document.createElement(\"link\");\n",
              "      element.onload = on_load;\n",
              "      element.onerror = on_error;\n",
              "      element.rel = \"stylesheet\";\n",
              "      element.type = \"text/css\";\n",
              "      element.href = url;\n",
              "      console.debug(\"Bokeh: injecting link tag for BokehJS stylesheet: \", url);\n",
              "      document.body.appendChild(element);\n",
              "    }\n",
              "\n",
              "    const hashes = {\"https://cdn.bokeh.org/bokeh/release/bokeh-2.1.1.min.js\": \"kLr4fYcqcSpbuI95brIH3vnnYCquzzSxHPU6XGQCIkQRGJwhg0StNbj1eegrHs12\", \"https://cdn.bokeh.org/bokeh/release/bokeh-widgets-2.1.1.min.js\": \"xIGPmVtaOm+z0BqfSOMn4lOR6ciex448GIKG4eE61LsAvmGj48XcMQZtKcE/UXZe\", \"https://cdn.bokeh.org/bokeh/release/bokeh-tables-2.1.1.min.js\": \"Dc9u1wF/0zApGIWoBbH77iWEHtdmkuYWG839Uzmv8y8yBLXebjO9ZnERsde5Ln/P\", \"https://cdn.bokeh.org/bokeh/release/bokeh-gl-2.1.1.min.js\": \"cT9JaBz7GiRXdENrJLZNSC6eMNF3nh3fa5fTF51Svp+ukxPdwcU5kGXGPBgDCa2j\"};\n",
              "\n",
              "    for (var i = 0; i < js_urls.length; i++) {\n",
              "      var url = js_urls[i];\n",
              "      var element = document.createElement('script');\n",
              "      element.onload = on_load;\n",
              "      element.onerror = on_error;\n",
              "      element.async = false;\n",
              "      element.src = url;\n",
              "      if (url in hashes) {\n",
              "        element.crossOrigin = \"anonymous\";\n",
              "        element.integrity = \"sha384-\" + hashes[url];\n",
              "      }\n",
              "      console.debug(\"Bokeh: injecting script tag for BokehJS library: \", url);\n",
              "      document.head.appendChild(element);\n",
              "    }\n",
              "  };\n",
              "\n",
              "  function inject_raw_css(css) {\n",
              "    const element = document.createElement(\"style\");\n",
              "    element.appendChild(document.createTextNode(css));\n",
              "    document.body.appendChild(element);\n",
              "  }\n",
              "\n",
              "  \n",
              "  var js_urls = [\"https://cdn.bokeh.org/bokeh/release/bokeh-2.1.1.min.js\", \"https://cdn.bokeh.org/bokeh/release/bokeh-widgets-2.1.1.min.js\", \"https://cdn.bokeh.org/bokeh/release/bokeh-tables-2.1.1.min.js\", \"https://cdn.bokeh.org/bokeh/release/bokeh-gl-2.1.1.min.js\"];\n",
              "  var css_urls = [];\n",
              "  \n",
              "\n",
              "  var inline_js = [\n",
              "    function(Bokeh) {\n",
              "      Bokeh.set_log_level(\"info\");\n",
              "    },\n",
              "    function(Bokeh) {\n",
              "    \n",
              "    \n",
              "    }\n",
              "  ];\n",
              "\n",
              "  function run_inline_js() {\n",
              "    \n",
              "    if (root.Bokeh !== undefined || force === true) {\n",
              "      \n",
              "    for (var i = 0; i < inline_js.length; i++) {\n",
              "      inline_js[i].call(root, root.Bokeh);\n",
              "    }\n",
              "    } else if (Date.now() < root._bokeh_timeout) {\n",
              "      setTimeout(run_inline_js, 100);\n",
              "    } else if (!root._bokeh_failed_load) {\n",
              "      console.log(\"Bokeh: BokehJS failed to load within specified timeout.\");\n",
              "      root._bokeh_failed_load = true;\n",
              "    } else if (force !== true) {\n",
              "      var cell = $(document.getElementById(null)).parents('.cell').data().cell;\n",
              "      cell.output_area.append_execute_result(NB_LOAD_WARNING)\n",
              "    }\n",
              "\n",
              "  }\n",
              "\n",
              "  if (root._bokeh_is_loading === 0) {\n",
              "    console.debug(\"Bokeh: BokehJS loaded, going straight to plotting\");\n",
              "    run_inline_js();\n",
              "  } else {\n",
              "    load_libs(css_urls, js_urls, function() {\n",
              "      console.debug(\"Bokeh: BokehJS plotting callback run at\", now());\n",
              "      run_inline_js();\n",
              "    });\n",
              "  }\n",
              "}(window));"
            ],
            "application/vnd.bokehjs_load.v0+json": "\n(function(root) {\n  function now() {\n    return new Date();\n  }\n\n  var force = true;\n\n  if (typeof root._bokeh_onload_callbacks === \"undefined\" || force === true) {\n    root._bokeh_onload_callbacks = [];\n    root._bokeh_is_loading = undefined;\n  }\n\n  \n\n  \n  if (typeof (root._bokeh_timeout) === \"undefined\" || force === true) {\n    root._bokeh_timeout = Date.now() + 5000;\n    root._bokeh_failed_load = false;\n  }\n\n  var NB_LOAD_WARNING = {'data': {'text/html':\n     \"<div style='background-color: #fdd'>\\n\"+\n     \"<p>\\n\"+\n     \"BokehJS does not appear to have successfully loaded. If loading BokehJS from CDN, this \\n\"+\n     \"may be due to a slow or bad network connection. Possible fixes:\\n\"+\n     \"</p>\\n\"+\n     \"<ul>\\n\"+\n     \"<li>re-rerun `output_notebook()` to attempt to load from CDN again, or</li>\\n\"+\n     \"<li>use INLINE resources instead, as so:</li>\\n\"+\n     \"</ul>\\n\"+\n     \"<code>\\n\"+\n     \"from bokeh.resources import INLINE\\n\"+\n     \"output_notebook(resources=INLINE)\\n\"+\n     \"</code>\\n\"+\n     \"</div>\"}};\n\n  function display_loaded() {\n    var el = document.getElementById(null);\n    if (el != null) {\n      el.textContent = \"BokehJS is loading...\";\n    }\n    if (root.Bokeh !== undefined) {\n      if (el != null) {\n        el.textContent = \"BokehJS \" + root.Bokeh.version + \" successfully loaded.\";\n      }\n    } else if (Date.now() < root._bokeh_timeout) {\n      setTimeout(display_loaded, 100)\n    }\n  }\n\n\n  function run_callbacks() {\n    try {\n      root._bokeh_onload_callbacks.forEach(function(callback) {\n        if (callback != null)\n          callback();\n      });\n    } finally {\n      delete root._bokeh_onload_callbacks\n    }\n    console.debug(\"Bokeh: all callbacks have finished\");\n  }\n\n  function load_libs(css_urls, js_urls, callback) {\n    if (css_urls == null) css_urls = [];\n    if (js_urls == null) js_urls = [];\n\n    root._bokeh_onload_callbacks.push(callback);\n    if (root._bokeh_is_loading > 0) {\n      console.debug(\"Bokeh: BokehJS is being loaded, scheduling callback at\", now());\n      return null;\n    }\n    if (js_urls == null || js_urls.length === 0) {\n      run_callbacks();\n      return null;\n    }\n    console.debug(\"Bokeh: BokehJS not loaded, scheduling load and callback at\", now());\n    root._bokeh_is_loading = css_urls.length + js_urls.length;\n\n    function on_load() {\n      root._bokeh_is_loading--;\n      if (root._bokeh_is_loading === 0) {\n        console.debug(\"Bokeh: all BokehJS libraries/stylesheets loaded\");\n        run_callbacks()\n      }\n    }\n\n    function on_error() {\n      console.error(\"failed to load \" + url);\n    }\n\n    for (var i = 0; i < css_urls.length; i++) {\n      var url = css_urls[i];\n      const element = document.createElement(\"link\");\n      element.onload = on_load;\n      element.onerror = on_error;\n      element.rel = \"stylesheet\";\n      element.type = \"text/css\";\n      element.href = url;\n      console.debug(\"Bokeh: injecting link tag for BokehJS stylesheet: \", url);\n      document.body.appendChild(element);\n    }\n\n    const hashes = {\"https://cdn.bokeh.org/bokeh/release/bokeh-2.1.1.min.js\": \"kLr4fYcqcSpbuI95brIH3vnnYCquzzSxHPU6XGQCIkQRGJwhg0StNbj1eegrHs12\", \"https://cdn.bokeh.org/bokeh/release/bokeh-widgets-2.1.1.min.js\": \"xIGPmVtaOm+z0BqfSOMn4lOR6ciex448GIKG4eE61LsAvmGj48XcMQZtKcE/UXZe\", \"https://cdn.bokeh.org/bokeh/release/bokeh-tables-2.1.1.min.js\": \"Dc9u1wF/0zApGIWoBbH77iWEHtdmkuYWG839Uzmv8y8yBLXebjO9ZnERsde5Ln/P\", \"https://cdn.bokeh.org/bokeh/release/bokeh-gl-2.1.1.min.js\": \"cT9JaBz7GiRXdENrJLZNSC6eMNF3nh3fa5fTF51Svp+ukxPdwcU5kGXGPBgDCa2j\"};\n\n    for (var i = 0; i < js_urls.length; i++) {\n      var url = js_urls[i];\n      var element = document.createElement('script');\n      element.onload = on_load;\n      element.onerror = on_error;\n      element.async = false;\n      element.src = url;\n      if (url in hashes) {\n        element.crossOrigin = \"anonymous\";\n        element.integrity = \"sha384-\" + hashes[url];\n      }\n      console.debug(\"Bokeh: injecting script tag for BokehJS library: \", url);\n      document.head.appendChild(element);\n    }\n  };\n\n  function inject_raw_css(css) {\n    const element = document.createElement(\"style\");\n    element.appendChild(document.createTextNode(css));\n    document.body.appendChild(element);\n  }\n\n  \n  var js_urls = [\"https://cdn.bokeh.org/bokeh/release/bokeh-2.1.1.min.js\", \"https://cdn.bokeh.org/bokeh/release/bokeh-widgets-2.1.1.min.js\", \"https://cdn.bokeh.org/bokeh/release/bokeh-tables-2.1.1.min.js\", \"https://cdn.bokeh.org/bokeh/release/bokeh-gl-2.1.1.min.js\"];\n  var css_urls = [];\n  \n\n  var inline_js = [\n    function(Bokeh) {\n      Bokeh.set_log_level(\"info\");\n    },\n    function(Bokeh) {\n    \n    \n    }\n  ];\n\n  function run_inline_js() {\n    \n    if (root.Bokeh !== undefined || force === true) {\n      \n    for (var i = 0; i < inline_js.length; i++) {\n      inline_js[i].call(root, root.Bokeh);\n    }\n    } else if (Date.now() < root._bokeh_timeout) {\n      setTimeout(run_inline_js, 100);\n    } else if (!root._bokeh_failed_load) {\n      console.log(\"Bokeh: BokehJS failed to load within specified timeout.\");\n      root._bokeh_failed_load = true;\n    } else if (force !== true) {\n      var cell = $(document.getElementById(null)).parents('.cell').data().cell;\n      cell.output_area.append_execute_result(NB_LOAD_WARNING)\n    }\n\n  }\n\n  if (root._bokeh_is_loading === 0) {\n    console.debug(\"Bokeh: BokehJS loaded, going straight to plotting\");\n    run_inline_js();\n  } else {\n    load_libs(css_urls, js_urls, function() {\n      console.debug(\"Bokeh: BokehJS plotting callback run at\", now());\n      run_inline_js();\n    });\n  }\n}(window));"
          },
          "metadata": {
            "tags": []
          }
        },
        {
          "output_type": "display_data",
          "data": {
            "text/html": [
              "\n",
              "\n",
              "\n",
              "\n",
              "\n",
              "\n",
              "  <div class=\"bk-root\" id=\"32b6ab32-9cf2-45da-829a-d0b764b6d5d2\" data-root-id=\"1002\"></div>\n"
            ]
          },
          "metadata": {
            "tags": []
          }
        },
        {
          "output_type": "display_data",
          "data": {
            "application/javascript": [
              "(function(root) {\n",
              "  function embed_document(root) {\n",
              "    \n",
              "  var docs_json = {\"63df8153-44ee-48e3-9d9f-c2e8e1a546c7\":{\"roots\":{\"references\":[{\"attributes\":{\"below\":[{\"id\":\"1011\"}],\"center\":[{\"id\":\"1014\"},{\"id\":\"1018\"}],\"left\":[{\"id\":\"1015\"}],\"plot_height\":400,\"renderers\":[{\"id\":\"1036\"}],\"title\":{\"id\":\"1041\"},\"toolbar\":{\"id\":\"1026\"},\"x_range\":{\"id\":\"1003\"},\"x_scale\":{\"id\":\"1007\"},\"y_range\":{\"id\":\"1005\"},\"y_scale\":{\"id\":\"1009\"}},\"id\":\"1002\",\"subtype\":\"Figure\",\"type\":\"Plot\"},{\"attributes\":{},\"id\":\"1043\",\"type\":\"BasicTickFormatter\"},{\"attributes\":{},\"id\":\"1009\",\"type\":\"LinearScale\"},{\"attributes\":{\"axis\":{\"id\":\"1015\"},\"dimension\":1,\"ticker\":null},\"id\":\"1018\",\"type\":\"Grid\"},{\"attributes\":{\"callback\":null,\"tooltips\":[]},\"id\":\"1038\",\"type\":\"HoverTool\"},{\"attributes\":{\"data\":{\"color\":[\"red\",\"red\",\"red\",\"blue\",\"red\",\"blue\",\"blue\",\"blue\",\"blue\",\"blue\",\"blue\",\"blue\",\"blue\",\"red\",\"red\",\"blue\",\"blue\",\"blue\",\"red\",\"blue\",\"blue\",\"blue\",\"blue\",\"red\",\"blue\",\"blue\",\"red\",\"red\",\"blue\",\"red\",\"blue\",\"red\",\"red\",\"blue\",\"red\",\"red\",\"blue\",\"red\",\"blue\",\"blue\",\"red\",\"blue\",\"blue\",\"blue\",\"red\",\"red\",\"red\",\"red\",\"blue\",\"red\",\"blue\",\"blue\",\"blue\",\"red\",\"blue\",\"red\",\"blue\",\"blue\",\"red\",\"red\",\"red\",\"blue\",\"blue\",\"red\",\"red\",\"blue\",\"blue\",\"red\",\"blue\",\"blue\",\"blue\",\"blue\",\"red\",\"red\",\"red\",\"red\",\"red\",\"blue\",\"red\",\"red\",\"blue\",\"blue\",\"red\",\"red\",\"blue\",\"red\",\"red\",\"red\",\"blue\",\"red\",\"red\",\"red\",\"red\",\"blue\",\"blue\",\"red\",\"red\",\"blue\",\"red\",\"red\",\"blue\",\"red\",\"blue\",\"red\",\"red\",\"red\",\"red\",\"blue\",\"red\",\"blue\",\"blue\",\"blue\",\"blue\",\"red\",\"red\",\"blue\",\"blue\",\"blue\",\"red\",\"blue\",\"red\",\"red\",\"red\",\"red\",\"blue\",\"blue\",\"red\",\"blue\",\"red\",\"blue\",\"blue\",\"blue\",\"red\",\"blue\",\"red\",\"blue\",\"red\",\"red\",\"blue\",\"red\",\"red\",\"blue\",\"red\",\"red\",\"blue\",\"red\",\"red\",\"blue\",\"blue\",\"blue\",\"blue\",\"red\",\"red\",\"red\",\"blue\",\"red\",\"red\",\"red\",\"blue\",\"red\",\"red\",\"red\",\"red\",\"red\",\"red\",\"blue\",\"blue\",\"red\",\"blue\",\"blue\",\"red\",\"red\",\"red\",\"blue\",\"red\",\"red\",\"blue\",\"red\",\"blue\",\"blue\",\"red\",\"blue\",\"red\",\"red\",\"blue\",\"blue\",\"blue\",\"blue\",\"blue\",\"red\",\"red\",\"red\",\"blue\",\"blue\",\"blue\",\"red\",\"red\",\"blue\",\"blue\",\"blue\",\"blue\",\"blue\",\"blue\",\"red\",\"red\",\"red\",\"red\",\"red\",\"red\",\"red\",\"red\",\"red\",\"blue\",\"blue\",\"blue\",\"red\",\"blue\",\"red\",\"blue\",\"blue\",\"red\",\"blue\",\"red\",\"blue\",\"blue\",\"red\",\"blue\",\"blue\",\"blue\",\"blue\",\"red\",\"blue\",\"red\",\"red\",\"red\",\"blue\",\"red\",\"blue\",\"red\",\"red\",\"red\",\"blue\",\"red\",\"blue\",\"red\",\"blue\",\"red\",\"blue\",\"red\",\"blue\",\"blue\",\"blue\",\"blue\",\"blue\",\"blue\",\"blue\",\"red\",\"red\",\"red\",\"red\",\"blue\",\"red\",\"red\",\"blue\",\"blue\",\"blue\",\"red\",\"red\",\"red\",\"red\",\"blue\",\"blue\",\"blue\",\"blue\",\"blue\",\"blue\",\"blue\",\"red\",\"blue\",\"red\",\"red\",\"red\",\"blue\",\"red\",\"red\",\"blue\",\"blue\",\"red\",\"blue\",\"blue\",\"red\",\"red\",\"blue\",\"red\",\"red\",\"blue\",\"blue\",\"red\",\"blue\",\"red\",\"red\",\"blue\",\"red\",\"red\",\"blue\",\"red\",\"blue\",\"blue\",\"red\",\"red\",\"blue\",\"blue\",\"blue\",\"red\",\"blue\",\"blue\",\"red\",\"red\",\"red\",\"blue\",\"blue\",\"red\",\"blue\",\"red\",\"red\",\"red\",\"red\",\"red\",\"blue\",\"blue\",\"red\",\"red\",\"red\",\"red\",\"red\",\"blue\",\"red\",\"red\",\"red\",\"blue\",\"blue\",\"blue\",\"blue\",\"blue\",\"red\",\"blue\",\"blue\",\"red\",\"red\",\"blue\",\"blue\",\"blue\",\"blue\",\"red\",\"blue\",\"blue\",\"blue\",\"blue\",\"red\",\"blue\",\"red\",\"blue\",\"red\",\"red\",\"blue\",\"blue\",\"blue\",\"red\",\"red\",\"blue\",\"red\",\"red\",\"red\",\"blue\",\"red\",\"blue\",\"blue\",\"blue\",\"red\",\"red\",\"red\",\"blue\",\"blue\",\"red\",\"blue\",\"blue\",\"red\",\"blue\",\"blue\",\"red\",\"blue\",\"blue\",\"red\",\"blue\",\"red\",\"red\",\"blue\",\"blue\",\"blue\",\"red\",\"blue\",\"blue\",\"blue\",\"red\",\"red\",\"blue\",\"blue\",\"blue\",\"red\",\"blue\",\"blue\",\"blue\",\"red\",\"blue\",\"blue\",\"blue\",\"blue\",\"red\",\"blue\",\"blue\",\"red\",\"red\",\"red\",\"blue\",\"blue\",\"blue\",\"red\",\"red\",\"blue\",\"blue\",\"blue\",\"red\",\"blue\",\"blue\",\"blue\",\"blue\",\"blue\",\"red\",\"red\",\"blue\",\"blue\",\"blue\",\"red\",\"red\",\"blue\",\"red\",\"red\",\"red\",\"blue\",\"red\",\"red\",\"blue\",\"red\",\"blue\",\"blue\",\"red\",\"blue\",\"blue\",\"red\",\"red\",\"blue\",\"blue\",\"blue\",\"blue\",\"red\",\"red\",\"red\",\"red\",\"blue\",\"blue\",\"blue\",\"red\",\"blue\",\"blue\",\"red\",\"blue\",\"red\",\"red\",\"blue\",\"red\",\"blue\",\"red\",\"red\",\"blue\",\"red\",\"blue\",\"blue\",\"blue\",\"red\",\"blue\",\"red\",\"blue\",\"blue\",\"blue\",\"blue\",\"blue\",\"red\",\"blue\",\"blue\",\"red\",\"blue\",\"red\",\"blue\",\"red\",\"blue\",\"red\",\"red\",\"red\",\"red\",\"red\",\"red\",\"blue\",\"blue\",\"blue\",\"red\",\"blue\",\"red\",\"red\",\"blue\",\"red\",\"red\",\"red\",\"red\",\"red\",\"red\",\"blue\",\"blue\",\"blue\",\"red\",\"blue\",\"red\",\"blue\",\"blue\",\"red\",\"red\",\"red\",\"blue\",\"red\",\"blue\",\"blue\",\"blue\",\"red\",\"blue\",\"blue\",\"red\",\"blue\",\"blue\",\"blue\",\"blue\",\"blue\",\"blue\",\"red\",\"red\",\"red\",\"blue\",\"blue\",\"red\",\"blue\",\"blue\",\"blue\",\"red\",\"blue\",\"red\",\"blue\",\"blue\",\"red\",\"red\",\"blue\",\"red\",\"red\",\"red\",\"blue\",\"red\",\"red\",\"blue\",\"red\",\"red\",\"blue\",\"blue\",\"blue\",\"red\",\"red\",\"red\",\"blue\",\"blue\",\"blue\",\"red\",\"red\",\"red\",\"red\",\"blue\",\"blue\",\"red\",\"red\",\"red\",\"red\",\"red\",\"red\",\"blue\",\"blue\",\"red\",\"red\",\"red\",\"blue\",\"red\",\"red\",\"red\",\"blue\",\"red\",\"red\",\"blue\",\"red\",\"red\",\"blue\",\"blue\",\"blue\",\"red\",\"blue\",\"blue\",\"blue\",\"red\",\"red\",\"red\",\"blue\",\"blue\",\"red\",\"red\",\"blue\",\"red\",\"blue\",\"blue\",\"blue\",\"red\",\"red\",\"blue\",\"red\",\"red\",\"blue\",\"red\",\"blue\",\"blue\",\"red\",\"red\",\"red\",\"red\",\"red\",\"red\",\"red\",\"red\",\"red\",\"blue\",\"blue\",\"blue\",\"red\",\"red\",\"blue\",\"blue\",\"blue\",\"red\",\"blue\",\"blue\",\"blue\",\"blue\",\"red\",\"blue\",\"red\",\"blue\",\"red\",\"red\",\"red\",\"blue\",\"red\",\"red\",\"red\",\"blue\",\"red\",\"blue\",\"blue\",\"blue\",\"red\",\"red\",\"red\",\"blue\",\"blue\",\"blue\",\"red\",\"red\",\"red\",\"blue\",\"red\",\"red\",\"red\",\"blue\",\"red\",\"blue\",\"red\",\"red\",\"blue\",\"red\",\"blue\",\"blue\",\"red\",\"red\",\"blue\",\"blue\",\"blue\",\"blue\",\"red\",\"blue\",\"blue\",\"red\",\"red\",\"red\",\"red\",\"blue\",\"blue\",\"red\",\"red\",\"red\",\"red\",\"red\",\"blue\",\"blue\",\"red\",\"red\",\"red\",\"blue\",\"blue\",\"blue\",\"blue\",\"blue\",\"red\",\"red\",\"red\",\"blue\",\"blue\",\"red\",\"red\",\"red\",\"red\",\"red\",\"blue\",\"blue\",\"blue\",\"red\",\"red\",\"red\",\"red\",\"red\",\"blue\",\"red\",\"red\",\"red\",\"blue\",\"red\",\"red\",\"red\",\"red\",\"red\",\"red\",\"red\",\"red\",\"red\",\"blue\",\"blue\",\"blue\",\"blue\",\"blue\",\"red\",\"blue\",\"blue\",\"red\",\"blue\",\"red\",\"red\",\"blue\",\"red\",\"red\",\"blue\",\"red\",\"blue\",\"red\",\"red\",\"red\",\"blue\",\"red\",\"blue\",\"blue\",\"blue\",\"red\",\"blue\",\"blue\",\"red\",\"blue\",\"blue\",\"blue\",\"blue\",\"red\",\"blue\",\"red\",\"red\",\"red\",\"red\",\"blue\",\"blue\",\"red\",\"red\",\"blue\",\"red\",\"red\",\"blue\",\"red\",\"blue\",\"red\",\"blue\",\"blue\",\"red\",\"blue\",\"blue\",\"blue\",\"red\",\"blue\",\"red\",\"blue\",\"blue\",\"red\",\"red\",\"red\",\"blue\",\"blue\",\"blue\",\"red\",\"blue\",\"red\",\"blue\",\"blue\",\"red\",\"blue\",\"blue\",\"blue\",\"red\",\"red\",\"red\",\"blue\",\"red\",\"red\",\"red\",\"blue\",\"red\",\"red\",\"blue\",\"red\",\"blue\",\"blue\",\"blue\",\"red\",\"blue\",\"blue\",\"red\",\"red\",\"red\",\"blue\",\"blue\",\"blue\",\"red\",\"blue\",\"red\",\"blue\",\"red\",\"red\",\"blue\",\"red\",\"red\",\"red\",\"blue\",\"blue\",\"blue\",\"red\",\"red\",\"red\",\"red\",\"red\",\"red\",\"blue\",\"red\",\"red\",\"blue\",\"red\",\"red\",\"blue\",\"red\",\"blue\",\"blue\",\"blue\",\"blue\",\"red\",\"blue\",\"blue\",\"blue\",\"blue\",\"red\",\"red\",\"blue\",\"blue\",\"red\",\"red\",\"red\",\"blue\",\"red\",\"red\",\"blue\",\"blue\",\"red\",\"red\",\"blue\",\"red\",\"red\",\"blue\",\"red\",\"red\",\"red\",\"blue\",\"blue\",\"red\",\"red\",\"red\",\"blue\",\"red\",\"blue\",\"red\",\"blue\",\"red\",\"blue\",\"red\",\"blue\",\"red\",\"red\",\"blue\",\"blue\",\"blue\",\"red\",\"red\",\"red\",\"red\",\"red\",\"red\",\"blue\",\"red\",\"blue\",\"red\",\"blue\",\"red\",\"blue\",\"blue\",\"blue\",\"red\",\"blue\",\"blue\",\"red\",\"blue\",\"blue\",\"blue\",\"red\",\"red\",\"red\",\"blue\",\"blue\",\"blue\",\"red\",\"red\",\"blue\",\"red\",\"red\",\"red\",\"red\",\"blue\",\"red\",\"red\",\"red\",\"red\",\"blue\",\"blue\",\"blue\",\"red\",\"blue\",\"red\",\"red\",\"blue\",\"red\",\"blue\",\"blue\",\"red\",\"red\",\"red\",\"blue\",\"blue\",\"blue\",\"blue\",\"red\",\"red\",\"blue\",\"blue\",\"red\",\"blue\",\"blue\",\"blue\",\"blue\",\"red\",\"blue\",\"red\",\"red\",\"blue\",\"blue\",\"blue\",\"blue\",\"blue\",\"red\",\"red\",\"red\",\"red\",\"blue\",\"red\",\"blue\",\"red\",\"blue\",\"red\",\"blue\",\"red\",\"blue\",\"red\",\"blue\",\"blue\",\"red\",\"blue\",\"red\",\"blue\",\"red\",\"blue\",\"blue\",\"blue\",\"red\",\"red\",\"blue\",\"red\",\"red\",\"blue\",\"blue\",\"blue\",\"red\",\"blue\",\"blue\",\"red\",\"red\",\"red\",\"blue\",\"red\",\"blue\",\"blue\",\"red\",\"red\",\"red\",\"blue\",\"red\",\"blue\",\"blue\",\"blue\",\"red\",\"blue\",\"red\",\"red\",\"red\",\"red\",\"red\",\"red\",\"blue\",\"red\",\"blue\",\"blue\",\"blue\",\"red\",\"blue\",\"red\",\"red\",\"blue\",\"blue\",\"red\",\"red\",\"blue\",\"red\",\"blue\",\"red\",\"red\",\"blue\",\"red\",\"red\",\"blue\",\"red\",\"red\",\"red\",\"blue\",\"blue\",\"blue\",\"red\",\"blue\",\"blue\",\"blue\",\"red\",\"blue\",\"red\",\"red\",\"blue\",\"red\",\"blue\",\"blue\",\"red\",\"blue\",\"red\",\"blue\",\"blue\",\"red\",\"blue\",\"blue\",\"red\",\"blue\",\"blue\",\"blue\",\"red\",\"red\",\"blue\",\"blue\",\"red\",\"blue\",\"red\",\"red\",\"red\",\"blue\",\"blue\",\"blue\",\"red\",\"blue\",\"blue\",\"blue\",\"red\",\"blue\",\"blue\",\"blue\",\"blue\",\"blue\",\"red\",\"blue\",\"blue\",\"red\",\"red\",\"blue\",\"red\",\"red\",\"red\",\"blue\",\"blue\",\"blue\",\"red\",\"blue\",\"blue\",\"blue\",\"red\",\"red\",\"red\",\"red\",\"red\",\"blue\",\"blue\",\"red\",\"blue\",\"red\",\"blue\",\"blue\",\"blue\",\"red\",\"red\",\"red\",\"blue\",\"blue\",\"red\",\"red\",\"blue\",\"red\",\"blue\",\"blue\",\"red\",\"blue\",\"blue\",\"red\",\"red\",\"red\",\"red\",\"red\",\"red\",\"blue\",\"red\",\"red\",\"blue\",\"blue\",\"red\",\"blue\",\"blue\",\"blue\",\"red\",\"blue\",\"blue\",\"blue\",\"blue\",\"blue\",\"red\",\"red\",\"red\",\"red\",\"red\",\"red\",\"blue\",\"blue\",\"red\",\"red\",\"red\",\"blue\",\"red\",\"blue\",\"blue\",\"red\",\"blue\",\"blue\",\"red\",\"blue\",\"red\",\"red\",\"blue\",\"red\",\"red\",\"blue\",\"blue\",\"blue\",\"red\",\"red\",\"red\",\"blue\",\"blue\",\"red\",\"blue\",\"blue\",\"blue\",\"red\",\"red\",\"red\",\"blue\",\"red\",\"red\",\"red\",\"blue\",\"blue\",\"red\",\"blue\",\"blue\",\"blue\",\"blue\",\"blue\",\"blue\",\"blue\",\"blue\",\"blue\",\"red\",\"blue\",\"red\",\"red\",\"blue\",\"blue\",\"red\",\"red\",\"blue\",\"blue\",\"blue\",\"red\"],\"x\":{\"__ndarray__\":\"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\",\"dtype\":\"float64\",\"order\":\"little\",\"shape\":[1280]},\"y\":{\"__ndarray__\":\"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\",\"dtype\":\"float64\",\"order\":\"little\",\"shape\":[1280]}},\"selected\":{\"id\":\"1048\"},\"selection_policy\":{\"id\":\"1047\"}},\"id\":\"1001\",\"type\":\"ColumnDataSource\"},{\"attributes\":{},\"id\":\"1003\",\"type\":\"DataRange1d\"},{\"attributes\":{},\"id\":\"1020\",\"type\":\"WheelZoomTool\"},{\"attributes\":{},\"id\":\"1022\",\"type\":\"SaveTool\"},{\"attributes\":{\"source\":{\"id\":\"1001\"}},\"id\":\"1037\",\"type\":\"CDSView\"},{\"attributes\":{},\"id\":\"1045\",\"type\":\"BasicTickFormatter\"},{\"attributes\":{},\"id\":\"1007\",\"type\":\"LinearScale\"},{\"attributes\":{},\"id\":\"1023\",\"type\":\"ResetTool\"},{\"attributes\":{},\"id\":\"1048\",\"type\":\"Selection\"},{\"attributes\":{},\"id\":\"1005\",\"type\":\"DataRange1d\"},{\"attributes\":{},\"id\":\"1024\",\"type\":\"HelpTool\"},{\"attributes\":{\"text\":\"\"},\"id\":\"1041\",\"type\":\"Title\"},{\"attributes\":{},\"id\":\"1019\",\"type\":\"PanTool\"},{\"attributes\":{\"fill_alpha\":{\"value\":0.25},\"fill_color\":{\"field\":\"color\"},\"line_alpha\":{\"value\":0.25},\"line_color\":{\"field\":\"color\"},\"size\":{\"units\":\"screen\",\"value\":10},\"x\":{\"field\":\"x\"},\"y\":{\"field\":\"y\"}},\"id\":\"1034\",\"type\":\"Scatter\"},{\"attributes\":{\"data_source\":{\"id\":\"1001\"},\"glyph\":{\"id\":\"1034\"},\"hover_glyph\":null,\"muted_glyph\":null,\"nonselection_glyph\":{\"id\":\"1035\"},\"selection_glyph\":null,\"view\":{\"id\":\"1037\"}},\"id\":\"1036\",\"type\":\"GlyphRenderer\"},{\"attributes\":{},\"id\":\"1012\",\"type\":\"BasicTicker\"},{\"attributes\":{\"bottom_units\":\"screen\",\"fill_alpha\":0.5,\"fill_color\":\"lightgrey\",\"left_units\":\"screen\",\"level\":\"overlay\",\"line_alpha\":1.0,\"line_color\":\"black\",\"line_dash\":[4,4],\"line_width\":2,\"right_units\":\"screen\",\"top_units\":\"screen\"},\"id\":\"1025\",\"type\":\"BoxAnnotation\"},{\"attributes\":{\"axis\":{\"id\":\"1011\"},\"ticker\":null},\"id\":\"1014\",\"type\":\"Grid\"},{\"attributes\":{\"active_drag\":\"auto\",\"active_inspect\":\"auto\",\"active_multi\":null,\"active_scroll\":{\"id\":\"1020\"},\"active_tap\":\"auto\",\"tools\":[{\"id\":\"1019\"},{\"id\":\"1020\"},{\"id\":\"1021\"},{\"id\":\"1022\"},{\"id\":\"1023\"},{\"id\":\"1024\"},{\"id\":\"1038\"}]},\"id\":\"1026\",\"type\":\"Toolbar\"},{\"attributes\":{},\"id\":\"1016\",\"type\":\"BasicTicker\"},{\"attributes\":{\"formatter\":{\"id\":\"1045\"},\"ticker\":{\"id\":\"1016\"}},\"id\":\"1015\",\"type\":\"LinearAxis\"},{\"attributes\":{\"overlay\":{\"id\":\"1025\"}},\"id\":\"1021\",\"type\":\"BoxZoomTool\"},{\"attributes\":{\"fill_alpha\":{\"value\":0.1},\"fill_color\":{\"field\":\"color\"},\"line_alpha\":{\"value\":0.1},\"line_color\":{\"field\":\"color\"},\"size\":{\"units\":\"screen\",\"value\":10},\"x\":{\"field\":\"x\"},\"y\":{\"field\":\"y\"}},\"id\":\"1035\",\"type\":\"Scatter\"},{\"attributes\":{\"formatter\":{\"id\":\"1043\"},\"ticker\":{\"id\":\"1012\"}},\"id\":\"1011\",\"type\":\"LinearAxis\"},{\"attributes\":{},\"id\":\"1047\",\"type\":\"UnionRenderers\"}],\"root_ids\":[\"1002\"]},\"title\":\"Bokeh Application\",\"version\":\"2.1.1\"}};\n",
              "  var render_items = [{\"docid\":\"63df8153-44ee-48e3-9d9f-c2e8e1a546c7\",\"root_ids\":[\"1002\"],\"roots\":{\"1002\":\"32b6ab32-9cf2-45da-829a-d0b764b6d5d2\"}}];\n",
              "  root.Bokeh.embed.embed_items_notebook(docs_json, render_items);\n",
              "\n",
              "  }\n",
              "  if (root.Bokeh !== undefined) {\n",
              "    embed_document(root);\n",
              "  } else {\n",
              "    var attempts = 0;\n",
              "    var timer = setInterval(function(root) {\n",
              "      if (root.Bokeh !== undefined) {\n",
              "        clearInterval(timer);\n",
              "        embed_document(root);\n",
              "      } else {\n",
              "        attempts++;\n",
              "        if (attempts > 100) {\n",
              "          clearInterval(timer);\n",
              "          console.log(\"Bokeh: ERROR: Unable to run BokehJS code because BokehJS library is missing\");\n",
              "        }\n",
              "      }\n",
              "    }, 10, root)\n",
              "  }\n",
              "})(window);"
            ],
            "application/vnd.bokehjs_exec.v0+json": ""
          },
          "metadata": {
            "tags": [],
            "application/vnd.bokehjs_exec.v0+json": {
              "id": "1002"
            }
          }
        },
        {
          "output_type": "execute_result",
          "data": {
            "text/html": [
              "<div style=\"display: table;\"><div style=\"display: table-row;\"><div style=\"display: table-cell;\"><b title=\"bokeh.plotting.figure.Figure\">Figure</b>(</div><div style=\"display: table-cell;\">id&nbsp;=&nbsp;'1002', <span id=\"1104\" style=\"cursor: pointer;\">&hellip;)</span></div></div><div class=\"1103\" style=\"display: none;\"><div style=\"display: table-cell;\"></div><div style=\"display: table-cell;\">above&nbsp;=&nbsp;[],</div></div><div class=\"1103\" style=\"display: none;\"><div style=\"display: table-cell;\"></div><div style=\"display: table-cell;\">align&nbsp;=&nbsp;'start',</div></div><div class=\"1103\" style=\"display: none;\"><div style=\"display: table-cell;\"></div><div style=\"display: table-cell;\">aspect_ratio&nbsp;=&nbsp;None,</div></div><div class=\"1103\" style=\"display: none;\"><div style=\"display: table-cell;\"></div><div style=\"display: table-cell;\">aspect_scale&nbsp;=&nbsp;1,</div></div><div class=\"1103\" style=\"display: none;\"><div style=\"display: table-cell;\"></div><div style=\"display: table-cell;\">background&nbsp;=&nbsp;None,</div></div><div class=\"1103\" style=\"display: none;\"><div style=\"display: table-cell;\"></div><div style=\"display: table-cell;\">background_fill_alpha&nbsp;=&nbsp;1.0,</div></div><div class=\"1103\" style=\"display: none;\"><div style=\"display: table-cell;\"></div><div style=\"display: table-cell;\">background_fill_color&nbsp;=&nbsp;'#ffffff',</div></div><div class=\"1103\" style=\"display: none;\"><div style=\"display: table-cell;\"></div><div style=\"display: table-cell;\">below&nbsp;=&nbsp;[LinearAxis(id='1011', ...)],</div></div><div class=\"1103\" style=\"display: none;\"><div style=\"display: table-cell;\"></div><div style=\"display: table-cell;\">border_fill_alpha&nbsp;=&nbsp;1.0,</div></div><div class=\"1103\" style=\"display: none;\"><div style=\"display: table-cell;\"></div><div style=\"display: table-cell;\">border_fill_color&nbsp;=&nbsp;'#ffffff',</div></div><div class=\"1103\" style=\"display: none;\"><div style=\"display: table-cell;\"></div><div style=\"display: table-cell;\">center&nbsp;=&nbsp;[Grid(id='1014', ...), Grid(id='1018', ...)],</div></div><div class=\"1103\" style=\"display: none;\"><div style=\"display: table-cell;\"></div><div style=\"display: table-cell;\">css_classes&nbsp;=&nbsp;[],</div></div><div class=\"1103\" style=\"display: none;\"><div style=\"display: table-cell;\"></div><div style=\"display: table-cell;\">disabled&nbsp;=&nbsp;False,</div></div><div class=\"1103\" style=\"display: none;\"><div style=\"display: table-cell;\"></div><div style=\"display: table-cell;\">extra_x_ranges&nbsp;=&nbsp;{},</div></div><div class=\"1103\" style=\"display: none;\"><div style=\"display: table-cell;\"></div><div style=\"display: table-cell;\">extra_y_ranges&nbsp;=&nbsp;{},</div></div><div class=\"1103\" style=\"display: none;\"><div style=\"display: table-cell;\"></div><div style=\"display: table-cell;\">frame_height&nbsp;=&nbsp;None,</div></div><div class=\"1103\" style=\"display: none;\"><div style=\"display: table-cell;\"></div><div style=\"display: table-cell;\">frame_width&nbsp;=&nbsp;None,</div></div><div class=\"1103\" style=\"display: none;\"><div style=\"display: table-cell;\"></div><div style=\"display: table-cell;\">height&nbsp;=&nbsp;None,</div></div><div class=\"1103\" style=\"display: none;\"><div style=\"display: table-cell;\"></div><div style=\"display: table-cell;\">height_policy&nbsp;=&nbsp;'auto',</div></div><div class=\"1103\" style=\"display: none;\"><div style=\"display: table-cell;\"></div><div style=\"display: table-cell;\">hidpi&nbsp;=&nbsp;True,</div></div><div class=\"1103\" style=\"display: none;\"><div style=\"display: table-cell;\"></div><div style=\"display: table-cell;\">js_event_callbacks&nbsp;=&nbsp;{},</div></div><div class=\"1103\" style=\"display: none;\"><div style=\"display: table-cell;\"></div><div style=\"display: table-cell;\">js_property_callbacks&nbsp;=&nbsp;{},</div></div><div class=\"1103\" style=\"display: none;\"><div style=\"display: table-cell;\"></div><div style=\"display: table-cell;\">left&nbsp;=&nbsp;[LinearAxis(id='1015', ...)],</div></div><div class=\"1103\" style=\"display: none;\"><div style=\"display: table-cell;\"></div><div style=\"display: table-cell;\">lod_factor&nbsp;=&nbsp;10,</div></div><div class=\"1103\" style=\"display: none;\"><div style=\"display: table-cell;\"></div><div style=\"display: table-cell;\">lod_interval&nbsp;=&nbsp;300,</div></div><div class=\"1103\" style=\"display: none;\"><div style=\"display: table-cell;\"></div><div style=\"display: table-cell;\">lod_threshold&nbsp;=&nbsp;2000,</div></div><div class=\"1103\" style=\"display: none;\"><div style=\"display: table-cell;\"></div><div style=\"display: table-cell;\">lod_timeout&nbsp;=&nbsp;500,</div></div><div class=\"1103\" style=\"display: none;\"><div style=\"display: table-cell;\"></div><div style=\"display: table-cell;\">margin&nbsp;=&nbsp;(0, 0, 0, 0),</div></div><div class=\"1103\" style=\"display: none;\"><div style=\"display: table-cell;\"></div><div style=\"display: table-cell;\">match_aspect&nbsp;=&nbsp;False,</div></div><div class=\"1103\" style=\"display: none;\"><div style=\"display: table-cell;\"></div><div style=\"display: table-cell;\">max_height&nbsp;=&nbsp;None,</div></div><div class=\"1103\" style=\"display: none;\"><div style=\"display: table-cell;\"></div><div style=\"display: table-cell;\">max_width&nbsp;=&nbsp;None,</div></div><div class=\"1103\" style=\"display: none;\"><div style=\"display: table-cell;\"></div><div style=\"display: table-cell;\">min_border&nbsp;=&nbsp;5,</div></div><div class=\"1103\" style=\"display: none;\"><div style=\"display: table-cell;\"></div><div style=\"display: table-cell;\">min_border_bottom&nbsp;=&nbsp;None,</div></div><div class=\"1103\" style=\"display: none;\"><div style=\"display: table-cell;\"></div><div style=\"display: table-cell;\">min_border_left&nbsp;=&nbsp;None,</div></div><div class=\"1103\" style=\"display: none;\"><div style=\"display: table-cell;\"></div><div style=\"display: table-cell;\">min_border_right&nbsp;=&nbsp;None,</div></div><div class=\"1103\" style=\"display: none;\"><div style=\"display: table-cell;\"></div><div style=\"display: table-cell;\">min_border_top&nbsp;=&nbsp;None,</div></div><div class=\"1103\" style=\"display: none;\"><div style=\"display: table-cell;\"></div><div style=\"display: table-cell;\">min_height&nbsp;=&nbsp;None,</div></div><div class=\"1103\" style=\"display: none;\"><div style=\"display: table-cell;\"></div><div style=\"display: table-cell;\">min_width&nbsp;=&nbsp;None,</div></div><div class=\"1103\" style=\"display: none;\"><div style=\"display: table-cell;\"></div><div style=\"display: table-cell;\">name&nbsp;=&nbsp;None,</div></div><div class=\"1103\" style=\"display: none;\"><div style=\"display: table-cell;\"></div><div style=\"display: table-cell;\">outline_line_alpha&nbsp;=&nbsp;1.0,</div></div><div class=\"1103\" style=\"display: none;\"><div style=\"display: table-cell;\"></div><div style=\"display: table-cell;\">outline_line_cap&nbsp;=&nbsp;'butt',</div></div><div class=\"1103\" style=\"display: none;\"><div style=\"display: table-cell;\"></div><div style=\"display: table-cell;\">outline_line_color&nbsp;=&nbsp;'#e5e5e5',</div></div><div class=\"1103\" style=\"display: none;\"><div style=\"display: table-cell;\"></div><div style=\"display: table-cell;\">outline_line_dash&nbsp;=&nbsp;[],</div></div><div class=\"1103\" style=\"display: none;\"><div style=\"display: table-cell;\"></div><div style=\"display: table-cell;\">outline_line_dash_offset&nbsp;=&nbsp;0,</div></div><div class=\"1103\" style=\"display: none;\"><div style=\"display: table-cell;\"></div><div style=\"display: table-cell;\">outline_line_join&nbsp;=&nbsp;'bevel',</div></div><div class=\"1103\" style=\"display: none;\"><div style=\"display: table-cell;\"></div><div style=\"display: table-cell;\">outline_line_width&nbsp;=&nbsp;1,</div></div><div class=\"1103\" style=\"display: none;\"><div style=\"display: table-cell;\"></div><div style=\"display: table-cell;\">output_backend&nbsp;=&nbsp;'canvas',</div></div><div class=\"1103\" style=\"display: none;\"><div style=\"display: table-cell;\"></div><div style=\"display: table-cell;\">plot_height&nbsp;=&nbsp;400,</div></div><div class=\"1103\" style=\"display: none;\"><div style=\"display: table-cell;\"></div><div style=\"display: table-cell;\">plot_width&nbsp;=&nbsp;600,</div></div><div class=\"1103\" style=\"display: none;\"><div style=\"display: table-cell;\"></div><div style=\"display: table-cell;\">renderers&nbsp;=&nbsp;[GlyphRenderer(id='1036', ...)],</div></div><div class=\"1103\" style=\"display: none;\"><div style=\"display: table-cell;\"></div><div style=\"display: table-cell;\">reset_policy&nbsp;=&nbsp;'standard',</div></div><div class=\"1103\" style=\"display: none;\"><div style=\"display: table-cell;\"></div><div style=\"display: table-cell;\">right&nbsp;=&nbsp;[],</div></div><div class=\"1103\" style=\"display: none;\"><div style=\"display: table-cell;\"></div><div style=\"display: table-cell;\">sizing_mode&nbsp;=&nbsp;None,</div></div><div class=\"1103\" style=\"display: none;\"><div style=\"display: table-cell;\"></div><div style=\"display: table-cell;\">subscribed_events&nbsp;=&nbsp;[],</div></div><div class=\"1103\" style=\"display: none;\"><div style=\"display: table-cell;\"></div><div style=\"display: table-cell;\">tags&nbsp;=&nbsp;[],</div></div><div class=\"1103\" style=\"display: none;\"><div style=\"display: table-cell;\"></div><div style=\"display: table-cell;\">title&nbsp;=&nbsp;Title(id='1041', ...),</div></div><div class=\"1103\" style=\"display: none;\"><div style=\"display: table-cell;\"></div><div style=\"display: table-cell;\">title_location&nbsp;=&nbsp;'above',</div></div><div class=\"1103\" style=\"display: none;\"><div style=\"display: table-cell;\"></div><div style=\"display: table-cell;\">toolbar&nbsp;=&nbsp;Toolbar(id='1026', ...),</div></div><div class=\"1103\" style=\"display: none;\"><div style=\"display: table-cell;\"></div><div style=\"display: table-cell;\">toolbar_location&nbsp;=&nbsp;'right',</div></div><div class=\"1103\" style=\"display: none;\"><div style=\"display: table-cell;\"></div><div style=\"display: table-cell;\">toolbar_sticky&nbsp;=&nbsp;True,</div></div><div class=\"1103\" style=\"display: none;\"><div style=\"display: table-cell;\"></div><div style=\"display: table-cell;\">visible&nbsp;=&nbsp;True,</div></div><div class=\"1103\" style=\"display: none;\"><div style=\"display: table-cell;\"></div><div style=\"display: table-cell;\">width&nbsp;=&nbsp;None,</div></div><div class=\"1103\" style=\"display: none;\"><div style=\"display: table-cell;\"></div><div style=\"display: table-cell;\">width_policy&nbsp;=&nbsp;'auto',</div></div><div class=\"1103\" style=\"display: none;\"><div style=\"display: table-cell;\"></div><div style=\"display: table-cell;\">x_range&nbsp;=&nbsp;DataRange1d(id='1003', ...),</div></div><div class=\"1103\" style=\"display: none;\"><div style=\"display: table-cell;\"></div><div style=\"display: table-cell;\">x_scale&nbsp;=&nbsp;LinearScale(id='1007', ...),</div></div><div class=\"1103\" style=\"display: none;\"><div style=\"display: table-cell;\"></div><div style=\"display: table-cell;\">y_range&nbsp;=&nbsp;DataRange1d(id='1005', ...),</div></div><div class=\"1103\" style=\"display: none;\"><div style=\"display: table-cell;\"></div><div style=\"display: table-cell;\">y_scale&nbsp;=&nbsp;LinearScale(id='1009', ...))</div></div></div>\n",
              "<script>\n",
              "(function() {\n",
              "  var expanded = false;\n",
              "  var ellipsis = document.getElementById(\"1104\");\n",
              "  ellipsis.addEventListener(\"click\", function() {\n",
              "    var rows = document.getElementsByClassName(\"1103\");\n",
              "    for (var i = 0; i < rows.length; i++) {\n",
              "      var el = rows[i];\n",
              "      el.style.display = expanded ? \"none\" : \"table-row\";\n",
              "    }\n",
              "    ellipsis.innerHTML = expanded ? \"&hellip;)\" : \"&lsaquo;&lsaquo;&lsaquo;\";\n",
              "    expanded = !expanded;\n",
              "  });\n",
              "})();\n",
              "</script>\n"
            ],
            "text/plain": [
              "Figure(id='1002', ...)"
            ]
          },
          "metadata": {
            "tags": []
          },
          "execution_count": 23
        }
      ]
    },
    {
      "cell_type": "markdown",
      "metadata": {
        "id": "0fNF6LRQ9MPI"
      },
      "source": [
        "Скорее всего, на визуализации нет четкого разделения твитов между классами. Это значит, что по полученным нами векторам твитов не так-то просто определить, к какому классу твит пренадлежит. Значит, обычный линейный классификатор не очень хорошо справится с задачей. Надо будет делать глубокую (хотя бы два слоя) нейронную сеть.\n",
        "\n",
        "Подготовим загрузчики данных.\n",
        "Усреднее векторов будем делать в \"батчевалке\"(`collate_fn`). Она используется для того, чтобы собирать из данных `torch.Tensor` батчи, которые можно отправлять в модель.\n"
      ]
    },
    {
      "cell_type": "code",
      "metadata": {
        "id": "y1XapsADtITv"
      },
      "source": [
        "from torch.utils.data import DataLoader\n",
        "\n",
        "\n",
        "batch_size = 1024\n",
        "num_workers = 4\n",
        "\n",
        "def average_emb(batch):\n",
        "    features = [np.mean(b[\"feature\"], axis=0) for b in batch]\n",
        "    targets = [b[\"target\"] for b in batch]\n",
        "    return {\"features\": torch.FloatTensor(features), \"targets\": torch.LongTensor(targets)}\n",
        "\n",
        "\n",
        "train_size = math.ceil(len(dev) * 0.8)\n",
        "\n",
        "train, valid = random_split(dev, [train_size, len(dev) - train_size])\n",
        "\n",
        "train_loader = DataLoader(train, batch_size=batch_size, num_workers=num_workers, shuffle=True, drop_last=True, collate_fn=average_emb)\n",
        "valid_loader = DataLoader(valid, batch_size=batch_size, num_workers=num_workers, shuffle=False, drop_last=False, collate_fn=average_emb)"
      ],
      "execution_count": 24,
      "outputs": []
    },
    {
      "cell_type": "markdown",
      "metadata": {
        "id": "p-zs0WEK-Vkt"
      },
      "source": [
        "Определим функции для тренировки и теста модели:"
      ]
    },
    {
      "cell_type": "code",
      "metadata": {
        "id": "U--T2Gjw1r27"
      },
      "source": [
        "from tqdm.notebook import tqdm\n",
        "from sklearn.metrics import accuracy_score\n",
        "\n",
        "def training(model, optimizer, criterion, train_loader, epoch, device=\"cpu\"):\n",
        "    pbar = tqdm(train_loader, desc=f\"Epoch {e + 1}. Train Loss: {0}\")\n",
        "    model.train()\n",
        "    for batch in pbar:\n",
        "        features = batch[\"features\"].to(device)\n",
        "        targets = batch[\"targets\"].to(device)\n",
        "        optimizer.zero_grad()\n",
        "        # Получи предсказания модели\n",
        "        output = model(features)\n",
        "        loss = criterion(output,targets) # Посчитай лосс\n",
        "        # Обнови параметры модели\n",
        "        loss.backward()\n",
        "        optimizer.step()\n",
        "\n",
        "        pbar.set_description(f\"Epoch {e + 1}. Train Loss: {loss:.4}\")\n",
        "\n",
        "\n",
        "def testing(model, criterion, test_loader, device=\"cpu\"):\n",
        "    pbar = tqdm(test_loader, desc=f\"Test Loss: {0}, Test Acc: {0}\")\n",
        "    mean_loss = 0\n",
        "    mean_acc = 0\n",
        "    model.eval()\n",
        "    with torch.no_grad():\n",
        "        for batch in pbar:\n",
        "            features = batch[\"features\"].to(device)\n",
        "            targets = batch[\"targets\"].to(device)\n",
        "            # Получи предсказания модели\n",
        "            output = model(features)\n",
        "            loss = criterion(output,targets) # Посчитай лосс\n",
        "            acc = accuracy_score(targets.to(device),torch.argmax(output, dim=1).to(device)) # Посчитай точность модели\n",
        "\n",
        "            mean_loss += loss.item()\n",
        "            mean_acc += acc.item()\n",
        "\n",
        "            pbar.set_description(f\"Test Loss: {loss:.4}, Test Acc: {acc:.4}\")\n",
        "\n",
        "    pbar.set_description(f\"Test Loss: {mean_loss / len(test_loader):.4}, Test Acc: {mean_acc / len(test_loader):.4}\")\n",
        "\n",
        "    return {\"Test Loss\": mean_loss / len(test_loader), \"Test Acc\": mean_acc / len(test_loader)}"
      ],
      "execution_count": 25,
      "outputs": []
    },
    {
      "cell_type": "markdown",
      "metadata": {
        "id": "oVg_XBBb-YBH"
      },
      "source": [
        "Создадим модель, оптимизатор и целевую функцию. Вы можете сами выбрать количество слоев в нейронной сети, ваш любимый оптимизатор и целевую функцию.\n"
      ]
    },
    {
      "cell_type": "code",
      "metadata": {
        "id": "boWMViDlye0L",
        "colab": {
          "base_uri": "https://localhost:8080/"
        },
        "outputId": "8a2e501b-c79b-4717-8ba1-5f922a6fa7f7"
      },
      "source": [
        "len(dev.word2vec.vocab)"
      ],
      "execution_count": 26,
      "outputs": [
        {
          "output_type": "execute_result",
          "data": {
            "text/plain": [
              "3000000"
            ]
          },
          "metadata": {
            "tags": []
          },
          "execution_count": 26
        }
      ]
    },
    {
      "cell_type": "code",
      "metadata": {
        "id": "EBoZ4F3Fx1Hm"
      },
      "source": [
        "import torch.nn as nn\n",
        "from torch.optim import Adam\n",
        "# Не забудь поиграться с параметрами ;)\n",
        "vector_size = dev.word2vec.vector_size\n",
        "num_classes = 2\n",
        "lr = 1e-2\n",
        "num_epochs = 5\n",
        "\n",
        "model = nn.Sequential(nn.Linear(vector_size, 128),\n",
        "                               nn.Sigmoid(),\n",
        "                               nn.Linear(128, num_classes))# Твоя модель\n",
        "criterion = nn.CrossEntropyLoss()# Твой лосс\n",
        "optimizer = Adam(model.parameters(),lr)"
      ],
      "execution_count": 29,
      "outputs": []
    },
    {
      "cell_type": "markdown",
      "metadata": {
        "id": "-AitU8AR-zBj"
      },
      "source": [
        "Наконец, обучим модель и протестируем её.\n",
        "\n",
        "После каждой эпохи будем проверять качество модели на валидационной части датасета. Если метрика стала лучше, будем сохранять модель. **Подумайте, какая метрика (точность или лосс) будет лучше работать в этой задаче?** "
      ]
    },
    {
      "cell_type": "code",
      "metadata": {
        "id": "gKhk71Pmx1F1",
        "colab": {
          "base_uri": "https://localhost:8080/",
          "height": 1000,
          "referenced_widgets": [
            "c61b5f03b50a4f0aa1578cb0552a9b77",
            "9e070c23558d405695b6483d46d27d08",
            "5a2fe4d5b52f4e7ba5987342d64a2a7d",
            "a67819feffc4485eb1f24240d84f54cf",
            "7a8e3230a6b247f69ebcf6fb4b2c71c9",
            "b96fa023beba4cb1aa2b780b741fad12",
            "cc5b11e97dc347ac88f55856aefcd60e",
            "9efdd2ba9fe640e8a556cadc6d6e4595",
            "8bfed25b7ad3410fab9caf52df851fee",
            "cfcfbb9cb2fa4683802557f805297e7e",
            "5bf10ad507d942d78bf9954384267220",
            "9559852b9fb4485db472ccdae03dfe19",
            "f9ba8bdca6d5421e806ed2060f127801",
            "5337a1f6059b4453af68a94ebc23c71c",
            "de4e59df2cc14851aee9ddbf7063e02c",
            "1559deb42b8c49b19fba81e127c7898f",
            "594e3cb06b7d4a1bb69cbfd5e9a53ff2",
            "a537854117a34581bc90dbbec34d04b7",
            "ed250b26c6f94b54a9a24f1259490642",
            "41ddc5ec6abf4d899b277ab33ca53854",
            "f3c8938b180244f7b0abb33544845677",
            "90d066ce846241f8aef7ade4930b78ef",
            "10cabc667f874d71bab37d6d7068e14b",
            "d42dec5a41204b88ac318dbe9a32c1a2",
            "81c7ca14a19344c28ca8ce2ecca23763",
            "e90c3d2feec5455093706aaa8049b5ba",
            "22b5f921e3094669b789dc71ddc9f711",
            "2cff75070e2048d59d910aae5260a422",
            "658e2923a8774ddf80e3051ac7843a63",
            "5a3f75a3e8c64b398154849b0f640621",
            "6f4b20edbb1d4f8daecf35b24b48bc61",
            "c0fdf2b4e9bb4a2ba6d12cb7e95c9787",
            "ae92005b6bab4653b0b6c7bcd533be9b",
            "6e5e74b36ebb4875a50afbddeb8ba9f1",
            "e082d12af42c459aa7b5b875c3eb879a",
            "cff497bed3344f6eb8c1001459dea5fb",
            "fdd2b076100e48b3bc84f3c3bed4fa35",
            "e85cb637abca4464977cc22efdfa87c4",
            "5ad66b807c4949d5a36056c43dfe586d",
            "1f58994765104e76bcf65e1aaf07e766",
            "1b4efe34d7f14bae9659587806d849bd",
            "e903180db70b456a8544a1b97739e7d8",
            "874dc19d362445fbb35bf6f6c2652613",
            "a553a42951af4cdb908c22b373715e20",
            "d7d7f90665e84d309ed95063df9ac5aa",
            "3af4cf4a7f4f461c92eef54ca6c9b554",
            "ae68ebbd6b4c4910ac0e1bf4c47c31c0",
            "9ac1550b140245bd9b5ca96ed44c494c",
            "6db7b0d2e54345f0b91674faba5e7618",
            "ce778698c8f54d48a2b9ba0a3f038748",
            "2ab3a70f9b234c36a7a0e1f35d61fad9",
            "6b2b69cf12ab4d548b4a78517b1c8021",
            "1b6d9c4009404b348f3e75a8eab273c1",
            "e66a199fbeaf4950a0a5ab99f388bc1f",
            "e140962d754545c7a881fbb05c33c804",
            "61734c65a007424ab753db1ef9c75b07",
            "537c95fb1d1c493dabf6bf56871a8cd0",
            "f3ee6a3fb4bc4171819a13c7ce50bd48",
            "1af5df85701c4ce28b57211e8ae5c8ad",
            "474ca1e1ffbf43fa8aca5bebb710a2fb",
            "29e840f751334b258f47e86877981f95",
            "5eac17437641472ea5990e743725d2ee",
            "5f7e8a8adb6c4a08aa9b90581e123846",
            "5c1e9e1efd844961ad314e128449dac2",
            "e18b4bef11ec48249563da4fde4ad583",
            "39fc6c00e9b34bf0bab7e0f9065afab3",
            "09bce254432d4be2b3bccd06042f04d2",
            "9591bfafa3ca440e91a792f6522be7ea",
            "305c38efb8d4478b9b150f04b116ba2c",
            "1f0408ac61334c70986d44aa4f74939a",
            "6826792ea0ff4bb383965f1163036a7f",
            "416bc5863ad446748bc766b9645abbd1",
            "678aad97aff247149a35c63ff909f6cf",
            "f2a2a608acfc4c4b8bdb39c54c0ec3c7",
            "c31544fff98c4154b35803a8c731f1ce",
            "bfcc63a31e52416e88b77779ef2b0107",
            "701b4693261d486986ec3f191c63cc96",
            "41246d1fc5f34062b5d9224c87fcda8b",
            "2f370c745b21406cbb50e7d01ff00be5",
            "b986c2fca5d2411cb208f497bf6a30d4"
          ]
        },
        "outputId": "87ccccb6-29c8-4d60-e688-5425ffcfe027"
      },
      "source": [
        "best_metric = np.inf\n",
        "for e in range(num_epochs):\n",
        "    training(model, optimizer, criterion, train_loader, e, device)\n",
        "    log = testing(model, criterion, valid_loader, device)\n",
        "    print(log)\n",
        "    if log[\"Test Loss\"] < best_metric:\n",
        "        torch.save(model.state_dict(), \"model.pt\")\n",
        "        best_metric = log[\"Test Loss\"]"
      ],
      "execution_count": 30,
      "outputs": [
        {
          "output_type": "display_data",
          "data": {
            "application/vnd.jupyter.widget-view+json": {
              "model_id": "c61b5f03b50a4f0aa1578cb0552a9b77",
              "version_minor": 0,
              "version_major": 2
            },
            "text/plain": [
              "HBox(children=(FloatProgress(value=0.0, description='Epoch 1. Train Loss: 0', max=1000.0, style=ProgressStyle(…"
            ]
          },
          "metadata": {
            "tags": []
          }
        },
        {
          "output_type": "stream",
          "text": [
            "/usr/local/lib/python3.7/dist-packages/numpy/core/fromnumeric.py:3373: RuntimeWarning: Mean of empty slice.\n",
            "  out=out, **kwargs)\n",
            "/usr/local/lib/python3.7/dist-packages/numpy/core/fromnumeric.py:3373: RuntimeWarning: Mean of empty slice.\n",
            "  out=out, **kwargs)\n",
            "/usr/local/lib/python3.7/dist-packages/numpy/core/_methods.py:170: RuntimeWarning: invalid value encountered in double_scalars\n",
            "  ret = ret.dtype.type(ret / rcount)\n",
            "/usr/local/lib/python3.7/dist-packages/numpy/core/_methods.py:170: RuntimeWarning: invalid value encountered in double_scalars\n",
            "  ret = ret.dtype.type(ret / rcount)\n",
            "/usr/local/lib/python3.7/dist-packages/numpy/core/fromnumeric.py:3373: RuntimeWarning: Mean of empty slice.\n",
            "  out=out, **kwargs)\n",
            "/usr/local/lib/python3.7/dist-packages/numpy/core/fromnumeric.py:3373: RuntimeWarning: Mean of empty slice.\n",
            "  out=out, **kwargs)\n",
            "/usr/local/lib/python3.7/dist-packages/numpy/core/_methods.py:170: RuntimeWarning: invalid value encountered in double_scalars\n",
            "  ret = ret.dtype.type(ret / rcount)\n",
            "/usr/local/lib/python3.7/dist-packages/numpy/core/_methods.py:170: RuntimeWarning: invalid value encountered in double_scalars\n",
            "  ret = ret.dtype.type(ret / rcount)\n"
          ],
          "name": "stderr"
        },
        {
          "output_type": "stream",
          "text": [
            "\n"
          ],
          "name": "stdout"
        },
        {
          "output_type": "display_data",
          "data": {
            "application/vnd.jupyter.widget-view+json": {
              "model_id": "8bfed25b7ad3410fab9caf52df851fee",
              "version_minor": 0,
              "version_major": 2
            },
            "text/plain": [
              "HBox(children=(FloatProgress(value=0.0, description='Test Loss: 0, Test Acc: 0', max=250.0, style=ProgressStyl…"
            ]
          },
          "metadata": {
            "tags": []
          }
        },
        {
          "output_type": "stream",
          "text": [
            "/usr/local/lib/python3.7/dist-packages/numpy/core/fromnumeric.py:3373: RuntimeWarning: Mean of empty slice.\n",
            "  out=out, **kwargs)\n",
            "/usr/local/lib/python3.7/dist-packages/numpy/core/_methods.py:170: RuntimeWarning: invalid value encountered in double_scalars\n",
            "  ret = ret.dtype.type(ret / rcount)\n",
            "/usr/local/lib/python3.7/dist-packages/numpy/core/fromnumeric.py:3373: RuntimeWarning: Mean of empty slice.\n",
            "  out=out, **kwargs)\n",
            "/usr/local/lib/python3.7/dist-packages/numpy/core/_methods.py:170: RuntimeWarning: invalid value encountered in double_scalars\n",
            "  ret = ret.dtype.type(ret / rcount)\n",
            "/usr/local/lib/python3.7/dist-packages/numpy/core/fromnumeric.py:3373: RuntimeWarning: Mean of empty slice.\n",
            "  out=out, **kwargs)\n",
            "/usr/local/lib/python3.7/dist-packages/numpy/core/fromnumeric.py:3373: RuntimeWarning: Mean of empty slice.\n",
            "  out=out, **kwargs)\n",
            "/usr/local/lib/python3.7/dist-packages/numpy/core/_methods.py:170: RuntimeWarning: invalid value encountered in double_scalars\n",
            "  ret = ret.dtype.type(ret / rcount)\n",
            "/usr/local/lib/python3.7/dist-packages/numpy/core/_methods.py:170: RuntimeWarning: invalid value encountered in double_scalars\n",
            "  ret = ret.dtype.type(ret / rcount)\n"
          ],
          "name": "stderr"
        },
        {
          "output_type": "stream",
          "text": [
            "\n",
            "{'Test Loss': 0.5149478842020034, 'Test Acc': 0.743390625}\n"
          ],
          "name": "stdout"
        },
        {
          "output_type": "display_data",
          "data": {
            "application/vnd.jupyter.widget-view+json": {
              "model_id": "594e3cb06b7d4a1bb69cbfd5e9a53ff2",
              "version_minor": 0,
              "version_major": 2
            },
            "text/plain": [
              "HBox(children=(FloatProgress(value=0.0, description='Epoch 2. Train Loss: 0', max=1000.0, style=ProgressStyle(…"
            ]
          },
          "metadata": {
            "tags": []
          }
        },
        {
          "output_type": "stream",
          "text": [
            "/usr/local/lib/python3.7/dist-packages/numpy/core/fromnumeric.py:3373: RuntimeWarning: Mean of empty slice.\n",
            "  out=out, **kwargs)\n",
            "/usr/local/lib/python3.7/dist-packages/numpy/core/_methods.py:170: RuntimeWarning: invalid value encountered in double_scalars\n",
            "  ret = ret.dtype.type(ret / rcount)\n",
            "/usr/local/lib/python3.7/dist-packages/numpy/core/fromnumeric.py:3373: RuntimeWarning: Mean of empty slice.\n",
            "  out=out, **kwargs)\n",
            "/usr/local/lib/python3.7/dist-packages/numpy/core/fromnumeric.py:3373: RuntimeWarning: Mean of empty slice.\n",
            "  out=out, **kwargs)\n",
            "/usr/local/lib/python3.7/dist-packages/numpy/core/_methods.py:170: RuntimeWarning: invalid value encountered in double_scalars\n",
            "  ret = ret.dtype.type(ret / rcount)\n",
            "/usr/local/lib/python3.7/dist-packages/numpy/core/_methods.py:170: RuntimeWarning: invalid value encountered in double_scalars\n",
            "  ret = ret.dtype.type(ret / rcount)\n",
            "/usr/local/lib/python3.7/dist-packages/numpy/core/fromnumeric.py:3373: RuntimeWarning: Mean of empty slice.\n",
            "  out=out, **kwargs)\n",
            "/usr/local/lib/python3.7/dist-packages/numpy/core/_methods.py:170: RuntimeWarning: invalid value encountered in double_scalars\n",
            "  ret = ret.dtype.type(ret / rcount)\n"
          ],
          "name": "stderr"
        },
        {
          "output_type": "stream",
          "text": [
            "\n"
          ],
          "name": "stdout"
        },
        {
          "output_type": "display_data",
          "data": {
            "application/vnd.jupyter.widget-view+json": {
              "model_id": "81c7ca14a19344c28ca8ce2ecca23763",
              "version_minor": 0,
              "version_major": 2
            },
            "text/plain": [
              "HBox(children=(FloatProgress(value=0.0, description='Test Loss: 0, Test Acc: 0', max=250.0, style=ProgressStyl…"
            ]
          },
          "metadata": {
            "tags": []
          }
        },
        {
          "output_type": "stream",
          "text": [
            "/usr/local/lib/python3.7/dist-packages/numpy/core/fromnumeric.py:3373: RuntimeWarning: Mean of empty slice.\n",
            "  out=out, **kwargs)\n",
            "/usr/local/lib/python3.7/dist-packages/numpy/core/_methods.py:170: RuntimeWarning: invalid value encountered in double_scalars\n",
            "  ret = ret.dtype.type(ret / rcount)\n",
            "/usr/local/lib/python3.7/dist-packages/numpy/core/fromnumeric.py:3373: RuntimeWarning: Mean of empty slice.\n",
            "  out=out, **kwargs)\n",
            "/usr/local/lib/python3.7/dist-packages/numpy/core/_methods.py:170: RuntimeWarning: invalid value encountered in double_scalars\n",
            "  ret = ret.dtype.type(ret / rcount)\n",
            "/usr/local/lib/python3.7/dist-packages/numpy/core/fromnumeric.py:3373: RuntimeWarning: Mean of empty slice.\n",
            "  out=out, **kwargs)\n",
            "/usr/local/lib/python3.7/dist-packages/numpy/core/fromnumeric.py:3373: RuntimeWarning: Mean of empty slice.\n",
            "  out=out, **kwargs)\n",
            "/usr/local/lib/python3.7/dist-packages/numpy/core/_methods.py:170: RuntimeWarning: invalid value encountered in double_scalars\n",
            "  ret = ret.dtype.type(ret / rcount)\n",
            "/usr/local/lib/python3.7/dist-packages/numpy/core/_methods.py:170: RuntimeWarning: invalid value encountered in double_scalars\n",
            "  ret = ret.dtype.type(ret / rcount)\n"
          ],
          "name": "stderr"
        },
        {
          "output_type": "stream",
          "text": [
            "\n",
            "{'Test Loss': 0.5106341996192932, 'Test Acc': 0.74624609375}\n"
          ],
          "name": "stdout"
        },
        {
          "output_type": "display_data",
          "data": {
            "application/vnd.jupyter.widget-view+json": {
              "model_id": "ae92005b6bab4653b0b6c7bcd533be9b",
              "version_minor": 0,
              "version_major": 2
            },
            "text/plain": [
              "HBox(children=(FloatProgress(value=0.0, description='Epoch 3. Train Loss: 0', max=1000.0, style=ProgressStyle(…"
            ]
          },
          "metadata": {
            "tags": []
          }
        },
        {
          "output_type": "stream",
          "text": [
            "/usr/local/lib/python3.7/dist-packages/numpy/core/fromnumeric.py:3373: RuntimeWarning: Mean of empty slice.\n",
            "  out=out, **kwargs)\n",
            "/usr/local/lib/python3.7/dist-packages/numpy/core/fromnumeric.py:3373: RuntimeWarning: Mean of empty slice.\n",
            "  out=out, **kwargs)\n",
            "/usr/local/lib/python3.7/dist-packages/numpy/core/_methods.py:170: RuntimeWarning: invalid value encountered in double_scalars\n",
            "  ret = ret.dtype.type(ret / rcount)\n",
            "/usr/local/lib/python3.7/dist-packages/numpy/core/_methods.py:170: RuntimeWarning: invalid value encountered in double_scalars\n",
            "  ret = ret.dtype.type(ret / rcount)\n",
            "/usr/local/lib/python3.7/dist-packages/numpy/core/fromnumeric.py:3373: RuntimeWarning: Mean of empty slice.\n",
            "  out=out, **kwargs)\n",
            "/usr/local/lib/python3.7/dist-packages/numpy/core/_methods.py:170: RuntimeWarning: invalid value encountered in double_scalars\n",
            "  ret = ret.dtype.type(ret / rcount)\n",
            "/usr/local/lib/python3.7/dist-packages/numpy/core/fromnumeric.py:3373: RuntimeWarning: Mean of empty slice.\n",
            "  out=out, **kwargs)\n",
            "/usr/local/lib/python3.7/dist-packages/numpy/core/_methods.py:170: RuntimeWarning: invalid value encountered in double_scalars\n",
            "  ret = ret.dtype.type(ret / rcount)\n"
          ],
          "name": "stderr"
        },
        {
          "output_type": "stream",
          "text": [
            "\n"
          ],
          "name": "stdout"
        },
        {
          "output_type": "display_data",
          "data": {
            "application/vnd.jupyter.widget-view+json": {
              "model_id": "1b4efe34d7f14bae9659587806d849bd",
              "version_minor": 0,
              "version_major": 2
            },
            "text/plain": [
              "HBox(children=(FloatProgress(value=0.0, description='Test Loss: 0, Test Acc: 0', max=250.0, style=ProgressStyl…"
            ]
          },
          "metadata": {
            "tags": []
          }
        },
        {
          "output_type": "stream",
          "text": [
            "/usr/local/lib/python3.7/dist-packages/numpy/core/fromnumeric.py:3373: RuntimeWarning: Mean of empty slice.\n",
            "  out=out, **kwargs)\n",
            "/usr/local/lib/python3.7/dist-packages/numpy/core/_methods.py:170: RuntimeWarning: invalid value encountered in double_scalars\n",
            "  ret = ret.dtype.type(ret / rcount)\n",
            "/usr/local/lib/python3.7/dist-packages/numpy/core/fromnumeric.py:3373: RuntimeWarning: Mean of empty slice.\n",
            "  out=out, **kwargs)\n",
            "/usr/local/lib/python3.7/dist-packages/numpy/core/fromnumeric.py:3373: RuntimeWarning: Mean of empty slice.\n",
            "  out=out, **kwargs)\n",
            "/usr/local/lib/python3.7/dist-packages/numpy/core/_methods.py:170: RuntimeWarning: invalid value encountered in double_scalars\n",
            "  ret = ret.dtype.type(ret / rcount)\n",
            "/usr/local/lib/python3.7/dist-packages/numpy/core/_methods.py:170: RuntimeWarning: invalid value encountered in double_scalars\n",
            "  ret = ret.dtype.type(ret / rcount)\n",
            "/usr/local/lib/python3.7/dist-packages/numpy/core/fromnumeric.py:3373: RuntimeWarning: Mean of empty slice.\n",
            "  out=out, **kwargs)\n",
            "/usr/local/lib/python3.7/dist-packages/numpy/core/_methods.py:170: RuntimeWarning: invalid value encountered in double_scalars\n",
            "  ret = ret.dtype.type(ret / rcount)\n"
          ],
          "name": "stderr"
        },
        {
          "output_type": "stream",
          "text": [
            "\n",
            "{'Test Loss': 0.5062473481893539, 'Test Acc': 0.74953515625}\n"
          ],
          "name": "stdout"
        },
        {
          "output_type": "display_data",
          "data": {
            "application/vnd.jupyter.widget-view+json": {
              "model_id": "6db7b0d2e54345f0b91674faba5e7618",
              "version_minor": 0,
              "version_major": 2
            },
            "text/plain": [
              "HBox(children=(FloatProgress(value=0.0, description='Epoch 4. Train Loss: 0', max=1000.0, style=ProgressStyle(…"
            ]
          },
          "metadata": {
            "tags": []
          }
        },
        {
          "output_type": "stream",
          "text": [
            "/usr/local/lib/python3.7/dist-packages/numpy/core/fromnumeric.py:3373: RuntimeWarning: Mean of empty slice.\n",
            "  out=out, **kwargs)\n",
            "/usr/local/lib/python3.7/dist-packages/numpy/core/_methods.py:170: RuntimeWarning: invalid value encountered in double_scalars\n",
            "  ret = ret.dtype.type(ret / rcount)\n",
            "/usr/local/lib/python3.7/dist-packages/numpy/core/fromnumeric.py:3373: RuntimeWarning: Mean of empty slice.\n",
            "  out=out, **kwargs)\n",
            "/usr/local/lib/python3.7/dist-packages/numpy/core/_methods.py:170: RuntimeWarning: invalid value encountered in double_scalars\n",
            "  ret = ret.dtype.type(ret / rcount)\n",
            "/usr/local/lib/python3.7/dist-packages/numpy/core/fromnumeric.py:3373: RuntimeWarning: Mean of empty slice.\n",
            "  out=out, **kwargs)\n",
            "/usr/local/lib/python3.7/dist-packages/numpy/core/_methods.py:170: RuntimeWarning: invalid value encountered in double_scalars\n",
            "  ret = ret.dtype.type(ret / rcount)\n",
            "/usr/local/lib/python3.7/dist-packages/numpy/core/fromnumeric.py:3373: RuntimeWarning: Mean of empty slice.\n",
            "  out=out, **kwargs)\n",
            "/usr/local/lib/python3.7/dist-packages/numpy/core/_methods.py:170: RuntimeWarning: invalid value encountered in double_scalars\n",
            "  ret = ret.dtype.type(ret / rcount)\n"
          ],
          "name": "stderr"
        },
        {
          "output_type": "stream",
          "text": [
            "\n"
          ],
          "name": "stdout"
        },
        {
          "output_type": "display_data",
          "data": {
            "application/vnd.jupyter.widget-view+json": {
              "model_id": "537c95fb1d1c493dabf6bf56871a8cd0",
              "version_minor": 0,
              "version_major": 2
            },
            "text/plain": [
              "HBox(children=(FloatProgress(value=0.0, description='Test Loss: 0, Test Acc: 0', max=250.0, style=ProgressStyl…"
            ]
          },
          "metadata": {
            "tags": []
          }
        },
        {
          "output_type": "stream",
          "text": [
            "/usr/local/lib/python3.7/dist-packages/numpy/core/fromnumeric.py:3373: RuntimeWarning: Mean of empty slice.\n",
            "  out=out, **kwargs)\n",
            "/usr/local/lib/python3.7/dist-packages/numpy/core/_methods.py:170: RuntimeWarning: invalid value encountered in double_scalars\n",
            "  ret = ret.dtype.type(ret / rcount)\n",
            "/usr/local/lib/python3.7/dist-packages/numpy/core/fromnumeric.py:3373: RuntimeWarning: Mean of empty slice.\n",
            "  out=out, **kwargs)\n",
            "/usr/local/lib/python3.7/dist-packages/numpy/core/_methods.py:170: RuntimeWarning: invalid value encountered in double_scalars\n",
            "  ret = ret.dtype.type(ret / rcount)\n",
            "/usr/local/lib/python3.7/dist-packages/numpy/core/fromnumeric.py:3373: RuntimeWarning: Mean of empty slice.\n",
            "  out=out, **kwargs)\n",
            "/usr/local/lib/python3.7/dist-packages/numpy/core/fromnumeric.py:3373: RuntimeWarning: Mean of empty slice.\n",
            "  out=out, **kwargs)\n",
            "/usr/local/lib/python3.7/dist-packages/numpy/core/_methods.py:170: RuntimeWarning: invalid value encountered in double_scalars\n",
            "  ret = ret.dtype.type(ret / rcount)\n",
            "/usr/local/lib/python3.7/dist-packages/numpy/core/_methods.py:170: RuntimeWarning: invalid value encountered in double_scalars\n",
            "  ret = ret.dtype.type(ret / rcount)\n"
          ],
          "name": "stderr"
        },
        {
          "output_type": "stream",
          "text": [
            "\n",
            "{'Test Loss': 0.5038687192201614, 'Test Acc': 0.75108984375}\n"
          ],
          "name": "stdout"
        },
        {
          "output_type": "display_data",
          "data": {
            "application/vnd.jupyter.widget-view+json": {
              "model_id": "e18b4bef11ec48249563da4fde4ad583",
              "version_minor": 0,
              "version_major": 2
            },
            "text/plain": [
              "HBox(children=(FloatProgress(value=0.0, description='Epoch 5. Train Loss: 0', max=1000.0, style=ProgressStyle(…"
            ]
          },
          "metadata": {
            "tags": []
          }
        },
        {
          "output_type": "stream",
          "text": [
            "/usr/local/lib/python3.7/dist-packages/numpy/core/fromnumeric.py:3373: RuntimeWarning: Mean of empty slice.\n",
            "  out=out, **kwargs)\n",
            "/usr/local/lib/python3.7/dist-packages/numpy/core/_methods.py:170: RuntimeWarning: invalid value encountered in double_scalars\n",
            "  ret = ret.dtype.type(ret / rcount)\n",
            "/usr/local/lib/python3.7/dist-packages/numpy/core/fromnumeric.py:3373: RuntimeWarning: Mean of empty slice.\n",
            "  out=out, **kwargs)\n",
            "/usr/local/lib/python3.7/dist-packages/numpy/core/_methods.py:170: RuntimeWarning: invalid value encountered in double_scalars\n",
            "  ret = ret.dtype.type(ret / rcount)\n",
            "/usr/local/lib/python3.7/dist-packages/numpy/core/fromnumeric.py:3373: RuntimeWarning: Mean of empty slice.\n",
            "  out=out, **kwargs)\n",
            "/usr/local/lib/python3.7/dist-packages/numpy/core/_methods.py:170: RuntimeWarning: invalid value encountered in double_scalars\n",
            "  ret = ret.dtype.type(ret / rcount)\n",
            "/usr/local/lib/python3.7/dist-packages/numpy/core/fromnumeric.py:3373: RuntimeWarning: Mean of empty slice.\n",
            "  out=out, **kwargs)\n",
            "/usr/local/lib/python3.7/dist-packages/numpy/core/_methods.py:170: RuntimeWarning: invalid value encountered in double_scalars\n",
            "  ret = ret.dtype.type(ret / rcount)\n"
          ],
          "name": "stderr"
        },
        {
          "output_type": "stream",
          "text": [
            "\n"
          ],
          "name": "stdout"
        },
        {
          "output_type": "display_data",
          "data": {
            "application/vnd.jupyter.widget-view+json": {
              "model_id": "678aad97aff247149a35c63ff909f6cf",
              "version_minor": 0,
              "version_major": 2
            },
            "text/plain": [
              "HBox(children=(FloatProgress(value=0.0, description='Test Loss: 0, Test Acc: 0', max=250.0, style=ProgressStyl…"
            ]
          },
          "metadata": {
            "tags": []
          }
        },
        {
          "output_type": "stream",
          "text": [
            "/usr/local/lib/python3.7/dist-packages/numpy/core/fromnumeric.py:3373: RuntimeWarning: Mean of empty slice.\n",
            "  out=out, **kwargs)\n",
            "/usr/local/lib/python3.7/dist-packages/numpy/core/_methods.py:170: RuntimeWarning: invalid value encountered in double_scalars\n",
            "  ret = ret.dtype.type(ret / rcount)\n",
            "/usr/local/lib/python3.7/dist-packages/numpy/core/fromnumeric.py:3373: RuntimeWarning: Mean of empty slice.\n",
            "  out=out, **kwargs)\n",
            "/usr/local/lib/python3.7/dist-packages/numpy/core/fromnumeric.py:3373: RuntimeWarning: Mean of empty slice.\n",
            "  out=out, **kwargs)\n",
            "/usr/local/lib/python3.7/dist-packages/numpy/core/_methods.py:170: RuntimeWarning: invalid value encountered in double_scalars\n",
            "  ret = ret.dtype.type(ret / rcount)\n",
            "/usr/local/lib/python3.7/dist-packages/numpy/core/_methods.py:170: RuntimeWarning: invalid value encountered in double_scalars\n",
            "  ret = ret.dtype.type(ret / rcount)\n",
            "/usr/local/lib/python3.7/dist-packages/numpy/core/fromnumeric.py:3373: RuntimeWarning: Mean of empty slice.\n",
            "  out=out, **kwargs)\n",
            "/usr/local/lib/python3.7/dist-packages/numpy/core/_methods.py:170: RuntimeWarning: invalid value encountered in double_scalars\n",
            "  ret = ret.dtype.type(ret / rcount)\n"
          ],
          "name": "stderr"
        },
        {
          "output_type": "stream",
          "text": [
            "\n",
            "{'Test Loss': 0.5034190202951432, 'Test Acc': 0.7519140625}\n"
          ],
          "name": "stdout"
        }
      ]
    },
    {
      "cell_type": "code",
      "metadata": {
        "id": "di4dGwD4x1Dt",
        "colab": {
          "base_uri": "https://localhost:8080/",
          "height": 375,
          "referenced_widgets": [
            "92273020d853432e84a7c30f4fbb1ed7",
            "d66ce8ccbaaf4268b18f2f83c59890e6",
            "75059883b68441b0918421176ffda2ad",
            "80b146462915458baa7361bbb3e6e863",
            "81d0f8d1b65340b78df61fd5f91742a7",
            "7f29489f1fd544f989375eb0ce5624d4",
            "30de8b4239cd49fe84e3de6c24bbef65",
            "ba550e9ed4174dc395b7a7c164353d52"
          ]
        },
        "outputId": "5274ec53-853d-4c3d-fe9f-395610c01cea"
      },
      "source": [
        "test_loader = DataLoader(\n",
        "    TwitterDataset(test_data, \"text\", \"emotion\", word2vec), \n",
        "    batch_size=batch_size, \n",
        "    num_workers=num_workers, \n",
        "    shuffle=False,\n",
        "    drop_last=False, \n",
        "    collate_fn=average_emb)\n",
        "\n",
        "model.load_state_dict(torch.load(\"model.pt\", map_location=device))\n",
        "\n",
        "print(testing(model, criterion, test_loader, device=device))"
      ],
      "execution_count": 31,
      "outputs": [
        {
          "output_type": "display_data",
          "data": {
            "application/vnd.jupyter.widget-view+json": {
              "model_id": "92273020d853432e84a7c30f4fbb1ed7",
              "version_minor": 0,
              "version_major": 2
            },
            "text/plain": [
              "HBox(children=(FloatProgress(value=0.0, description='Test Loss: 0, Test Acc: 0', max=313.0, style=ProgressStyl…"
            ]
          },
          "metadata": {
            "tags": []
          }
        },
        {
          "output_type": "stream",
          "text": [
            "/usr/local/lib/python3.7/dist-packages/numpy/core/fromnumeric.py:3373: RuntimeWarning: Mean of empty slice.\n",
            "  out=out, **kwargs)\n",
            "/usr/local/lib/python3.7/dist-packages/numpy/core/_methods.py:170: RuntimeWarning: invalid value encountered in double_scalars\n",
            "  ret = ret.dtype.type(ret / rcount)\n",
            "/usr/local/lib/python3.7/dist-packages/numpy/core/fromnumeric.py:3373: RuntimeWarning: Mean of empty slice.\n",
            "  out=out, **kwargs)\n",
            "/usr/local/lib/python3.7/dist-packages/numpy/core/_methods.py:170: RuntimeWarning: invalid value encountered in double_scalars\n",
            "  ret = ret.dtype.type(ret / rcount)\n",
            "/usr/local/lib/python3.7/dist-packages/numpy/core/fromnumeric.py:3373: RuntimeWarning: Mean of empty slice.\n",
            "  out=out, **kwargs)\n",
            "/usr/local/lib/python3.7/dist-packages/numpy/core/_methods.py:170: RuntimeWarning: invalid value encountered in double_scalars\n",
            "  ret = ret.dtype.type(ret / rcount)\n",
            "/usr/local/lib/python3.7/dist-packages/numpy/core/fromnumeric.py:3373: RuntimeWarning: Mean of empty slice.\n",
            "  out=out, **kwargs)\n",
            "/usr/local/lib/python3.7/dist-packages/numpy/core/_methods.py:170: RuntimeWarning: invalid value encountered in double_scalars\n",
            "  ret = ret.dtype.type(ret / rcount)\n"
          ],
          "name": "stderr"
        },
        {
          "output_type": "stream",
          "text": [
            "\n",
            "{'Test Loss': 0.5049699210701659, 'Test Acc': 0.7500904802316294}\n"
          ],
          "name": "stdout"
        }
      ]
    },
    {
      "cell_type": "markdown",
      "metadata": {
        "id": "ZRvzpldHSAu0"
      },
      "source": [
        "## Embeddings for unknown words (8 баллов)\n",
        "\n",
        "Пока что использовалась не вся информация из текста. Часть информации фильтровалось – если слова не было в словаре эмбеддингов, то мы просто превращали слово в нулевой вектор. Хочется использовать информацию по-максимуму. Поэтому рассмотрим другие способы обработки слов, которых нет в словаре. А именно:\n",
        "\n",
        "- Для каждого незнакомого слова будем запоминать его контекст(слова слева и справа от этого слова). Эмбеддингом нашего незнакомого слова будет сумма эмбеддингов всех слов из его контекста. (4 балла)\n",
        "- Для каждого слова текста получим его эмбеддинг из Tfidf с помощью ```TfidfVectorizer``` из [sklearn](https://scikit-learn.org/stable/modules/generated/sklearn.feature_extraction.text.TfidfVectorizer.html#sklearn.feature_extraction.text.TfidfVectorizer). Итоговым эмбеддингом для каждого слова будет сумма двух эмбеддингов: предобученного и Tfidf-ного. Для слов, которых нет в словаре предобученных эмбеддингов, результирующий эмбеддинг будет просто полученный из Tfidf. (4 балла)\n",
        "\n",
        "Реализуйте оба варианта **ниже**. Напишите, какой способ сработал лучше и ваши мысли, почему так получилось."
      ]
    },
    {
      "cell_type": "code",
      "metadata": {
        "id": "RxhEpKalU1UQ"
      },
      "source": [
        "class TwitterDataset(Dataset):\n",
        "    def __init__(self, data: pd.DataFrame, feature_column: str, target_column: str, word2vec: gensim.models.Word2Vec):\n",
        "        self.tokenizer = nltk.WordPunctTokenizer()\n",
        "        \n",
        "        self.data = data\n",
        "\n",
        "        self.feature_column = feature_column\n",
        "        self.target_column = target_column\n",
        "\n",
        "        self.word2vec = word2vec\n",
        "\n",
        "        self.label2num = lambda label: 0 if label == 0 else 1\n",
        "        self.mean = np.mean(word2vec.vectors, axis=0)\n",
        "        self.std = np.std(word2vec.vectors, axis=0)\n",
        "\n",
        "    def __getitem__(self, item):\n",
        "        text = self.data[self.feature_column][item]\n",
        "        label = self.label2num(self.data[self.target_column][item])\n",
        "\n",
        "        tokens = self.get_tokens_(text)\n",
        "        embeddings = self.get_embeddings_(tokens)\n",
        "\n",
        "        return {\"feature\": embeddings, \"target\": label}\n",
        "\n",
        "    def get_tokens_(self, text):\n",
        "        #Получи все токены из текста и профильтруй их\n",
        "        line = self.tokenizer.tokenize(text.lower())\n",
        "        filtered_line = [w for w in line if all(c not in string.punctuation for c in w) and len(w) > 3]\n",
        "        return filtered_line\n",
        "\n",
        "    def get_embeddings_(self, tokens):\n",
        "        # Получи эмбеддинги слов и усредни их\n",
        "        embeddings = [(self.word2vec.get_vector(w) - self.mean)/self.std for w in tokens if w in self.word2vec]\n",
        "        for w in tokens:\n",
        "          neighbors = []\n",
        "          if w not in self.word2vec:\n",
        "            for j in tokens:\n",
        "              if j!=w and j in self.word2vec:\n",
        "                neighbors.append((self.word2vec.get_vector(j) - self.mean)/self.std)\n",
        "            embeddings.append(np.sum(neighbors,axis=0))\n",
        "        embeddings = np.mean(embeddings,axis=0)\n",
        "      \n",
        "        if len(embeddings.shape) == 0:\n",
        "            embeddings = np.zeros((1, self.word2vec.vector_size))\n",
        "        else:\n",
        "            embeddings = np.array(embeddings)\n",
        "            if len(embeddings.shape) == 1:\n",
        "                embeddings = embeddings.reshape(1, -1)\n",
        "\n",
        "        return embeddings\n",
        "\n",
        "    def __len__(self):\n",
        "        return self.data.shape[0]"
      ],
      "execution_count": 49,
      "outputs": []
    },
    {
      "cell_type": "code",
      "metadata": {
        "id": "A66bJ6A7YEb7",
        "colab": {
          "base_uri": "https://localhost:8080/",
          "height": 1000,
          "referenced_widgets": [
            "bf394703ea6e4d01995679e62b60679b",
            "bcd7cc63ae19420dadd0b7c83a82e340",
            "361238d1f583410b8123b4719ba7cc0e",
            "9205995752704e1eb3035bf75250d2b3",
            "1261bb660d224530b95805c4e7606b70",
            "e8c89198fccb4681936270380a397403",
            "5ac954daf0c648f7900a9a09b719fecc",
            "e2657b91e9144474a14317d5cc799ddf"
          ]
        },
        "outputId": "601fa185-01ea-4961-eaa7-e77d9ab2cb29"
      },
      "source": [
        "test_loader = DataLoader(\n",
        "    TwitterDataset(test_data, \"text\", \"emotion\", word2vec), \n",
        "    batch_size=batch_size, \n",
        "    num_workers=num_workers, \n",
        "    shuffle=False,\n",
        "    drop_last=False, \n",
        "    collate_fn=average_emb)\n",
        "\n",
        "model.load_state_dict(torch.load(\"model.pt\", map_location=device))\n",
        "\n",
        "print(testing(model, criterion, test_loader, device=device))"
      ],
      "execution_count": 50,
      "outputs": [
        {
          "output_type": "display_data",
          "data": {
            "application/vnd.jupyter.widget-view+json": {
              "model_id": "bf394703ea6e4d01995679e62b60679b",
              "version_minor": 0,
              "version_major": 2
            },
            "text/plain": [
              "HBox(children=(FloatProgress(value=0.0, description='Test Loss: 0, Test Acc: 0', max=313.0, style=ProgressStyl…"
            ]
          },
          "metadata": {
            "tags": []
          }
        },
        {
          "output_type": "stream",
          "text": [
            "/usr/local/lib/python3.7/dist-packages/numpy/core/fromnumeric.py:3373: RuntimeWarning: Mean of empty slice.\n",
            "  out=out, **kwargs)\n",
            "/usr/local/lib/python3.7/dist-packages/numpy/core/_methods.py:170: RuntimeWarning: invalid value encountered in double_scalars\n",
            "  ret = ret.dtype.type(ret / rcount)\n",
            "/usr/local/lib/python3.7/dist-packages/numpy/core/fromnumeric.py:3373: RuntimeWarning: Mean of empty slice.\n",
            "  out=out, **kwargs)\n",
            "/usr/local/lib/python3.7/dist-packages/numpy/core/_methods.py:170: RuntimeWarning: invalid value encountered in double_scalars\n",
            "  ret = ret.dtype.type(ret / rcount)\n",
            "/usr/local/lib/python3.7/dist-packages/numpy/core/fromnumeric.py:3373: RuntimeWarning: Mean of empty slice.\n",
            "  out=out, **kwargs)\n",
            "/usr/local/lib/python3.7/dist-packages/numpy/core/_methods.py:170: RuntimeWarning: invalid value encountered in double_scalars\n",
            "  ret = ret.dtype.type(ret / rcount)\n",
            "Exception ignored in: <function _MultiProcessingDataLoaderIter.__del__ at 0x7fba3f44a950>\n",
            "Traceback (most recent call last):\n",
            "  File \"/usr/local/lib/python3.7/dist-packages/torch/utils/data/dataloader.py\", line 1203, in __del__\n",
            "    self._shutdown_workers()\n",
            "  File \"/usr/local/lib/python3.7/dist-packages/torch/utils/data/dataloader.py\", line 1177, in _shutdown_workers\n",
            "    w.join(timeout=_utils.MP_STATUS_CHECK_INTERVAL)\n",
            "  File \"/usr/lib/python3.7/multiprocessing/process.py\", line 138, in join\n",
            "    assert self._parent_pid == os.getpid(), 'can only join a child process'\n",
            "AssertionError: can only join a child process\n",
            "Exception ignored in: <function _MultiProcessingDataLoaderIter.__del__ at 0x7fba3f44a950>\n",
            "Exception ignored in: <function _MultiProcessingDataLoaderIter.__del__ at 0x7fba3f44a950>\n",
            "Exception ignored in: <function _MultiProcessingDataLoaderIter.__del__ at 0x7fba3f44a950>\n",
            "Traceback (most recent call last):\n",
            "Traceback (most recent call last):\n",
            "Exception ignored in: <function _MultiProcessingDataLoaderIter.__del__ at 0x7fba3f44a950>\n",
            "Traceback (most recent call last):\n",
            "  File \"/usr/local/lib/python3.7/dist-packages/torch/utils/data/dataloader.py\", line 1203, in __del__\n",
            "  File \"/usr/local/lib/python3.7/dist-packages/torch/utils/data/dataloader.py\", line 1203, in __del__\n",
            "  File \"/usr/local/lib/python3.7/dist-packages/torch/utils/data/dataloader.py\", line 1203, in __del__\n",
            "    self._shutdown_workers()\n",
            "    self._shutdown_workers()\n",
            "  File \"/usr/local/lib/python3.7/dist-packages/torch/utils/data/dataloader.py\", line 1177, in _shutdown_workers\n",
            "    self._shutdown_workers()\n",
            "  File \"/usr/local/lib/python3.7/dist-packages/torch/utils/data/dataloader.py\", line 1177, in _shutdown_workers\n",
            "  File \"/usr/local/lib/python3.7/dist-packages/torch/utils/data/dataloader.py\", line 1177, in _shutdown_workers\n",
            "Traceback (most recent call last):\n",
            "    w.join(timeout=_utils.MP_STATUS_CHECK_INTERVAL)\n",
            "    w.join(timeout=_utils.MP_STATUS_CHECK_INTERVAL)\n",
            "  File \"/usr/local/lib/python3.7/dist-packages/torch/utils/data/dataloader.py\", line 1203, in __del__\n",
            "  File \"/usr/lib/python3.7/multiprocessing/process.py\", line 138, in join\n",
            "    w.join(timeout=_utils.MP_STATUS_CHECK_INTERVAL)\n",
            "  File \"/usr/lib/python3.7/multiprocessing/process.py\", line 138, in join\n",
            "    assert self._parent_pid == os.getpid(), 'can only join a child process'\n",
            "    self._shutdown_workers()\n",
            "  File \"/usr/lib/python3.7/multiprocessing/process.py\", line 138, in join\n",
            "AssertionError: can only join a child process\n",
            "  File \"/usr/local/lib/python3.7/dist-packages/torch/utils/data/dataloader.py\", line 1177, in _shutdown_workers\n",
            "    assert self._parent_pid == os.getpid(), 'can only join a child process'\n",
            "AssertionError: can only join a child process\n",
            "    w.join(timeout=_utils.MP_STATUS_CHECK_INTERVAL)\n",
            "    assert self._parent_pid == os.getpid(), 'can only join a child process'\n",
            "AssertionError: can only join a child process\n",
            "  File \"/usr/lib/python3.7/multiprocessing/process.py\", line 138, in join\n",
            "Exception ignored in: <function _MultiProcessingDataLoaderIter.__del__ at 0x7fba3f44a950>\n",
            "    assert self._parent_pid == os.getpid(), 'can only join a child process'\n",
            "AssertionError: can only join a child process\n",
            "Exception ignored in: <function _MultiProcessingDataLoaderIter.__del__ at 0x7fba3f44a950>\n",
            "Traceback (most recent call last):\n",
            "Traceback (most recent call last):\n",
            "  File \"/usr/local/lib/python3.7/dist-packages/torch/utils/data/dataloader.py\", line 1203, in __del__\n",
            "  File \"/usr/local/lib/python3.7/dist-packages/torch/utils/data/dataloader.py\", line 1203, in __del__\n",
            "Exception ignored in: <function _MultiProcessingDataLoaderIter.__del__ at 0x7fba3f44a950>\n",
            "    self._shutdown_workers()\n",
            "    self._shutdown_workers()\n",
            "Traceback (most recent call last):\n",
            "  File \"/usr/local/lib/python3.7/dist-packages/torch/utils/data/dataloader.py\", line 1177, in _shutdown_workers\n",
            "  File \"/usr/local/lib/python3.7/dist-packages/torch/utils/data/dataloader.py\", line 1177, in _shutdown_workers\n",
            "  File \"/usr/local/lib/python3.7/dist-packages/torch/utils/data/dataloader.py\", line 1203, in __del__\n",
            "Exception ignored in: <function _MultiProcessingDataLoaderIter.__del__ at 0x7fba3f44a950>\n",
            "    w.join(timeout=_utils.MP_STATUS_CHECK_INTERVAL)\n",
            "    w.join(timeout=_utils.MP_STATUS_CHECK_INTERVAL)\n",
            "    self._shutdown_workers()\n",
            "Traceback (most recent call last):\n",
            "  File \"/usr/lib/python3.7/multiprocessing/process.py\", line 138, in join\n",
            "  File \"/usr/local/lib/python3.7/dist-packages/torch/utils/data/dataloader.py\", line 1203, in __del__\n",
            "  File \"/usr/local/lib/python3.7/dist-packages/torch/utils/data/dataloader.py\", line 1177, in _shutdown_workers\n",
            "  File \"/usr/lib/python3.7/multiprocessing/process.py\", line 138, in join\n",
            "    self._shutdown_workers()\n",
            "    assert self._parent_pid == os.getpid(), 'can only join a child process'\n",
            "    assert self._parent_pid == os.getpid(), 'can only join a child process'\n",
            "AssertionError: can only join a child process\n",
            "    w.join(timeout=_utils.MP_STATUS_CHECK_INTERVAL)\n",
            "  File \"/usr/local/lib/python3.7/dist-packages/torch/utils/data/dataloader.py\", line 1177, in _shutdown_workers\n",
            "  File \"/usr/lib/python3.7/multiprocessing/process.py\", line 138, in join\n",
            "AssertionError: can only join a child process\n",
            "    w.join(timeout=_utils.MP_STATUS_CHECK_INTERVAL)\n",
            "    assert self._parent_pid == os.getpid(), 'can only join a child process'\n",
            "  File \"/usr/lib/python3.7/multiprocessing/process.py\", line 138, in join\n",
            "AssertionError: can only join a child process\n",
            "    assert self._parent_pid == os.getpid(), 'can only join a child process'\n",
            "AssertionError: can only join a child process\n",
            "Exception ignored in: <function _MultiProcessingDataLoaderIter.__del__ at 0x7fba3f44a950>\n",
            "Exception ignored in: <function _MultiProcessingDataLoaderIter.__del__ at 0x7fba3f44a950>\n",
            "Traceback (most recent call last):\n",
            "Traceback (most recent call last):\n",
            "  File \"/usr/local/lib/python3.7/dist-packages/torch/utils/data/dataloader.py\", line 1203, in __del__\n",
            "Exception ignored in: <function _MultiProcessingDataLoaderIter.__del__ at 0x7fba3f44a950>\n",
            "  File \"/usr/local/lib/python3.7/dist-packages/torch/utils/data/dataloader.py\", line 1203, in __del__\n",
            "Traceback (most recent call last):\n",
            "    self._shutdown_workers()\n",
            "    self._shutdown_workers()\n",
            "  File \"/usr/local/lib/python3.7/dist-packages/torch/utils/data/dataloader.py\", line 1177, in _shutdown_workers\n",
            "  File \"/usr/local/lib/python3.7/dist-packages/torch/utils/data/dataloader.py\", line 1203, in __del__\n",
            "  File \"/usr/local/lib/python3.7/dist-packages/torch/utils/data/dataloader.py\", line 1177, in _shutdown_workers\n",
            "    w.join(timeout=_utils.MP_STATUS_CHECK_INTERVAL)\n",
            "    w.join(timeout=_utils.MP_STATUS_CHECK_INTERVAL)\n",
            "    self._shutdown_workers()\n",
            "  File \"/usr/lib/python3.7/multiprocessing/process.py\", line 138, in join\n",
            "  File \"/usr/lib/python3.7/multiprocessing/process.py\", line 138, in join\n",
            "  File \"/usr/local/lib/python3.7/dist-packages/torch/utils/data/dataloader.py\", line 1177, in _shutdown_workers\n",
            "    assert self._parent_pid == os.getpid(), 'can only join a child process'\n",
            "    assert self._parent_pid == os.getpid(), 'can only join a child process'\n",
            "    w.join(timeout=_utils.MP_STATUS_CHECK_INTERVAL)\n",
            "AssertionError: can only join a child process\n",
            "  File \"/usr/lib/python3.7/multiprocessing/process.py\", line 138, in join\n",
            "    assert self._parent_pid == os.getpid(), 'can only join a child process'\n",
            "AssertionError: can only join a child process\n",
            "AssertionError: can only join a child process\n",
            "/usr/local/lib/python3.7/dist-packages/numpy/core/fromnumeric.py:3373: RuntimeWarning: Mean of empty slice.\n",
            "  out=out, **kwargs)\n",
            "/usr/local/lib/python3.7/dist-packages/numpy/core/_methods.py:170: RuntimeWarning: invalid value encountered in double_scalars\n",
            "  ret = ret.dtype.type(ret / rcount)\n"
          ],
          "name": "stderr"
        },
        {
          "output_type": "stream",
          "text": [
            "\n",
            "{'Test Loss': 0.5069229240996388, 'Test Acc': 0.7494383985623003}\n"
          ],
          "name": "stdout"
        }
      ]
    },
    {
      "cell_type": "code",
      "metadata": {
        "id": "3uXBtynoILOe"
      },
      "source": [
        "from sklearn.feature_extraction.text import TfidfVectorizer\n",
        "vectorizer = TfidfVectorizer(stop_words={'english'},max_features=300)\n",
        "vectorizer.fit(dev_data[\"text\"])\n",
        "embendings_tfidf = vectorizer.idf_\n",
        "words_tfidf = [*vectorizer.vocabulary_]"
      ],
      "execution_count": 51,
      "outputs": []
    },
    {
      "cell_type": "code",
      "metadata": {
        "id": "mEXD3vkSIb1i"
      },
      "source": [
        "class TwitterDataset(Dataset):\n",
        "    def __init__(self, data: pd.DataFrame, feature_column: str, target_column: str, word2vec: gensim.models.Word2Vec,words_tfidf,embendings_tfidf):\n",
        "        self.tokenizer = nltk.WordPunctTokenizer()\n",
        "        \n",
        "        self.data = data\n",
        "\n",
        "        self.feature_column = feature_column\n",
        "        self.target_column = target_column\n",
        "\n",
        "        self.word2vec = word2vec\n",
        "\n",
        "        self.label2num = lambda label: 0 if label == 0 else 1\n",
        "        self.mean = np.mean(word2vec.vectors, axis=0)\n",
        "        self.std = np.std(word2vec.vectors, axis=0)\n",
        "\n",
        "    def __getitem__(self, item):\n",
        "        text = self.data[self.feature_column][item]\n",
        "        label = self.label2num(self.data[self.target_column][item])\n",
        "\n",
        "        tokens = self.get_tokens_(text)\n",
        "        embeddings = self.get_embeddings_(tokens)\n",
        "\n",
        "        return {\"feature\": embeddings, \"target\": label}\n",
        "\n",
        "    def get_tokens_(self, text):\n",
        "        #Получи все токены из текста и профильтруй их\n",
        "        line = self.tokenizer.tokenize(text.lower())\n",
        "        filtered_line = [w for w in line if all(c not in string.punctuation for c in w) and len(w) > 3]\n",
        "        return filtered_line\n",
        "\n",
        "    def get_embeddings_(self, tokens):\n",
        "        # Получи эмбеддинги слов и усредни их\n",
        "        embeddings = []\n",
        "        one_vec = np.ones(self.word2vec.vector_size)\n",
        "        for w in tokens:\n",
        "          if ((w in words_tfidf) and (w in self.word2vec)):\n",
        "            embeddings.append(one_vec*embendings_tfidf[words_tfidf.index(w)] + (self.word2vec.get_vector(w) - self.mean)/self.std)\n",
        "          elif w in words_tfidf:\n",
        "            embeddings.append(one_vec*embendings_tfidf[words_tfidf.index(w)])\n",
        "          elif w in self.word2vec:\n",
        "            embeddings.append((self.word2vec.get_vector(w) - self.mean)/self.std)\n",
        "        embeddings = np.mean(embeddings,axis=0)\n",
        "        if len(embeddings.shape) == 0:\n",
        "            embeddings = np.zeros((1, self.word2vec.vector_size))\n",
        "        else:\n",
        "            embeddings = np.array(embeddings)\n",
        "            if len(embeddings.shape) == 1:\n",
        "                embeddings = embeddings.reshape(1, -1)\n",
        "\n",
        "        return embeddings\n",
        "\n",
        "    def __len__(self):\n",
        "        return self.data.shape[0]"
      ],
      "execution_count": 78,
      "outputs": []
    },
    {
      "cell_type": "code",
      "metadata": {
        "colab": {
          "base_uri": "https://localhost:8080/",
          "height": 375,
          "referenced_widgets": [
            "504b30e6a41c44be80e715ed96b84c69",
            "2d4db0d6e96b41908f821da0a62fe2d9",
            "6260f89705d8414b8e64d6cf893cf33e",
            "f5bb546c80dd4ed38ef0159e1f805f91",
            "b00f51963d684a7d9b46725619082011",
            "f4eff2cab0864874a9b8882774f65d69",
            "a7cb96968c7a4101b3449974a56edc4a",
            "123ce08fa3b2412eabe7f242034198c7"
          ]
        },
        "id": "TVdYOt9OIieg",
        "outputId": "288adb45-c586-443f-fcfc-0ba0b83db7c5"
      },
      "source": [
        "test_loader = DataLoader(\n",
        "    TwitterDataset(test_data, \"text\", \"emotion\", word2vec,words_tfidf,embendings_tfidf),\n",
        "    batch_size=batch_size, \n",
        "    num_workers=num_workers, \n",
        "    shuffle=False,\n",
        "    drop_last=False, \n",
        "    collate_fn=average_emb)\n",
        "\n",
        "model.load_state_dict(torch.load(\"model.pt\", map_location=device))\n",
        "\n",
        "print(testing(model, criterion, test_loader, device=device))"
      ],
      "execution_count": 79,
      "outputs": [
        {
          "output_type": "display_data",
          "data": {
            "application/vnd.jupyter.widget-view+json": {
              "model_id": "504b30e6a41c44be80e715ed96b84c69",
              "version_minor": 0,
              "version_major": 2
            },
            "text/plain": [
              "HBox(children=(FloatProgress(value=0.0, description='Test Loss: 0, Test Acc: 0', max=313.0, style=ProgressStyl…"
            ]
          },
          "metadata": {
            "tags": []
          }
        },
        {
          "output_type": "stream",
          "text": [
            "/usr/local/lib/python3.7/dist-packages/numpy/core/fromnumeric.py:3373: RuntimeWarning: Mean of empty slice.\n",
            "  out=out, **kwargs)\n",
            "/usr/local/lib/python3.7/dist-packages/numpy/core/_methods.py:170: RuntimeWarning: invalid value encountered in double_scalars\n",
            "  ret = ret.dtype.type(ret / rcount)\n",
            "/usr/local/lib/python3.7/dist-packages/numpy/core/fromnumeric.py:3373: RuntimeWarning: Mean of empty slice.\n",
            "  out=out, **kwargs)\n",
            "/usr/local/lib/python3.7/dist-packages/numpy/core/_methods.py:170: RuntimeWarning: invalid value encountered in double_scalars\n",
            "  ret = ret.dtype.type(ret / rcount)\n",
            "/usr/local/lib/python3.7/dist-packages/numpy/core/fromnumeric.py:3373: RuntimeWarning: Mean of empty slice.\n",
            "  out=out, **kwargs)\n",
            "/usr/local/lib/python3.7/dist-packages/numpy/core/fromnumeric.py:3373: RuntimeWarning: Mean of empty slice.\n",
            "  out=out, **kwargs)\n",
            "/usr/local/lib/python3.7/dist-packages/numpy/core/_methods.py:170: RuntimeWarning: invalid value encountered in double_scalars\n",
            "  ret = ret.dtype.type(ret / rcount)\n",
            "/usr/local/lib/python3.7/dist-packages/numpy/core/_methods.py:170: RuntimeWarning: invalid value encountered in double_scalars\n",
            "  ret = ret.dtype.type(ret / rcount)\n"
          ],
          "name": "stderr"
        },
        {
          "output_type": "stream",
          "text": [
            "\n",
            "{'Test Loss': 0.7402982595629586, 'Test Acc': 0.5733732278354633}\n"
          ],
          "name": "stdout"
        }
      ]
    },
    {
      "cell_type": "markdown",
      "metadata": {
        "id": "fqJbkHj5bZNg"
      },
      "source": [
        "# ВЫВОД"
      ]
    },
    {
      "cell_type": "markdown",
      "metadata": {
        "id": "aMPz0VzWSBZ0"
      },
      "source": [
        "Default: **{'Test Loss': 0.5049699210701659, 'Test Acc': 0.7500904802316294}**\n",
        "\n",
        "SUM NEIGHBORS: **{'Test Loss': 0.5069229240996388, 'Test Acc': 0.7494383985623003}**\n",
        "\n",
        "TFIDF+WORD2VEC: **{'Test Loss': 0.7402982595629586, 'Test Acc': 0.5733732278354633}**\n",
        "\n",
        "Для более разумного обучения эмбендингов, посредством TFIDF, не нужно было ограничивать слова в max_feature, а после воспользоваться SVD разложением для понижения размерности, соответствующей word2vec.vector_size. Но ограничения Colab не позволили мне реализовать эту идею.\n",
        "\n",
        "SUM NEIGHBORS можно было ограничить константой, но существенного роста в качестве мы бы не получили.\n"
      ]
    },
    {
      "cell_type": "code",
      "metadata": {
        "id": "rjdXi3diaEma"
      },
      "source": [
        ""
      ],
      "execution_count": null,
      "outputs": []
    }
  ]
}