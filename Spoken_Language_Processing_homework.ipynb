{
  "nbformat": 4,
  "nbformat_minor": 0,
  "metadata": {
    "accelerator": "GPU",
    "colab": {
      "name": "Spoken Language Processing_homework",
      "provenance": [],
      "collapsed_sections": [],
      "toc_visible": true
    },
    "kernelspec": {
      "display_name": "Python 3",
      "name": "python3"
    }
  },
  "cells": [
    {
      "cell_type": "markdown",
      "metadata": {
        "id": "zahzrEdRCaxV"
      },
      "source": [
        "### Spoken Language Processing\n",
        "В этом задании предлагается обучить классификатор класса возраста по голосу (пример с тем, как это можно сделать для пола см. в семинаре)\n",
        "\n",
        "Подумайте, как лучше предсказывать возраст (может быть разбить на группы?) и какой лосс использовать\n",
        "\n",
        "P.S. не забудьте, что если то вы работает в Colab, то вы можете поменять среду выполнения на GPU/TPU!\n",
        "\n",
        "Вопросы по заданию/материалам: @Nestyme"
      ]
    },
    {
      "cell_type": "code",
      "metadata": {
        "id": "3wSgHrbiEc8x"
      },
      "source": [
        "!pip3 install timit-utils==0.9.0\n",
        "!pip3 install torchaudio\n",
        "! wget https://ndownloader.figshare.com/files/10256148 \n",
        "!unzip -q 10256148"
      ],
      "execution_count": null,
      "outputs": []
    },
    {
      "cell_type": "code",
      "metadata": {
        "id": "u0bovLZ0Ew5V"
      },
      "source": [
        "import timit_utils as tu\n",
        "import os\n",
        "import librosa\n",
        "import numpy as np\n",
        "from tqdm import tqdm\n",
        "\n",
        "import torch\n",
        "import torch.nn as nn\n",
        "from torch.optim import Adam\n",
        "import torch.nn.functional as F\n",
        "\n",
        "import matplotlib.pyplot as plt\n",
        "from sklearn.metrics import accuracy_score\n",
        "\n",
        "import IPython\n",
        "_TIMIT_PATH = 'data/lisa/data/timit/raw/TIMIT'"
      ],
      "execution_count": null,
      "outputs": []
    },
    {
      "cell_type": "markdown",
      "metadata": {
        "id": "Gd-qfC9-DdnJ"
      },
      "source": [
        "## Задание 1\n",
        "Загрузите данные для обучения. Для этого:\n",
        "1. Скачайте датасет TIMIT (см семинар)\n",
        "2. Соберите пары \"голос\"  — \"класс возраста\" также, как на семинаре собирались пары \"голос\"  — \"пол\". Аудиодорожки сконвертируйте в мелспектрограммы при помощи `torchaudio либо` `librosa`\n",
        "\n",
        "P.S. вы можете использовать свою реализацию, а можете предложенную (см следующие ячейки)"
      ]
    },
    {
      "cell_type": "code",
      "metadata": {
        "id": "DhPyP4T5DdAD"
      },
      "source": [
        "import timit_utils as tu\n",
        "import os\n",
        "import librosa\n",
        "import numpy as np\n",
        "from tqdm import tqdm\n",
        "import torch as t\n",
        "\n",
        "\n",
        "class timit_dataloader:\n",
        "    def __init__(self, data_path=_TIMIT_PATH, train_mode=True, age_mode=True):\n",
        "        self.doc_file_path = os.path.join(data_path, 'DOC', 'SPKRINFO.TXT')\n",
        "        self.corpus = tu.Corpus(data_path)\n",
        "        with open(self.doc_file_path) as f:\n",
        "            self.id_age_dict = dict(\n",
        "                [(tmp.split(' ')[0], 86 - int(tmp.split('  ')[5].split('/')[-1].replace('??', '50'))) \\\n",
        "                 for tmp in f.readlines()[39:]])\n",
        "        if train_mode:\n",
        "            self.trainset = self.create_dataset('train', age_mode=age_mode)\n",
        "            self.validset = self.create_dataset('valid', age_mode=age_mode)\n",
        "        self.testset = self.create_dataset('test', age_mode=age_mode)\n",
        "\n",
        "    def return_age(self, id):\n",
        "        return self.id_age_dict[id]\n",
        "\n",
        "    def return_data(self):\n",
        "        return self.trainset, self.validset, self.testset\n",
        "\n",
        "    def return_test(self):\n",
        "        return self.testset\n",
        "\n",
        "    def create_dataset(self, mode, age_mode=False):\n",
        "        global people\n",
        "        assert mode in ['train', 'valid', 'test']\n",
        "        if mode == 'train':\n",
        "            people = [self.corpus.train.person_by_index(i) for i in range(350)]\n",
        "        if mode == 'valid':\n",
        "            people = [self.corpus.train.person_by_index(i) for i in range(350, 400)]\n",
        "        if mode == 'test':\n",
        "            people = [self.corpus.test.person_by_index(i) for i in range(150)]\n",
        "        spectrograms_and_targets = []\n",
        "        for person in tqdm(people):\n",
        "              try:\n",
        "                  target = self.return_age(person.name)\n",
        "                  for i in range(len(person.sentences)):\n",
        "                      spectrograms_and_targets.append(\n",
        "                          self.preprocess_sample(person.sentence_by_index(i).raw_audio, target, age_mode=True))\n",
        "              except:\n",
        "                  print(person.name, target)\n",
        "\n",
        "        X, y = map(np.stack, zip(*spectrograms_and_targets))\n",
        "        X = X.transpose([0, 2, 1])  # to [batch, time, channels]\n",
        "        return X, y\n",
        "\n",
        "    @staticmethod\n",
        "    def spec_to_image(spec, eps=1e-6):\n",
        "        mean = spec.mean()\n",
        "        std = spec.std()\n",
        "        spec_norm = (spec - mean) / (std + eps)\n",
        "        spec_min, spec_max = spec_norm.min(), spec_norm.max()\n",
        "        spec_scaled = 255 * (spec_norm - spec_min) / (spec_max - spec_min)\n",
        "        spec_scaled = spec_scaled.astype(np.uint8)\n",
        "        return spec_scaled\n",
        "\n",
        "    @staticmethod\n",
        "    def clasterize_by_age(age):\n",
        "        if age < 25:\n",
        "            return 0\n",
        "        if 25 <= age <= 40:\n",
        "            return 1\n",
        "        if age > 40:\n",
        "            return 2\n",
        "\n",
        "    def preprocess_sample(self, amplitudes, target, age_mode=False, sr=16000, max_length=150):\n",
        "        spectrogram = librosa.feature.melspectrogram(amplitudes, sr=sr, n_mels=128, fmin=1, fmax=8192)[:, :max_length]\n",
        "        spectrogram = np.pad(spectrogram, [[0, 0], [0, max(0, max_length - spectrogram.shape[1])]], mode='constant')\n",
        "        target = self.clasterize_by_age(target)\n",
        "        return self.spec_to_image(np.float32(spectrogram)), target\n",
        "\n",
        "    def preprocess_sample_inference(self, amplitudes, sr=16000, max_length=150, device='cpu'):\n",
        "        spectrogram = librosa.feature.melspectrogram(amplitudes, sr=sr, n_mels=128, fmin=1, fmax=8192)[:, :max_length]\n",
        "        spectrogram = np.pad(spectrogram, [[0, 0], [0, max(0, max_length - spectrogram.shape[1])]], mode='constant')\n",
        "        spectrogram = np.array([self.spec_to_image(np.float32(spectrogram))]).transpose([0, 2, 1])\n",
        "\n",
        "        return t.tensor(spectrogram, dtype=t.float).to(device, non_blocking=True)\n",
        "\n",
        "\n",
        "class dataloader:\n",
        "    def __init__(self, spectrograms, targets):\n",
        "        self.data = list(zip(spectrograms, targets))\n",
        "\n",
        "    def next_batch(self, batch_size, device):\n",
        "        indices = np.random.randint(len(self.data), size=batch_size)\n",
        "\n",
        "        input = [self.data[i] for i in indices]\n",
        "\n",
        "        source = [line[0] for line in input]\n",
        "        target = [line[1] for line in input]\n",
        "\n",
        "        return self.torch_batch(source, target, device)\n",
        "\n",
        "    @staticmethod\n",
        "    def torch_batch(source, target, device):\n",
        "        return tuple(\n",
        "            [\n",
        "                t.tensor(val, dtype=t.float).to(device, non_blocking=True)\n",
        "                for val in [source, target]\n",
        "            ]\n",
        "        )\n",
        "\n",
        "    @staticmethod\n",
        "    def padd_sequences(lines, pad_token=0):\n",
        "        lengths = [len(line) for line in lines]\n",
        "        max_length = max(lengths)\n",
        "\n",
        "        return np.array(\n",
        "            [\n",
        "                line + [pad_token] * (max_length - lengths[i])\n",
        "                for i, line in enumerate(lines)\n",
        "            ]\n",
        "        )"
      ],
      "execution_count": null,
      "outputs": []
    },
    {
      "cell_type": "markdown",
      "metadata": {
        "id": "Tpz1Q5VOFxLM"
      },
      "source": [
        "Простая сверточная сеть, ее можно дотюнить или поменять по желанию"
      ]
    },
    {
      "cell_type": "code",
      "metadata": {
        "id": "qF9fIVq7Dbwx"
      },
      "source": [
        "import torch\n",
        "import torch.nn as nn\n",
        "import torch.nn.functional as F\n",
        "\n",
        "\n",
        "class Model(nn.Module):\n",
        "    def __init__(self, window_sizes=(3, 4, 5)):\n",
        "        super(Model, self).__init__()\n",
        "\n",
        "        self.batchnorm = nn.ModuleList([\n",
        "            nn.BatchNorm2d(128)\n",
        "            for window_size in window_sizes\n",
        "        ])\n",
        "\n",
        "        self.convs = nn.ModuleList([\n",
        "            nn.Conv2d(1, 128, [window_size, 128], padding=(window_size - 1, 0))\n",
        "            for window_size in window_sizes\n",
        "        ])\n",
        "\n",
        "        self.dropout = nn.ModuleList([\n",
        "            nn.Dropout(0.5)\n",
        "            for window_size in window_sizes\n",
        "        ])\n",
        "\n",
        "        self.fc = nn.Linear(128 * len(window_sizes), 3)\n",
        "\n",
        "    def forward(self, x):\n",
        "        x = torch.unsqueeze(x, 1)  # [B, C, T, E] Add a channel dim.\n",
        "        xs = []\n",
        "        for bn, drop, conv in zip(self.batchnorm, self.dropout, self.convs):\n",
        "            x2 = F.relu(bn(conv(x)))  # [B, F, T, 1]\n",
        "            x2 = torch.squeeze(x2, -1)  # [B, F, T]\n",
        "            x2 = drop(x2)\n",
        "            x2 = F.max_pool1d(x2, x2.size(2))  # [B, F, 1]\n",
        "            xs.append(x2)\n",
        "        x = torch.cat(xs, 2)  # [B, F, window]\n",
        "\n",
        "        # FC\n",
        "        x = x.view(x.size(0), -1)  # [B, F * window]\n",
        "        logits = self.fc(x)  # [B, class]\n",
        "       # probs = torch.softmax(logits, 1)\n",
        "        return logits.float()\n",
        "\n",
        "    def loss(self, probs, targets):\n",
        "        return nn.CrossEntropyLoss()(probs, targets)"
      ],
      "execution_count": null,
      "outputs": []
    },
    {
      "cell_type": "code",
      "metadata": {
        "id": "sLUggB9iF6s_",
        "colab": {
          "base_uri": "https://localhost:8080/"
        },
        "outputId": "e51cd6bb-65fe-4c40-baab-500316d9a18d"
      },
      "source": [
        "_timit_dataloader = timit_dataloader()\n",
        "train, valid, test = _timit_dataloader.return_data()\n",
        "\n",
        "trainset = dataloader(*train)\n",
        "validset = dataloader(*valid)\n",
        "testset = dataloader(*test)"
      ],
      "execution_count": null,
      "outputs": [
        {
          "output_type": "stream",
          "text": [
            "100%|██████████| 350/350 [00:42<00:00,  8.29it/s]\n",
            "100%|██████████| 50/50 [00:05<00:00,  8.53it/s]\n",
            "100%|██████████| 150/150 [00:17<00:00,  8.35it/s]\n"
          ],
          "name": "stderr"
        }
      ]
    },
    {
      "cell_type": "code",
      "metadata": {
        "id": "mqqW2VC-QN1n"
      },
      "source": [
        "age = [_timit_dataloader.return_age(names) for names in _timit_dataloader.corpus.train.people_names]"
      ],
      "execution_count": null,
      "outputs": []
    },
    {
      "cell_type": "code",
      "metadata": {
        "colab": {
          "base_uri": "https://localhost:8080/",
          "height": 316
        },
        "id": "z5h922rtRxam",
        "outputId": "8ba3fb34-eac5-461e-85ae-bd82b907b3a0"
      },
      "source": [
        "import matplotlib.pyplot as plt\n",
        "\n",
        "plt.hist(age, color = 'blue', edgecolor = 'black')\n"
      ],
      "execution_count": null,
      "outputs": [
        {
          "output_type": "execute_result",
          "data": {
            "text/plain": [
              "(array([178., 137.,  76.,  26.,  29.,   7.,   7.,   1.,   0.,   1.]),\n",
              " array([21. , 26.5, 32. , 37.5, 43. , 48.5, 54. , 59.5, 65. , 70.5, 76. ]),\n",
              " <a list of 10 Patch objects>)"
            ]
          },
          "metadata": {
            "tags": []
          },
          "execution_count": 48
        },
        {
          "output_type": "display_data",
          "data": {
            "image/png": "[encoded data removed]",
            "text/plain": [
              "<Figure size 432x288 with 1 Axes>"
            ]
          },
          "metadata": {
            "tags": [],
            "needs_background": "light"
          }
        }
      ]
    },
    {
      "cell_type": "code",
      "metadata": {
        "id": "5p6glHuv3UKB",
        "colab": {
          "base_uri": "https://localhost:8080/"
        },
        "outputId": "0c76f09a-9956-4dee-afa5-b2c007477a09"
      },
      "source": [
        "sum([age.count(i) for i in range(0,26)])"
      ],
      "execution_count": null,
      "outputs": [
        {
          "output_type": "execute_result",
          "data": {
            "text/plain": [
              "122"
            ]
          },
          "metadata": {
            "tags": []
          },
          "execution_count": 112
        }
      ]
    },
    {
      "cell_type": "code",
      "metadata": {
        "id": "vKZwh7_H3a4a",
        "colab": {
          "base_uri": "https://localhost:8080/"
        },
        "outputId": "1329bb86-2993-4776-8e6c-a8b4717815b1"
      },
      "source": [
        "sum([age.count(i) for i in range(26,31)])"
      ],
      "execution_count": null,
      "outputs": [
        {
          "output_type": "execute_result",
          "data": {
            "text/plain": [
              "172"
            ]
          },
          "metadata": {
            "tags": []
          },
          "execution_count": 113
        }
      ]
    },
    {
      "cell_type": "code",
      "metadata": {
        "id": "7CQavGx-3dmy",
        "colab": {
          "base_uri": "https://localhost:8080/"
        },
        "outputId": "755843db-5177-4de1-b9b1-7a0dcb166375"
      },
      "source": [
        "sum([age.count(i) for i in range(31,100)])"
      ],
      "execution_count": null,
      "outputs": [
        {
          "output_type": "execute_result",
          "data": {
            "text/plain": [
              "168"
            ]
          },
          "metadata": {
            "tags": []
          },
          "execution_count": 106
        }
      ]
    },
    {
      "cell_type": "markdown",
      "metadata": {
        "id": "ScCZEMvXHkmz"
      },
      "source": [
        "#Задание 2\n",
        "1. Обучите свой классификатор категории возраста\n",
        "2. Попробуйте улучшить результат. Можно попробовать усложнить сетку, подвигать границы категорий, поискать новые данные, что угодно, кроме учиться на тесте :)\n",
        "3. Какой подход оказался самым эффективным? Как думаете, почему?\n",
        "4. Как считаете, где можно было бы применить такой классификатор в качестве вспомогательной задачи?\n"
      ]
    },
    {
      "cell_type": "code",
      "metadata": {
        "id": "-185PIPFBmaS",
        "colab": {
          "base_uri": "https://localhost:8080/"
        },
        "outputId": "d3cec6c4-9c15-4c19-bad7-513a68dd6de1"
      },
      "source": [
        "device = torch.device('cuda' if torch.cuda.is_available() else 'cpu')\n",
        "print(f'using {device} mode')\n",
        "patience = 500\n",
        "best_loss = 1000\n",
        "cnt = 0"
      ],
      "execution_count": null,
      "outputs": [
        {
          "output_type": "stream",
          "text": [
            "using cuda mode\n"
          ],
          "name": "stdout"
        }
      ]
    },
    {
      "cell_type": "code",
      "metadata": {
        "id": "FUUsn7J8BkqU",
        "colab": {
          "base_uri": "https://localhost:8080/"
        },
        "outputId": "8bf112aa-440e-45eb-9b42-23e691920906"
      },
      "source": [
        "model = Model()\n",
        "if device == torch.device('cuda'):\n",
        "    model.cuda()\n",
        "else:\n",
        "    model.cpu()\n",
        "model.train()"
      ],
      "execution_count": null,
      "outputs": [
        {
          "output_type": "execute_result",
          "data": {
            "text/plain": [
              "Model(\n",
              "  (batchnorm): ModuleList(\n",
              "    (0): BatchNorm2d(128, eps=1e-05, momentum=0.1, affine=True, track_running_stats=True)\n",
              "    (1): BatchNorm2d(128, eps=1e-05, momentum=0.1, affine=True, track_running_stats=True)\n",
              "    (2): BatchNorm2d(128, eps=1e-05, momentum=0.1, affine=True, track_running_stats=True)\n",
              "  )\n",
              "  (convs): ModuleList(\n",
              "    (0): Conv2d(1, 128, kernel_size=[3, 128], stride=(1, 1), padding=(2, 0))\n",
              "    (1): Conv2d(1, 128, kernel_size=[4, 128], stride=(1, 1), padding=(3, 0))\n",
              "    (2): Conv2d(1, 128, kernel_size=[5, 128], stride=(1, 1), padding=(4, 0))\n",
              "  )\n",
              "  (dropout): ModuleList(\n",
              "    (0): Dropout(p=0.5, inplace=False)\n",
              "    (1): Dropout(p=0.5, inplace=False)\n",
              "    (2): Dropout(p=0.5, inplace=False)\n",
              "  )\n",
              "  (fc): Linear(in_features=384, out_features=3, bias=True)\n",
              ")"
            ]
          },
          "metadata": {
            "tags": []
          },
          "execution_count": 87
        }
      ]
    },
    {
      "cell_type": "code",
      "metadata": {
        "id": "cW0DSRcJBgg_"
      },
      "source": [
        "BATCH_SIZE = 64\n",
        "\n",
        "optimizer = Adam(\n",
        "    [p for p in model.parameters() if p.requires_grad], betas=(0.9, 0.999), eps=1e-5\n",
        ")"
      ],
      "execution_count": null,
      "outputs": []
    },
    {
      "cell_type": "code",
      "metadata": {
        "id": "Hv_EebLsLgU1"
      },
      "source": [
        "from scipy.special import softmax"
      ],
      "execution_count": null,
      "outputs": []
    },
    {
      "cell_type": "code",
      "metadata": {
        "id": "AKdAXm7q-iDC",
        "colab": {
          "base_uri": "https://localhost:8080/"
        },
        "outputId": "34339567-5d09-43b1-8296-2f73ece7431d"
      },
      "source": [
        "import torch as t\n",
        "for i in range(300):\n",
        "\n",
        "    optimizer.zero_grad()\n",
        "\n",
        "    input, target = trainset.next_batch(BATCH_SIZE, device=device)\n",
        "    out = model(input)\n",
        "    #print(out)\n",
        "    loss = model.loss(out, target.long())\n",
        "    loss.backward()\n",
        "    optimizer.step()\n",
        "\n",
        "    if i % 10 == 0:\n",
        "        model.eval()\n",
        "\n",
        "        with torch.no_grad():\n",
        "            optimizer.zero_grad()\n",
        "\n",
        "            input, target = validset.next_batch(BATCH_SIZE, device=device)\n",
        "            out = model(input)\n",
        "            valid_loss = model.loss(out, target.long())\n",
        "            out, target = out.cpu().detach().numpy(), target.cpu().detach().numpy()\n",
        "            # print(out, target)\n",
        "           # out = [1. if tmp > 0.75 else 0.5 if tmp > 0.25 else 0 for tmp in out]\n",
        "            out = softmax(out).argmax(1)\n",
        "           #out = out.argmax(1)\n",
        "            print(out,target)\n",
        "            print(f'accuracy_score:{accuracy_score(out, target)}')\n",
        "            print(\"i {}, valid {}\".format(i, valid_loss.item()))\n",
        "            print(\"_________\")\n",
        "\n",
        "        model.train()\n",
        "\n",
        "    if i % 50 == 0 and best_loss > valid_loss.item():\n",
        "        best_loss = valid_loss.item()\n",
        "        cnt = 0\n",
        "    else:\n",
        "        cnt += 1\n",
        "\n",
        "    if cnt > patience:\n",
        "        break\n",
        "print('training finished')\n"
      ],
      "execution_count": null,
      "outputs": [
        {
          "output_type": "stream",
          "text": [
            "[1 1 1 1 1 1 1 0 1 1 1 1 0 1 1 1 1 1 1 1 1 1 0 1 1 1 1 1 1 1 1 1 1 1 1 1 1\n",
            " 1 1 1 1 1 1 1 1 1 1 1 0 1 1 1 1 1 0 1 1 1 1 1 1 1 1 1] [1. 1. 1. 1. 1. 0. 1. 0. 2. 2. 1. 2. 1. 1. 1. 1. 1. 1. 1. 1. 1. 1. 2. 1.\n",
            " 1. 1. 1. 2. 2. 0. 1. 1. 1. 1. 1. 1. 1. 1. 1. 1. 1. 1. 1. 0. 1. 0. 1. 1.\n",
            " 2. 1. 1. 1. 1. 1. 1. 0. 2. 0. 0. 1. 1. 0. 1. 1.]\n",
            "accuracy_score:0.71875\n",
            "i 0, valid 2.4750869274139404\n",
            "_________\n",
            "[1 1 1 1 1 1 1 1 1 1 1 1 1 1 1 1 1 1 1 2 1 1 1 1 0 1 1 1 1 1 2 1 1 1 2 1 1\n",
            " 1 1 1 1 1 1 2 1 1 1 1 1 1 1 1 1 2 1 1 1 1 1 1 1 1 1 1] [2. 1. 0. 1. 0. 1. 2. 1. 1. 1. 1. 1. 1. 1. 1. 1. 1. 1. 1. 1. 1. 1. 0. 2.\n",
            " 2. 2. 2. 1. 2. 1. 1. 1. 2. 1. 0. 1. 2. 2. 1. 1. 1. 1. 1. 1. 1. 1. 2. 1.\n",
            " 1. 1. 1. 1. 1. 0. 1. 2. 2. 1. 1. 1. 2. 1. 0. 1.]\n",
            "accuracy_score:0.640625\n",
            "i 10, valid 1.5224565267562866\n",
            "_________\n",
            "[1 1 1 1 1 1 1 0 1 1 1 1 1 0 1 1 1 0 1 1 1 1 1 1 1 1 2 1 1 1 1 1 1 1 1 1 1\n",
            " 1 1 1 1 0 1 1 1 1 1 1 1 1 1 1 1 0 0 1 1 1 1 1 1 1 1 1] [1. 2. 0. 1. 1. 1. 1. 1. 1. 1. 1. 0. 1. 1. 2. 1. 1. 1. 1. 1. 1. 2. 1. 1.\n",
            " 0. 1. 1. 0. 1. 1. 1. 1. 1. 1. 1. 1. 1. 0. 0. 1. 1. 2. 1. 1. 0. 1. 1. 1.\n",
            " 1. 1. 1. 1. 1. 0. 2. 1. 2. 1. 1. 1. 2. 1. 1. 1.]\n",
            "accuracy_score:0.71875\n",
            "i 20, valid 0.7922513484954834\n",
            "_________\n",
            "[1 0 1 1 1 1 1 1 1 1 1 1 1 2 1 1 1 1 1 1 1 1 1 1 1 1 1 1 1 1 1 1 1 1 1 1 1\n",
            " 1 1 1 1 1 2 1 1 1 1 1 1 1 1 1 1 1 1 1 1 1 1 1 1 1 1 1] [1. 1. 0. 2. 1. 1. 1. 1. 0. 0. 1. 1. 1. 2. 0. 1. 2. 1. 1. 1. 1. 1. 1. 2.\n",
            " 1. 1. 1. 1. 2. 1. 1. 1. 1. 1. 1. 1. 1. 1. 2. 1. 1. 2. 1. 1. 1. 1. 1. 1.\n",
            " 1. 1. 1. 1. 1. 1. 1. 1. 1. 1. 1. 1. 1. 2. 1. 1.]\n",
            "accuracy_score:0.796875\n",
            "i 30, valid 0.7492426037788391\n",
            "_________\n",
            "[0 1 1 2 1 1 1 1 1 1 1 1 1 1 1 1 1 1 1 1 1 1 1 0 1 1 1 1 1 2 1 1 0 1 2 1 1\n",
            " 1 1 1 1 1 1 2 1 1 1 1 1 1 1 1 1 1 1 1 1 2 0 1 1 1 0 2] [1. 1. 1. 1. 1. 2. 2. 1. 2. 0. 1. 1. 2. 1. 2. 1. 1. 1. 1. 2. 1. 1. 1. 0.\n",
            " 2. 0. 1. 1. 1. 1. 1. 1. 2. 1. 1. 1. 2. 2. 2. 0. 2. 1. 1. 1. 1. 1. 1. 1.\n",
            " 1. 0. 1. 1. 1. 2. 0. 1. 1. 0. 1. 1. 1. 1. 1. 1.]\n",
            "accuracy_score:0.578125\n",
            "i 40, valid 1.1812559366226196\n",
            "_________\n",
            "[1 1 1 1 1 1 2 1 1 2 1 1 1 1 1 1 1 1 1 1 1 1 1 1 1 1 1 1 1 1 0 1 1 1 1 1 1\n",
            " 1 1 1 1 1 2 1 1 1 1 1 1 1 1 1 1 0 1 1 1 1 1 1 1 0 1 2] [1. 2. 2. 1. 2. 1. 1. 1. 2. 1. 1. 1. 1. 1. 1. 1. 1. 1. 1. 1. 1. 1. 2. 1.\n",
            " 1. 1. 1. 1. 0. 1. 0. 1. 2. 1. 1. 2. 1. 1. 1. 1. 1. 1. 1. 1. 1. 1. 1. 1.\n",
            " 1. 1. 1. 1. 1. 1. 0. 1. 1. 1. 1. 1. 1. 1. 1. 1.]\n",
            "accuracy_score:0.765625\n",
            "i 50, valid 0.7684992551803589\n",
            "_________\n",
            "[2 1 1 1 1 0 1 1 1 1 1 1 1 1 2 1 1 1 2 1 0 1 1 1 1 1 1 1 1 2 1 1 1 1 1 1 1\n",
            " 1 1 1 1 2 0 1 2 1 1 1 0 1 1 1 1 1 1 0 1 1 1 1 0 1 1 1] [1. 1. 2. 1. 1. 2. 1. 1. 0. 1. 1. 1. 1. 1. 1. 1. 2. 1. 1. 1. 1. 0. 0. 1.\n",
            " 1. 1. 1. 2. 1. 0. 0. 1. 1. 2. 1. 1. 1. 2. 1. 0. 0. 1. 1. 0. 2. 1. 1. 1.\n",
            " 1. 1. 1. 1. 2. 1. 1. 1. 1. 1. 0. 1. 1. 2. 1. 1.]\n",
            "accuracy_score:0.59375\n",
            "i 60, valid 0.9846592545509338\n",
            "_________\n",
            "[1 1 0 0 1 2 1 0 0 0 1 0 1 1 1 1 0 1 0 1 0 0 1 1 1 1 0 1 0 1 0 0 0 0 2 1 1\n",
            " 1 0 1 0 2 0 1 0 1 0 0 0 1 0 1 1 0 1 2 1 1 2 1 1 1 1 1] [1. 1. 1. 1. 1. 1. 1. 1. 1. 1. 1. 0. 1. 1. 1. 1. 1. 1. 0. 1. 1. 1. 1. 2.\n",
            " 1. 0. 1. 2. 2. 1. 1. 1. 1. 1. 0. 1. 1. 1. 1. 1. 1. 1. 1. 1. 1. 1. 1. 2.\n",
            " 1. 0. 1. 2. 1. 1. 1. 2. 1. 1. 0. 1. 1. 2. 1. 1.]\n",
            "accuracy_score:0.484375\n",
            "i 70, valid 1.0265042781829834\n",
            "_________\n",
            "[1 1 1 2 1 1 1 1 1 2 0 1 1 1 1 1 1 1 1 1 1 1 1 2 1 1 1 0 1 1 1 1 1 1 1 1 1\n",
            " 1 1 1 1 1 1 0 1 1 1 1 1 1 1 1 1 1 1 1 1 1 1 1 1 1 1 1] [1. 1. 2. 1. 1. 0. 1. 1. 2. 1. 1. 1. 1. 1. 2. 1. 1. 1. 1. 1. 1. 0. 2. 0.\n",
            " 1. 1. 1. 1. 1. 1. 1. 1. 2. 2. 1. 0. 0. 1. 1. 1. 1. 2. 1. 1. 2. 1. 1. 1.\n",
            " 1. 0. 2. 1. 2. 0. 0. 1. 1. 1. 1. 1. 1. 1. 1. 1.]\n",
            "accuracy_score:0.640625\n",
            "i 80, valid 0.9857622981071472\n",
            "_________\n",
            "[1 1 1 1 0 1 1 0 1 1 0 0 1 1 1 0 1 0 1 1 1 1 1 2 1 0 0 2 2 1 2 1 1 1 1 0 1\n",
            " 1 0 1 1 1 0 0 0 2 1 0 0 1 0 1 0 1 1 1 1 0 1 1 1 1 2 1] [1. 1. 1. 2. 0. 2. 1. 1. 0. 1. 1. 1. 1. 2. 0. 0. 1. 0. 1. 1. 1. 1. 0. 1.\n",
            " 1. 1. 1. 1. 1. 1. 1. 1. 1. 1. 1. 1. 1. 1. 0. 1. 1. 1. 0. 1. 2. 1. 1. 0.\n",
            " 0. 1. 1. 0. 1. 1. 1. 1. 1. 1. 1. 1. 2. 1. 0. 1.]\n",
            "accuracy_score:0.609375\n",
            "i 90, valid 0.9962512254714966\n",
            "_________\n",
            "[0 2 1 1 1 1 1 0 1 1 2 1 1 1 1 1 1 1 2 1 0 1 1 1 1 0 1 1 1 1 1 1 1 0 1 1 1\n",
            " 1 1 2 1 1 1 1 1 0 1 0 0 1 1 1 2 1 1 1 1 0 1 1 2 0 1 1] [1. 1. 1. 2. 1. 1. 2. 2. 0. 0. 1. 1. 1. 0. 1. 1. 0. 1. 2. 1. 1. 1. 2. 1.\n",
            " 1. 0. 1. 0. 1. 1. 1. 0. 2. 1. 1. 1. 2. 1. 2. 2. 1. 1. 1. 1. 1. 0. 1. 2.\n",
            " 1. 2. 1. 2. 1. 1. 0. 1. 1. 1. 0. 0. 1. 1. 2. 1.]\n",
            "accuracy_score:0.53125\n",
            "i 100, valid 1.1434588432312012\n",
            "_________\n",
            "[1 1 1 1 1 1 1 1 1 1 1 1 1 1 1 1 1 1 0 1 1 1 1 1 1 1 1 0 1 1 1 1 1 1 1 1 1\n",
            " 2 1 2 1 2 1 1 1 0 1 1 1 0 1 1 1 1 1 1 1 1 0 2 1 1 1 0] [1. 0. 2. 0. 1. 0. 2. 0. 1. 1. 1. 1. 1. 1. 1. 1. 1. 1. 0. 1. 0. 1. 2. 1.\n",
            " 2. 1. 1. 1. 0. 1. 1. 1. 0. 2. 1. 1. 1. 1. 1. 2. 1. 2. 1. 1. 1. 0. 2. 2.\n",
            " 1. 2. 1. 0. 1. 1. 1. 2. 2. 1. 1. 1. 1. 1. 1. 1.]\n",
            "accuracy_score:0.640625\n",
            "i 110, valid 0.8461582660675049\n",
            "_________\n",
            "[1 1 1 1 1 1 1 1 1 1 1 1 1 1 1 0 1 1 0 1 1 1 1 1 1 1 1 1 1 1 1 1 1 1 1 1 1\n",
            " 1 1 1 1 1 1 1 1 1 1 1 1 1 1 1 1 0 1 1 1 1 1 1 1 1 1 1] [1. 1. 0. 1. 2. 0. 1. 1. 1. 0. 1. 0. 1. 0. 1. 0. 1. 1. 1. 1. 1. 1. 1. 1.\n",
            " 1. 1. 2. 1. 1. 1. 1. 0. 1. 1. 1. 1. 1. 1. 1. 1. 1. 1. 2. 1. 1. 2. 0. 2.\n",
            " 1. 1. 1. 1. 1. 1. 1. 2. 1. 1. 1. 1. 0. 1. 1. 1.]\n",
            "accuracy_score:0.75\n",
            "i 120, valid 0.8211089968681335\n",
            "_________\n",
            "[1 1 1 1 1 2 1 2 1 1 1 1 1 1 1 1 1 1 1 1 1 1 1 1 1 1 1 1 1 1 1 1 1 1 1 1 1\n",
            " 1 1 1 1 1 1 1 1 1 1 1 1 1 1 1 1 1 1 1 1 1 1 1 2 2 1 1] [1. 1. 1. 1. 0. 1. 1. 0. 2. 1. 1. 2. 1. 1. 1. 2. 0. 1. 2. 2. 1. 1. 1. 1.\n",
            " 1. 1. 1. 1. 0. 1. 1. 1. 1. 1. 1. 2. 1. 1. 1. 1. 1. 1. 1. 0. 0. 1. 1. 1.\n",
            " 2. 1. 1. 1. 1. 1. 1. 0. 1. 2. 1. 1. 0. 0. 2. 2.]\n",
            "accuracy_score:0.6875\n",
            "i 130, valid 1.0561977624893188\n",
            "_________\n",
            "[1 1 1 1 1 1 1 1 1 1 1 1 1 1 1 1 1 1 1 0 1 1 1 1 1 1 1 1 1 1 1 1 1 1 1 1 1\n",
            " 1 1 1 1 1 1 1 1 1 1 1 1 1 1 1 1 1 1 1 1 1 1 1 1 1 1 2] [1. 1. 1. 1. 2. 2. 1. 1. 1. 1. 2. 1. 1. 1. 1. 1. 1. 1. 1. 1. 1. 1. 1. 1.\n",
            " 0. 1. 1. 1. 1. 1. 1. 1. 1. 1. 1. 1. 1. 1. 1. 1. 0. 2. 1. 2. 0. 0. 1. 1.\n",
            " 0. 0. 1. 1. 0. 1. 0. 1. 2. 1. 1. 1. 1. 0. 1. 1.]\n",
            "accuracy_score:0.734375\n",
            "i 140, valid 0.8279934525489807\n",
            "_________\n",
            "[1 1 2 1 1 1 1 1 2 1 1 1 1 1 1 1 1 1 2 1 1 1 1 2 1 2 2 1 2 1 1 1 1 1 1 2 1\n",
            " 1 1 1 1 1 1 1 1 2 1 1 1 1 1 1 1 1 2 2 2 1 1 1 1 1 1 1] [2. 1. 1. 1. 1. 1. 2. 1. 1. 2. 0. 1. 1. 1. 1. 1. 1. 2. 1. 2. 1. 2. 1. 1.\n",
            " 1. 2. 1. 1. 2. 1. 0. 0. 1. 1. 2. 2. 1. 1. 1. 0. 1. 1. 1. 2. 1. 1. 2. 1.\n",
            " 1. 1. 2. 2. 2. 2. 2. 1. 1. 1. 1. 1. 2. 0. 1. 1.]\n",
            "accuracy_score:0.578125\n",
            "i 150, valid 0.9569948315620422\n",
            "_________\n",
            "[1 2 0 1 1 1 1 1 0 0 1 1 1 1 1 0 1 1 1 2 1 1 0 1 0 1 1 1 0 1 0 1 1 2 1 1 2\n",
            " 0 1 1 1 1 0 0 0 1 1 0 2 1 1 2 1 1 1 1 1 2 1 1 1 0 0 1] [1. 2. 2. 2. 1. 0. 1. 1. 1. 1. 2. 1. 1. 2. 1. 1. 1. 1. 2. 2. 1. 0. 1. 1.\n",
            " 0. 0. 1. 1. 1. 1. 1. 1. 1. 1. 1. 1. 1. 1. 1. 1. 1. 0. 1. 1. 1. 1. 1. 1.\n",
            " 0. 0. 1. 0. 1. 1. 1. 1. 2. 2. 1. 1. 1. 1. 1. 1.]\n",
            "accuracy_score:0.5625\n",
            "i 160, valid 1.0140719413757324\n",
            "_________\n",
            "[1 1 2 1 1 1 1 1 1 2 1 1 2 1 1 1 1 1 1 1 1 1 0 0 1 0 0 1 1 1 1 1 1 1 1 1 1\n",
            " 0 1 2 1 0 1 1 1 0 1 0 1 1 1 1 1 2 1 1 1 1 1 0 2 1 1 0] [0. 1. 0. 1. 2. 2. 1. 2. 1. 1. 1. 1. 2. 1. 1. 1. 1. 1. 1. 1. 1. 1. 1. 1.\n",
            " 1. 0. 1. 1. 0. 1. 0. 1. 2. 1. 1. 1. 0. 0. 1. 1. 1. 2. 1. 1. 1. 1. 1. 0.\n",
            " 1. 1. 1. 1. 1. 1. 2. 1. 1. 1. 1. 1. 0. 1. 1. 1.]\n",
            "accuracy_score:0.671875\n",
            "i 170, valid 0.8555800318717957\n",
            "_________\n",
            "[2 1 2 1 1 2 0 1 1 1 1 1 1 2 2 1 1 1 1 1 1 1 0 2 1 1 1 1 1 1 1 1 1 2 1 1 0\n",
            " 1 1 1 1 1 1 1 1 1 1 1 1 1 1 1 1 1 1 1 1 1 1 1 0 1 1 1] [1. 1. 0. 1. 1. 1. 0. 1. 1. 1. 1. 1. 1. 0. 2. 1. 1. 1. 1. 2. 0. 1. 1. 1.\n",
            " 1. 2. 1. 0. 1. 2. 1. 1. 1. 2. 1. 1. 0. 1. 1. 1. 1. 1. 1. 2. 0. 1. 1. 1.\n",
            " 1. 1. 1. 1. 1. 1. 2. 1. 1. 1. 1. 0. 0. 0. 0. 1.]\n",
            "accuracy_score:0.734375\n",
            "i 180, valid 0.7931616306304932\n",
            "_________\n",
            "[1 2 1 1 1 1 1 1 1 1 1 1 1 1 1 1 1 1 1 1 1 1 1 1 1 1 1 1 1 1 1 1 1 1 1 1 1\n",
            " 1 1 2 1 1 1 1 1 1 1 1 1 1 1 1 2 1 1 1 1 1 1 1 1 1 1 1] [0. 1. 1. 2. 1. 0. 2. 0. 1. 1. 1. 1. 1. 1. 1. 1. 2. 2. 1. 2. 2. 1. 1. 2.\n",
            " 1. 2. 2. 1. 1. 1. 1. 1. 1. 1. 2. 1. 1. 1. 1. 1. 1. 0. 1. 1. 0. 1. 1. 1.\n",
            " 1. 0. 1. 2. 0. 1. 0. 0. 1. 1. 2. 1. 1. 1. 1. 1.]\n",
            "accuracy_score:0.640625\n",
            "i 190, valid 0.9400554895401001\n",
            "_________\n",
            "[1 1 1 1 1 1 1 1 1 1 1 1 1 1 1 1 1 1 1 1 1 1 1 1 1 1 1 1 1 1 1 1 1 1 1 1 1\n",
            " 1 0 1 1 1 1 2 1 1 1 2 1 1 1 1 1 1 1 1 1 1 1 1 1 1 1 1] [1. 1. 1. 1. 1. 1. 0. 1. 1. 1. 1. 2. 1. 2. 2. 1. 1. 2. 1. 2. 1. 2. 1. 1.\n",
            " 1. 1. 1. 0. 1. 1. 1. 1. 1. 2. 1. 1. 2. 1. 1. 0. 1. 1. 1. 1. 2. 1. 1. 1.\n",
            " 1. 0. 2. 1. 1. 2. 2. 1. 0. 1. 0. 1. 1. 1. 1. 1.]\n",
            "accuracy_score:0.671875\n",
            "i 200, valid 1.107798457145691\n",
            "_________\n",
            "[1 1 1 1 1 1 1 1 1 1 1 1 1 1 1 1 1 1 1 1 1 1 1 1 1 1 1 1 0 1 1 1 1 1 1 1 1\n",
            " 1 1 1 1 1 1 1 1 1 1 1 1 1 1 1 1 1 1 1 1 1 1 1 1 1 1 0] [1. 1. 1. 1. 2. 1. 0. 1. 1. 0. 1. 1. 2. 0. 2. 2. 1. 2. 1. 1. 2. 1. 1. 2.\n",
            " 1. 2. 2. 1. 1. 1. 1. 1. 1. 2. 1. 0. 1. 1. 1. 1. 1. 0. 1. 1. 1. 2. 0. 2.\n",
            " 1. 1. 1. 1. 1. 2. 1. 1. 1. 1. 0. 1. 1. 2. 2. 1.]\n",
            "accuracy_score:0.625\n",
            "i 210, valid 1.0227141380310059\n",
            "_________\n",
            "[2 1 1 1 1 2 1 1 1 1 1 0 1 1 1 1 1 1 1 1 1 1 1 1 1 1 1 1 1 1 1 1 0 1 1 1 2\n",
            " 1 1 1 1 1 1 1 1 1 1 1 1 1 1 1 1 1 1 0 1 1 1 1 1 1 1 1] [1. 1. 1. 1. 1. 1. 1. 1. 1. 1. 1. 0. 1. 1. 1. 1. 1. 1. 0. 1. 1. 2. 1. 1.\n",
            " 1. 1. 1. 2. 0. 1. 1. 1. 1. 1. 0. 2. 1. 1. 0. 2. 2. 1. 2. 1. 1. 1. 2. 1.\n",
            " 1. 2. 1. 0. 1. 1. 1. 1. 1. 1. 2. 1. 1. 0. 1. 1.]\n",
            "accuracy_score:0.6875\n",
            "i 220, valid 0.7778558135032654\n",
            "_________\n",
            "[1 1 1 1 1 1 1 2 2 1 1 1 1 2 1 1 1 1 1 1 1 1 1 1 1 1 1 1 2 1 1 1 1 1 1 1 1\n",
            " 0 1 1 1 1 1 1 1 1 2 1 1 1 1 1 1 2 1 1 2 2 1 1 1 1 1 2] [1. 1. 1. 1. 1. 1. 1. 0. 2. 1. 2. 1. 1. 1. 0. 1. 1. 2. 1. 1. 1. 1. 1. 1.\n",
            " 1. 1. 1. 1. 1. 0. 1. 1. 1. 1. 0. 1. 1. 1. 2. 2. 2. 1. 1. 1. 0. 1. 1. 1.\n",
            " 0. 2. 1. 2. 1. 2. 1. 1. 1. 1. 1. 0. 0. 1. 2. 1.]\n",
            "accuracy_score:0.640625\n",
            "i 230, valid 0.775881290435791\n",
            "_________\n",
            "[1 0 2 0 1 1 1 1 2 2 1 0 1 1 1 1 0 1 1 1 2 1 2 1 2 1 1 1 1 0 1 1 1 0 1 1 1\n",
            " 1 2 1 1 1 1 1 1 1 1 1 1 1 1 1 1 2 0 1 1 1 1 1 1 1 1 1] [0. 1. 1. 2. 2. 1. 1. 1. 1. 1. 1. 1. 1. 0. 1. 1. 1. 1. 1. 0. 1. 2. 1. 2.\n",
            " 2. 2. 1. 1. 1. 1. 1. 1. 2. 1. 2. 1. 1. 2. 1. 1. 1. 1. 1. 1. 1. 0. 1. 1.\n",
            " 2. 1. 1. 2. 1. 1. 0. 1. 1. 1. 1. 1. 1. 1. 2. 1.]\n",
            "accuracy_score:0.578125\n",
            "i 240, valid 0.9551436305046082\n",
            "_________\n",
            "[1 0 1 1 1 1 1 1 1 1 1 1 1 1 2 1 1 1 1 1 1 1 1 1 1 1 1 1 1 1 1 1 1 1 1 1 1\n",
            " 1 1 1 1 1 1 1 1 1 1 1 1 1 1 1 1 1 1 1 1 0 1 1 1 1 1 1] [1. 1. 2. 1. 1. 2. 0. 1. 1. 1. 2. 1. 0. 1. 2. 1. 1. 0. 1. 1. 1. 1. 0. 2.\n",
            " 1. 1. 1. 1. 1. 1. 1. 1. 0. 1. 1. 2. 1. 1. 0. 1. 0. 1. 0. 2. 1. 1. 0. 1.\n",
            " 1. 1. 1. 0. 2. 0. 1. 1. 0. 0. 1. 0. 2. 1. 1. 1.]\n",
            "accuracy_score:0.65625\n",
            "i 250, valid 1.0249236822128296\n",
            "_________\n",
            "[1 1 1 1 1 1 1 1 1 1 1 0 1 1 1 0 1 1 1 1 2 1 0 1 1 1 1 1 1 1 1 1 0 1 1 1 0\n",
            " 1 1 1 1 0 1 1 1 1 1 0 1 1 1 1 0 1 1 1 1 1 0 0 1 1 1 1] [1. 1. 1. 1. 1. 1. 1. 1. 1. 1. 1. 1. 1. 1. 1. 1. 1. 1. 1. 1. 1. 2. 1. 1.\n",
            " 1. 1. 1. 1. 1. 1. 2. 0. 1. 1. 1. 0. 1. 1. 1. 2. 2. 1. 2. 1. 2. 1. 0. 1.\n",
            " 1. 1. 2. 1. 0. 2. 1. 2. 1. 1. 1. 1. 1. 1. 1. 1.]\n",
            "accuracy_score:0.65625\n",
            "i 260, valid 0.8730789422988892\n",
            "_________\n",
            "[1 1 1 1 1 1 1 1 1 1 1 1 1 1 1 1 1 1 1 1 1 1 1 1 1 1 1 1 1 1 1 1 1 1 1 1 1\n",
            " 1 1 1 1 1 1 1 1 1 0 1 1 1 1 1 1 1 1 1 1 1 1 1 1 1 1 0] [1. 1. 1. 2. 2. 0. 0. 2. 1. 0. 1. 1. 1. 1. 1. 2. 1. 1. 1. 1. 1. 1. 0. 0.\n",
            " 1. 1. 1. 0. 0. 1. 1. 0. 1. 1. 1. 2. 1. 1. 1. 1. 1. 1. 1. 1. 1. 1. 1. 1.\n",
            " 0. 2. 1. 1. 1. 1. 1. 1. 0. 0. 1. 1. 0. 1. 1. 1.]\n",
            "accuracy_score:0.6875\n",
            "i 270, valid 1.0227676630020142\n",
            "_________\n",
            "[1 1 1 1 1 1 1 1 1 1 0 1 1 1 1 1 1 0 0 1 1 1 1 1 1 1 1 1 1 1 1 1 1 1 1 1 1\n",
            " 1 1 1 1 1 1 1 1 1 1 1 1 1 1 1 1 1 1 1 1 1 1 1 1 1 1 0] [1. 1. 1. 1. 1. 1. 1. 2. 1. 1. 1. 2. 1. 1. 0. 1. 0. 1. 1. 1. 2. 2. 1. 1.\n",
            " 1. 2. 1. 1. 2. 1. 2. 0. 0. 1. 1. 1. 1. 1. 1. 1. 1. 0. 1. 1. 1. 1. 0. 0.\n",
            " 1. 1. 1. 1. 1. 1. 1. 1. 1. 1. 1. 1. 1. 1. 1. 1.]\n",
            "accuracy_score:0.71875\n",
            "i 280, valid 0.9632641077041626\n",
            "_________\n",
            "[1 1 1 1 1 1 1 1 2 1 1 1 1 1 1 1 1 1 1 1 1 1 1 1 1 1 1 1 1 1 1 0 1 1 0 1 1\n",
            " 1 1 1 1 1 1 1 1 1 1 1 0 1 1 1 1 1 1 1 0 1 0 1 1 1 1 1] [1. 1. 2. 1. 1. 1. 1. 1. 1. 1. 1. 1. 2. 1. 1. 1. 1. 1. 1. 2. 1. 0. 0. 1.\n",
            " 1. 0. 1. 1. 1. 1. 1. 1. 1. 2. 1. 1. 1. 1. 1. 0. 0. 1. 1. 1. 1. 1. 1. 2.\n",
            " 1. 2. 2. 1. 1. 1. 1. 2. 0. 1. 1. 2. 1. 2. 2. 1.]\n",
            "accuracy_score:0.671875\n",
            "i 290, valid 0.8629668951034546\n",
            "_________\n",
            "training finished\n"
          ],
          "name": "stdout"
        }
      ]
    },
    {
      "cell_type": "code",
      "metadata": {
        "id": "O9k1z2jM-iFL",
        "colab": {
          "base_uri": "https://localhost:8080/"
        },
        "outputId": "c1455293-6a9f-490d-f018-2e9126ed2373"
      },
      "source": [
        "input, target = _timit_dataloader.testset\n",
        "output = model(torch.tensor(input).float().cuda())\n",
        "test_loss = model.loss(output, torch.tensor(target).long().cuda())\n",
        "output, target = F.softmax(output).argmax(1), target\n",
        "print(f'accuracy_score:{accuracy_score(output.cpu(), target)}')\n"
      ],
      "execution_count": null,
      "outputs": [
        {
          "output_type": "stream",
          "text": [
            "accuracy_score:0.6686666666666666\n"
          ],
          "name": "stdout"
        },
        {
          "output_type": "stream",
          "text": [
            "/usr/local/lib/python3.7/dist-packages/ipykernel_launcher.py:4: UserWarning: Implicit dimension choice for softmax has been deprecated. Change the call to include dim=X as an argument.\n",
            "  after removing the cwd from sys.path.\n"
          ],
          "name": "stderr"
        }
      ]
    },
    {
      "cell_type": "markdown",
      "metadata": {
        "id": "W97UpBt3W1RS"
      },
      "source": [
        "## ВЫВОД"
      ]
    },
    {
      "cell_type": "markdown",
      "metadata": {
        "id": "f3ye2OviW407"
      },
      "source": [
        "> Для улучшения результата я попробовал добавить \"набор джентельмена\" - BatchNorm + Dropout, мне это дало неплохой прирост.\n",
        "\n",
        "> Дальше я начал эксперементировать с границами, пробовал балансировку, выше с гистограммой можете видеть разбиение, но мне это не помогло.\n",
        "\n",
        "\n",
        "> Я решил попробовал менять строгие неравенства и включение одного из возрастов в тот или иной класс мне это помогло значительно поднять accuracy (0.58 -> 0.65 -> 0.66). \n",
        "\n",
        "> Классифкация возраста по голосу неплохо бы сочеталась с задачей нашего семинара - классификация пола по голосу, так как детские голоса могут быть схожи с женским."
      ]
    }
  ]
}